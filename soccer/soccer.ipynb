{
 "cells": [
  {
   "cell_type": "markdown",
   "id": "d00ec675",
   "metadata": {},
   "source": [
    "**Created by Gael AHOUANVOEDO**\n",
    "\n",
    "**🚀 Soccer Database 📊 Udacicty Data Analyst NanoDegree 📈**\n",
    "\n",
    "**10 June 2022**"
   ]
  },
  {
   "cell_type": "markdown",
   "id": "5752d771",
   "metadata": {},
   "source": [
    "# **<center><span style=\"color:#fd7b12;\">🚀 SOCCER DATABASE 🚀   </span></center>**\n",
    "## <center>For more information you can contact me at +221781203911👍</center>"
   ]
  },
  {
   "cell_type": "markdown",
   "id": "8ca2e992",
   "metadata": {},
   "source": [
    "# **<span style=\"color:#fd7b12;\">Table of Contents  </span>**\n",
    "<a id=\"toc\"></a>\n",
    "- [1. Introduction](#1)\n",
    "- [2. Imports](#2)\n",
    "- [3. Data Wrangling](#3)\n",
    "- [4. Exploratory Data Analysis](#4)\n",
    "- [5. Conclusion](#5)\n",
    "- [6. Limitation](#6)"
   ]
  },
  {
   "cell_type": "markdown",
   "id": "753a6bcf",
   "metadata": {},
   "source": [
    "<a id=\"1\"></a>\n",
    "# **<center><span style=\"color:#fd7b12;\">Introduction  </span></center>**"
   ]
  },
  {
   "cell_type": "markdown",
   "id": "9d0472c7",
   "metadata": {},
   "source": [
    "### **In this project I will have to exploit a database on football and get information out of it using pandas and numpy**"
   ]
  },
  {
   "cell_type": "markdown",
   "id": "a30d773b",
   "metadata": {},
   "source": [
    "<a href=\"#toc\" role=\"button\" aria-pressed=\"true\" >⬆️Back to Table of Contents ⬆️</a>"
   ]
  },
  {
   "cell_type": "markdown",
   "id": "3bca3df8",
   "metadata": {},
   "source": [
    "<a id=\"2\"></a>\n",
    "# **<center><span style=\"color:#fd7b12;\">Imports  </span></center>**"
   ]
  },
  {
   "cell_type": "code",
   "execution_count": 1,
   "id": "b6272e53",
   "metadata": {},
   "outputs": [],
   "source": [
    "import numpy as np\n",
    "import pandas as pd\n",
    "import matplotlib.pyplot as plt\n",
    "import sqlite3\n",
    "import warnings\n",
    "warnings.filterwarnings('ignore')"
   ]
  },
  {
   "cell_type": "markdown",
   "id": "1480a4b6",
   "metadata": {},
   "source": [
    "<a href=\"#toc\" role=\"button\" aria-pressed=\"true\" >⬆️Back to Table of Contents ⬆️</a>"
   ]
  },
  {
   "cell_type": "markdown",
   "id": "81772765",
   "metadata": {},
   "source": [
    "<a id=\"3\"></a>\n",
    "# **<center><span style=\"color:#fd7b12;\">Data Wrangling </span></center>**"
   ]
  },
  {
   "cell_type": "markdown",
   "id": "24e81671",
   "metadata": {},
   "source": [
    "## <span style=\"color:#e76f51;\"> Data wrangling approach </span>"
   ]
  },
  {
   "cell_type": "markdown",
   "id": "af0f1779",
   "metadata": {},
   "source": [
    "### I opted to process each of the database tables one after the other. For tables having common variables, I used pandas merge function to link them together. For long tables like the matches table, I reduced the number of columns as much as possible to have an easily observable and exploitable data set.\n",
    "\n",
    "### The process steps are:\n",
    "- import the table from the database\n",
    "- define its size and the number of missing values\n",
    "- merge common variables with other tables\n",
    "- remove useless or redundant variables\n",
    "- rearrange the columns for better reading"
   ]
  },
  {
   "cell_type": "markdown",
   "id": "e65a726e",
   "metadata": {},
   "source": [
    "### We will create a connection to be able to connect to our SQL database. At the end of the project We should remember to OFF the connection. For import the datas we will use SELECT * FROM"
   ]
  },
  {
   "cell_type": "code",
   "execution_count": 2,
   "id": "7e376ca3",
   "metadata": {
    "scrolled": true
   },
   "outputs": [],
   "source": [
    "con = sqlite3.connect(\"database.sqlite\")\n",
    "country = pd.read_sql_query(\"SELECT * from Country\", con)\n",
    "league = pd.read_sql_query(\"SELECT * from League\", con)\n",
    "match = pd.read_sql_query(\"SELECT * from Match\", con)\n",
    "player = pd.read_sql_query(\"SELECT * from Player\", con)\n",
    "player_attributes = pd.read_sql_query(\"SELECT * from Player_Attributes\", con)\n",
    "team = pd.read_sql_query(\"SELECT * from Team\", con)\n",
    "team_attributes = pd.read_sql_query(\"SELECT * from Team_Attributes\", con)\n",
    "con.close()"
   ]
  },
  {
   "cell_type": "markdown",
   "id": "cc14c862",
   "metadata": {},
   "source": [
    "### In the following we will study the dataset one by one to check if they are well imported so as not to get tangled up in the consistency of the work"
   ]
  },
  {
   "cell_type": "markdown",
   "id": "f5608cde",
   "metadata": {},
   "source": [
    "<a href=\"#toc\" role=\"button\" aria-pressed=\"true\" >⬆️Back to Table of Contents ⬆️</a>"
   ]
  },
  {
   "cell_type": "markdown",
   "id": "b7dc1b19",
   "metadata": {},
   "source": [
    "<a id=\"4\"></a>\n",
    "# **<center><span style=\"color:#fd7b12;\"> EDA Country Dataset </span></center>**"
   ]
  },
  {
   "cell_type": "markdown",
   "id": "07ac3b50",
   "metadata": {},
   "source": [
    "<div class=\"alert alert-block alert-info\" style=\"font-size:14px; font-family:verdana; line-height: 1.7em;\">\n",
    "    📌 &nbsp;<b><u>Observations in Dataset:</u></b><br>\n",
    "\n",
    "* <i> There are total of <b><u>2 columns </u></b>and <b><u>11  rows </u></b>in the dataset.</i><br>\n",
    "* <i> Dataset contains <b><u>22 observation</u></b> with <b><u>0 missing values</u></b>.</i><br>"
   ]
  },
  {
   "cell_type": "markdown",
   "id": "1527d2b3",
   "metadata": {},
   "source": [
    "### We will define a function that will allow us to have the information about the shape of our dataest to avoid repetitive code"
   ]
  },
  {
   "cell_type": "code",
   "execution_count": 3,
   "id": "be0cd700",
   "metadata": {},
   "outputs": [],
   "source": [
    "def dataset_info(df):\n",
    "    print(f'\\033[94mNumber of rows in the dataset: {df.shape[0]}')\n",
    "    print(f'\\033[94mNumber of columns in the dataseta: {df.shape[1]}')\n",
    "    print(f'\\033[94mNumber of values in the dataset: {df.count().sum()}')\n",
    "    print(f'\\033[94mNumber missing values in the dataset: {sum(df.isna().sum())}')"
   ]
  },
  {
   "cell_type": "code",
   "execution_count": 4,
   "id": "8d9b7426",
   "metadata": {},
   "outputs": [
    {
     "data": {
      "text/html": [
       "<div>\n",
       "<style scoped>\n",
       "    .dataframe tbody tr th:only-of-type {\n",
       "        vertical-align: middle;\n",
       "    }\n",
       "\n",
       "    .dataframe tbody tr th {\n",
       "        vertical-align: top;\n",
       "    }\n",
       "\n",
       "    .dataframe thead th {\n",
       "        text-align: right;\n",
       "    }\n",
       "</style>\n",
       "<table border=\"1\" class=\"dataframe\">\n",
       "  <thead>\n",
       "    <tr style=\"text-align: right;\">\n",
       "      <th></th>\n",
       "      <th>id</th>\n",
       "      <th>name</th>\n",
       "    </tr>\n",
       "  </thead>\n",
       "  <tbody>\n",
       "    <tr>\n",
       "      <th>0</th>\n",
       "      <td>1</td>\n",
       "      <td>Belgium</td>\n",
       "    </tr>\n",
       "    <tr>\n",
       "      <th>1</th>\n",
       "      <td>1729</td>\n",
       "      <td>England</td>\n",
       "    </tr>\n",
       "    <tr>\n",
       "      <th>2</th>\n",
       "      <td>4769</td>\n",
       "      <td>France</td>\n",
       "    </tr>\n",
       "  </tbody>\n",
       "</table>\n",
       "</div>"
      ],
      "text/plain": [
       "     id     name\n",
       "0     1  Belgium\n",
       "1  1729  England\n",
       "2  4769   France"
      ]
     },
     "execution_count": 4,
     "metadata": {},
     "output_type": "execute_result"
    }
   ],
   "source": [
    "country.head(3)"
   ]
  },
  {
   "cell_type": "code",
   "execution_count": 5,
   "id": "33943dfb",
   "metadata": {},
   "outputs": [
    {
     "name": "stdout",
     "output_type": "stream",
     "text": [
      "\u001b[94mNumber of rows in the dataset: 11\n",
      "\u001b[94mNumber of columns in the dataseta: 2\n",
      "\u001b[94mNumber of values in the dataset: 22\n",
      "\u001b[94mNumber missing values in the dataset: 0\n"
     ]
    }
   ],
   "source": [
    "dataset_info(country)"
   ]
  },
  {
   "cell_type": "markdown",
   "id": "2d29f2c7",
   "metadata": {},
   "source": [
    "### We cannot currently do any study on this dataset"
   ]
  },
  {
   "cell_type": "markdown",
   "id": "9e119612",
   "metadata": {},
   "source": [
    "<a href=\"#toc\" role=\"button\" aria-pressed=\"true\" >⬆️Back to Table of Contents ⬆️</a>"
   ]
  },
  {
   "cell_type": "markdown",
   "id": "bd98cd09",
   "metadata": {},
   "source": [
    "<a id=\"4\"></a>\n",
    "# **<center><span style=\"color:#fd7b12;\"> EDA League Dataset </span></center>**"
   ]
  },
  {
   "cell_type": "markdown",
   "id": "a9188543",
   "metadata": {},
   "source": [
    "<div class=\"alert alert-block alert-info\" style=\"font-size:14px; font-family:verdana; line-height: 1.7em;\">\n",
    "    📌 &nbsp;<b><u>Observations in Dataset:</u></b><br>\n",
    "\n",
    "* <i> There are total of <b><u>3 columns </u></b>and <b><u>11  rows </u></b>in the dataset.</i><br>\n",
    "* <i> Dataset contains <b><u>33 observations</u></b> with <b><u>0 missing values</u></b>.</i><br>"
   ]
  },
  {
   "cell_type": "code",
   "execution_count": 6,
   "id": "8a48b66d",
   "metadata": {},
   "outputs": [
    {
     "data": {
      "text/html": [
       "<div>\n",
       "<style scoped>\n",
       "    .dataframe tbody tr th:only-of-type {\n",
       "        vertical-align: middle;\n",
       "    }\n",
       "\n",
       "    .dataframe tbody tr th {\n",
       "        vertical-align: top;\n",
       "    }\n",
       "\n",
       "    .dataframe thead th {\n",
       "        text-align: right;\n",
       "    }\n",
       "</style>\n",
       "<table border=\"1\" class=\"dataframe\">\n",
       "  <thead>\n",
       "    <tr style=\"text-align: right;\">\n",
       "      <th></th>\n",
       "      <th>id</th>\n",
       "      <th>country_id</th>\n",
       "      <th>name</th>\n",
       "    </tr>\n",
       "  </thead>\n",
       "  <tbody>\n",
       "    <tr>\n",
       "      <th>0</th>\n",
       "      <td>1</td>\n",
       "      <td>1</td>\n",
       "      <td>Belgium Jupiler League</td>\n",
       "    </tr>\n",
       "    <tr>\n",
       "      <th>1</th>\n",
       "      <td>1729</td>\n",
       "      <td>1729</td>\n",
       "      <td>England Premier League</td>\n",
       "    </tr>\n",
       "    <tr>\n",
       "      <th>2</th>\n",
       "      <td>4769</td>\n",
       "      <td>4769</td>\n",
       "      <td>France Ligue 1</td>\n",
       "    </tr>\n",
       "  </tbody>\n",
       "</table>\n",
       "</div>"
      ],
      "text/plain": [
       "     id  country_id                    name\n",
       "0     1           1  Belgium Jupiler League\n",
       "1  1729        1729  England Premier League\n",
       "2  4769        4769          France Ligue 1"
      ]
     },
     "execution_count": 6,
     "metadata": {},
     "output_type": "execute_result"
    }
   ],
   "source": [
    "league.head(3)"
   ]
  },
  {
   "cell_type": "code",
   "execution_count": 7,
   "id": "719f1a69",
   "metadata": {},
   "outputs": [
    {
     "name": "stdout",
     "output_type": "stream",
     "text": [
      "\u001b[94mNumber of rows in the dataset: 11\n",
      "\u001b[94mNumber of columns in the dataseta: 3\n",
      "\u001b[94mNumber of values in the dataset: 33\n",
      "\u001b[94mNumber missing values in the dataset: 0\n"
     ]
    }
   ],
   "source": [
    "dataset_info(league)"
   ]
  },
  {
   "cell_type": "markdown",
   "id": "1265670b",
   "metadata": {},
   "source": [
    "### We have the ID of the countries in the league dataset, it would then be necessary to merge the countries corresponding to the IDs to our datatset with Country Dataset"
   ]
  },
  {
   "cell_type": "code",
   "execution_count": 8,
   "id": "292d091a",
   "metadata": {},
   "outputs": [
    {
     "data": {
      "text/html": [
       "<div>\n",
       "<style scoped>\n",
       "    .dataframe tbody tr th:only-of-type {\n",
       "        vertical-align: middle;\n",
       "    }\n",
       "\n",
       "    .dataframe tbody tr th {\n",
       "        vertical-align: top;\n",
       "    }\n",
       "\n",
       "    .dataframe thead th {\n",
       "        text-align: right;\n",
       "    }\n",
       "</style>\n",
       "<table border=\"1\" class=\"dataframe\">\n",
       "  <thead>\n",
       "    <tr style=\"text-align: right;\">\n",
       "      <th></th>\n",
       "      <th>id</th>\n",
       "      <th>name</th>\n",
       "      <th>country</th>\n",
       "    </tr>\n",
       "  </thead>\n",
       "  <tbody>\n",
       "    <tr>\n",
       "      <th>0</th>\n",
       "      <td>1</td>\n",
       "      <td>Belgium Jupiler League</td>\n",
       "      <td>Belgium</td>\n",
       "    </tr>\n",
       "    <tr>\n",
       "      <th>1</th>\n",
       "      <td>1729</td>\n",
       "      <td>England Premier League</td>\n",
       "      <td>England</td>\n",
       "    </tr>\n",
       "    <tr>\n",
       "      <th>2</th>\n",
       "      <td>4769</td>\n",
       "      <td>France Ligue 1</td>\n",
       "      <td>France</td>\n",
       "    </tr>\n",
       "  </tbody>\n",
       "</table>\n",
       "</div>"
      ],
      "text/plain": [
       "     id                    name  country\n",
       "0     1  Belgium Jupiler League  Belgium\n",
       "1  1729  England Premier League  England\n",
       "2  4769          France Ligue 1   France"
      ]
     },
     "execution_count": 8,
     "metadata": {},
     "output_type": "execute_result"
    }
   ],
   "source": [
    "country.rename(columns={'name':'country'}, inplace=True)\n",
    "league = league.merge(country, how='inner', on= 'id' )\n",
    "league.drop('country_id', axis=1,inplace=True)\n",
    "league.head(3)"
   ]
  },
  {
   "cell_type": "markdown",
   "id": "b9fb9961",
   "metadata": {},
   "source": [
    "### It would be useful to know now how many leagues our dataset offers us"
   ]
  },
  {
   "cell_type": "code",
   "execution_count": 9,
   "id": "b405c36e",
   "metadata": {},
   "outputs": [
    {
     "data": {
      "text/plain": [
       "id         11\n",
       "name       11\n",
       "country    11\n",
       "dtype: int64"
      ]
     },
     "execution_count": 9,
     "metadata": {},
     "output_type": "execute_result"
    }
   ],
   "source": [
    "league.nunique()"
   ]
  },
  {
   "cell_type": "markdown",
   "id": "1480a4b6",
   "metadata": {},
   "source": [
    "<a href=\"#toc\" role=\"button\" aria-pressed=\"true\" >⬆️Back to Table of Contents ⬆️</a>"
   ]
  },
  {
   "cell_type": "markdown",
   "id": "b7dc1b19",
   "metadata": {},
   "source": [
    "<a id=\"4\"></a>\n",
    "# **<center><span style=\"color:#fd7b12;\"> EDA Team Dataset </span></center>**"
   ]
  },
  {
   "cell_type": "markdown",
   "id": "07ac3b50",
   "metadata": {},
   "source": [
    "<div class=\"alert alert-block alert-info\" style=\"font-size:14px; font-family:verdana; line-height: 1.7em;\">\n",
    "    📌 &nbsp;<b><u>Observations in Dataset:</u></b><br>\n",
    "\n",
    "* <i> There are total of <b><u>5 columns </u></b>and <b><u>299  rows </u></b>in the dataset.</i><br>\n",
    "* <i> Dataset contains <b><u>1484 observations</u></b> with <b><u>11 missing values</u></b>.</i><br>"
   ]
  },
  {
   "cell_type": "code",
   "execution_count": 10,
   "id": "8d9b7426",
   "metadata": {},
   "outputs": [
    {
     "data": {
      "text/html": [
       "<div>\n",
       "<style scoped>\n",
       "    .dataframe tbody tr th:only-of-type {\n",
       "        vertical-align: middle;\n",
       "    }\n",
       "\n",
       "    .dataframe tbody tr th {\n",
       "        vertical-align: top;\n",
       "    }\n",
       "\n",
       "    .dataframe thead th {\n",
       "        text-align: right;\n",
       "    }\n",
       "</style>\n",
       "<table border=\"1\" class=\"dataframe\">\n",
       "  <thead>\n",
       "    <tr style=\"text-align: right;\">\n",
       "      <th></th>\n",
       "      <th>id</th>\n",
       "      <th>team_api_id</th>\n",
       "      <th>team_fifa_api_id</th>\n",
       "      <th>team_long_name</th>\n",
       "      <th>team_short_name</th>\n",
       "    </tr>\n",
       "  </thead>\n",
       "  <tbody>\n",
       "    <tr>\n",
       "      <th>0</th>\n",
       "      <td>1</td>\n",
       "      <td>9987</td>\n",
       "      <td>673.0</td>\n",
       "      <td>KRC Genk</td>\n",
       "      <td>GEN</td>\n",
       "    </tr>\n",
       "    <tr>\n",
       "      <th>1</th>\n",
       "      <td>2</td>\n",
       "      <td>9993</td>\n",
       "      <td>675.0</td>\n",
       "      <td>Beerschot AC</td>\n",
       "      <td>BAC</td>\n",
       "    </tr>\n",
       "    <tr>\n",
       "      <th>2</th>\n",
       "      <td>3</td>\n",
       "      <td>10000</td>\n",
       "      <td>15005.0</td>\n",
       "      <td>SV Zulte-Waregem</td>\n",
       "      <td>ZUL</td>\n",
       "    </tr>\n",
       "  </tbody>\n",
       "</table>\n",
       "</div>"
      ],
      "text/plain": [
       "   id  team_api_id  team_fifa_api_id    team_long_name team_short_name\n",
       "0   1         9987             673.0          KRC Genk             GEN\n",
       "1   2         9993             675.0      Beerschot AC             BAC\n",
       "2   3        10000           15005.0  SV Zulte-Waregem             ZUL"
      ]
     },
     "execution_count": 10,
     "metadata": {},
     "output_type": "execute_result"
    }
   ],
   "source": [
    "team.head(3)"
   ]
  },
  {
   "cell_type": "code",
   "execution_count": 11,
   "id": "2be242ba",
   "metadata": {},
   "outputs": [
    {
     "name": "stdout",
     "output_type": "stream",
     "text": [
      "\u001b[94mNumber of rows in the dataset: 299\n",
      "\u001b[94mNumber of columns in the dataseta: 5\n",
      "\u001b[94mNumber of values in the dataset: 1484\n",
      "\u001b[94mNumber missing values in the dataset: 11\n"
     ]
    }
   ],
   "source": [
    "dataset_info(team)"
   ]
  },
  {
   "cell_type": "code",
   "execution_count": 12,
   "id": "4a97f0a3",
   "metadata": {},
   "outputs": [
    {
     "data": {
      "text/plain": [
       "id                   0\n",
       "team_api_id          0\n",
       "team_fifa_api_id    11\n",
       "team_long_name       0\n",
       "team_short_name      0\n",
       "dtype: int64"
      ]
     },
     "execution_count": 12,
     "metadata": {},
     "output_type": "execute_result"
    }
   ],
   "source": [
    "team.isnull().sum()"
   ]
  },
  {
   "cell_type": "markdown",
   "id": "90a161f9",
   "metadata": {},
   "source": [
    "### We can't make any study with this dataset now. Just remember that for future merging, team_api_id is more complete than team_fifa_api_id"
   ]
  },
  {
   "cell_type": "markdown",
   "id": "1480a4b6",
   "metadata": {},
   "source": [
    "<a href=\"#toc\" role=\"button\" aria-pressed=\"true\" >⬆️Back to Table of Contents ⬆️</a>"
   ]
  },
  {
   "cell_type": "markdown",
   "id": "b7dc1b19",
   "metadata": {},
   "source": [
    "<a id=\"4\"></a>\n",
    "# **<center><span style=\"color:#fd7b12;\"> EDA Match Dataset </span></center>**"
   ]
  },
  {
   "cell_type": "markdown",
   "id": "07ac3b50",
   "metadata": {},
   "source": [
    "<div class=\"alert alert-block alert-info\" style=\"font-size:14px; font-family:verdana; line-height: 1.7em;\">\n",
    "    📌 &nbsp;<b><u>Observations in Dataset:</u></b><br>\n",
    "\n",
    "* <i> There are total of <b><u>115 columns </u></b>and <b><u>25979  rows </u></b>in the dataset.</i><br>\n",
    "* <i> Dataset contains <b><u>2580190 observations</u></b> with <b><u>407395 missing values</u></b>.</i><br>"
   ]
  },
  {
   "cell_type": "code",
   "execution_count": 13,
   "id": "8d9b7426",
   "metadata": {},
   "outputs": [
    {
     "data": {
      "text/html": [
       "<div>\n",
       "<style scoped>\n",
       "    .dataframe tbody tr th:only-of-type {\n",
       "        vertical-align: middle;\n",
       "    }\n",
       "\n",
       "    .dataframe tbody tr th {\n",
       "        vertical-align: top;\n",
       "    }\n",
       "\n",
       "    .dataframe thead th {\n",
       "        text-align: right;\n",
       "    }\n",
       "</style>\n",
       "<table border=\"1\" class=\"dataframe\">\n",
       "  <thead>\n",
       "    <tr style=\"text-align: right;\">\n",
       "      <th></th>\n",
       "      <th>id</th>\n",
       "      <th>country_id</th>\n",
       "      <th>league_id</th>\n",
       "      <th>season</th>\n",
       "      <th>stage</th>\n",
       "      <th>date</th>\n",
       "      <th>match_api_id</th>\n",
       "      <th>home_team_api_id</th>\n",
       "      <th>away_team_api_id</th>\n",
       "      <th>home_team_goal</th>\n",
       "      <th>...</th>\n",
       "      <th>SJA</th>\n",
       "      <th>VCH</th>\n",
       "      <th>VCD</th>\n",
       "      <th>VCA</th>\n",
       "      <th>GBH</th>\n",
       "      <th>GBD</th>\n",
       "      <th>GBA</th>\n",
       "      <th>BSH</th>\n",
       "      <th>BSD</th>\n",
       "      <th>BSA</th>\n",
       "    </tr>\n",
       "  </thead>\n",
       "  <tbody>\n",
       "    <tr>\n",
       "      <th>0</th>\n",
       "      <td>1</td>\n",
       "      <td>1</td>\n",
       "      <td>1</td>\n",
       "      <td>2008/2009</td>\n",
       "      <td>1</td>\n",
       "      <td>2008-08-17 00:00:00</td>\n",
       "      <td>492473</td>\n",
       "      <td>9987</td>\n",
       "      <td>9993</td>\n",
       "      <td>1</td>\n",
       "      <td>...</td>\n",
       "      <td>4.0</td>\n",
       "      <td>1.65</td>\n",
       "      <td>3.40</td>\n",
       "      <td>4.50</td>\n",
       "      <td>1.78</td>\n",
       "      <td>3.25</td>\n",
       "      <td>4.00</td>\n",
       "      <td>1.73</td>\n",
       "      <td>3.40</td>\n",
       "      <td>4.20</td>\n",
       "    </tr>\n",
       "    <tr>\n",
       "      <th>1</th>\n",
       "      <td>2</td>\n",
       "      <td>1</td>\n",
       "      <td>1</td>\n",
       "      <td>2008/2009</td>\n",
       "      <td>1</td>\n",
       "      <td>2008-08-16 00:00:00</td>\n",
       "      <td>492474</td>\n",
       "      <td>10000</td>\n",
       "      <td>9994</td>\n",
       "      <td>0</td>\n",
       "      <td>...</td>\n",
       "      <td>3.8</td>\n",
       "      <td>2.00</td>\n",
       "      <td>3.25</td>\n",
       "      <td>3.25</td>\n",
       "      <td>1.85</td>\n",
       "      <td>3.25</td>\n",
       "      <td>3.75</td>\n",
       "      <td>1.91</td>\n",
       "      <td>3.25</td>\n",
       "      <td>3.60</td>\n",
       "    </tr>\n",
       "    <tr>\n",
       "      <th>2</th>\n",
       "      <td>3</td>\n",
       "      <td>1</td>\n",
       "      <td>1</td>\n",
       "      <td>2008/2009</td>\n",
       "      <td>1</td>\n",
       "      <td>2008-08-16 00:00:00</td>\n",
       "      <td>492475</td>\n",
       "      <td>9984</td>\n",
       "      <td>8635</td>\n",
       "      <td>0</td>\n",
       "      <td>...</td>\n",
       "      <td>2.5</td>\n",
       "      <td>2.35</td>\n",
       "      <td>3.25</td>\n",
       "      <td>2.65</td>\n",
       "      <td>2.50</td>\n",
       "      <td>3.20</td>\n",
       "      <td>2.50</td>\n",
       "      <td>2.30</td>\n",
       "      <td>3.20</td>\n",
       "      <td>2.75</td>\n",
       "    </tr>\n",
       "  </tbody>\n",
       "</table>\n",
       "<p>3 rows × 115 columns</p>\n",
       "</div>"
      ],
      "text/plain": [
       "   id  country_id  league_id     season  stage                 date  \\\n",
       "0   1           1          1  2008/2009      1  2008-08-17 00:00:00   \n",
       "1   2           1          1  2008/2009      1  2008-08-16 00:00:00   \n",
       "2   3           1          1  2008/2009      1  2008-08-16 00:00:00   \n",
       "\n",
       "   match_api_id  home_team_api_id  away_team_api_id  home_team_goal  ...  SJA  \\\n",
       "0        492473              9987              9993               1  ...  4.0   \n",
       "1        492474             10000              9994               0  ...  3.8   \n",
       "2        492475              9984              8635               0  ...  2.5   \n",
       "\n",
       "    VCH   VCD   VCA   GBH   GBD   GBA   BSH   BSD   BSA  \n",
       "0  1.65  3.40  4.50  1.78  3.25  4.00  1.73  3.40  4.20  \n",
       "1  2.00  3.25  3.25  1.85  3.25  3.75  1.91  3.25  3.60  \n",
       "2  2.35  3.25  2.65  2.50  3.20  2.50  2.30  3.20  2.75  \n",
       "\n",
       "[3 rows x 115 columns]"
      ]
     },
     "execution_count": 13,
     "metadata": {},
     "output_type": "execute_result"
    }
   ],
   "source": [
    "match.head(3)"
   ]
  },
  {
   "cell_type": "code",
   "execution_count": 14,
   "id": "0464f6e3",
   "metadata": {},
   "outputs": [
    {
     "name": "stdout",
     "output_type": "stream",
     "text": [
      "\u001b[94mNumber of rows in the dataset: 25979\n",
      "\u001b[94mNumber of columns in the dataseta: 115\n",
      "\u001b[94mNumber of values in the dataset: 2580190\n",
      "\u001b[94mNumber missing values in the dataset: 407395\n"
     ]
    }
   ],
   "source": [
    "dataset_info(match)"
   ]
  },
  {
   "cell_type": "markdown",
   "id": "4637aed4",
   "metadata": {},
   "source": [
    "### Our dataset is too big, it will be better to risize it by remove all unnecessary columns : redundant information, missing values, feature that give unimportant data... "
   ]
  },
  {
   "cell_type": "markdown",
   "id": "07911b93",
   "metadata": {},
   "source": [
    "### Drop ID columns and Date. They will not be usefull for our study"
   ]
  },
  {
   "cell_type": "code",
   "execution_count": 15,
   "id": "339d0077",
   "metadata": {},
   "outputs": [],
   "source": [
    "match.drop(['id','country_id','match_api_id','date'],axis=1,inplace=True)"
   ]
  },
  {
   "cell_type": "code",
   "execution_count": 16,
   "id": "dead9a02",
   "metadata": {
    "scrolled": true
   },
   "outputs": [
    {
     "data": {
      "text/html": [
       "<div>\n",
       "<style scoped>\n",
       "    .dataframe tbody tr th:only-of-type {\n",
       "        vertical-align: middle;\n",
       "    }\n",
       "\n",
       "    .dataframe tbody tr th {\n",
       "        vertical-align: top;\n",
       "    }\n",
       "\n",
       "    .dataframe thead th {\n",
       "        text-align: right;\n",
       "    }\n",
       "</style>\n",
       "<table border=\"1\" class=\"dataframe\">\n",
       "  <thead>\n",
       "    <tr style=\"text-align: right;\">\n",
       "      <th></th>\n",
       "      <th>league_id</th>\n",
       "      <th>season</th>\n",
       "      <th>stage</th>\n",
       "      <th>home_team_api_id</th>\n",
       "      <th>away_team_api_id</th>\n",
       "      <th>home_team_goal</th>\n",
       "      <th>away_team_goal</th>\n",
       "      <th>home_player_X1</th>\n",
       "      <th>home_player_X2</th>\n",
       "      <th>home_player_X3</th>\n",
       "      <th>...</th>\n",
       "      <th>SJA</th>\n",
       "      <th>VCH</th>\n",
       "      <th>VCD</th>\n",
       "      <th>VCA</th>\n",
       "      <th>GBH</th>\n",
       "      <th>GBD</th>\n",
       "      <th>GBA</th>\n",
       "      <th>BSH</th>\n",
       "      <th>BSD</th>\n",
       "      <th>BSA</th>\n",
       "    </tr>\n",
       "  </thead>\n",
       "  <tbody>\n",
       "    <tr>\n",
       "      <th>0</th>\n",
       "      <td>1</td>\n",
       "      <td>2008/2009</td>\n",
       "      <td>1</td>\n",
       "      <td>9987</td>\n",
       "      <td>9993</td>\n",
       "      <td>1</td>\n",
       "      <td>1</td>\n",
       "      <td>NaN</td>\n",
       "      <td>NaN</td>\n",
       "      <td>NaN</td>\n",
       "      <td>...</td>\n",
       "      <td>4.0</td>\n",
       "      <td>1.65</td>\n",
       "      <td>3.4</td>\n",
       "      <td>4.5</td>\n",
       "      <td>1.78</td>\n",
       "      <td>3.25</td>\n",
       "      <td>4.0</td>\n",
       "      <td>1.73</td>\n",
       "      <td>3.4</td>\n",
       "      <td>4.2</td>\n",
       "    </tr>\n",
       "  </tbody>\n",
       "</table>\n",
       "<p>1 rows × 111 columns</p>\n",
       "</div>"
      ],
      "text/plain": [
       "   league_id     season  stage  home_team_api_id  away_team_api_id  \\\n",
       "0          1  2008/2009      1              9987              9993   \n",
       "\n",
       "   home_team_goal  away_team_goal  home_player_X1  home_player_X2  \\\n",
       "0               1               1             NaN             NaN   \n",
       "\n",
       "   home_player_X3  ...  SJA   VCH  VCD  VCA   GBH   GBD  GBA   BSH  BSD  BSA  \n",
       "0             NaN  ...  4.0  1.65  3.4  4.5  1.78  3.25  4.0  1.73  3.4  4.2  \n",
       "\n",
       "[1 rows x 111 columns]"
      ]
     },
     "execution_count": 16,
     "metadata": {},
     "output_type": "execute_result"
    }
   ],
   "source": [
    "match.head(1)"
   ]
  },
  {
   "cell_type": "markdown",
   "id": "de223788",
   "metadata": {},
   "source": [
    "### They are successuffly remove. Now we will find all features that have more than 0.34 (1/3) missing values and remove them also. The ratio of missing data is to important to make our study"
   ]
  },
  {
   "cell_type": "code",
   "execution_count": 17,
   "id": "fb03530d",
   "metadata": {},
   "outputs": [],
   "source": [
    "null = pd.DataFrame(match.isnull().sum()/len(match),columns=['count'])"
   ]
  },
  {
   "cell_type": "code",
   "execution_count": 18,
   "id": "be2ec94f",
   "metadata": {},
   "outputs": [],
   "source": [
    "null_drop = null.query('count > 0.34')"
   ]
  },
  {
   "cell_type": "code",
   "execution_count": 19,
   "id": "df19d389",
   "metadata": {},
   "outputs": [
    {
     "data": {
      "text/plain": [
       "Index(['goal', 'shoton', 'shotoff', 'foulcommit', 'card', 'cross', 'corner',\n",
       "       'possession', 'PSH', 'PSD', 'PSA', 'SJH', 'SJD', 'SJA', 'GBH', 'GBD',\n",
       "       'GBA', 'BSH', 'BSD', 'BSA'],\n",
       "      dtype='object')"
      ]
     },
     "execution_count": 19,
     "metadata": {},
     "output_type": "execute_result"
    }
   ],
   "source": [
    "null_drop.index"
   ]
  },
  {
   "cell_type": "code",
   "execution_count": 20,
   "id": "314c4b31",
   "metadata": {},
   "outputs": [],
   "source": [
    "match.drop(['goal', 'shoton', 'shotoff', 'foulcommit', 'card', 'cross', 'corner','possession', 'PSH', 'PSD', 'PSA', 'SJH', 'SJD', 'SJA', 'GBH', 'GBD','GBA', 'BSH', 'BSD', 'BSA'],axis=1,inplace=True)"
   ]
  },
  {
   "cell_type": "code",
   "execution_count": 21,
   "id": "0c46e335",
   "metadata": {},
   "outputs": [
    {
     "data": {
      "text/html": [
       "<div>\n",
       "<style scoped>\n",
       "    .dataframe tbody tr th:only-of-type {\n",
       "        vertical-align: middle;\n",
       "    }\n",
       "\n",
       "    .dataframe tbody tr th {\n",
       "        vertical-align: top;\n",
       "    }\n",
       "\n",
       "    .dataframe thead th {\n",
       "        text-align: right;\n",
       "    }\n",
       "</style>\n",
       "<table border=\"1\" class=\"dataframe\">\n",
       "  <thead>\n",
       "    <tr style=\"text-align: right;\">\n",
       "      <th></th>\n",
       "      <th>league_id</th>\n",
       "      <th>season</th>\n",
       "      <th>stage</th>\n",
       "      <th>home_team_api_id</th>\n",
       "      <th>away_team_api_id</th>\n",
       "      <th>home_team_goal</th>\n",
       "      <th>away_team_goal</th>\n",
       "      <th>home_player_X1</th>\n",
       "      <th>home_player_X2</th>\n",
       "      <th>home_player_X3</th>\n",
       "      <th>...</th>\n",
       "      <th>IWA</th>\n",
       "      <th>LBH</th>\n",
       "      <th>LBD</th>\n",
       "      <th>LBA</th>\n",
       "      <th>WHH</th>\n",
       "      <th>WHD</th>\n",
       "      <th>WHA</th>\n",
       "      <th>VCH</th>\n",
       "      <th>VCD</th>\n",
       "      <th>VCA</th>\n",
       "    </tr>\n",
       "  </thead>\n",
       "  <tbody>\n",
       "    <tr>\n",
       "      <th>0</th>\n",
       "      <td>1</td>\n",
       "      <td>2008/2009</td>\n",
       "      <td>1</td>\n",
       "      <td>9987</td>\n",
       "      <td>9993</td>\n",
       "      <td>1</td>\n",
       "      <td>1</td>\n",
       "      <td>NaN</td>\n",
       "      <td>NaN</td>\n",
       "      <td>NaN</td>\n",
       "      <td>...</td>\n",
       "      <td>3.5</td>\n",
       "      <td>1.8</td>\n",
       "      <td>3.3</td>\n",
       "      <td>3.75</td>\n",
       "      <td>1.7</td>\n",
       "      <td>3.3</td>\n",
       "      <td>4.33</td>\n",
       "      <td>1.65</td>\n",
       "      <td>3.4</td>\n",
       "      <td>4.5</td>\n",
       "    </tr>\n",
       "  </tbody>\n",
       "</table>\n",
       "<p>1 rows × 91 columns</p>\n",
       "</div>"
      ],
      "text/plain": [
       "   league_id     season  stage  home_team_api_id  away_team_api_id  \\\n",
       "0          1  2008/2009      1              9987              9993   \n",
       "\n",
       "   home_team_goal  away_team_goal  home_player_X1  home_player_X2  \\\n",
       "0               1               1             NaN             NaN   \n",
       "\n",
       "   home_player_X3  ...  IWA  LBH  LBD   LBA  WHH  WHD   WHA   VCH  VCD  VCA  \n",
       "0             NaN  ...  3.5  1.8  3.3  3.75  1.7  3.3  4.33  1.65  3.4  4.5  \n",
       "\n",
       "[1 rows x 91 columns]"
      ]
     },
     "execution_count": 21,
     "metadata": {},
     "output_type": "execute_result"
    }
   ],
   "source": [
    "match.head(1)"
   ]
  },
  {
   "cell_type": "markdown",
   "id": "166761fb",
   "metadata": {},
   "source": [
    "### We go from 115 to 91 columns.Observe the remaining columns, and identify which are not usefull to answer questions."
   ]
  },
  {
   "cell_type": "code",
   "execution_count": 22,
   "id": "013d2067",
   "metadata": {},
   "outputs": [
    {
     "data": {
      "text/plain": [
       "Index(['league_id', 'season', 'stage', 'home_team_api_id', 'away_team_api_id',\n",
       "       'home_team_goal', 'away_team_goal', 'home_player_X1', 'home_player_X2',\n",
       "       'home_player_X3', 'home_player_X4', 'home_player_X5', 'home_player_X6',\n",
       "       'home_player_X7', 'home_player_X8', 'home_player_X9', 'home_player_X10',\n",
       "       'home_player_X11', 'away_player_X1', 'away_player_X2', 'away_player_X3',\n",
       "       'away_player_X4', 'away_player_X5', 'away_player_X6', 'away_player_X7',\n",
       "       'away_player_X8', 'away_player_X9', 'away_player_X10',\n",
       "       'away_player_X11', 'home_player_Y1', 'home_player_Y2', 'home_player_Y3',\n",
       "       'home_player_Y4', 'home_player_Y5', 'home_player_Y6', 'home_player_Y7',\n",
       "       'home_player_Y8', 'home_player_Y9', 'home_player_Y10',\n",
       "       'home_player_Y11', 'away_player_Y1', 'away_player_Y2', 'away_player_Y3',\n",
       "       'away_player_Y4', 'away_player_Y5', 'away_player_Y6', 'away_player_Y7',\n",
       "       'away_player_Y8', 'away_player_Y9', 'away_player_Y10',\n",
       "       'away_player_Y11', 'home_player_1', 'home_player_2', 'home_player_3',\n",
       "       'home_player_4', 'home_player_5', 'home_player_6', 'home_player_7',\n",
       "       'home_player_8', 'home_player_9', 'home_player_10', 'home_player_11',\n",
       "       'away_player_1', 'away_player_2', 'away_player_3', 'away_player_4',\n",
       "       'away_player_5', 'away_player_6', 'away_player_7', 'away_player_8',\n",
       "       'away_player_9', 'away_player_10', 'away_player_11', 'B365H', 'B365D',\n",
       "       'B365A', 'BWH', 'BWD', 'BWA', 'IWH', 'IWD', 'IWA', 'LBH', 'LBD', 'LBA',\n",
       "       'WHH', 'WHD', 'WHA', 'VCH', 'VCD', 'VCA'],\n",
       "      dtype='object')"
      ]
     },
     "execution_count": 22,
     "metadata": {},
     "output_type": "execute_result"
    }
   ],
   "source": [
    "match.columns"
   ]
  },
  {
   "cell_type": "markdown",
   "id": "9e17cede",
   "metadata": {},
   "source": [
    "### We can delete all player features because we don't want to use them to make our analysis"
   ]
  },
  {
   "cell_type": "code",
   "execution_count": 23,
   "id": "0d3a0cf3",
   "metadata": {},
   "outputs": [],
   "source": [
    "match.drop(['home_player_X1', 'home_player_X2', 'home_player_X3','home_player_X4', 'home_player_X5', 'home_player_X6', 'home_player_X7','home_player_X8', 'home_player_X9', 'home_player_X10','home_player_X11'],axis=1,inplace=True)\n",
    "match.drop(['away_player_X1', 'away_player_X2', 'away_player_X3','away_player_X4', 'away_player_X5', 'away_player_X6', 'away_player_X7','away_player_X8', 'away_player_X9', 'away_player_X10','away_player_X11'],axis=1,inplace=True)"
   ]
  },
  {
   "cell_type": "code",
   "execution_count": 24,
   "id": "cedc3580",
   "metadata": {},
   "outputs": [],
   "source": [
    "match.drop(['home_player_Y1', 'home_player_Y2', 'home_player_Y3','home_player_Y4', 'home_player_Y5', 'home_player_Y6', 'home_player_Y7','home_player_Y8', 'home_player_Y9', 'home_player_Y10','home_player_Y11'],axis=1,inplace=True)\n",
    "match.drop(['away_player_Y1', 'away_player_Y2', 'away_player_Y3','away_player_Y4', 'away_player_Y5', 'away_player_Y6', 'away_player_Y7','away_player_Y8', 'away_player_Y9', 'away_player_Y10','away_player_Y11'],axis=1,inplace=True)"
   ]
  },
  {
   "cell_type": "code",
   "execution_count": 25,
   "id": "17196ef0",
   "metadata": {},
   "outputs": [],
   "source": [
    "match.drop(['home_player_1', 'home_player_2', 'home_player_3','home_player_4', 'home_player_5', 'home_player_6', 'home_player_7','home_player_8', 'home_player_9', 'home_player_10','home_player_11'],axis=1,inplace=True)\n",
    "match.drop(['away_player_1', 'away_player_2', 'away_player_3','away_player_4', 'away_player_5', 'away_player_6', 'away_player_7','away_player_8', 'away_player_9', 'away_player_10','away_player_11'],axis=1,inplace=True)"
   ]
  },
  {
   "cell_type": "code",
   "execution_count": 26,
   "id": "4f3b1e77",
   "metadata": {},
   "outputs": [
    {
     "data": {
      "text/plain": [
       "Index(['league_id', 'season', 'stage', 'home_team_api_id', 'away_team_api_id',\n",
       "       'home_team_goal', 'away_team_goal', 'B365H', 'B365D', 'B365A', 'BWH',\n",
       "       'BWD', 'BWA', 'IWH', 'IWD', 'IWA', 'LBH', 'LBD', 'LBA', 'WHH', 'WHD',\n",
       "       'WHA', 'VCH', 'VCD', 'VCA'],\n",
       "      dtype='object')"
      ]
     },
     "execution_count": 26,
     "metadata": {},
     "output_type": "execute_result"
    }
   ],
   "source": [
    "match.columns"
   ]
  },
  {
   "cell_type": "markdown",
   "id": "a97d9196",
   "metadata": {},
   "source": [
    "### We still have many columns. Most of them is about betting. We will fix it after"
   ]
  },
  {
   "cell_type": "code",
   "execution_count": 27,
   "id": "d38f1cb1",
   "metadata": {},
   "outputs": [
    {
     "data": {
      "text/html": [
       "<div>\n",
       "<style scoped>\n",
       "    .dataframe tbody tr th:only-of-type {\n",
       "        vertical-align: middle;\n",
       "    }\n",
       "\n",
       "    .dataframe tbody tr th {\n",
       "        vertical-align: top;\n",
       "    }\n",
       "\n",
       "    .dataframe thead th {\n",
       "        text-align: right;\n",
       "    }\n",
       "</style>\n",
       "<table border=\"1\" class=\"dataframe\">\n",
       "  <thead>\n",
       "    <tr style=\"text-align: right;\">\n",
       "      <th></th>\n",
       "      <th>league_id</th>\n",
       "      <th>season</th>\n",
       "      <th>stage</th>\n",
       "      <th>home_team_api_id</th>\n",
       "      <th>away_team_api_id</th>\n",
       "      <th>home_team_goal</th>\n",
       "      <th>away_team_goal</th>\n",
       "      <th>B365H</th>\n",
       "      <th>B365D</th>\n",
       "      <th>B365A</th>\n",
       "      <th>...</th>\n",
       "      <th>IWA</th>\n",
       "      <th>LBH</th>\n",
       "      <th>LBD</th>\n",
       "      <th>LBA</th>\n",
       "      <th>WHH</th>\n",
       "      <th>WHD</th>\n",
       "      <th>WHA</th>\n",
       "      <th>VCH</th>\n",
       "      <th>VCD</th>\n",
       "      <th>VCA</th>\n",
       "    </tr>\n",
       "  </thead>\n",
       "  <tbody>\n",
       "    <tr>\n",
       "      <th>0</th>\n",
       "      <td>1</td>\n",
       "      <td>2008/2009</td>\n",
       "      <td>1</td>\n",
       "      <td>9987</td>\n",
       "      <td>9993</td>\n",
       "      <td>1</td>\n",
       "      <td>1</td>\n",
       "      <td>1.73</td>\n",
       "      <td>3.4</td>\n",
       "      <td>5.00</td>\n",
       "      <td>...</td>\n",
       "      <td>3.5</td>\n",
       "      <td>1.8</td>\n",
       "      <td>3.3</td>\n",
       "      <td>3.75</td>\n",
       "      <td>1.70</td>\n",
       "      <td>3.30</td>\n",
       "      <td>4.33</td>\n",
       "      <td>1.65</td>\n",
       "      <td>3.40</td>\n",
       "      <td>4.50</td>\n",
       "    </tr>\n",
       "    <tr>\n",
       "      <th>1</th>\n",
       "      <td>1</td>\n",
       "      <td>2008/2009</td>\n",
       "      <td>1</td>\n",
       "      <td>10000</td>\n",
       "      <td>9994</td>\n",
       "      <td>0</td>\n",
       "      <td>0</td>\n",
       "      <td>1.95</td>\n",
       "      <td>3.2</td>\n",
       "      <td>3.60</td>\n",
       "      <td>...</td>\n",
       "      <td>3.5</td>\n",
       "      <td>1.9</td>\n",
       "      <td>3.2</td>\n",
       "      <td>3.50</td>\n",
       "      <td>1.83</td>\n",
       "      <td>3.30</td>\n",
       "      <td>3.60</td>\n",
       "      <td>2.00</td>\n",
       "      <td>3.25</td>\n",
       "      <td>3.25</td>\n",
       "    </tr>\n",
       "    <tr>\n",
       "      <th>2</th>\n",
       "      <td>1</td>\n",
       "      <td>2008/2009</td>\n",
       "      <td>1</td>\n",
       "      <td>9984</td>\n",
       "      <td>8635</td>\n",
       "      <td>0</td>\n",
       "      <td>3</td>\n",
       "      <td>2.38</td>\n",
       "      <td>3.3</td>\n",
       "      <td>2.75</td>\n",
       "      <td>...</td>\n",
       "      <td>2.3</td>\n",
       "      <td>2.5</td>\n",
       "      <td>3.2</td>\n",
       "      <td>2.50</td>\n",
       "      <td>2.50</td>\n",
       "      <td>3.25</td>\n",
       "      <td>2.40</td>\n",
       "      <td>2.35</td>\n",
       "      <td>3.25</td>\n",
       "      <td>2.65</td>\n",
       "    </tr>\n",
       "  </tbody>\n",
       "</table>\n",
       "<p>3 rows × 25 columns</p>\n",
       "</div>"
      ],
      "text/plain": [
       "   league_id     season  stage  home_team_api_id  away_team_api_id  \\\n",
       "0          1  2008/2009      1              9987              9993   \n",
       "1          1  2008/2009      1             10000              9994   \n",
       "2          1  2008/2009      1              9984              8635   \n",
       "\n",
       "   home_team_goal  away_team_goal  B365H  B365D  B365A  ...  IWA  LBH  LBD  \\\n",
       "0               1               1   1.73    3.4   5.00  ...  3.5  1.8  3.3   \n",
       "1               0               0   1.95    3.2   3.60  ...  3.5  1.9  3.2   \n",
       "2               0               3   2.38    3.3   2.75  ...  2.3  2.5  3.2   \n",
       "\n",
       "    LBA   WHH   WHD   WHA   VCH   VCD   VCA  \n",
       "0  3.75  1.70  3.30  4.33  1.65  3.40  4.50  \n",
       "1  3.50  1.83  3.30  3.60  2.00  3.25  3.25  \n",
       "2  2.50  2.50  3.25  2.40  2.35  3.25  2.65  \n",
       "\n",
       "[3 rows x 25 columns]"
      ]
     },
     "execution_count": 27,
     "metadata": {},
     "output_type": "execute_result"
    }
   ],
   "source": [
    "match.head(3)"
   ]
  },
  {
   "cell_type": "markdown",
   "id": "8b0902f7",
   "metadata": {},
   "source": [
    "### To better understand our dataset we will merge informations taken from the other dataset that would be useful"
   ]
  },
  {
   "cell_type": "code",
   "execution_count": 28,
   "id": "b3069012",
   "metadata": {},
   "outputs": [
    {
     "data": {
      "text/html": [
       "<div>\n",
       "<style scoped>\n",
       "    .dataframe tbody tr th:only-of-type {\n",
       "        vertical-align: middle;\n",
       "    }\n",
       "\n",
       "    .dataframe tbody tr th {\n",
       "        vertical-align: top;\n",
       "    }\n",
       "\n",
       "    .dataframe thead th {\n",
       "        text-align: right;\n",
       "    }\n",
       "</style>\n",
       "<table border=\"1\" class=\"dataframe\">\n",
       "  <thead>\n",
       "    <tr style=\"text-align: right;\">\n",
       "      <th></th>\n",
       "      <th>season</th>\n",
       "      <th>stage</th>\n",
       "      <th>home_team_api_id</th>\n",
       "      <th>away_team_api_id</th>\n",
       "      <th>home_team_goal</th>\n",
       "      <th>away_team_goal</th>\n",
       "      <th>B365H</th>\n",
       "      <th>B365D</th>\n",
       "      <th>B365A</th>\n",
       "      <th>BWH</th>\n",
       "      <th>...</th>\n",
       "      <th>LBH</th>\n",
       "      <th>LBD</th>\n",
       "      <th>LBA</th>\n",
       "      <th>WHH</th>\n",
       "      <th>WHD</th>\n",
       "      <th>WHA</th>\n",
       "      <th>VCH</th>\n",
       "      <th>VCD</th>\n",
       "      <th>VCA</th>\n",
       "      <th>name</th>\n",
       "    </tr>\n",
       "  </thead>\n",
       "  <tbody>\n",
       "    <tr>\n",
       "      <th>0</th>\n",
       "      <td>2008/2009</td>\n",
       "      <td>1</td>\n",
       "      <td>9987</td>\n",
       "      <td>9993</td>\n",
       "      <td>1</td>\n",
       "      <td>1</td>\n",
       "      <td>1.73</td>\n",
       "      <td>3.4</td>\n",
       "      <td>5.0</td>\n",
       "      <td>1.75</td>\n",
       "      <td>...</td>\n",
       "      <td>1.8</td>\n",
       "      <td>3.3</td>\n",
       "      <td>3.75</td>\n",
       "      <td>1.7</td>\n",
       "      <td>3.3</td>\n",
       "      <td>4.33</td>\n",
       "      <td>1.65</td>\n",
       "      <td>3.4</td>\n",
       "      <td>4.5</td>\n",
       "      <td>Belgium Jupiler League</td>\n",
       "    </tr>\n",
       "  </tbody>\n",
       "</table>\n",
       "<p>1 rows × 25 columns</p>\n",
       "</div>"
      ],
      "text/plain": [
       "      season  stage  home_team_api_id  away_team_api_id  home_team_goal  \\\n",
       "0  2008/2009      1              9987              9993               1   \n",
       "\n",
       "   away_team_goal  B365H  B365D  B365A   BWH  ...  LBH  LBD   LBA  WHH  WHD  \\\n",
       "0               1   1.73    3.4    5.0  1.75  ...  1.8  3.3  3.75  1.7  3.3   \n",
       "\n",
       "    WHA   VCH  VCD  VCA                    name  \n",
       "0  4.33  1.65  3.4  4.5  Belgium Jupiler League  \n",
       "\n",
       "[1 rows x 25 columns]"
      ]
     },
     "execution_count": 28,
     "metadata": {},
     "output_type": "execute_result"
    }
   ],
   "source": [
    "league.rename(columns={'id':'league_id'}, inplace=True)\n",
    "match = match.merge(league, how='inner', on= 'league_id' )\n",
    "match.drop(['league_id','country'], axis=1,inplace=True)\n",
    "match.head(1)"
   ]
  },
  {
   "cell_type": "code",
   "execution_count": 29,
   "id": "8db64ed4",
   "metadata": {},
   "outputs": [
    {
     "data": {
      "text/plain": [
       "Index(['season', 'stage', 'home_team_api_id', 'away_team_api_id',\n",
       "       'home_team_goal', 'away_team_goal', 'B365H', 'B365D', 'B365A', 'BWH',\n",
       "       'BWD', 'BWA', 'IWH', 'IWD', 'IWA', 'LBH', 'LBD', 'LBA', 'WHH', 'WHD',\n",
       "       'WHA', 'VCH', 'VCD', 'VCA', 'name'],\n",
       "      dtype='object')"
      ]
     },
     "execution_count": 29,
     "metadata": {},
     "output_type": "execute_result"
    }
   ],
   "source": [
    "match.columns"
   ]
  },
  {
   "cell_type": "code",
   "execution_count": 30,
   "id": "ac622c00",
   "metadata": {},
   "outputs": [
    {
     "data": {
      "text/html": [
       "<div>\n",
       "<style scoped>\n",
       "    .dataframe tbody tr th:only-of-type {\n",
       "        vertical-align: middle;\n",
       "    }\n",
       "\n",
       "    .dataframe tbody tr th {\n",
       "        vertical-align: top;\n",
       "    }\n",
       "\n",
       "    .dataframe thead th {\n",
       "        text-align: right;\n",
       "    }\n",
       "</style>\n",
       "<table border=\"1\" class=\"dataframe\">\n",
       "  <thead>\n",
       "    <tr style=\"text-align: right;\">\n",
       "      <th></th>\n",
       "      <th>id</th>\n",
       "      <th>team_api_id</th>\n",
       "      <th>team_fifa_api_id</th>\n",
       "      <th>team_long_name</th>\n",
       "      <th>team_short_name</th>\n",
       "    </tr>\n",
       "  </thead>\n",
       "  <tbody>\n",
       "    <tr>\n",
       "      <th>0</th>\n",
       "      <td>1</td>\n",
       "      <td>9987</td>\n",
       "      <td>673.0</td>\n",
       "      <td>KRC Genk</td>\n",
       "      <td>GEN</td>\n",
       "    </tr>\n",
       "    <tr>\n",
       "      <th>1</th>\n",
       "      <td>2</td>\n",
       "      <td>9993</td>\n",
       "      <td>675.0</td>\n",
       "      <td>Beerschot AC</td>\n",
       "      <td>BAC</td>\n",
       "    </tr>\n",
       "    <tr>\n",
       "      <th>2</th>\n",
       "      <td>3</td>\n",
       "      <td>10000</td>\n",
       "      <td>15005.0</td>\n",
       "      <td>SV Zulte-Waregem</td>\n",
       "      <td>ZUL</td>\n",
       "    </tr>\n",
       "  </tbody>\n",
       "</table>\n",
       "</div>"
      ],
      "text/plain": [
       "   id  team_api_id  team_fifa_api_id    team_long_name team_short_name\n",
       "0   1         9987             673.0          KRC Genk             GEN\n",
       "1   2         9993             675.0      Beerschot AC             BAC\n",
       "2   3        10000           15005.0  SV Zulte-Waregem             ZUL"
      ]
     },
     "execution_count": 30,
     "metadata": {},
     "output_type": "execute_result"
    }
   ],
   "source": [
    "team.head(3)"
   ]
  },
  {
   "cell_type": "code",
   "execution_count": 31,
   "id": "9e3d8881",
   "metadata": {},
   "outputs": [
    {
     "data": {
      "text/html": [
       "<div>\n",
       "<style scoped>\n",
       "    .dataframe tbody tr th:only-of-type {\n",
       "        vertical-align: middle;\n",
       "    }\n",
       "\n",
       "    .dataframe tbody tr th {\n",
       "        vertical-align: top;\n",
       "    }\n",
       "\n",
       "    .dataframe thead th {\n",
       "        text-align: right;\n",
       "    }\n",
       "</style>\n",
       "<table border=\"1\" class=\"dataframe\">\n",
       "  <thead>\n",
       "    <tr style=\"text-align: right;\">\n",
       "      <th></th>\n",
       "      <th>season</th>\n",
       "      <th>stage</th>\n",
       "      <th>home_team_api_id</th>\n",
       "      <th>away_team_api_id</th>\n",
       "      <th>home_team_goal</th>\n",
       "      <th>away_team_goal</th>\n",
       "      <th>B365H</th>\n",
       "      <th>B365D</th>\n",
       "      <th>B365A</th>\n",
       "      <th>BWH</th>\n",
       "      <th>...</th>\n",
       "      <th>LBD</th>\n",
       "      <th>LBA</th>\n",
       "      <th>WHH</th>\n",
       "      <th>WHD</th>\n",
       "      <th>WHA</th>\n",
       "      <th>VCH</th>\n",
       "      <th>VCD</th>\n",
       "      <th>VCA</th>\n",
       "      <th>name</th>\n",
       "      <th>team_long_name</th>\n",
       "    </tr>\n",
       "  </thead>\n",
       "  <tbody>\n",
       "    <tr>\n",
       "      <th>0</th>\n",
       "      <td>2008/2009</td>\n",
       "      <td>1</td>\n",
       "      <td>9987</td>\n",
       "      <td>9993</td>\n",
       "      <td>1</td>\n",
       "      <td>1</td>\n",
       "      <td>1.73</td>\n",
       "      <td>3.4</td>\n",
       "      <td>5.0</td>\n",
       "      <td>1.75</td>\n",
       "      <td>...</td>\n",
       "      <td>3.3</td>\n",
       "      <td>3.75</td>\n",
       "      <td>1.7</td>\n",
       "      <td>3.3</td>\n",
       "      <td>4.33</td>\n",
       "      <td>1.65</td>\n",
       "      <td>3.4</td>\n",
       "      <td>4.5</td>\n",
       "      <td>Belgium Jupiler League</td>\n",
       "      <td>KRC Genk</td>\n",
       "    </tr>\n",
       "  </tbody>\n",
       "</table>\n",
       "<p>1 rows × 26 columns</p>\n",
       "</div>"
      ],
      "text/plain": [
       "      season  stage  home_team_api_id  away_team_api_id  home_team_goal  \\\n",
       "0  2008/2009      1              9987              9993               1   \n",
       "\n",
       "   away_team_goal  B365H  B365D  B365A   BWH  ...  LBD   LBA  WHH  WHD   WHA  \\\n",
       "0               1   1.73    3.4    5.0  1.75  ...  3.3  3.75  1.7  3.3  4.33   \n",
       "\n",
       "    VCH  VCD  VCA                    name  team_long_name  \n",
       "0  1.65  3.4  4.5  Belgium Jupiler League        KRC Genk  \n",
       "\n",
       "[1 rows x 26 columns]"
      ]
     },
     "execution_count": 31,
     "metadata": {},
     "output_type": "execute_result"
    }
   ],
   "source": [
    "team.rename(columns={'team_api_id':'home_team_api_id'}, inplace=True)\n",
    "match = match.merge(team, how='inner', on= 'home_team_api_id' )\n",
    "match.drop(['id', 'team_fifa_api_id', 'team_fifa_api_id', 'team_short_name'], axis=1,inplace=True)\n",
    "match.head(1)"
   ]
  },
  {
   "cell_type": "code",
   "execution_count": 32,
   "id": "9c392f4a",
   "metadata": {},
   "outputs": [
    {
     "data": {
      "text/html": [
       "<div>\n",
       "<style scoped>\n",
       "    .dataframe tbody tr th:only-of-type {\n",
       "        vertical-align: middle;\n",
       "    }\n",
       "\n",
       "    .dataframe tbody tr th {\n",
       "        vertical-align: top;\n",
       "    }\n",
       "\n",
       "    .dataframe thead th {\n",
       "        text-align: right;\n",
       "    }\n",
       "</style>\n",
       "<table border=\"1\" class=\"dataframe\">\n",
       "  <thead>\n",
       "    <tr style=\"text-align: right;\">\n",
       "      <th></th>\n",
       "      <th>season</th>\n",
       "      <th>stage</th>\n",
       "      <th>home_team_api_id</th>\n",
       "      <th>away_team_api_id</th>\n",
       "      <th>home_team_goal</th>\n",
       "      <th>away_team_goal</th>\n",
       "      <th>B365H</th>\n",
       "      <th>B365D</th>\n",
       "      <th>B365A</th>\n",
       "      <th>BWH</th>\n",
       "      <th>...</th>\n",
       "      <th>LBA</th>\n",
       "      <th>WHH</th>\n",
       "      <th>WHD</th>\n",
       "      <th>WHA</th>\n",
       "      <th>VCH</th>\n",
       "      <th>VCD</th>\n",
       "      <th>VCA</th>\n",
       "      <th>name</th>\n",
       "      <th>team_long_name_x</th>\n",
       "      <th>team_long_name_y</th>\n",
       "    </tr>\n",
       "  </thead>\n",
       "  <tbody>\n",
       "    <tr>\n",
       "      <th>0</th>\n",
       "      <td>2008/2009</td>\n",
       "      <td>1</td>\n",
       "      <td>9987</td>\n",
       "      <td>9993</td>\n",
       "      <td>1</td>\n",
       "      <td>1</td>\n",
       "      <td>1.73</td>\n",
       "      <td>3.4</td>\n",
       "      <td>5.0</td>\n",
       "      <td>1.75</td>\n",
       "      <td>...</td>\n",
       "      <td>3.75</td>\n",
       "      <td>1.7</td>\n",
       "      <td>3.3</td>\n",
       "      <td>4.33</td>\n",
       "      <td>1.65</td>\n",
       "      <td>3.4</td>\n",
       "      <td>4.5</td>\n",
       "      <td>Belgium Jupiler League</td>\n",
       "      <td>KRC Genk</td>\n",
       "      <td>Beerschot AC</td>\n",
       "    </tr>\n",
       "  </tbody>\n",
       "</table>\n",
       "<p>1 rows × 27 columns</p>\n",
       "</div>"
      ],
      "text/plain": [
       "      season  stage  home_team_api_id  away_team_api_id  home_team_goal  \\\n",
       "0  2008/2009      1              9987              9993               1   \n",
       "\n",
       "   away_team_goal  B365H  B365D  B365A   BWH  ...   LBA  WHH  WHD   WHA   VCH  \\\n",
       "0               1   1.73    3.4    5.0  1.75  ...  3.75  1.7  3.3  4.33  1.65   \n",
       "\n",
       "   VCD  VCA                    name  team_long_name_x  team_long_name_y  \n",
       "0  3.4  4.5  Belgium Jupiler League          KRC Genk      Beerschot AC  \n",
       "\n",
       "[1 rows x 27 columns]"
      ]
     },
     "execution_count": 32,
     "metadata": {},
     "output_type": "execute_result"
    }
   ],
   "source": [
    "team.rename(columns={'home_team_api_id':'away_team_api_id'}, inplace=True)\n",
    "match = match.merge(team, how='inner', on= 'away_team_api_id' )\n",
    "match.drop(['id', 'team_fifa_api_id', 'team_fifa_api_id', 'team_short_name'], axis=1,inplace=True)\n",
    "match.head(1)"
   ]
  },
  {
   "cell_type": "code",
   "execution_count": 33,
   "id": "c3cebd2e",
   "metadata": {},
   "outputs": [],
   "source": [
    "match.drop([ 'home_team_api_id', 'away_team_api_id'], axis=1,inplace=True)"
   ]
  },
  {
   "cell_type": "markdown",
   "id": "380cf414",
   "metadata": {},
   "source": [
    "### It's done! Now we will just keeep one bet predict and remove all others"
   ]
  },
  {
   "cell_type": "code",
   "execution_count": 34,
   "id": "1a7fd88f",
   "metadata": {},
   "outputs": [
    {
     "data": {
      "text/plain": [
       "Index(['season', 'stage', 'home_team_goal', 'away_team_goal', 'B365H', 'B365D',\n",
       "       'B365A', 'BWH', 'BWD', 'BWA', 'IWH', 'IWD', 'IWA', 'LBH', 'LBD', 'LBA',\n",
       "       'WHH', 'WHD', 'WHA', 'VCH', 'VCD', 'VCA', 'name', 'team_long_name_x',\n",
       "       'team_long_name_y'],\n",
       "      dtype='object')"
      ]
     },
     "execution_count": 34,
     "metadata": {},
     "output_type": "execute_result"
    }
   ],
   "source": [
    "match.columns"
   ]
  },
  {
   "cell_type": "code",
   "execution_count": 35,
   "id": "2173e16b",
   "metadata": {},
   "outputs": [],
   "source": [
    "match.drop([ 'B365H', 'B365D','B365A','IWH', 'IWD', 'IWA', 'LBH','LBD', 'LBA', 'WHH', 'WHD', 'WHA', 'VCH', 'VCD', 'VCA'], axis=1,inplace=True)"
   ]
  },
  {
   "cell_type": "code",
   "execution_count": 36,
   "id": "859cb7bc",
   "metadata": {},
   "outputs": [
    {
     "data": {
      "text/html": [
       "<div>\n",
       "<style scoped>\n",
       "    .dataframe tbody tr th:only-of-type {\n",
       "        vertical-align: middle;\n",
       "    }\n",
       "\n",
       "    .dataframe tbody tr th {\n",
       "        vertical-align: top;\n",
       "    }\n",
       "\n",
       "    .dataframe thead th {\n",
       "        text-align: right;\n",
       "    }\n",
       "</style>\n",
       "<table border=\"1\" class=\"dataframe\">\n",
       "  <thead>\n",
       "    <tr style=\"text-align: right;\">\n",
       "      <th></th>\n",
       "      <th>season</th>\n",
       "      <th>stage</th>\n",
       "      <th>home_team_goal</th>\n",
       "      <th>away_team_goal</th>\n",
       "      <th>BWH</th>\n",
       "      <th>BWD</th>\n",
       "      <th>BWA</th>\n",
       "      <th>name</th>\n",
       "      <th>team_long_name_x</th>\n",
       "      <th>team_long_name_y</th>\n",
       "    </tr>\n",
       "  </thead>\n",
       "  <tbody>\n",
       "    <tr>\n",
       "      <th>0</th>\n",
       "      <td>2008/2009</td>\n",
       "      <td>1</td>\n",
       "      <td>1</td>\n",
       "      <td>1</td>\n",
       "      <td>1.75</td>\n",
       "      <td>3.35</td>\n",
       "      <td>4.2</td>\n",
       "      <td>Belgium Jupiler League</td>\n",
       "      <td>KRC Genk</td>\n",
       "      <td>Beerschot AC</td>\n",
       "    </tr>\n",
       "  </tbody>\n",
       "</table>\n",
       "</div>"
      ],
      "text/plain": [
       "      season  stage  home_team_goal  away_team_goal   BWH   BWD  BWA  \\\n",
       "0  2008/2009      1               1               1  1.75  3.35  4.2   \n",
       "\n",
       "                     name team_long_name_x team_long_name_y  \n",
       "0  Belgium Jupiler League         KRC Genk     Beerschot AC  "
      ]
     },
     "execution_count": 36,
     "metadata": {},
     "output_type": "execute_result"
    }
   ],
   "source": [
    "match.head(1)"
   ]
  },
  {
   "cell_type": "markdown",
   "id": "3de65da7",
   "metadata": {},
   "source": [
    "### Going from 115 to 10 columns"
   ]
  },
  {
   "cell_type": "code",
   "execution_count": 37,
   "id": "5034d8d1",
   "metadata": {},
   "outputs": [
    {
     "data": {
      "text/plain": [
       "Index(['season', 'stage', 'home_team_goal', 'away_team_goal', 'BWH', 'BWD',\n",
       "       'BWA', 'name', 'team_long_name_x', 'team_long_name_y'],\n",
       "      dtype='object')"
      ]
     },
     "execution_count": 37,
     "metadata": {},
     "output_type": "execute_result"
    }
   ],
   "source": [
    "match.columns"
   ]
  },
  {
   "cell_type": "code",
   "execution_count": 38,
   "id": "482a7a2e",
   "metadata": {},
   "outputs": [],
   "source": [
    "match.rename(columns = {'stage':'journey', 'home_team_goal':'HTG', 'away_team_goal':'ATG','name':'league', 'team_long_name_x':'home_team', 'team_long_name_y':'away_team'},inplace=True)"
   ]
  },
  {
   "cell_type": "code",
   "execution_count": 39,
   "id": "566a1cd5",
   "metadata": {},
   "outputs": [
    {
     "data": {
      "text/html": [
       "<div>\n",
       "<style scoped>\n",
       "    .dataframe tbody tr th:only-of-type {\n",
       "        vertical-align: middle;\n",
       "    }\n",
       "\n",
       "    .dataframe tbody tr th {\n",
       "        vertical-align: top;\n",
       "    }\n",
       "\n",
       "    .dataframe thead th {\n",
       "        text-align: right;\n",
       "    }\n",
       "</style>\n",
       "<table border=\"1\" class=\"dataframe\">\n",
       "  <thead>\n",
       "    <tr style=\"text-align: right;\">\n",
       "      <th></th>\n",
       "      <th>season</th>\n",
       "      <th>journey</th>\n",
       "      <th>HTG</th>\n",
       "      <th>ATG</th>\n",
       "      <th>BWH</th>\n",
       "      <th>BWD</th>\n",
       "      <th>BWA</th>\n",
       "      <th>league</th>\n",
       "      <th>home_team</th>\n",
       "      <th>away_team</th>\n",
       "    </tr>\n",
       "  </thead>\n",
       "  <tbody>\n",
       "    <tr>\n",
       "      <th>0</th>\n",
       "      <td>2008/2009</td>\n",
       "      <td>1</td>\n",
       "      <td>1</td>\n",
       "      <td>1</td>\n",
       "      <td>1.75</td>\n",
       "      <td>3.35</td>\n",
       "      <td>4.2</td>\n",
       "      <td>Belgium Jupiler League</td>\n",
       "      <td>KRC Genk</td>\n",
       "      <td>Beerschot AC</td>\n",
       "    </tr>\n",
       "  </tbody>\n",
       "</table>\n",
       "</div>"
      ],
      "text/plain": [
       "      season  journey  HTG  ATG   BWH   BWD  BWA                  league  \\\n",
       "0  2008/2009        1    1    1  1.75  3.35  4.2  Belgium Jupiler League   \n",
       "\n",
       "  home_team     away_team  \n",
       "0  KRC Genk  Beerschot AC  "
      ]
     },
     "execution_count": 39,
     "metadata": {},
     "output_type": "execute_result"
    }
   ],
   "source": [
    "match.head(1)"
   ]
  },
  {
   "cell_type": "code",
   "execution_count": 40,
   "id": "9ff12a32",
   "metadata": {},
   "outputs": [],
   "source": [
    "match = match.reindex(columns=['season','journey','league','home_team','away_team','HTG','ATG', 'BWH', 'BWD', 'BWA'])"
   ]
  },
  {
   "cell_type": "code",
   "execution_count": 41,
   "id": "f4bb1422",
   "metadata": {},
   "outputs": [
    {
     "data": {
      "text/html": [
       "<div>\n",
       "<style scoped>\n",
       "    .dataframe tbody tr th:only-of-type {\n",
       "        vertical-align: middle;\n",
       "    }\n",
       "\n",
       "    .dataframe tbody tr th {\n",
       "        vertical-align: top;\n",
       "    }\n",
       "\n",
       "    .dataframe thead th {\n",
       "        text-align: right;\n",
       "    }\n",
       "</style>\n",
       "<table border=\"1\" class=\"dataframe\">\n",
       "  <thead>\n",
       "    <tr style=\"text-align: right;\">\n",
       "      <th></th>\n",
       "      <th>season</th>\n",
       "      <th>journey</th>\n",
       "      <th>league</th>\n",
       "      <th>home_team</th>\n",
       "      <th>away_team</th>\n",
       "      <th>HTG</th>\n",
       "      <th>ATG</th>\n",
       "      <th>BWH</th>\n",
       "      <th>BWD</th>\n",
       "      <th>BWA</th>\n",
       "    </tr>\n",
       "  </thead>\n",
       "  <tbody>\n",
       "    <tr>\n",
       "      <th>0</th>\n",
       "      <td>2008/2009</td>\n",
       "      <td>1</td>\n",
       "      <td>Belgium Jupiler League</td>\n",
       "      <td>KRC Genk</td>\n",
       "      <td>Beerschot AC</td>\n",
       "      <td>1</td>\n",
       "      <td>1</td>\n",
       "      <td>1.75</td>\n",
       "      <td>3.35</td>\n",
       "      <td>4.20</td>\n",
       "    </tr>\n",
       "    <tr>\n",
       "      <th>1</th>\n",
       "      <td>2009/2010</td>\n",
       "      <td>5</td>\n",
       "      <td>Belgium Jupiler League</td>\n",
       "      <td>KRC Genk</td>\n",
       "      <td>Beerschot AC</td>\n",
       "      <td>1</td>\n",
       "      <td>1</td>\n",
       "      <td>1.80</td>\n",
       "      <td>3.40</td>\n",
       "      <td>3.95</td>\n",
       "    </tr>\n",
       "    <tr>\n",
       "      <th>2</th>\n",
       "      <td>2010/2011</td>\n",
       "      <td>1</td>\n",
       "      <td>Belgium Jupiler League</td>\n",
       "      <td>KRC Genk</td>\n",
       "      <td>Beerschot AC</td>\n",
       "      <td>2</td>\n",
       "      <td>1</td>\n",
       "      <td>1.91</td>\n",
       "      <td>3.30</td>\n",
       "      <td>3.70</td>\n",
       "    </tr>\n",
       "    <tr>\n",
       "      <th>3</th>\n",
       "      <td>2011/2012</td>\n",
       "      <td>1</td>\n",
       "      <td>Belgium Jupiler League</td>\n",
       "      <td>KRC Genk</td>\n",
       "      <td>Beerschot AC</td>\n",
       "      <td>3</td>\n",
       "      <td>1</td>\n",
       "      <td>1.45</td>\n",
       "      <td>3.95</td>\n",
       "      <td>6.25</td>\n",
       "    </tr>\n",
       "    <tr>\n",
       "      <th>4</th>\n",
       "      <td>2012/2013</td>\n",
       "      <td>11</td>\n",
       "      <td>Belgium Jupiler League</td>\n",
       "      <td>KRC Genk</td>\n",
       "      <td>Beerschot AC</td>\n",
       "      <td>3</td>\n",
       "      <td>0</td>\n",
       "      <td>1.50</td>\n",
       "      <td>4.00</td>\n",
       "      <td>5.50</td>\n",
       "    </tr>\n",
       "  </tbody>\n",
       "</table>\n",
       "</div>"
      ],
      "text/plain": [
       "      season  journey                  league home_team     away_team  HTG  \\\n",
       "0  2008/2009        1  Belgium Jupiler League  KRC Genk  Beerschot AC    1   \n",
       "1  2009/2010        5  Belgium Jupiler League  KRC Genk  Beerschot AC    1   \n",
       "2  2010/2011        1  Belgium Jupiler League  KRC Genk  Beerschot AC    2   \n",
       "3  2011/2012        1  Belgium Jupiler League  KRC Genk  Beerschot AC    3   \n",
       "4  2012/2013       11  Belgium Jupiler League  KRC Genk  Beerschot AC    3   \n",
       "\n",
       "   ATG   BWH   BWD   BWA  \n",
       "0    1  1.75  3.35  4.20  \n",
       "1    1  1.80  3.40  3.95  \n",
       "2    1  1.91  3.30  3.70  \n",
       "3    1  1.45  3.95  6.25  \n",
       "4    0  1.50  4.00  5.50  "
      ]
     },
     "execution_count": 41,
     "metadata": {},
     "output_type": "execute_result"
    }
   ],
   "source": [
    "match.head(5)"
   ]
  },
  {
   "cell_type": "markdown",
   "id": "0a7a100c",
   "metadata": {},
   "source": [
    "### Now that our dataset is ready. We can answer to questions"
   ]
  },
  {
   "cell_type": "markdown",
   "id": "53356643",
   "metadata": {},
   "source": [
    "### `How many games do you play in a season?`"
   ]
  },
  {
   "cell_type": "code",
   "execution_count": 42,
   "id": "fe217e97",
   "metadata": {},
   "outputs": [
    {
     "data": {
      "text/plain": [
       "array(['2008/2009', '2009/2010', '2010/2011', '2011/2012', '2012/2013',\n",
       "       '2014/2015', '2015/2016', '2013/2014'], dtype=object)"
      ]
     },
     "execution_count": 42,
     "metadata": {},
     "output_type": "execute_result"
    }
   ],
   "source": [
    "match.season.unique()"
   ]
  },
  {
   "cell_type": "code",
   "execution_count": 43,
   "id": "4aa9ad99",
   "metadata": {},
   "outputs": [
    {
     "data": {
      "text/plain": [
       "<matplotlib.lines.Line2D at 0x2426359b8e0>"
      ]
     },
     "execution_count": 43,
     "metadata": {},
     "output_type": "execute_result"
    },
    {
     "data": {
      "image/png": "[encoded data removed]",
      "text/plain": [
       "<Figure size 432x288 with 1 Axes>"
      ]
     },
     "metadata": {
      "needs_background": "light"
     },
     "output_type": "display_data"
    }
   ],
   "source": [
    "plt.figure()\n",
    "match.season.value_counts(sort=False).plot(kind='bar')\n",
    "plt.title('Number of match per season')\n",
    "plt.axhline(y=3000, color='r', linestyle='-')"
   ]
  },
  {
   "cell_type": "markdown",
   "id": "3ed381cd",
   "metadata": {},
   "source": [
    "### It is noted that each season, at least 3000 matches have been played since 2008. Our red line on 3000 is touch by each bar"
   ]
  },
  {
   "cell_type": "markdown",
   "id": "26564950",
   "metadata": {},
   "source": [
    "### `Which league plays the most matches and which plays the least?`"
   ]
  },
  {
   "cell_type": "code",
   "execution_count": 44,
   "id": "081092a6",
   "metadata": {},
   "outputs": [
    {
     "data": {
      "text/plain": [
       "Text(0.5, 1.0, 'Number of match per season')"
      ]
     },
     "execution_count": 44,
     "metadata": {},
     "output_type": "execute_result"
    },
    {
     "data": {
      "image/png": "[encoded data removed]",
      "text/plain": [
       "<Figure size 432x288 with 1 Axes>"
      ]
     },
     "metadata": {
      "needs_background": "light"
     },
     "output_type": "display_data"
    }
   ],
   "source": [
    "plt.figure()\n",
    "match.league.value_counts(sort=True).plot(kind='bar')\n",
    "plt.title('Number of match per season')"
   ]
  },
  {
   "cell_type": "markdown",
   "id": "c15e725a",
   "metadata": {},
   "source": [
    "### The championship where we play the most is the English championship and the one where we play the least is the Swiss championship"
   ]
  },
  {
   "cell_type": "markdown",
   "id": "71f53cc5",
   "metadata": {},
   "source": [
    "### `Of the home and away teams, who scores the most on average?`"
   ]
  },
  {
   "cell_type": "code",
   "execution_count": 45,
   "id": "abac9e85",
   "metadata": {},
   "outputs": [
    {
     "data": {
      "text/plain": [
       "count    25979.000000\n",
       "mean         1.544594\n",
       "std          1.297158\n",
       "min          0.000000\n",
       "25%          1.000000\n",
       "50%          1.000000\n",
       "75%          2.000000\n",
       "max         10.000000\n",
       "Name: HTG, dtype: float64"
      ]
     },
     "execution_count": 45,
     "metadata": {},
     "output_type": "execute_result"
    }
   ],
   "source": [
    "match.HTG.describe()"
   ]
  },
  {
   "cell_type": "code",
   "execution_count": 46,
   "id": "5b5cb198",
   "metadata": {},
   "outputs": [
    {
     "data": {
      "text/plain": [
       "count    25979.000000\n",
       "mean         1.160938\n",
       "std          1.142110\n",
       "min          0.000000\n",
       "25%          0.000000\n",
       "50%          1.000000\n",
       "75%          2.000000\n",
       "max          9.000000\n",
       "Name: ATG, dtype: float64"
      ]
     },
     "execution_count": 46,
     "metadata": {},
     "output_type": "execute_result"
    }
   ],
   "source": [
    "match.ATG.describe()"
   ]
  },
  {
   "cell_type": "markdown",
   "id": "46ab6d9b",
   "metadata": {},
   "source": [
    "### Home teams tend to score more goals than away teams. They mean is 1.54 and for away team 1.16"
   ]
  },
  {
   "cell_type": "markdown",
   "id": "cfbe12ae",
   "metadata": {},
   "source": [
    "### `In what direction do the predictions of bookmakers in general go?`"
   ]
  },
  {
   "cell_type": "code",
   "execution_count": 47,
   "id": "c87670ae",
   "metadata": {},
   "outputs": [
    {
     "data": {
      "text/html": [
       "<div>\n",
       "<style scoped>\n",
       "    .dataframe tbody tr th:only-of-type {\n",
       "        vertical-align: middle;\n",
       "    }\n",
       "\n",
       "    .dataframe tbody tr th {\n",
       "        vertical-align: top;\n",
       "    }\n",
       "\n",
       "    .dataframe thead th {\n",
       "        text-align: right;\n",
       "    }\n",
       "</style>\n",
       "<table border=\"1\" class=\"dataframe\">\n",
       "  <thead>\n",
       "    <tr style=\"text-align: right;\">\n",
       "      <th></th>\n",
       "      <th>value</th>\n",
       "    </tr>\n",
       "  </thead>\n",
       "  <tbody>\n",
       "    <tr>\n",
       "      <th>Home Team Win</th>\n",
       "      <td>2.559245</td>\n",
       "    </tr>\n",
       "    <tr>\n",
       "      <th>Away Team Win</th>\n",
       "      <td>4.396949</td>\n",
       "    </tr>\n",
       "    <tr>\n",
       "      <th>Draw</th>\n",
       "      <td>3.747597</td>\n",
       "    </tr>\n",
       "  </tbody>\n",
       "</table>\n",
       "</div>"
      ],
      "text/plain": [
       "                  value\n",
       "Home Team Win  2.559245\n",
       "Away Team Win  4.396949\n",
       "Draw           3.747597"
      ]
     },
     "execution_count": 47,
     "metadata": {},
     "output_type": "execute_result"
    }
   ],
   "source": [
    "BET = pd.DataFrame([match.BWH.mean(),match.BWA.mean(),match.BWD.mean()], columns=['value'], index= ['Home Team Win','Away Team Win','Draw'])\n",
    "BET.head()"
   ]
  },
  {
   "cell_type": "markdown",
   "id": "d0b2c3b3",
   "metadata": {},
   "source": [
    "### Among bookmakers the tendency is much more to designate the winning home team or to predict a draw. The mean of value of winning team win bet is the smaller in our tab. In betting, smaller value have de best probability to outcome."
   ]
  },
  {
   "cell_type": "markdown",
   "id": "ac66c561",
   "metadata": {},
   "source": [
    "### `Which teams have played every game since recording started in england?`"
   ]
  },
  {
   "cell_type": "code",
   "execution_count": 48,
   "id": "6a0747f9",
   "metadata": {},
   "outputs": [
    {
     "data": {
      "text/html": [
       "<div>\n",
       "<style scoped>\n",
       "    .dataframe tbody tr th:only-of-type {\n",
       "        vertical-align: middle;\n",
       "    }\n",
       "\n",
       "    .dataframe tbody tr th {\n",
       "        vertical-align: top;\n",
       "    }\n",
       "\n",
       "    .dataframe thead th {\n",
       "        text-align: right;\n",
       "    }\n",
       "</style>\n",
       "<table border=\"1\" class=\"dataframe\">\n",
       "  <thead>\n",
       "    <tr style=\"text-align: right;\">\n",
       "      <th></th>\n",
       "      <th>season</th>\n",
       "      <th>journey</th>\n",
       "      <th>league</th>\n",
       "      <th>home_team</th>\n",
       "      <th>away_team</th>\n",
       "      <th>HTG</th>\n",
       "      <th>ATG</th>\n",
       "      <th>BWH</th>\n",
       "      <th>BWD</th>\n",
       "      <th>BWA</th>\n",
       "    </tr>\n",
       "  </thead>\n",
       "  <tbody>\n",
       "    <tr>\n",
       "      <th>1728</th>\n",
       "      <td>2008/2009</td>\n",
       "      <td>1</td>\n",
       "      <td>England Premier League</td>\n",
       "      <td>Manchester United</td>\n",
       "      <td>Newcastle United</td>\n",
       "      <td>1</td>\n",
       "      <td>1</td>\n",
       "      <td>1.30</td>\n",
       "      <td>4.75</td>\n",
       "      <td>8.25</td>\n",
       "    </tr>\n",
       "    <tr>\n",
       "      <th>1729</th>\n",
       "      <td>2010/2011</td>\n",
       "      <td>1</td>\n",
       "      <td>England Premier League</td>\n",
       "      <td>Manchester United</td>\n",
       "      <td>Newcastle United</td>\n",
       "      <td>3</td>\n",
       "      <td>0</td>\n",
       "      <td>1.22</td>\n",
       "      <td>5.50</td>\n",
       "      <td>12.50</td>\n",
       "    </tr>\n",
       "    <tr>\n",
       "      <th>1730</th>\n",
       "      <td>2011/2012</td>\n",
       "      <td>13</td>\n",
       "      <td>England Premier League</td>\n",
       "      <td>Manchester United</td>\n",
       "      <td>Newcastle United</td>\n",
       "      <td>1</td>\n",
       "      <td>1</td>\n",
       "      <td>1.37</td>\n",
       "      <td>4.60</td>\n",
       "      <td>8.25</td>\n",
       "    </tr>\n",
       "  </tbody>\n",
       "</table>\n",
       "</div>"
      ],
      "text/plain": [
       "         season  journey                  league          home_team  \\\n",
       "1728  2008/2009        1  England Premier League  Manchester United   \n",
       "1729  2010/2011        1  England Premier League  Manchester United   \n",
       "1730  2011/2012       13  England Premier League  Manchester United   \n",
       "\n",
       "             away_team  HTG  ATG   BWH   BWD    BWA  \n",
       "1728  Newcastle United    1    1  1.30  4.75   8.25  \n",
       "1729  Newcastle United    3    0  1.22  5.50  12.50  \n",
       "1730  Newcastle United    1    1  1.37  4.60   8.25  "
      ]
     },
     "execution_count": 48,
     "metadata": {},
     "output_type": "execute_result"
    }
   ],
   "source": [
    "england_league = match.query('league==\"England Premier League\"')\n",
    "england_league.head(3)"
   ]
  },
  {
   "cell_type": "code",
   "execution_count": 49,
   "id": "9fc589d1",
   "metadata": {},
   "outputs": [],
   "source": [
    "england_league_team = england_league.home_team.append(england_league.away_team)"
   ]
  },
  {
   "cell_type": "code",
   "execution_count": 50,
   "id": "7f65e45a",
   "metadata": {},
   "outputs": [
    {
     "name": "stdout",
     "output_type": "stream",
     "text": [
      "304\n"
     ]
    }
   ],
   "source": [
    "max = len(england_league.season.unique())*38\n",
    "print(max)"
   ]
  },
  {
   "cell_type": "code",
   "execution_count": 51,
   "id": "eae25106",
   "metadata": {},
   "outputs": [
    {
     "data": {
      "text/plain": [
       "Manchester United       304\n",
       "Liverpool               304\n",
       "Sunderland              304\n",
       "Arsenal                 304\n",
       "Aston Villa             304\n",
       "Everton                 304\n",
       "Manchester City         304\n",
       "Tottenham Hotspur       304\n",
       "Chelsea                 304\n",
       "Stoke City              304\n",
       "West Bromwich Albion    266\n",
       "dtype: int64"
      ]
     },
     "execution_count": 51,
     "metadata": {},
     "output_type": "execute_result"
    }
   ],
   "source": [
    "england_league_team.value_counts().head(11)"
   ]
  },
  {
   "cell_type": "markdown",
   "id": "0781e009",
   "metadata": {},
   "source": [
    "###  The teams having played all the matches since the beginning of the recording are : Manchester United, Liverpool, Sunderland, Arsenal, Aston Villa, Everton, Manchester City, Tottenham Hotspur, Chelsea, Stoke City. For 304 possible matches."
   ]
  },
  {
   "cell_type": "markdown",
   "id": "389b780d",
   "metadata": {},
   "source": [
    "### `Which team has scored the most goals?`"
   ]
  },
  {
   "cell_type": "code",
   "execution_count": 52,
   "id": "9bd9c17e",
   "metadata": {},
   "outputs": [
    {
     "data": {
      "text/plain": [
       "582"
      ]
     },
     "execution_count": 52,
     "metadata": {},
     "output_type": "execute_result"
    }
   ],
   "source": [
    "match.query('home_team== \"Manchester United\"').HTG.sum()+match.query('away_team== \"Manchester United\"').ATG.sum()"
   ]
  },
  {
   "cell_type": "code",
   "execution_count": 53,
   "id": "7ebe6154",
   "metadata": {},
   "outputs": [
    {
     "data": {
      "text/plain": [
       "531"
      ]
     },
     "execution_count": 53,
     "metadata": {},
     "output_type": "execute_result"
    }
   ],
   "source": [
    "match.query('home_team== \"Liverpool\"').HTG.sum()+match.query('away_team== \"Liverpool\"').ATG.sum()"
   ]
  },
  {
   "cell_type": "code",
   "execution_count": 54,
   "id": "04ade8d2",
   "metadata": {},
   "outputs": [
    {
     "data": {
      "text/plain": [
       "573"
      ]
     },
     "execution_count": 54,
     "metadata": {},
     "output_type": "execute_result"
    }
   ],
   "source": [
    "match.query('home_team== \"Arsenal\"').HTG.sum()+match.query('away_team== \"Arsenal\"').ATG.sum()"
   ]
  },
  {
   "cell_type": "code",
   "execution_count": 55,
   "id": "3b49e5ab",
   "metadata": {},
   "outputs": [
    {
     "data": {
      "text/plain": [
       "606"
      ]
     },
     "execution_count": 55,
     "metadata": {},
     "output_type": "execute_result"
    }
   ],
   "source": [
    "match.query('home_team== \"Manchester City\"').HTG.sum()+match.query('away_team== \"Manchester City\"').ATG.sum()"
   ]
  },
  {
   "cell_type": "code",
   "execution_count": 56,
   "id": "f8f12012",
   "metadata": {},
   "outputs": [
    {
     "data": {
      "text/plain": [
       "583"
      ]
     },
     "execution_count": 56,
     "metadata": {},
     "output_type": "execute_result"
    }
   ],
   "source": [
    "match.query('home_team== \"Chelsea\"').HTG.sum()+match.query('away_team== \"Chelsea\"').ATG.sum()"
   ]
  },
  {
   "cell_type": "markdown",
   "id": "cf27dba2",
   "metadata": {},
   "source": [
    "### **Manchester City is the team that has scored the most goals over the period. The sum off they home and away goals is more than the oders**"
   ]
  },
  {
   "cell_type": "markdown",
   "id": "1480a4b6",
   "metadata": {},
   "source": [
    "<a href=\"#toc\" role=\"button\" aria-pressed=\"true\" >⬆️Back to Table of Contents ⬆️</a>"
   ]
  },
  {
   "cell_type": "markdown",
   "id": "b7dc1b19",
   "metadata": {},
   "source": [
    "<a id=\"4\"></a>\n",
    "# **<center><span style=\"color:#fd7b12;\"> EDA Player Dataset </span></center>**"
   ]
  },
  {
   "cell_type": "markdown",
   "id": "07ac3b50",
   "metadata": {},
   "source": [
    "<div class=\"alert alert-block alert-info\" style=\"font-size:14px; font-family:verdana; line-height: 1.7em;\">\n",
    "    📌 &nbsp;<b><u>Observations in Dataset:</u></b><br>\n",
    "\n",
    "* <i> There are total of <b><u>7 columns </u></b>and <b><u>11060  rows </u></b>in the dataset.</i><br>\n",
    "* <i> Dataset contains <b><u>77420 observations</u></b> with <b><u>0 missing values</u></b>.</i><br>"
   ]
  },
  {
   "cell_type": "code",
   "execution_count": 57,
   "id": "b8ddeb78",
   "metadata": {},
   "outputs": [
    {
     "data": {
      "text/html": [
       "<div>\n",
       "<style scoped>\n",
       "    .dataframe tbody tr th:only-of-type {\n",
       "        vertical-align: middle;\n",
       "    }\n",
       "\n",
       "    .dataframe tbody tr th {\n",
       "        vertical-align: top;\n",
       "    }\n",
       "\n",
       "    .dataframe thead th {\n",
       "        text-align: right;\n",
       "    }\n",
       "</style>\n",
       "<table border=\"1\" class=\"dataframe\">\n",
       "  <thead>\n",
       "    <tr style=\"text-align: right;\">\n",
       "      <th></th>\n",
       "      <th>id</th>\n",
       "      <th>player_api_id</th>\n",
       "      <th>player_name</th>\n",
       "      <th>player_fifa_api_id</th>\n",
       "      <th>birthday</th>\n",
       "      <th>height</th>\n",
       "      <th>weight</th>\n",
       "    </tr>\n",
       "  </thead>\n",
       "  <tbody>\n",
       "    <tr>\n",
       "      <th>0</th>\n",
       "      <td>1</td>\n",
       "      <td>505942</td>\n",
       "      <td>Aaron Appindangoye</td>\n",
       "      <td>218353</td>\n",
       "      <td>1992-02-29 00:00:00</td>\n",
       "      <td>182.88</td>\n",
       "      <td>187</td>\n",
       "    </tr>\n",
       "    <tr>\n",
       "      <th>1</th>\n",
       "      <td>2</td>\n",
       "      <td>155782</td>\n",
       "      <td>Aaron Cresswell</td>\n",
       "      <td>189615</td>\n",
       "      <td>1989-12-15 00:00:00</td>\n",
       "      <td>170.18</td>\n",
       "      <td>146</td>\n",
       "    </tr>\n",
       "    <tr>\n",
       "      <th>2</th>\n",
       "      <td>3</td>\n",
       "      <td>162549</td>\n",
       "      <td>Aaron Doran</td>\n",
       "      <td>186170</td>\n",
       "      <td>1991-05-13 00:00:00</td>\n",
       "      <td>170.18</td>\n",
       "      <td>163</td>\n",
       "    </tr>\n",
       "    <tr>\n",
       "      <th>3</th>\n",
       "      <td>4</td>\n",
       "      <td>30572</td>\n",
       "      <td>Aaron Galindo</td>\n",
       "      <td>140161</td>\n",
       "      <td>1982-05-08 00:00:00</td>\n",
       "      <td>182.88</td>\n",
       "      <td>198</td>\n",
       "    </tr>\n",
       "    <tr>\n",
       "      <th>4</th>\n",
       "      <td>5</td>\n",
       "      <td>23780</td>\n",
       "      <td>Aaron Hughes</td>\n",
       "      <td>17725</td>\n",
       "      <td>1979-11-08 00:00:00</td>\n",
       "      <td>182.88</td>\n",
       "      <td>154</td>\n",
       "    </tr>\n",
       "  </tbody>\n",
       "</table>\n",
       "</div>"
      ],
      "text/plain": [
       "   id  player_api_id         player_name  player_fifa_api_id  \\\n",
       "0   1         505942  Aaron Appindangoye              218353   \n",
       "1   2         155782     Aaron Cresswell              189615   \n",
       "2   3         162549         Aaron Doran              186170   \n",
       "3   4          30572       Aaron Galindo              140161   \n",
       "4   5          23780        Aaron Hughes               17725   \n",
       "\n",
       "              birthday  height  weight  \n",
       "0  1992-02-29 00:00:00  182.88     187  \n",
       "1  1989-12-15 00:00:00  170.18     146  \n",
       "2  1991-05-13 00:00:00  170.18     163  \n",
       "3  1982-05-08 00:00:00  182.88     198  \n",
       "4  1979-11-08 00:00:00  182.88     154  "
      ]
     },
     "execution_count": 57,
     "metadata": {},
     "output_type": "execute_result"
    }
   ],
   "source": [
    "player.head()"
   ]
  },
  {
   "cell_type": "code",
   "execution_count": 58,
   "id": "a6c82db4",
   "metadata": {},
   "outputs": [
    {
     "name": "stdout",
     "output_type": "stream",
     "text": [
      "\u001b[94mNumber of rows in the dataset: 11060\n",
      "\u001b[94mNumber of columns in the dataseta: 7\n",
      "\u001b[94mNumber of values in the dataset: 77420\n",
      "\u001b[94mNumber missing values in the dataset: 0\n"
     ]
    }
   ],
   "source": [
    "dataset_info(player)"
   ]
  },
  {
   "cell_type": "markdown",
   "id": "797537c7",
   "metadata": {},
   "source": [
    "### `What are the physical characteristics recommended to be a footballer?`"
   ]
  },
  {
   "cell_type": "markdown",
   "id": "cb8a9ca4",
   "metadata": {},
   "source": [
    "### Here, we will observe the distribution of physical caracteristics of the player and determine the best range that specify the common characteristics"
   ]
  },
  {
   "cell_type": "code",
   "execution_count": 59,
   "id": "2487e55d",
   "metadata": {},
   "outputs": [
    {
     "data": {
      "text/plain": [
       "count    11060.000000\n",
       "mean       181.867445\n",
       "std          6.369201\n",
       "min        157.480000\n",
       "25%        177.800000\n",
       "50%        182.880000\n",
       "75%        185.420000\n",
       "max        208.280000\n",
       "Name: height, dtype: float64"
      ]
     },
     "execution_count": 59,
     "metadata": {},
     "output_type": "execute_result"
    }
   ],
   "source": [
    "player.height.describe()"
   ]
  },
  {
   "cell_type": "code",
   "execution_count": 60,
   "id": "e0f1faad",
   "metadata": {},
   "outputs": [
    {
     "data": {
      "text/plain": [
       "Text(0.5, 1.0, 'Player Height Distribution')"
      ]
     },
     "execution_count": 60,
     "metadata": {},
     "output_type": "execute_result"
    },
    {
     "data": {
      "image/png": "[encoded data removed]",
      "text/plain": [
       "<Figure size 432x288 with 1 Axes>"
      ]
     },
     "metadata": {
      "needs_background": "light"
     },
     "output_type": "display_data"
    }
   ],
   "source": [
    "plt.figure()\n",
    "player.height.plot(kind='hist')\n",
    "plt.title('Player Height Distribution')"
   ]
  },
  {
   "cell_type": "markdown",
   "id": "4ede5477",
   "metadata": {},
   "source": [
    "### **The distribution is skewed to the left with most values falling between 177 and 185. It is recommended that a player have a height located within this set.**"
   ]
  },
  {
   "cell_type": "code",
   "execution_count": 61,
   "id": "073ecf0c",
   "metadata": {},
   "outputs": [
    {
     "data": {
      "text/plain": [
       "count    11060.000000\n",
       "mean       168.380289\n",
       "std         14.990217\n",
       "min        117.000000\n",
       "25%        159.000000\n",
       "50%        168.000000\n",
       "75%        179.000000\n",
       "max        243.000000\n",
       "Name: weight, dtype: float64"
      ]
     },
     "execution_count": 61,
     "metadata": {},
     "output_type": "execute_result"
    }
   ],
   "source": [
    "player.weight.describe()"
   ]
  },
  {
   "cell_type": "code",
   "execution_count": 62,
   "id": "686e463b",
   "metadata": {},
   "outputs": [
    {
     "data": {
      "text/plain": [
       "Text(0.5, 1.0, 'Player Weight Distribution')"
      ]
     },
     "execution_count": 62,
     "metadata": {},
     "output_type": "execute_result"
    },
    {
     "data": {
      "image/png": "[encoded data removed]",
      "text/plain": [
       "<Figure size 432x288 with 1 Axes>"
      ]
     },
     "metadata": {
      "needs_background": "light"
     },
     "output_type": "display_data"
    }
   ],
   "source": [
    "player.weight.plot(kind='hist')\n",
    "plt.title('Player Weight Distribution')"
   ]
  },
  {
   "cell_type": "markdown",
   "id": "68078c12",
   "metadata": {},
   "source": [
    "### The distribution is skewed to the right with most values falling between 159 and 179. It is recommended that a player have a weight located within this set."
   ]
  },
  {
   "cell_type": "markdown",
   "id": "c58d82ad",
   "metadata": {},
   "source": [
    "### So,The physical characteristics recommended to be a footballer are :\n",
    "### Height : [177 - 185] and Weight : [159 - 179]"
   ]
  },
  {
   "cell_type": "markdown",
   "id": "1480a4b6",
   "metadata": {},
   "source": [
    "<a href=\"#toc\" role=\"button\" aria-pressed=\"true\" >⬆️Back to Table of Contents ⬆️</a>"
   ]
  },
  {
   "cell_type": "markdown",
   "id": "b7dc1b19",
   "metadata": {},
   "source": [
    "<a id=\"4\"></a>\n",
    "# **<center><span style=\"color:#fd7b12;\"> EDA Player Attributes Dataset </span></center>**"
   ]
  },
  {
   "cell_type": "markdown",
   "id": "07ac3b50",
   "metadata": {},
   "source": [
    "<div class=\"alert alert-block alert-info\" style=\"font-size:14px; font-family:verdana; line-height: 1.7em;\">\n",
    "    📌 &nbsp;<b><u>Observations in Dataset:</u></b><br>\n",
    "\n",
    "* <i> There are total of <b><u>42 columns </u></b>and <b><u>183978  rows </u></b>in the dataset.</i><br>\n",
    "* <i> Dataset contains <b><u>7679775 observations</u></b> with <b><u>47301 missing values</u></b>.</i><br>"
   ]
  },
  {
   "cell_type": "code",
   "execution_count": 63,
   "id": "f56f6641",
   "metadata": {},
   "outputs": [
    {
     "data": {
      "text/html": [
       "<div>\n",
       "<style scoped>\n",
       "    .dataframe tbody tr th:only-of-type {\n",
       "        vertical-align: middle;\n",
       "    }\n",
       "\n",
       "    .dataframe tbody tr th {\n",
       "        vertical-align: top;\n",
       "    }\n",
       "\n",
       "    .dataframe thead th {\n",
       "        text-align: right;\n",
       "    }\n",
       "</style>\n",
       "<table border=\"1\" class=\"dataframe\">\n",
       "  <thead>\n",
       "    <tr style=\"text-align: right;\">\n",
       "      <th></th>\n",
       "      <th>id</th>\n",
       "      <th>player_fifa_api_id</th>\n",
       "      <th>player_api_id</th>\n",
       "      <th>date</th>\n",
       "      <th>overall_rating</th>\n",
       "      <th>potential</th>\n",
       "      <th>preferred_foot</th>\n",
       "      <th>attacking_work_rate</th>\n",
       "      <th>defensive_work_rate</th>\n",
       "      <th>crossing</th>\n",
       "      <th>...</th>\n",
       "      <th>vision</th>\n",
       "      <th>penalties</th>\n",
       "      <th>marking</th>\n",
       "      <th>standing_tackle</th>\n",
       "      <th>sliding_tackle</th>\n",
       "      <th>gk_diving</th>\n",
       "      <th>gk_handling</th>\n",
       "      <th>gk_kicking</th>\n",
       "      <th>gk_positioning</th>\n",
       "      <th>gk_reflexes</th>\n",
       "    </tr>\n",
       "  </thead>\n",
       "  <tbody>\n",
       "    <tr>\n",
       "      <th>0</th>\n",
       "      <td>1</td>\n",
       "      <td>218353</td>\n",
       "      <td>505942</td>\n",
       "      <td>2016-02-18 00:00:00</td>\n",
       "      <td>67.0</td>\n",
       "      <td>71.0</td>\n",
       "      <td>right</td>\n",
       "      <td>medium</td>\n",
       "      <td>medium</td>\n",
       "      <td>49.0</td>\n",
       "      <td>...</td>\n",
       "      <td>54.0</td>\n",
       "      <td>48.0</td>\n",
       "      <td>65.0</td>\n",
       "      <td>69.0</td>\n",
       "      <td>69.0</td>\n",
       "      <td>6.0</td>\n",
       "      <td>11.0</td>\n",
       "      <td>10.0</td>\n",
       "      <td>8.0</td>\n",
       "      <td>8.0</td>\n",
       "    </tr>\n",
       "    <tr>\n",
       "      <th>1</th>\n",
       "      <td>2</td>\n",
       "      <td>218353</td>\n",
       "      <td>505942</td>\n",
       "      <td>2015-11-19 00:00:00</td>\n",
       "      <td>67.0</td>\n",
       "      <td>71.0</td>\n",
       "      <td>right</td>\n",
       "      <td>medium</td>\n",
       "      <td>medium</td>\n",
       "      <td>49.0</td>\n",
       "      <td>...</td>\n",
       "      <td>54.0</td>\n",
       "      <td>48.0</td>\n",
       "      <td>65.0</td>\n",
       "      <td>69.0</td>\n",
       "      <td>69.0</td>\n",
       "      <td>6.0</td>\n",
       "      <td>11.0</td>\n",
       "      <td>10.0</td>\n",
       "      <td>8.0</td>\n",
       "      <td>8.0</td>\n",
       "    </tr>\n",
       "    <tr>\n",
       "      <th>2</th>\n",
       "      <td>3</td>\n",
       "      <td>218353</td>\n",
       "      <td>505942</td>\n",
       "      <td>2015-09-21 00:00:00</td>\n",
       "      <td>62.0</td>\n",
       "      <td>66.0</td>\n",
       "      <td>right</td>\n",
       "      <td>medium</td>\n",
       "      <td>medium</td>\n",
       "      <td>49.0</td>\n",
       "      <td>...</td>\n",
       "      <td>54.0</td>\n",
       "      <td>48.0</td>\n",
       "      <td>65.0</td>\n",
       "      <td>66.0</td>\n",
       "      <td>69.0</td>\n",
       "      <td>6.0</td>\n",
       "      <td>11.0</td>\n",
       "      <td>10.0</td>\n",
       "      <td>8.0</td>\n",
       "      <td>8.0</td>\n",
       "    </tr>\n",
       "  </tbody>\n",
       "</table>\n",
       "<p>3 rows × 42 columns</p>\n",
       "</div>"
      ],
      "text/plain": [
       "   id  player_fifa_api_id  player_api_id                 date  overall_rating  \\\n",
       "0   1              218353         505942  2016-02-18 00:00:00            67.0   \n",
       "1   2              218353         505942  2015-11-19 00:00:00            67.0   \n",
       "2   3              218353         505942  2015-09-21 00:00:00            62.0   \n",
       "\n",
       "   potential preferred_foot attacking_work_rate defensive_work_rate  crossing  \\\n",
       "0       71.0          right              medium              medium      49.0   \n",
       "1       71.0          right              medium              medium      49.0   \n",
       "2       66.0          right              medium              medium      49.0   \n",
       "\n",
       "   ...  vision  penalties  marking  standing_tackle  sliding_tackle  \\\n",
       "0  ...    54.0       48.0     65.0             69.0            69.0   \n",
       "1  ...    54.0       48.0     65.0             69.0            69.0   \n",
       "2  ...    54.0       48.0     65.0             66.0            69.0   \n",
       "\n",
       "   gk_diving  gk_handling  gk_kicking  gk_positioning  gk_reflexes  \n",
       "0        6.0         11.0        10.0             8.0          8.0  \n",
       "1        6.0         11.0        10.0             8.0          8.0  \n",
       "2        6.0         11.0        10.0             8.0          8.0  \n",
       "\n",
       "[3 rows x 42 columns]"
      ]
     },
     "execution_count": 63,
     "metadata": {},
     "output_type": "execute_result"
    }
   ],
   "source": [
    "player_attributes.head(3)"
   ]
  },
  {
   "cell_type": "code",
   "execution_count": 64,
   "id": "f2b420de",
   "metadata": {},
   "outputs": [
    {
     "name": "stdout",
     "output_type": "stream",
     "text": [
      "\u001b[94mNumber of rows in the dataset: 183978\n",
      "\u001b[94mNumber of columns in the dataseta: 42\n",
      "\u001b[94mNumber of values in the dataset: 7679775\n",
      "\u001b[94mNumber missing values in the dataset: 47301\n"
     ]
    }
   ],
   "source": [
    "dataset_info(player_attributes)"
   ]
  },
  {
   "cell_type": "markdown",
   "id": "cb8a9ca4",
   "metadata": {},
   "source": [
    "### To have players name we have to merge Player Dataset with Player Attributes"
   ]
  },
  {
   "cell_type": "code",
   "execution_count": 65,
   "id": "e32074d0",
   "metadata": {},
   "outputs": [
    {
     "data": {
      "text/html": [
       "<div>\n",
       "<style scoped>\n",
       "    .dataframe tbody tr th:only-of-type {\n",
       "        vertical-align: middle;\n",
       "    }\n",
       "\n",
       "    .dataframe tbody tr th {\n",
       "        vertical-align: top;\n",
       "    }\n",
       "\n",
       "    .dataframe thead th {\n",
       "        text-align: right;\n",
       "    }\n",
       "</style>\n",
       "<table border=\"1\" class=\"dataframe\">\n",
       "  <thead>\n",
       "    <tr style=\"text-align: right;\">\n",
       "      <th></th>\n",
       "      <th>id</th>\n",
       "      <th>player_api_id</th>\n",
       "      <th>player_name</th>\n",
       "      <th>player_fifa_api_id</th>\n",
       "      <th>birthday</th>\n",
       "      <th>height</th>\n",
       "      <th>weight</th>\n",
       "    </tr>\n",
       "  </thead>\n",
       "  <tbody>\n",
       "    <tr>\n",
       "      <th>0</th>\n",
       "      <td>1</td>\n",
       "      <td>505942</td>\n",
       "      <td>Aaron Appindangoye</td>\n",
       "      <td>218353</td>\n",
       "      <td>1992-02-29 00:00:00</td>\n",
       "      <td>182.88</td>\n",
       "      <td>187</td>\n",
       "    </tr>\n",
       "    <tr>\n",
       "      <th>1</th>\n",
       "      <td>2</td>\n",
       "      <td>155782</td>\n",
       "      <td>Aaron Cresswell</td>\n",
       "      <td>189615</td>\n",
       "      <td>1989-12-15 00:00:00</td>\n",
       "      <td>170.18</td>\n",
       "      <td>146</td>\n",
       "    </tr>\n",
       "    <tr>\n",
       "      <th>2</th>\n",
       "      <td>3</td>\n",
       "      <td>162549</td>\n",
       "      <td>Aaron Doran</td>\n",
       "      <td>186170</td>\n",
       "      <td>1991-05-13 00:00:00</td>\n",
       "      <td>170.18</td>\n",
       "      <td>163</td>\n",
       "    </tr>\n",
       "  </tbody>\n",
       "</table>\n",
       "</div>"
      ],
      "text/plain": [
       "   id  player_api_id         player_name  player_fifa_api_id  \\\n",
       "0   1         505942  Aaron Appindangoye              218353   \n",
       "1   2         155782     Aaron Cresswell              189615   \n",
       "2   3         162549         Aaron Doran              186170   \n",
       "\n",
       "              birthday  height  weight  \n",
       "0  1992-02-29 00:00:00  182.88     187  \n",
       "1  1989-12-15 00:00:00  170.18     146  \n",
       "2  1991-05-13 00:00:00  170.18     163  "
      ]
     },
     "execution_count": 65,
     "metadata": {},
     "output_type": "execute_result"
    }
   ],
   "source": [
    "player.head(3)"
   ]
  },
  {
   "cell_type": "code",
   "execution_count": 66,
   "id": "1d7fb30d",
   "metadata": {},
   "outputs": [
    {
     "data": {
      "text/plain": [
       "Index(['id', 'player_api_id', 'player_name', 'player_fifa_api_id', 'birthday',\n",
       "       'height', 'weight'],\n",
       "      dtype='object')"
      ]
     },
     "execution_count": 66,
     "metadata": {},
     "output_type": "execute_result"
    }
   ],
   "source": [
    "player.columns"
   ]
  },
  {
   "cell_type": "code",
   "execution_count": 67,
   "id": "91e49a1b",
   "metadata": {},
   "outputs": [
    {
     "data": {
      "text/html": [
       "<div>\n",
       "<style scoped>\n",
       "    .dataframe tbody tr th:only-of-type {\n",
       "        vertical-align: middle;\n",
       "    }\n",
       "\n",
       "    .dataframe tbody tr th {\n",
       "        vertical-align: top;\n",
       "    }\n",
       "\n",
       "    .dataframe thead th {\n",
       "        text-align: right;\n",
       "    }\n",
       "</style>\n",
       "<table border=\"1\" class=\"dataframe\">\n",
       "  <thead>\n",
       "    <tr style=\"text-align: right;\">\n",
       "      <th></th>\n",
       "      <th>id_x</th>\n",
       "      <th>player_fifa_api_id_x</th>\n",
       "      <th>date</th>\n",
       "      <th>overall_rating</th>\n",
       "      <th>potential</th>\n",
       "      <th>preferred_foot</th>\n",
       "      <th>attacking_work_rate</th>\n",
       "      <th>defensive_work_rate</th>\n",
       "      <th>crossing</th>\n",
       "      <th>finishing</th>\n",
       "      <th>...</th>\n",
       "      <th>penalties</th>\n",
       "      <th>marking</th>\n",
       "      <th>standing_tackle</th>\n",
       "      <th>sliding_tackle</th>\n",
       "      <th>gk_diving</th>\n",
       "      <th>gk_handling</th>\n",
       "      <th>gk_kicking</th>\n",
       "      <th>gk_positioning</th>\n",
       "      <th>gk_reflexes</th>\n",
       "      <th>player_name</th>\n",
       "    </tr>\n",
       "  </thead>\n",
       "  <tbody>\n",
       "    <tr>\n",
       "      <th>0</th>\n",
       "      <td>1</td>\n",
       "      <td>218353</td>\n",
       "      <td>2016-02-18 00:00:00</td>\n",
       "      <td>67.0</td>\n",
       "      <td>71.0</td>\n",
       "      <td>right</td>\n",
       "      <td>medium</td>\n",
       "      <td>medium</td>\n",
       "      <td>49.0</td>\n",
       "      <td>44.0</td>\n",
       "      <td>...</td>\n",
       "      <td>48.0</td>\n",
       "      <td>65.0</td>\n",
       "      <td>69.0</td>\n",
       "      <td>69.0</td>\n",
       "      <td>6.0</td>\n",
       "      <td>11.0</td>\n",
       "      <td>10.0</td>\n",
       "      <td>8.0</td>\n",
       "      <td>8.0</td>\n",
       "      <td>Aaron Appindangoye</td>\n",
       "    </tr>\n",
       "    <tr>\n",
       "      <th>1</th>\n",
       "      <td>2</td>\n",
       "      <td>218353</td>\n",
       "      <td>2015-11-19 00:00:00</td>\n",
       "      <td>67.0</td>\n",
       "      <td>71.0</td>\n",
       "      <td>right</td>\n",
       "      <td>medium</td>\n",
       "      <td>medium</td>\n",
       "      <td>49.0</td>\n",
       "      <td>44.0</td>\n",
       "      <td>...</td>\n",
       "      <td>48.0</td>\n",
       "      <td>65.0</td>\n",
       "      <td>69.0</td>\n",
       "      <td>69.0</td>\n",
       "      <td>6.0</td>\n",
       "      <td>11.0</td>\n",
       "      <td>10.0</td>\n",
       "      <td>8.0</td>\n",
       "      <td>8.0</td>\n",
       "      <td>Aaron Appindangoye</td>\n",
       "    </tr>\n",
       "    <tr>\n",
       "      <th>2</th>\n",
       "      <td>3</td>\n",
       "      <td>218353</td>\n",
       "      <td>2015-09-21 00:00:00</td>\n",
       "      <td>62.0</td>\n",
       "      <td>66.0</td>\n",
       "      <td>right</td>\n",
       "      <td>medium</td>\n",
       "      <td>medium</td>\n",
       "      <td>49.0</td>\n",
       "      <td>44.0</td>\n",
       "      <td>...</td>\n",
       "      <td>48.0</td>\n",
       "      <td>65.0</td>\n",
       "      <td>66.0</td>\n",
       "      <td>69.0</td>\n",
       "      <td>6.0</td>\n",
       "      <td>11.0</td>\n",
       "      <td>10.0</td>\n",
       "      <td>8.0</td>\n",
       "      <td>8.0</td>\n",
       "      <td>Aaron Appindangoye</td>\n",
       "    </tr>\n",
       "  </tbody>\n",
       "</table>\n",
       "<p>3 rows × 42 columns</p>\n",
       "</div>"
      ],
      "text/plain": [
       "   id_x  player_fifa_api_id_x                 date  overall_rating  potential  \\\n",
       "0     1                218353  2016-02-18 00:00:00            67.0       71.0   \n",
       "1     2                218353  2015-11-19 00:00:00            67.0       71.0   \n",
       "2     3                218353  2015-09-21 00:00:00            62.0       66.0   \n",
       "\n",
       "  preferred_foot attacking_work_rate defensive_work_rate  crossing  finishing  \\\n",
       "0          right              medium              medium      49.0       44.0   \n",
       "1          right              medium              medium      49.0       44.0   \n",
       "2          right              medium              medium      49.0       44.0   \n",
       "\n",
       "   ...  penalties  marking  standing_tackle  sliding_tackle  gk_diving  \\\n",
       "0  ...       48.0     65.0             69.0            69.0        6.0   \n",
       "1  ...       48.0     65.0             69.0            69.0        6.0   \n",
       "2  ...       48.0     65.0             66.0            69.0        6.0   \n",
       "\n",
       "   gk_handling  gk_kicking  gk_positioning  gk_reflexes         player_name  \n",
       "0         11.0        10.0             8.0          8.0  Aaron Appindangoye  \n",
       "1         11.0        10.0             8.0          8.0  Aaron Appindangoye  \n",
       "2         11.0        10.0             8.0          8.0  Aaron Appindangoye  \n",
       "\n",
       "[3 rows x 42 columns]"
      ]
     },
     "execution_count": 67,
     "metadata": {},
     "output_type": "execute_result"
    }
   ],
   "source": [
    "player_attributes = player_attributes.merge(player,how='inner', on='player_api_id')\n",
    "player_attributes.drop(['player_api_id', 'birthday','height', 'weight','id_y','player_fifa_api_id_y'],axis=1,inplace=True)\n",
    "player_attributes.head(3)"
   ]
  },
  {
   "cell_type": "code",
   "execution_count": 68,
   "id": "1098756c",
   "metadata": {},
   "outputs": [
    {
     "data": {
      "text/plain": [
       "Index(['id_x', 'player_fifa_api_id_x', 'date', 'overall_rating', 'potential',\n",
       "       'preferred_foot', 'attacking_work_rate', 'defensive_work_rate',\n",
       "       'crossing', 'finishing', 'heading_accuracy', 'short_passing', 'volleys',\n",
       "       'dribbling', 'curve', 'free_kick_accuracy', 'long_passing',\n",
       "       'ball_control', 'acceleration', 'sprint_speed', 'agility', 'reactions',\n",
       "       'balance', 'shot_power', 'jumping', 'stamina', 'strength', 'long_shots',\n",
       "       'aggression', 'interceptions', 'positioning', 'vision', 'penalties',\n",
       "       'marking', 'standing_tackle', 'sliding_tackle', 'gk_diving',\n",
       "       'gk_handling', 'gk_kicking', 'gk_positioning', 'gk_reflexes',\n",
       "       'player_name'],\n",
       "      dtype='object')"
      ]
     },
     "execution_count": 68,
     "metadata": {},
     "output_type": "execute_result"
    }
   ],
   "source": [
    "player_attributes.columns"
   ]
  },
  {
   "cell_type": "code",
   "execution_count": 69,
   "id": "dc4ec0a1",
   "metadata": {},
   "outputs": [
    {
     "data": {
      "text/html": [
       "<div>\n",
       "<style scoped>\n",
       "    .dataframe tbody tr th:only-of-type {\n",
       "        vertical-align: middle;\n",
       "    }\n",
       "\n",
       "    .dataframe tbody tr th {\n",
       "        vertical-align: top;\n",
       "    }\n",
       "\n",
       "    .dataframe thead th {\n",
       "        text-align: right;\n",
       "    }\n",
       "</style>\n",
       "<table border=\"1\" class=\"dataframe\">\n",
       "  <thead>\n",
       "    <tr style=\"text-align: right;\">\n",
       "      <th></th>\n",
       "      <th>id_x</th>\n",
       "      <th>player_fifa_api_id_x</th>\n",
       "      <th>player_name</th>\n",
       "      <th>date</th>\n",
       "      <th>overall_rating</th>\n",
       "      <th>potential</th>\n",
       "      <th>preferred_foot</th>\n",
       "      <th>attacking_work_rate</th>\n",
       "      <th>defensive_work_rate</th>\n",
       "      <th>crossing</th>\n",
       "      <th>...</th>\n",
       "      <th>vision</th>\n",
       "      <th>penalties</th>\n",
       "      <th>marking</th>\n",
       "      <th>standing_tackle</th>\n",
       "      <th>sliding_tackle</th>\n",
       "      <th>gk_diving</th>\n",
       "      <th>gk_handling</th>\n",
       "      <th>gk_kicking</th>\n",
       "      <th>gk_positioning</th>\n",
       "      <th>gk_reflexes</th>\n",
       "    </tr>\n",
       "  </thead>\n",
       "  <tbody>\n",
       "    <tr>\n",
       "      <th>0</th>\n",
       "      <td>1</td>\n",
       "      <td>218353</td>\n",
       "      <td>Aaron Appindangoye</td>\n",
       "      <td>2016-02-18 00:00:00</td>\n",
       "      <td>67.0</td>\n",
       "      <td>71.0</td>\n",
       "      <td>right</td>\n",
       "      <td>medium</td>\n",
       "      <td>medium</td>\n",
       "      <td>49.0</td>\n",
       "      <td>...</td>\n",
       "      <td>54.0</td>\n",
       "      <td>48.0</td>\n",
       "      <td>65.0</td>\n",
       "      <td>69.0</td>\n",
       "      <td>69.0</td>\n",
       "      <td>6.0</td>\n",
       "      <td>11.0</td>\n",
       "      <td>10.0</td>\n",
       "      <td>8.0</td>\n",
       "      <td>8.0</td>\n",
       "    </tr>\n",
       "    <tr>\n",
       "      <th>1</th>\n",
       "      <td>2</td>\n",
       "      <td>218353</td>\n",
       "      <td>Aaron Appindangoye</td>\n",
       "      <td>2015-11-19 00:00:00</td>\n",
       "      <td>67.0</td>\n",
       "      <td>71.0</td>\n",
       "      <td>right</td>\n",
       "      <td>medium</td>\n",
       "      <td>medium</td>\n",
       "      <td>49.0</td>\n",
       "      <td>...</td>\n",
       "      <td>54.0</td>\n",
       "      <td>48.0</td>\n",
       "      <td>65.0</td>\n",
       "      <td>69.0</td>\n",
       "      <td>69.0</td>\n",
       "      <td>6.0</td>\n",
       "      <td>11.0</td>\n",
       "      <td>10.0</td>\n",
       "      <td>8.0</td>\n",
       "      <td>8.0</td>\n",
       "    </tr>\n",
       "  </tbody>\n",
       "</table>\n",
       "<p>2 rows × 42 columns</p>\n",
       "</div>"
      ],
      "text/plain": [
       "   id_x  player_fifa_api_id_x         player_name                 date  \\\n",
       "0     1                218353  Aaron Appindangoye  2016-02-18 00:00:00   \n",
       "1     2                218353  Aaron Appindangoye  2015-11-19 00:00:00   \n",
       "\n",
       "   overall_rating  potential preferred_foot attacking_work_rate  \\\n",
       "0            67.0       71.0          right              medium   \n",
       "1            67.0       71.0          right              medium   \n",
       "\n",
       "  defensive_work_rate  crossing  ...  vision  penalties  marking  \\\n",
       "0              medium      49.0  ...    54.0       48.0     65.0   \n",
       "1              medium      49.0  ...    54.0       48.0     65.0   \n",
       "\n",
       "   standing_tackle  sliding_tackle  gk_diving  gk_handling  gk_kicking  \\\n",
       "0             69.0            69.0        6.0         11.0        10.0   \n",
       "1             69.0            69.0        6.0         11.0        10.0   \n",
       "\n",
       "   gk_positioning  gk_reflexes  \n",
       "0             8.0          8.0  \n",
       "1             8.0          8.0  \n",
       "\n",
       "[2 rows x 42 columns]"
      ]
     },
     "execution_count": 69,
     "metadata": {},
     "output_type": "execute_result"
    }
   ],
   "source": [
    "player_attributes = player_attributes[['id_x', 'player_fifa_api_id_x', 'player_name','date', 'overall_rating', 'potential','preferred_foot', 'attacking_work_rate', 'defensive_work_rate','crossing', 'finishing', 'heading_accuracy', 'short_passing', 'volleys','dribbling', 'curve', 'free_kick_accuracy', 'long_passing','ball_control', 'acceleration', 'sprint_speed', 'agility', 'reactions','balance', 'shot_power', 'jumping', 'stamina', 'strength', 'long_shots','aggression', 'interceptions', 'positioning', 'vision', 'penalties','marking', 'standing_tackle', 'sliding_tackle', 'gk_diving','gk_handling', 'gk_kicking', 'gk_positioning', 'gk_reflexes']]\n",
    "player_attributes.head(2)"
   ]
  },
  {
   "cell_type": "code",
   "execution_count": 70,
   "id": "2a3847f6",
   "metadata": {},
   "outputs": [
    {
     "data": {
      "text/plain": [
       "Index(['id_x', 'player_fifa_api_id_x', 'player_name', 'date', 'overall_rating',\n",
       "       'potential', 'preferred_foot', 'attacking_work_rate',\n",
       "       'defensive_work_rate', 'crossing', 'finishing', 'heading_accuracy',\n",
       "       'short_passing', 'volleys', 'dribbling', 'curve', 'free_kick_accuracy',\n",
       "       'long_passing', 'ball_control', 'acceleration', 'sprint_speed',\n",
       "       'agility', 'reactions', 'balance', 'shot_power', 'jumping', 'stamina',\n",
       "       'strength', 'long_shots', 'aggression', 'interceptions', 'positioning',\n",
       "       'vision', 'penalties', 'marking', 'standing_tackle', 'sliding_tackle',\n",
       "       'gk_diving', 'gk_handling', 'gk_kicking', 'gk_positioning',\n",
       "       'gk_reflexes'],\n",
       "      dtype='object')"
      ]
     },
     "execution_count": 70,
     "metadata": {},
     "output_type": "execute_result"
    }
   ],
   "source": [
    "player_attributes.columns"
   ]
  },
  {
   "cell_type": "code",
   "execution_count": 71,
   "id": "fec18880",
   "metadata": {},
   "outputs": [],
   "source": [
    "player_attributes.drop(['id_x','player_fifa_api_id_x'],axis=1, inplace=True)"
   ]
  },
  {
   "cell_type": "markdown",
   "id": "e027423c",
   "metadata": {},
   "source": [
    "### For have the last player attributes we have to retrieve the years from the date. And create a database that only have the last year attributes"
   ]
  },
  {
   "cell_type": "code",
   "execution_count": 72,
   "id": "579e2503",
   "metadata": {},
   "outputs": [],
   "source": [
    "player_attributes.date = player_attributes.date.str[:4]"
   ]
  },
  {
   "cell_type": "code",
   "execution_count": 73,
   "id": "4edda570",
   "metadata": {
    "scrolled": true
   },
   "outputs": [
    {
     "data": {
      "text/html": [
       "<div>\n",
       "<style scoped>\n",
       "    .dataframe tbody tr th:only-of-type {\n",
       "        vertical-align: middle;\n",
       "    }\n",
       "\n",
       "    .dataframe tbody tr th {\n",
       "        vertical-align: top;\n",
       "    }\n",
       "\n",
       "    .dataframe thead th {\n",
       "        text-align: right;\n",
       "    }\n",
       "</style>\n",
       "<table border=\"1\" class=\"dataframe\">\n",
       "  <thead>\n",
       "    <tr style=\"text-align: right;\">\n",
       "      <th></th>\n",
       "      <th>player_name</th>\n",
       "      <th>date</th>\n",
       "      <th>overall_rating</th>\n",
       "      <th>potential</th>\n",
       "      <th>preferred_foot</th>\n",
       "      <th>attacking_work_rate</th>\n",
       "      <th>defensive_work_rate</th>\n",
       "      <th>crossing</th>\n",
       "      <th>finishing</th>\n",
       "      <th>heading_accuracy</th>\n",
       "      <th>...</th>\n",
       "      <th>vision</th>\n",
       "      <th>penalties</th>\n",
       "      <th>marking</th>\n",
       "      <th>standing_tackle</th>\n",
       "      <th>sliding_tackle</th>\n",
       "      <th>gk_diving</th>\n",
       "      <th>gk_handling</th>\n",
       "      <th>gk_kicking</th>\n",
       "      <th>gk_positioning</th>\n",
       "      <th>gk_reflexes</th>\n",
       "    </tr>\n",
       "  </thead>\n",
       "  <tbody>\n",
       "    <tr>\n",
       "      <th>0</th>\n",
       "      <td>Aaron Appindangoye</td>\n",
       "      <td>2016</td>\n",
       "      <td>67.0</td>\n",
       "      <td>71.0</td>\n",
       "      <td>right</td>\n",
       "      <td>medium</td>\n",
       "      <td>medium</td>\n",
       "      <td>49.0</td>\n",
       "      <td>44.0</td>\n",
       "      <td>71.0</td>\n",
       "      <td>...</td>\n",
       "      <td>54.0</td>\n",
       "      <td>48.0</td>\n",
       "      <td>65.0</td>\n",
       "      <td>69.0</td>\n",
       "      <td>69.0</td>\n",
       "      <td>6.0</td>\n",
       "      <td>11.0</td>\n",
       "      <td>10.0</td>\n",
       "      <td>8.0</td>\n",
       "      <td>8.0</td>\n",
       "    </tr>\n",
       "    <tr>\n",
       "      <th>1</th>\n",
       "      <td>Aaron Appindangoye</td>\n",
       "      <td>2015</td>\n",
       "      <td>67.0</td>\n",
       "      <td>71.0</td>\n",
       "      <td>right</td>\n",
       "      <td>medium</td>\n",
       "      <td>medium</td>\n",
       "      <td>49.0</td>\n",
       "      <td>44.0</td>\n",
       "      <td>71.0</td>\n",
       "      <td>...</td>\n",
       "      <td>54.0</td>\n",
       "      <td>48.0</td>\n",
       "      <td>65.0</td>\n",
       "      <td>69.0</td>\n",
       "      <td>69.0</td>\n",
       "      <td>6.0</td>\n",
       "      <td>11.0</td>\n",
       "      <td>10.0</td>\n",
       "      <td>8.0</td>\n",
       "      <td>8.0</td>\n",
       "    </tr>\n",
       "  </tbody>\n",
       "</table>\n",
       "<p>2 rows × 40 columns</p>\n",
       "</div>"
      ],
      "text/plain": [
       "          player_name  date  overall_rating  potential preferred_foot  \\\n",
       "0  Aaron Appindangoye  2016            67.0       71.0          right   \n",
       "1  Aaron Appindangoye  2015            67.0       71.0          right   \n",
       "\n",
       "  attacking_work_rate defensive_work_rate  crossing  finishing  \\\n",
       "0              medium              medium      49.0       44.0   \n",
       "1              medium              medium      49.0       44.0   \n",
       "\n",
       "   heading_accuracy  ...  vision  penalties  marking  standing_tackle  \\\n",
       "0              71.0  ...    54.0       48.0     65.0             69.0   \n",
       "1              71.0  ...    54.0       48.0     65.0             69.0   \n",
       "\n",
       "   sliding_tackle  gk_diving  gk_handling  gk_kicking  gk_positioning  \\\n",
       "0            69.0        6.0         11.0        10.0             8.0   \n",
       "1            69.0        6.0         11.0        10.0             8.0   \n",
       "\n",
       "   gk_reflexes  \n",
       "0          8.0  \n",
       "1          8.0  \n",
       "\n",
       "[2 rows x 40 columns]"
      ]
     },
     "execution_count": 73,
     "metadata": {},
     "output_type": "execute_result"
    }
   ],
   "source": [
    "player_attributes.head(2)"
   ]
  },
  {
   "cell_type": "code",
   "execution_count": 74,
   "id": "6f117fb3",
   "metadata": {},
   "outputs": [
    {
     "data": {
      "text/html": [
       "<div>\n",
       "<style scoped>\n",
       "    .dataframe tbody tr th:only-of-type {\n",
       "        vertical-align: middle;\n",
       "    }\n",
       "\n",
       "    .dataframe tbody tr th {\n",
       "        vertical-align: top;\n",
       "    }\n",
       "\n",
       "    .dataframe thead th {\n",
       "        text-align: right;\n",
       "    }\n",
       "</style>\n",
       "<table border=\"1\" class=\"dataframe\">\n",
       "  <thead>\n",
       "    <tr style=\"text-align: right;\">\n",
       "      <th></th>\n",
       "      <th>player_name</th>\n",
       "      <th>date</th>\n",
       "      <th>overall_rating</th>\n",
       "      <th>potential</th>\n",
       "      <th>preferred_foot</th>\n",
       "      <th>attacking_work_rate</th>\n",
       "      <th>defensive_work_rate</th>\n",
       "      <th>crossing</th>\n",
       "      <th>finishing</th>\n",
       "      <th>heading_accuracy</th>\n",
       "      <th>...</th>\n",
       "      <th>vision</th>\n",
       "      <th>penalties</th>\n",
       "      <th>marking</th>\n",
       "      <th>standing_tackle</th>\n",
       "      <th>sliding_tackle</th>\n",
       "      <th>gk_diving</th>\n",
       "      <th>gk_handling</th>\n",
       "      <th>gk_kicking</th>\n",
       "      <th>gk_positioning</th>\n",
       "      <th>gk_reflexes</th>\n",
       "    </tr>\n",
       "  </thead>\n",
       "  <tbody>\n",
       "    <tr>\n",
       "      <th>0</th>\n",
       "      <td>Aaron Appindangoye</td>\n",
       "      <td>2016</td>\n",
       "      <td>67.0</td>\n",
       "      <td>71.0</td>\n",
       "      <td>right</td>\n",
       "      <td>medium</td>\n",
       "      <td>medium</td>\n",
       "      <td>49.0</td>\n",
       "      <td>44.0</td>\n",
       "      <td>71.0</td>\n",
       "      <td>...</td>\n",
       "      <td>54.0</td>\n",
       "      <td>48.0</td>\n",
       "      <td>65.0</td>\n",
       "      <td>69.0</td>\n",
       "      <td>69.0</td>\n",
       "      <td>6.0</td>\n",
       "      <td>11.0</td>\n",
       "      <td>10.0</td>\n",
       "      <td>8.0</td>\n",
       "      <td>8.0</td>\n",
       "    </tr>\n",
       "    <tr>\n",
       "      <th>5</th>\n",
       "      <td>Aaron Cresswell</td>\n",
       "      <td>2016</td>\n",
       "      <td>74.0</td>\n",
       "      <td>76.0</td>\n",
       "      <td>left</td>\n",
       "      <td>high</td>\n",
       "      <td>medium</td>\n",
       "      <td>80.0</td>\n",
       "      <td>53.0</td>\n",
       "      <td>58.0</td>\n",
       "      <td>...</td>\n",
       "      <td>66.0</td>\n",
       "      <td>59.0</td>\n",
       "      <td>76.0</td>\n",
       "      <td>75.0</td>\n",
       "      <td>78.0</td>\n",
       "      <td>14.0</td>\n",
       "      <td>7.0</td>\n",
       "      <td>9.0</td>\n",
       "      <td>9.0</td>\n",
       "      <td>12.0</td>\n",
       "    </tr>\n",
       "    <tr>\n",
       "      <th>6</th>\n",
       "      <td>Aaron Cresswell</td>\n",
       "      <td>2016</td>\n",
       "      <td>74.0</td>\n",
       "      <td>76.0</td>\n",
       "      <td>left</td>\n",
       "      <td>high</td>\n",
       "      <td>medium</td>\n",
       "      <td>80.0</td>\n",
       "      <td>53.0</td>\n",
       "      <td>58.0</td>\n",
       "      <td>...</td>\n",
       "      <td>66.0</td>\n",
       "      <td>59.0</td>\n",
       "      <td>76.0</td>\n",
       "      <td>75.0</td>\n",
       "      <td>78.0</td>\n",
       "      <td>14.0</td>\n",
       "      <td>7.0</td>\n",
       "      <td>9.0</td>\n",
       "      <td>9.0</td>\n",
       "      <td>12.0</td>\n",
       "    </tr>\n",
       "    <tr>\n",
       "      <th>7</th>\n",
       "      <td>Aaron Cresswell</td>\n",
       "      <td>2016</td>\n",
       "      <td>73.0</td>\n",
       "      <td>75.0</td>\n",
       "      <td>left</td>\n",
       "      <td>high</td>\n",
       "      <td>medium</td>\n",
       "      <td>79.0</td>\n",
       "      <td>52.0</td>\n",
       "      <td>57.0</td>\n",
       "      <td>...</td>\n",
       "      <td>65.0</td>\n",
       "      <td>59.0</td>\n",
       "      <td>76.0</td>\n",
       "      <td>75.0</td>\n",
       "      <td>78.0</td>\n",
       "      <td>14.0</td>\n",
       "      <td>7.0</td>\n",
       "      <td>9.0</td>\n",
       "      <td>9.0</td>\n",
       "      <td>12.0</td>\n",
       "    </tr>\n",
       "    <tr>\n",
       "      <th>38</th>\n",
       "      <td>Aaron Doran</td>\n",
       "      <td>2016</td>\n",
       "      <td>65.0</td>\n",
       "      <td>67.0</td>\n",
       "      <td>right</td>\n",
       "      <td>medium</td>\n",
       "      <td>medium</td>\n",
       "      <td>64.0</td>\n",
       "      <td>58.0</td>\n",
       "      <td>60.0</td>\n",
       "      <td>...</td>\n",
       "      <td>68.0</td>\n",
       "      <td>61.0</td>\n",
       "      <td>23.0</td>\n",
       "      <td>22.0</td>\n",
       "      <td>24.0</td>\n",
       "      <td>16.0</td>\n",
       "      <td>11.0</td>\n",
       "      <td>12.0</td>\n",
       "      <td>9.0</td>\n",
       "      <td>13.0</td>\n",
       "    </tr>\n",
       "  </tbody>\n",
       "</table>\n",
       "<p>5 rows × 40 columns</p>\n",
       "</div>"
      ],
      "text/plain": [
       "           player_name  date  overall_rating  potential preferred_foot  \\\n",
       "0   Aaron Appindangoye  2016            67.0       71.0          right   \n",
       "5      Aaron Cresswell  2016            74.0       76.0           left   \n",
       "6      Aaron Cresswell  2016            74.0       76.0           left   \n",
       "7      Aaron Cresswell  2016            73.0       75.0           left   \n",
       "38         Aaron Doran  2016            65.0       67.0          right   \n",
       "\n",
       "   attacking_work_rate defensive_work_rate  crossing  finishing  \\\n",
       "0               medium              medium      49.0       44.0   \n",
       "5                 high              medium      80.0       53.0   \n",
       "6                 high              medium      80.0       53.0   \n",
       "7                 high              medium      79.0       52.0   \n",
       "38              medium              medium      64.0       58.0   \n",
       "\n",
       "    heading_accuracy  ...  vision  penalties  marking  standing_tackle  \\\n",
       "0               71.0  ...    54.0       48.0     65.0             69.0   \n",
       "5               58.0  ...    66.0       59.0     76.0             75.0   \n",
       "6               58.0  ...    66.0       59.0     76.0             75.0   \n",
       "7               57.0  ...    65.0       59.0     76.0             75.0   \n",
       "38              60.0  ...    68.0       61.0     23.0             22.0   \n",
       "\n",
       "    sliding_tackle  gk_diving  gk_handling  gk_kicking  gk_positioning  \\\n",
       "0             69.0        6.0         11.0        10.0             8.0   \n",
       "5             78.0       14.0          7.0         9.0             9.0   \n",
       "6             78.0       14.0          7.0         9.0             9.0   \n",
       "7             78.0       14.0          7.0         9.0             9.0   \n",
       "38            24.0       16.0         11.0        12.0             9.0   \n",
       "\n",
       "    gk_reflexes  \n",
       "0           8.0  \n",
       "5          12.0  \n",
       "6          12.0  \n",
       "7          12.0  \n",
       "38         13.0  \n",
       "\n",
       "[5 rows x 40 columns]"
      ]
     },
     "execution_count": 74,
     "metadata": {},
     "output_type": "execute_result"
    }
   ],
   "source": [
    "player_attributes_2016 = player_attributes.query('date==\"2016\"')\n",
    "player_attributes_2016.head()"
   ]
  },
  {
   "cell_type": "markdown",
   "id": "a0425a92",
   "metadata": {},
   "source": [
    "### `Who is the best player right now in the database?`"
   ]
  },
  {
   "cell_type": "code",
   "execution_count": 75,
   "id": "758110bf",
   "metadata": {
    "scrolled": false
   },
   "outputs": [
    {
     "data": {
      "text/html": [
       "<div>\n",
       "<style scoped>\n",
       "    .dataframe tbody tr th:only-of-type {\n",
       "        vertical-align: middle;\n",
       "    }\n",
       "\n",
       "    .dataframe tbody tr th {\n",
       "        vertical-align: top;\n",
       "    }\n",
       "\n",
       "    .dataframe thead th {\n",
       "        text-align: right;\n",
       "    }\n",
       "</style>\n",
       "<table border=\"1\" class=\"dataframe\">\n",
       "  <thead>\n",
       "    <tr style=\"text-align: right;\">\n",
       "      <th></th>\n",
       "      <th>player_name</th>\n",
       "      <th>date</th>\n",
       "      <th>overall_rating</th>\n",
       "      <th>potential</th>\n",
       "      <th>preferred_foot</th>\n",
       "      <th>attacking_work_rate</th>\n",
       "      <th>defensive_work_rate</th>\n",
       "      <th>crossing</th>\n",
       "      <th>finishing</th>\n",
       "      <th>heading_accuracy</th>\n",
       "      <th>...</th>\n",
       "      <th>vision</th>\n",
       "      <th>penalties</th>\n",
       "      <th>marking</th>\n",
       "      <th>standing_tackle</th>\n",
       "      <th>sliding_tackle</th>\n",
       "      <th>gk_diving</th>\n",
       "      <th>gk_handling</th>\n",
       "      <th>gk_kicking</th>\n",
       "      <th>gk_positioning</th>\n",
       "      <th>gk_reflexes</th>\n",
       "    </tr>\n",
       "  </thead>\n",
       "  <tbody>\n",
       "    <tr>\n",
       "      <th>109033</th>\n",
       "      <td>Manuel Neuer</td>\n",
       "      <td>2016</td>\n",
       "      <td>90.0</td>\n",
       "      <td>90.0</td>\n",
       "      <td>right</td>\n",
       "      <td>medium</td>\n",
       "      <td>medium</td>\n",
       "      <td>15.0</td>\n",
       "      <td>13.0</td>\n",
       "      <td>25.0</td>\n",
       "      <td>...</td>\n",
       "      <td>70.0</td>\n",
       "      <td>37.0</td>\n",
       "      <td>10.0</td>\n",
       "      <td>10.0</td>\n",
       "      <td>11.0</td>\n",
       "      <td>85.0</td>\n",
       "      <td>87.0</td>\n",
       "      <td>91.0</td>\n",
       "      <td>90.0</td>\n",
       "      <td>87.0</td>\n",
       "    </tr>\n",
       "    <tr>\n",
       "      <th>109034</th>\n",
       "      <td>Manuel Neuer</td>\n",
       "      <td>2016</td>\n",
       "      <td>90.0</td>\n",
       "      <td>90.0</td>\n",
       "      <td>right</td>\n",
       "      <td>medium</td>\n",
       "      <td>medium</td>\n",
       "      <td>15.0</td>\n",
       "      <td>13.0</td>\n",
       "      <td>25.0</td>\n",
       "      <td>...</td>\n",
       "      <td>70.0</td>\n",
       "      <td>37.0</td>\n",
       "      <td>10.0</td>\n",
       "      <td>10.0</td>\n",
       "      <td>11.0</td>\n",
       "      <td>85.0</td>\n",
       "      <td>87.0</td>\n",
       "      <td>91.0</td>\n",
       "      <td>90.0</td>\n",
       "      <td>87.0</td>\n",
       "    </tr>\n",
       "    <tr>\n",
       "      <th>109035</th>\n",
       "      <td>Manuel Neuer</td>\n",
       "      <td>2016</td>\n",
       "      <td>90.0</td>\n",
       "      <td>90.0</td>\n",
       "      <td>right</td>\n",
       "      <td>medium</td>\n",
       "      <td>medium</td>\n",
       "      <td>15.0</td>\n",
       "      <td>13.0</td>\n",
       "      <td>25.0</td>\n",
       "      <td>...</td>\n",
       "      <td>70.0</td>\n",
       "      <td>37.0</td>\n",
       "      <td>10.0</td>\n",
       "      <td>10.0</td>\n",
       "      <td>11.0</td>\n",
       "      <td>85.0</td>\n",
       "      <td>87.0</td>\n",
       "      <td>91.0</td>\n",
       "      <td>90.0</td>\n",
       "      <td>87.0</td>\n",
       "    </tr>\n",
       "    <tr>\n",
       "      <th>131464</th>\n",
       "      <td>Neymar</td>\n",
       "      <td>2016</td>\n",
       "      <td>90.0</td>\n",
       "      <td>94.0</td>\n",
       "      <td>right</td>\n",
       "      <td>high</td>\n",
       "      <td>medium</td>\n",
       "      <td>72.0</td>\n",
       "      <td>88.0</td>\n",
       "      <td>62.0</td>\n",
       "      <td>...</td>\n",
       "      <td>79.0</td>\n",
       "      <td>81.0</td>\n",
       "      <td>21.0</td>\n",
       "      <td>24.0</td>\n",
       "      <td>33.0</td>\n",
       "      <td>9.0</td>\n",
       "      <td>9.0</td>\n",
       "      <td>15.0</td>\n",
       "      <td>15.0</td>\n",
       "      <td>11.0</td>\n",
       "    </tr>\n",
       "    <tr>\n",
       "      <th>131465</th>\n",
       "      <td>Neymar</td>\n",
       "      <td>2016</td>\n",
       "      <td>90.0</td>\n",
       "      <td>94.0</td>\n",
       "      <td>right</td>\n",
       "      <td>high</td>\n",
       "      <td>medium</td>\n",
       "      <td>72.0</td>\n",
       "      <td>89.0</td>\n",
       "      <td>62.0</td>\n",
       "      <td>...</td>\n",
       "      <td>79.0</td>\n",
       "      <td>81.0</td>\n",
       "      <td>21.0</td>\n",
       "      <td>24.0</td>\n",
       "      <td>33.0</td>\n",
       "      <td>9.0</td>\n",
       "      <td>9.0</td>\n",
       "      <td>15.0</td>\n",
       "      <td>15.0</td>\n",
       "      <td>11.0</td>\n",
       "    </tr>\n",
       "  </tbody>\n",
       "</table>\n",
       "<p>5 rows × 40 columns</p>\n",
       "</div>"
      ],
      "text/plain": [
       "         player_name  date  overall_rating  potential preferred_foot  \\\n",
       "109033  Manuel Neuer  2016            90.0       90.0          right   \n",
       "109034  Manuel Neuer  2016            90.0       90.0          right   \n",
       "109035  Manuel Neuer  2016            90.0       90.0          right   \n",
       "131464        Neymar  2016            90.0       94.0          right   \n",
       "131465        Neymar  2016            90.0       94.0          right   \n",
       "\n",
       "       attacking_work_rate defensive_work_rate  crossing  finishing  \\\n",
       "109033              medium              medium      15.0       13.0   \n",
       "109034              medium              medium      15.0       13.0   \n",
       "109035              medium              medium      15.0       13.0   \n",
       "131464                high              medium      72.0       88.0   \n",
       "131465                high              medium      72.0       89.0   \n",
       "\n",
       "        heading_accuracy  ...  vision  penalties  marking  standing_tackle  \\\n",
       "109033              25.0  ...    70.0       37.0     10.0             10.0   \n",
       "109034              25.0  ...    70.0       37.0     10.0             10.0   \n",
       "109035              25.0  ...    70.0       37.0     10.0             10.0   \n",
       "131464              62.0  ...    79.0       81.0     21.0             24.0   \n",
       "131465              62.0  ...    79.0       81.0     21.0             24.0   \n",
       "\n",
       "        sliding_tackle  gk_diving  gk_handling  gk_kicking  gk_positioning  \\\n",
       "109033            11.0       85.0         87.0        91.0            90.0   \n",
       "109034            11.0       85.0         87.0        91.0            90.0   \n",
       "109035            11.0       85.0         87.0        91.0            90.0   \n",
       "131464            33.0        9.0          9.0        15.0            15.0   \n",
       "131465            33.0        9.0          9.0        15.0            15.0   \n",
       "\n",
       "        gk_reflexes  \n",
       "109033         87.0  \n",
       "109034         87.0  \n",
       "109035         87.0  \n",
       "131464         11.0  \n",
       "131465         11.0  \n",
       "\n",
       "[5 rows x 40 columns]"
      ]
     },
     "execution_count": 75,
     "metadata": {},
     "output_type": "execute_result"
    }
   ],
   "source": [
    "player_attributes_2016.query('overall_rating==overall_rating.max()')"
   ]
  },
  {
   "cell_type": "markdown",
   "id": "6a794254",
   "metadata": {},
   "source": [
    "### In our dataset, the best players are Neuer and Neymar"
   ]
  },
  {
   "cell_type": "markdown",
   "id": "c4bd724f",
   "metadata": {},
   "source": [
    "### `Who is the best potential right now in the database?`"
   ]
  },
  {
   "cell_type": "code",
   "execution_count": 76,
   "id": "616f692c",
   "metadata": {},
   "outputs": [
    {
     "data": {
      "text/html": [
       "<div>\n",
       "<style scoped>\n",
       "    .dataframe tbody tr th:only-of-type {\n",
       "        vertical-align: middle;\n",
       "    }\n",
       "\n",
       "    .dataframe tbody tr th {\n",
       "        vertical-align: top;\n",
       "    }\n",
       "\n",
       "    .dataframe thead th {\n",
       "        text-align: right;\n",
       "    }\n",
       "</style>\n",
       "<table border=\"1\" class=\"dataframe\">\n",
       "  <thead>\n",
       "    <tr style=\"text-align: right;\">\n",
       "      <th></th>\n",
       "      <th>player_name</th>\n",
       "      <th>date</th>\n",
       "      <th>overall_rating</th>\n",
       "      <th>potential</th>\n",
       "      <th>preferred_foot</th>\n",
       "      <th>attacking_work_rate</th>\n",
       "      <th>defensive_work_rate</th>\n",
       "      <th>crossing</th>\n",
       "      <th>finishing</th>\n",
       "      <th>heading_accuracy</th>\n",
       "      <th>...</th>\n",
       "      <th>vision</th>\n",
       "      <th>penalties</th>\n",
       "      <th>marking</th>\n",
       "      <th>standing_tackle</th>\n",
       "      <th>sliding_tackle</th>\n",
       "      <th>gk_diving</th>\n",
       "      <th>gk_handling</th>\n",
       "      <th>gk_kicking</th>\n",
       "      <th>gk_positioning</th>\n",
       "      <th>gk_reflexes</th>\n",
       "    </tr>\n",
       "  </thead>\n",
       "  <tbody>\n",
       "    <tr>\n",
       "      <th>131464</th>\n",
       "      <td>Neymar</td>\n",
       "      <td>2016</td>\n",
       "      <td>90.0</td>\n",
       "      <td>94.0</td>\n",
       "      <td>right</td>\n",
       "      <td>high</td>\n",
       "      <td>medium</td>\n",
       "      <td>72.0</td>\n",
       "      <td>88.0</td>\n",
       "      <td>62.0</td>\n",
       "      <td>...</td>\n",
       "      <td>79.0</td>\n",
       "      <td>81.0</td>\n",
       "      <td>21.0</td>\n",
       "      <td>24.0</td>\n",
       "      <td>33.0</td>\n",
       "      <td>9.0</td>\n",
       "      <td>9.0</td>\n",
       "      <td>15.0</td>\n",
       "      <td>15.0</td>\n",
       "      <td>11.0</td>\n",
       "    </tr>\n",
       "    <tr>\n",
       "      <th>131465</th>\n",
       "      <td>Neymar</td>\n",
       "      <td>2016</td>\n",
       "      <td>90.0</td>\n",
       "      <td>94.0</td>\n",
       "      <td>right</td>\n",
       "      <td>high</td>\n",
       "      <td>medium</td>\n",
       "      <td>72.0</td>\n",
       "      <td>89.0</td>\n",
       "      <td>62.0</td>\n",
       "      <td>...</td>\n",
       "      <td>79.0</td>\n",
       "      <td>81.0</td>\n",
       "      <td>21.0</td>\n",
       "      <td>24.0</td>\n",
       "      <td>33.0</td>\n",
       "      <td>9.0</td>\n",
       "      <td>9.0</td>\n",
       "      <td>15.0</td>\n",
       "      <td>15.0</td>\n",
       "      <td>11.0</td>\n",
       "    </tr>\n",
       "  </tbody>\n",
       "</table>\n",
       "<p>2 rows × 40 columns</p>\n",
       "</div>"
      ],
      "text/plain": [
       "       player_name  date  overall_rating  potential preferred_foot  \\\n",
       "131464      Neymar  2016            90.0       94.0          right   \n",
       "131465      Neymar  2016            90.0       94.0          right   \n",
       "\n",
       "       attacking_work_rate defensive_work_rate  crossing  finishing  \\\n",
       "131464                high              medium      72.0       88.0   \n",
       "131465                high              medium      72.0       89.0   \n",
       "\n",
       "        heading_accuracy  ...  vision  penalties  marking  standing_tackle  \\\n",
       "131464              62.0  ...    79.0       81.0     21.0             24.0   \n",
       "131465              62.0  ...    79.0       81.0     21.0             24.0   \n",
       "\n",
       "        sliding_tackle  gk_diving  gk_handling  gk_kicking  gk_positioning  \\\n",
       "131464            33.0        9.0          9.0        15.0            15.0   \n",
       "131465            33.0        9.0          9.0        15.0            15.0   \n",
       "\n",
       "        gk_reflexes  \n",
       "131464         11.0  \n",
       "131465         11.0  \n",
       "\n",
       "[2 rows x 40 columns]"
      ]
     },
     "execution_count": 76,
     "metadata": {},
     "output_type": "execute_result"
    }
   ],
   "source": [
    "player_attributes_2016.query('potential==potential.max()')"
   ]
  },
  {
   "cell_type": "markdown",
   "id": "ffec12ce",
   "metadata": {},
   "source": [
    "### In our dataset, the best potential is Neymar"
   ]
  },
  {
   "cell_type": "markdown",
   "id": "ce310291",
   "metadata": {},
   "source": [
    "### `A club wants to recruit an attacking player who is also involved in defensive play and who has a very good level. who would you advise?`"
   ]
  },
  {
   "cell_type": "code",
   "execution_count": 77,
   "id": "93dae536",
   "metadata": {
    "scrolled": true
   },
   "outputs": [
    {
     "data": {
      "text/html": [
       "<div>\n",
       "<style scoped>\n",
       "    .dataframe tbody tr th:only-of-type {\n",
       "        vertical-align: middle;\n",
       "    }\n",
       "\n",
       "    .dataframe tbody tr th {\n",
       "        vertical-align: top;\n",
       "    }\n",
       "\n",
       "    .dataframe thead th {\n",
       "        text-align: right;\n",
       "    }\n",
       "</style>\n",
       "<table border=\"1\" class=\"dataframe\">\n",
       "  <thead>\n",
       "    <tr style=\"text-align: right;\">\n",
       "      <th></th>\n",
       "      <th>player_name</th>\n",
       "      <th>date</th>\n",
       "      <th>overall_rating</th>\n",
       "      <th>potential</th>\n",
       "      <th>preferred_foot</th>\n",
       "      <th>attacking_work_rate</th>\n",
       "      <th>defensive_work_rate</th>\n",
       "      <th>crossing</th>\n",
       "      <th>finishing</th>\n",
       "      <th>heading_accuracy</th>\n",
       "      <th>...</th>\n",
       "      <th>vision</th>\n",
       "      <th>penalties</th>\n",
       "      <th>marking</th>\n",
       "      <th>standing_tackle</th>\n",
       "      <th>sliding_tackle</th>\n",
       "      <th>gk_diving</th>\n",
       "      <th>gk_handling</th>\n",
       "      <th>gk_kicking</th>\n",
       "      <th>gk_positioning</th>\n",
       "      <th>gk_reflexes</th>\n",
       "    </tr>\n",
       "  </thead>\n",
       "  <tbody>\n",
       "    <tr>\n",
       "      <th>8485</th>\n",
       "      <td>Alexis Sanchez</td>\n",
       "      <td>2016</td>\n",
       "      <td>86.0</td>\n",
       "      <td>87.0</td>\n",
       "      <td>right</td>\n",
       "      <td>high</td>\n",
       "      <td>high</td>\n",
       "      <td>77.0</td>\n",
       "      <td>83.0</td>\n",
       "      <td>65.0</td>\n",
       "      <td>...</td>\n",
       "      <td>78.0</td>\n",
       "      <td>77.0</td>\n",
       "      <td>30.0</td>\n",
       "      <td>39.0</td>\n",
       "      <td>35.0</td>\n",
       "      <td>10.0</td>\n",
       "      <td>10.0</td>\n",
       "      <td>15.0</td>\n",
       "      <td>12.0</td>\n",
       "      <td>13.0</td>\n",
       "    </tr>\n",
       "    <tr>\n",
       "      <th>8486</th>\n",
       "      <td>Alexis Sanchez</td>\n",
       "      <td>2016</td>\n",
       "      <td>86.0</td>\n",
       "      <td>87.0</td>\n",
       "      <td>right</td>\n",
       "      <td>high</td>\n",
       "      <td>high</td>\n",
       "      <td>77.0</td>\n",
       "      <td>84.0</td>\n",
       "      <td>65.0</td>\n",
       "      <td>...</td>\n",
       "      <td>78.0</td>\n",
       "      <td>77.0</td>\n",
       "      <td>30.0</td>\n",
       "      <td>39.0</td>\n",
       "      <td>35.0</td>\n",
       "      <td>10.0</td>\n",
       "      <td>10.0</td>\n",
       "      <td>15.0</td>\n",
       "      <td>12.0</td>\n",
       "      <td>13.0</td>\n",
       "    </tr>\n",
       "    <tr>\n",
       "      <th>8487</th>\n",
       "      <td>Alexis Sanchez</td>\n",
       "      <td>2016</td>\n",
       "      <td>86.0</td>\n",
       "      <td>87.0</td>\n",
       "      <td>right</td>\n",
       "      <td>high</td>\n",
       "      <td>high</td>\n",
       "      <td>77.0</td>\n",
       "      <td>85.0</td>\n",
       "      <td>65.0</td>\n",
       "      <td>...</td>\n",
       "      <td>78.0</td>\n",
       "      <td>77.0</td>\n",
       "      <td>30.0</td>\n",
       "      <td>39.0</td>\n",
       "      <td>35.0</td>\n",
       "      <td>10.0</td>\n",
       "      <td>10.0</td>\n",
       "      <td>15.0</td>\n",
       "      <td>12.0</td>\n",
       "      <td>13.0</td>\n",
       "    </tr>\n",
       "    <tr>\n",
       "      <th>8488</th>\n",
       "      <td>Alexis Sanchez</td>\n",
       "      <td>2016</td>\n",
       "      <td>86.0</td>\n",
       "      <td>87.0</td>\n",
       "      <td>right</td>\n",
       "      <td>high</td>\n",
       "      <td>high</td>\n",
       "      <td>77.0</td>\n",
       "      <td>85.0</td>\n",
       "      <td>65.0</td>\n",
       "      <td>...</td>\n",
       "      <td>78.0</td>\n",
       "      <td>77.0</td>\n",
       "      <td>30.0</td>\n",
       "      <td>39.0</td>\n",
       "      <td>35.0</td>\n",
       "      <td>10.0</td>\n",
       "      <td>10.0</td>\n",
       "      <td>15.0</td>\n",
       "      <td>12.0</td>\n",
       "      <td>13.0</td>\n",
       "    </tr>\n",
       "    <tr>\n",
       "      <th>19614</th>\n",
       "      <td>Bastian Schweinsteiger</td>\n",
       "      <td>2016</td>\n",
       "      <td>86.0</td>\n",
       "      <td>86.0</td>\n",
       "      <td>right</td>\n",
       "      <td>high</td>\n",
       "      <td>high</td>\n",
       "      <td>79.0</td>\n",
       "      <td>76.0</td>\n",
       "      <td>79.0</td>\n",
       "      <td>...</td>\n",
       "      <td>86.0</td>\n",
       "      <td>83.0</td>\n",
       "      <td>68.0</td>\n",
       "      <td>78.0</td>\n",
       "      <td>76.0</td>\n",
       "      <td>14.0</td>\n",
       "      <td>14.0</td>\n",
       "      <td>13.0</td>\n",
       "      <td>13.0</td>\n",
       "      <td>11.0</td>\n",
       "    </tr>\n",
       "    <tr>\n",
       "      <th>26301</th>\n",
       "      <td>Carlos Tevez</td>\n",
       "      <td>2016</td>\n",
       "      <td>86.0</td>\n",
       "      <td>86.0</td>\n",
       "      <td>right</td>\n",
       "      <td>high</td>\n",
       "      <td>high</td>\n",
       "      <td>73.0</td>\n",
       "      <td>88.0</td>\n",
       "      <td>60.0</td>\n",
       "      <td>...</td>\n",
       "      <td>80.0</td>\n",
       "      <td>82.0</td>\n",
       "      <td>39.0</td>\n",
       "      <td>51.0</td>\n",
       "      <td>51.0</td>\n",
       "      <td>4.0</td>\n",
       "      <td>2.0</td>\n",
       "      <td>3.0</td>\n",
       "      <td>2.0</td>\n",
       "      <td>4.0</td>\n",
       "    </tr>\n",
       "    <tr>\n",
       "      <th>170797</th>\n",
       "      <td>Thomas Mueller</td>\n",
       "      <td>2016</td>\n",
       "      <td>86.0</td>\n",
       "      <td>88.0</td>\n",
       "      <td>right</td>\n",
       "      <td>high</td>\n",
       "      <td>high</td>\n",
       "      <td>79.0</td>\n",
       "      <td>89.0</td>\n",
       "      <td>82.0</td>\n",
       "      <td>...</td>\n",
       "      <td>85.0</td>\n",
       "      <td>82.0</td>\n",
       "      <td>32.0</td>\n",
       "      <td>41.0</td>\n",
       "      <td>44.0</td>\n",
       "      <td>6.0</td>\n",
       "      <td>7.0</td>\n",
       "      <td>11.0</td>\n",
       "      <td>14.0</td>\n",
       "      <td>14.0</td>\n",
       "    </tr>\n",
       "    <tr>\n",
       "      <th>170798</th>\n",
       "      <td>Thomas Mueller</td>\n",
       "      <td>2016</td>\n",
       "      <td>86.0</td>\n",
       "      <td>88.0</td>\n",
       "      <td>right</td>\n",
       "      <td>high</td>\n",
       "      <td>high</td>\n",
       "      <td>79.0</td>\n",
       "      <td>89.0</td>\n",
       "      <td>82.0</td>\n",
       "      <td>...</td>\n",
       "      <td>85.0</td>\n",
       "      <td>90.0</td>\n",
       "      <td>32.0</td>\n",
       "      <td>41.0</td>\n",
       "      <td>44.0</td>\n",
       "      <td>6.0</td>\n",
       "      <td>7.0</td>\n",
       "      <td>11.0</td>\n",
       "      <td>14.0</td>\n",
       "      <td>14.0</td>\n",
       "    </tr>\n",
       "    <tr>\n",
       "      <th>170799</th>\n",
       "      <td>Thomas Mueller</td>\n",
       "      <td>2016</td>\n",
       "      <td>86.0</td>\n",
       "      <td>88.0</td>\n",
       "      <td>right</td>\n",
       "      <td>high</td>\n",
       "      <td>high</td>\n",
       "      <td>79.0</td>\n",
       "      <td>89.0</td>\n",
       "      <td>82.0</td>\n",
       "      <td>...</td>\n",
       "      <td>85.0</td>\n",
       "      <td>90.0</td>\n",
       "      <td>32.0</td>\n",
       "      <td>41.0</td>\n",
       "      <td>44.0</td>\n",
       "      <td>6.0</td>\n",
       "      <td>7.0</td>\n",
       "      <td>11.0</td>\n",
       "      <td>14.0</td>\n",
       "      <td>14.0</td>\n",
       "    </tr>\n",
       "  </tbody>\n",
       "</table>\n",
       "<p>9 rows × 40 columns</p>\n",
       "</div>"
      ],
      "text/plain": [
       "                   player_name  date  overall_rating  potential  \\\n",
       "8485            Alexis Sanchez  2016            86.0       87.0   \n",
       "8486            Alexis Sanchez  2016            86.0       87.0   \n",
       "8487            Alexis Sanchez  2016            86.0       87.0   \n",
       "8488            Alexis Sanchez  2016            86.0       87.0   \n",
       "19614   Bastian Schweinsteiger  2016            86.0       86.0   \n",
       "26301             Carlos Tevez  2016            86.0       86.0   \n",
       "170797          Thomas Mueller  2016            86.0       88.0   \n",
       "170798          Thomas Mueller  2016            86.0       88.0   \n",
       "170799          Thomas Mueller  2016            86.0       88.0   \n",
       "\n",
       "       preferred_foot attacking_work_rate defensive_work_rate  crossing  \\\n",
       "8485            right                high                high      77.0   \n",
       "8486            right                high                high      77.0   \n",
       "8487            right                high                high      77.0   \n",
       "8488            right                high                high      77.0   \n",
       "19614           right                high                high      79.0   \n",
       "26301           right                high                high      73.0   \n",
       "170797          right                high                high      79.0   \n",
       "170798          right                high                high      79.0   \n",
       "170799          right                high                high      79.0   \n",
       "\n",
       "        finishing  heading_accuracy  ...  vision  penalties  marking  \\\n",
       "8485         83.0              65.0  ...    78.0       77.0     30.0   \n",
       "8486         84.0              65.0  ...    78.0       77.0     30.0   \n",
       "8487         85.0              65.0  ...    78.0       77.0     30.0   \n",
       "8488         85.0              65.0  ...    78.0       77.0     30.0   \n",
       "19614        76.0              79.0  ...    86.0       83.0     68.0   \n",
       "26301        88.0              60.0  ...    80.0       82.0     39.0   \n",
       "170797       89.0              82.0  ...    85.0       82.0     32.0   \n",
       "170798       89.0              82.0  ...    85.0       90.0     32.0   \n",
       "170799       89.0              82.0  ...    85.0       90.0     32.0   \n",
       "\n",
       "        standing_tackle  sliding_tackle  gk_diving  gk_handling  gk_kicking  \\\n",
       "8485               39.0            35.0       10.0         10.0        15.0   \n",
       "8486               39.0            35.0       10.0         10.0        15.0   \n",
       "8487               39.0            35.0       10.0         10.0        15.0   \n",
       "8488               39.0            35.0       10.0         10.0        15.0   \n",
       "19614              78.0            76.0       14.0         14.0        13.0   \n",
       "26301              51.0            51.0        4.0          2.0         3.0   \n",
       "170797             41.0            44.0        6.0          7.0        11.0   \n",
       "170798             41.0            44.0        6.0          7.0        11.0   \n",
       "170799             41.0            44.0        6.0          7.0        11.0   \n",
       "\n",
       "        gk_positioning  gk_reflexes  \n",
       "8485              12.0         13.0  \n",
       "8486              12.0         13.0  \n",
       "8487              12.0         13.0  \n",
       "8488              12.0         13.0  \n",
       "19614             13.0         11.0  \n",
       "26301              2.0          4.0  \n",
       "170797            14.0         14.0  \n",
       "170798            14.0         14.0  \n",
       "170799            14.0         14.0  \n",
       "\n",
       "[9 rows x 40 columns]"
      ]
     },
     "execution_count": 77,
     "metadata": {},
     "output_type": "execute_result"
    }
   ],
   "source": [
    "player_attributes_2016.query('attacking_work_rate==\"high\" &defensive_work_rate==\"high\" & overall_rating >85 ')"
   ]
  },
  {
   "cell_type": "markdown",
   "id": "fe223d77",
   "metadata": {},
   "source": [
    "### **The players who best match the request are : Alexis Sanchez, Bastian Schweinsteiger, Calos Tevez, Thomas Mueller. They have high attacking and defending work and they overall rating is more than 85**"
   ]
  },
  {
   "cell_type": "markdown",
   "id": "1480a4b6",
   "metadata": {},
   "source": [
    "<a href=\"#toc\" role=\"button\" aria-pressed=\"true\" >⬆️Back to Table of Contents ⬆️</a>"
   ]
  },
  {
   "cell_type": "markdown",
   "id": "b7dc1b19",
   "metadata": {},
   "source": [
    "<a id=\"4\"></a>\n",
    "# **<center><span style=\"color:#fd7b12;\"> EDA Team attributes Dataset </span></center>**"
   ]
  },
  {
   "cell_type": "markdown",
   "id": "07ac3b50",
   "metadata": {},
   "source": [
    "<div class=\"alert alert-block alert-info\" style=\"font-size:14px; font-family:verdana; line-height: 1.7em;\">\n",
    "    📌 &nbsp;<b><u>Observations in Dataset:</u></b><br>\n",
    "\n",
    "* <i> There are total of <b><u>40 columns </u></b>and <b><u>183978  rows </u></b>in the dataset.</i><br>\n",
    "* <i> Dataset contains <b><u>7311819 observations</u></b> with <b><u>47301 missing values</u></b>.</i><br>"
   ]
  },
  {
   "cell_type": "code",
   "execution_count": 78,
   "id": "58aa7864",
   "metadata": {},
   "outputs": [
    {
     "data": {
      "text/html": [
       "<div>\n",
       "<style scoped>\n",
       "    .dataframe tbody tr th:only-of-type {\n",
       "        vertical-align: middle;\n",
       "    }\n",
       "\n",
       "    .dataframe tbody tr th {\n",
       "        vertical-align: top;\n",
       "    }\n",
       "\n",
       "    .dataframe thead th {\n",
       "        text-align: right;\n",
       "    }\n",
       "</style>\n",
       "<table border=\"1\" class=\"dataframe\">\n",
       "  <thead>\n",
       "    <tr style=\"text-align: right;\">\n",
       "      <th></th>\n",
       "      <th>id</th>\n",
       "      <th>team_fifa_api_id</th>\n",
       "      <th>team_api_id</th>\n",
       "      <th>date</th>\n",
       "      <th>buildUpPlaySpeed</th>\n",
       "      <th>buildUpPlaySpeedClass</th>\n",
       "      <th>buildUpPlayDribbling</th>\n",
       "      <th>buildUpPlayDribblingClass</th>\n",
       "      <th>buildUpPlayPassing</th>\n",
       "      <th>buildUpPlayPassingClass</th>\n",
       "      <th>...</th>\n",
       "      <th>chanceCreationShooting</th>\n",
       "      <th>chanceCreationShootingClass</th>\n",
       "      <th>chanceCreationPositioningClass</th>\n",
       "      <th>defencePressure</th>\n",
       "      <th>defencePressureClass</th>\n",
       "      <th>defenceAggression</th>\n",
       "      <th>defenceAggressionClass</th>\n",
       "      <th>defenceTeamWidth</th>\n",
       "      <th>defenceTeamWidthClass</th>\n",
       "      <th>defenceDefenderLineClass</th>\n",
       "    </tr>\n",
       "  </thead>\n",
       "  <tbody>\n",
       "    <tr>\n",
       "      <th>0</th>\n",
       "      <td>1</td>\n",
       "      <td>434</td>\n",
       "      <td>9930</td>\n",
       "      <td>2010-02-22 00:00:00</td>\n",
       "      <td>60</td>\n",
       "      <td>Balanced</td>\n",
       "      <td>NaN</td>\n",
       "      <td>Little</td>\n",
       "      <td>50</td>\n",
       "      <td>Mixed</td>\n",
       "      <td>...</td>\n",
       "      <td>55</td>\n",
       "      <td>Normal</td>\n",
       "      <td>Organised</td>\n",
       "      <td>50</td>\n",
       "      <td>Medium</td>\n",
       "      <td>55</td>\n",
       "      <td>Press</td>\n",
       "      <td>45</td>\n",
       "      <td>Normal</td>\n",
       "      <td>Cover</td>\n",
       "    </tr>\n",
       "    <tr>\n",
       "      <th>1</th>\n",
       "      <td>2</td>\n",
       "      <td>434</td>\n",
       "      <td>9930</td>\n",
       "      <td>2014-09-19 00:00:00</td>\n",
       "      <td>52</td>\n",
       "      <td>Balanced</td>\n",
       "      <td>48.0</td>\n",
       "      <td>Normal</td>\n",
       "      <td>56</td>\n",
       "      <td>Mixed</td>\n",
       "      <td>...</td>\n",
       "      <td>64</td>\n",
       "      <td>Normal</td>\n",
       "      <td>Organised</td>\n",
       "      <td>47</td>\n",
       "      <td>Medium</td>\n",
       "      <td>44</td>\n",
       "      <td>Press</td>\n",
       "      <td>54</td>\n",
       "      <td>Normal</td>\n",
       "      <td>Cover</td>\n",
       "    </tr>\n",
       "    <tr>\n",
       "      <th>2</th>\n",
       "      <td>3</td>\n",
       "      <td>434</td>\n",
       "      <td>9930</td>\n",
       "      <td>2015-09-10 00:00:00</td>\n",
       "      <td>47</td>\n",
       "      <td>Balanced</td>\n",
       "      <td>41.0</td>\n",
       "      <td>Normal</td>\n",
       "      <td>54</td>\n",
       "      <td>Mixed</td>\n",
       "      <td>...</td>\n",
       "      <td>64</td>\n",
       "      <td>Normal</td>\n",
       "      <td>Organised</td>\n",
       "      <td>47</td>\n",
       "      <td>Medium</td>\n",
       "      <td>44</td>\n",
       "      <td>Press</td>\n",
       "      <td>54</td>\n",
       "      <td>Normal</td>\n",
       "      <td>Cover</td>\n",
       "    </tr>\n",
       "  </tbody>\n",
       "</table>\n",
       "<p>3 rows × 25 columns</p>\n",
       "</div>"
      ],
      "text/plain": [
       "   id  team_fifa_api_id  team_api_id                 date  buildUpPlaySpeed  \\\n",
       "0   1               434         9930  2010-02-22 00:00:00                60   \n",
       "1   2               434         9930  2014-09-19 00:00:00                52   \n",
       "2   3               434         9930  2015-09-10 00:00:00                47   \n",
       "\n",
       "  buildUpPlaySpeedClass  buildUpPlayDribbling buildUpPlayDribblingClass  \\\n",
       "0              Balanced                   NaN                    Little   \n",
       "1              Balanced                  48.0                    Normal   \n",
       "2              Balanced                  41.0                    Normal   \n",
       "\n",
       "   buildUpPlayPassing buildUpPlayPassingClass  ... chanceCreationShooting  \\\n",
       "0                  50                   Mixed  ...                     55   \n",
       "1                  56                   Mixed  ...                     64   \n",
       "2                  54                   Mixed  ...                     64   \n",
       "\n",
       "   chanceCreationShootingClass chanceCreationPositioningClass  \\\n",
       "0                       Normal                      Organised   \n",
       "1                       Normal                      Organised   \n",
       "2                       Normal                      Organised   \n",
       "\n",
       "   defencePressure defencePressureClass  defenceAggression  \\\n",
       "0               50               Medium                 55   \n",
       "1               47               Medium                 44   \n",
       "2               47               Medium                 44   \n",
       "\n",
       "  defenceAggressionClass defenceTeamWidth  defenceTeamWidthClass  \\\n",
       "0                  Press               45                 Normal   \n",
       "1                  Press               54                 Normal   \n",
       "2                  Press               54                 Normal   \n",
       "\n",
       "  defenceDefenderLineClass  \n",
       "0                    Cover  \n",
       "1                    Cover  \n",
       "2                    Cover  \n",
       "\n",
       "[3 rows x 25 columns]"
      ]
     },
     "execution_count": 78,
     "metadata": {},
     "output_type": "execute_result"
    }
   ],
   "source": [
    "team_attributes.head(3)"
   ]
  },
  {
   "cell_type": "code",
   "execution_count": 79,
   "id": "2a711897",
   "metadata": {},
   "outputs": [
    {
     "name": "stdout",
     "output_type": "stream",
     "text": [
      "\u001b[94mNumber of rows in the dataset: 1458\n",
      "\u001b[94mNumber of columns in the dataseta: 25\n",
      "\u001b[94mNumber of values in the dataset: 35481\n",
      "\u001b[94mNumber missing values in the dataset: 969\n"
     ]
    }
   ],
   "source": [
    "dataset_info(team_attributes)"
   ]
  },
  {
   "cell_type": "markdown",
   "id": "a82a242e",
   "metadata": {},
   "source": [
    "### We have to merge Team dataset with Team Attributes dataset for have the team name next to they attibutes"
   ]
  },
  {
   "cell_type": "code",
   "execution_count": 80,
   "id": "566c7503",
   "metadata": {},
   "outputs": [
    {
     "data": {
      "text/plain": [
       "Index(['id', 'team_fifa_api_id', 'team_api_id', 'date', 'buildUpPlaySpeed',\n",
       "       'buildUpPlaySpeedClass', 'buildUpPlayDribbling',\n",
       "       'buildUpPlayDribblingClass', 'buildUpPlayPassing',\n",
       "       'buildUpPlayPassingClass', 'buildUpPlayPositioningClass',\n",
       "       'chanceCreationPassing', 'chanceCreationPassingClass',\n",
       "       'chanceCreationCrossing', 'chanceCreationCrossingClass',\n",
       "       'chanceCreationShooting', 'chanceCreationShootingClass',\n",
       "       'chanceCreationPositioningClass', 'defencePressure',\n",
       "       'defencePressureClass', 'defenceAggression', 'defenceAggressionClass',\n",
       "       'defenceTeamWidth', 'defenceTeamWidthClass',\n",
       "       'defenceDefenderLineClass'],\n",
       "      dtype='object')"
      ]
     },
     "execution_count": 80,
     "metadata": {},
     "output_type": "execute_result"
    }
   ],
   "source": [
    "team_attributes.columns"
   ]
  },
  {
   "cell_type": "code",
   "execution_count": 81,
   "id": "4fcf7788",
   "metadata": {},
   "outputs": [
    {
     "data": {
      "text/plain": [
       "Index(['id', 'away_team_api_id', 'team_fifa_api_id', 'team_long_name',\n",
       "       'team_short_name'],\n",
       "      dtype='object')"
      ]
     },
     "execution_count": 81,
     "metadata": {},
     "output_type": "execute_result"
    }
   ],
   "source": [
    "team.columns"
   ]
  },
  {
   "cell_type": "code",
   "execution_count": 82,
   "id": "143887bc",
   "metadata": {},
   "outputs": [
    {
     "data": {
      "text/html": [
       "<div>\n",
       "<style scoped>\n",
       "    .dataframe tbody tr th:only-of-type {\n",
       "        vertical-align: middle;\n",
       "    }\n",
       "\n",
       "    .dataframe tbody tr th {\n",
       "        vertical-align: top;\n",
       "    }\n",
       "\n",
       "    .dataframe thead th {\n",
       "        text-align: right;\n",
       "    }\n",
       "</style>\n",
       "<table border=\"1\" class=\"dataframe\">\n",
       "  <thead>\n",
       "    <tr style=\"text-align: right;\">\n",
       "      <th></th>\n",
       "      <th>date</th>\n",
       "      <th>buildUpPlaySpeed</th>\n",
       "      <th>buildUpPlaySpeedClass</th>\n",
       "      <th>buildUpPlayDribbling</th>\n",
       "      <th>buildUpPlayDribblingClass</th>\n",
       "      <th>buildUpPlayPassing</th>\n",
       "      <th>buildUpPlayPassingClass</th>\n",
       "      <th>buildUpPlayPositioningClass</th>\n",
       "      <th>chanceCreationPassing</th>\n",
       "      <th>chanceCreationPassingClass</th>\n",
       "      <th>...</th>\n",
       "      <th>chanceCreationShootingClass</th>\n",
       "      <th>chanceCreationPositioningClass</th>\n",
       "      <th>defencePressure</th>\n",
       "      <th>defencePressureClass</th>\n",
       "      <th>defenceAggression</th>\n",
       "      <th>defenceAggressionClass</th>\n",
       "      <th>defenceTeamWidth</th>\n",
       "      <th>defenceTeamWidthClass</th>\n",
       "      <th>defenceDefenderLineClass</th>\n",
       "      <th>team_long_name</th>\n",
       "    </tr>\n",
       "  </thead>\n",
       "  <tbody>\n",
       "    <tr>\n",
       "      <th>0</th>\n",
       "      <td>2010-02-22 00:00:00</td>\n",
       "      <td>60</td>\n",
       "      <td>Balanced</td>\n",
       "      <td>NaN</td>\n",
       "      <td>Little</td>\n",
       "      <td>50</td>\n",
       "      <td>Mixed</td>\n",
       "      <td>Organised</td>\n",
       "      <td>60</td>\n",
       "      <td>Normal</td>\n",
       "      <td>...</td>\n",
       "      <td>Normal</td>\n",
       "      <td>Organised</td>\n",
       "      <td>50</td>\n",
       "      <td>Medium</td>\n",
       "      <td>55</td>\n",
       "      <td>Press</td>\n",
       "      <td>45</td>\n",
       "      <td>Normal</td>\n",
       "      <td>Cover</td>\n",
       "      <td>FC Aarau</td>\n",
       "    </tr>\n",
       "    <tr>\n",
       "      <th>1</th>\n",
       "      <td>2014-09-19 00:00:00</td>\n",
       "      <td>52</td>\n",
       "      <td>Balanced</td>\n",
       "      <td>48.0</td>\n",
       "      <td>Normal</td>\n",
       "      <td>56</td>\n",
       "      <td>Mixed</td>\n",
       "      <td>Organised</td>\n",
       "      <td>54</td>\n",
       "      <td>Normal</td>\n",
       "      <td>...</td>\n",
       "      <td>Normal</td>\n",
       "      <td>Organised</td>\n",
       "      <td>47</td>\n",
       "      <td>Medium</td>\n",
       "      <td>44</td>\n",
       "      <td>Press</td>\n",
       "      <td>54</td>\n",
       "      <td>Normal</td>\n",
       "      <td>Cover</td>\n",
       "      <td>FC Aarau</td>\n",
       "    </tr>\n",
       "    <tr>\n",
       "      <th>2</th>\n",
       "      <td>2015-09-10 00:00:00</td>\n",
       "      <td>47</td>\n",
       "      <td>Balanced</td>\n",
       "      <td>41.0</td>\n",
       "      <td>Normal</td>\n",
       "      <td>54</td>\n",
       "      <td>Mixed</td>\n",
       "      <td>Organised</td>\n",
       "      <td>54</td>\n",
       "      <td>Normal</td>\n",
       "      <td>...</td>\n",
       "      <td>Normal</td>\n",
       "      <td>Organised</td>\n",
       "      <td>47</td>\n",
       "      <td>Medium</td>\n",
       "      <td>44</td>\n",
       "      <td>Press</td>\n",
       "      <td>54</td>\n",
       "      <td>Normal</td>\n",
       "      <td>Cover</td>\n",
       "      <td>FC Aarau</td>\n",
       "    </tr>\n",
       "    <tr>\n",
       "      <th>3</th>\n",
       "      <td>2010-02-22 00:00:00</td>\n",
       "      <td>70</td>\n",
       "      <td>Fast</td>\n",
       "      <td>NaN</td>\n",
       "      <td>Little</td>\n",
       "      <td>70</td>\n",
       "      <td>Long</td>\n",
       "      <td>Organised</td>\n",
       "      <td>70</td>\n",
       "      <td>Risky</td>\n",
       "      <td>...</td>\n",
       "      <td>Lots</td>\n",
       "      <td>Organised</td>\n",
       "      <td>60</td>\n",
       "      <td>Medium</td>\n",
       "      <td>70</td>\n",
       "      <td>Double</td>\n",
       "      <td>70</td>\n",
       "      <td>Wide</td>\n",
       "      <td>Cover</td>\n",
       "      <td>Aberdeen</td>\n",
       "    </tr>\n",
       "    <tr>\n",
       "      <th>4</th>\n",
       "      <td>2011-02-22 00:00:00</td>\n",
       "      <td>47</td>\n",
       "      <td>Balanced</td>\n",
       "      <td>NaN</td>\n",
       "      <td>Little</td>\n",
       "      <td>52</td>\n",
       "      <td>Mixed</td>\n",
       "      <td>Organised</td>\n",
       "      <td>53</td>\n",
       "      <td>Normal</td>\n",
       "      <td>...</td>\n",
       "      <td>Normal</td>\n",
       "      <td>Organised</td>\n",
       "      <td>47</td>\n",
       "      <td>Medium</td>\n",
       "      <td>47</td>\n",
       "      <td>Press</td>\n",
       "      <td>52</td>\n",
       "      <td>Normal</td>\n",
       "      <td>Cover</td>\n",
       "      <td>Aberdeen</td>\n",
       "    </tr>\n",
       "  </tbody>\n",
       "</table>\n",
       "<p>5 rows × 23 columns</p>\n",
       "</div>"
      ],
      "text/plain": [
       "                  date  buildUpPlaySpeed buildUpPlaySpeedClass  \\\n",
       "0  2010-02-22 00:00:00                60              Balanced   \n",
       "1  2014-09-19 00:00:00                52              Balanced   \n",
       "2  2015-09-10 00:00:00                47              Balanced   \n",
       "3  2010-02-22 00:00:00                70                  Fast   \n",
       "4  2011-02-22 00:00:00                47              Balanced   \n",
       "\n",
       "   buildUpPlayDribbling buildUpPlayDribblingClass  buildUpPlayPassing  \\\n",
       "0                   NaN                    Little                  50   \n",
       "1                  48.0                    Normal                  56   \n",
       "2                  41.0                    Normal                  54   \n",
       "3                   NaN                    Little                  70   \n",
       "4                   NaN                    Little                  52   \n",
       "\n",
       "  buildUpPlayPassingClass buildUpPlayPositioningClass  chanceCreationPassing  \\\n",
       "0                   Mixed                   Organised                     60   \n",
       "1                   Mixed                   Organised                     54   \n",
       "2                   Mixed                   Organised                     54   \n",
       "3                    Long                   Organised                     70   \n",
       "4                   Mixed                   Organised                     53   \n",
       "\n",
       "  chanceCreationPassingClass  ...  chanceCreationShootingClass  \\\n",
       "0                     Normal  ...                       Normal   \n",
       "1                     Normal  ...                       Normal   \n",
       "2                     Normal  ...                       Normal   \n",
       "3                      Risky  ...                         Lots   \n",
       "4                     Normal  ...                       Normal   \n",
       "\n",
       "  chanceCreationPositioningClass  defencePressure defencePressureClass  \\\n",
       "0                      Organised               50               Medium   \n",
       "1                      Organised               47               Medium   \n",
       "2                      Organised               47               Medium   \n",
       "3                      Organised               60               Medium   \n",
       "4                      Organised               47               Medium   \n",
       "\n",
       "  defenceAggression  defenceAggressionClass defenceTeamWidth  \\\n",
       "0                55                   Press               45   \n",
       "1                44                   Press               54   \n",
       "2                44                   Press               54   \n",
       "3                70                  Double               70   \n",
       "4                47                   Press               52   \n",
       "\n",
       "   defenceTeamWidthClass defenceDefenderLineClass  team_long_name  \n",
       "0                 Normal                    Cover        FC Aarau  \n",
       "1                 Normal                    Cover        FC Aarau  \n",
       "2                 Normal                    Cover        FC Aarau  \n",
       "3                   Wide                    Cover        Aberdeen  \n",
       "4                 Normal                    Cover        Aberdeen  \n",
       "\n",
       "[5 rows x 23 columns]"
      ]
     },
     "execution_count": 82,
     "metadata": {},
     "output_type": "execute_result"
    }
   ],
   "source": [
    "team_attributes = team_attributes.merge(team,how='inner', on='team_fifa_api_id')\n",
    "team_attributes.drop(['id_y', 'away_team_api_id', 'team_short_name','id_x','team_fifa_api_id','team_api_id'],axis=1,inplace=True)\n",
    "team_attributes.head(5)"
   ]
  },
  {
   "cell_type": "code",
   "execution_count": 83,
   "id": "1f416318",
   "metadata": {},
   "outputs": [
    {
     "data": {
      "text/plain": [
       "Index(['date', 'buildUpPlaySpeed', 'buildUpPlaySpeedClass',\n",
       "       'buildUpPlayDribbling', 'buildUpPlayDribblingClass',\n",
       "       'buildUpPlayPassing', 'buildUpPlayPassingClass',\n",
       "       'buildUpPlayPositioningClass', 'chanceCreationPassing',\n",
       "       'chanceCreationPassingClass', 'chanceCreationCrossing',\n",
       "       'chanceCreationCrossingClass', 'chanceCreationShooting',\n",
       "       'chanceCreationShootingClass', 'chanceCreationPositioningClass',\n",
       "       'defencePressure', 'defencePressureClass', 'defenceAggression',\n",
       "       'defenceAggressionClass', 'defenceTeamWidth', 'defenceTeamWidthClass',\n",
       "       'defenceDefenderLineClass', 'team_long_name'],\n",
       "      dtype='object')"
      ]
     },
     "execution_count": 83,
     "metadata": {},
     "output_type": "execute_result"
    }
   ],
   "source": [
    "team_attributes.columns"
   ]
  },
  {
   "cell_type": "code",
   "execution_count": 84,
   "id": "59c7b330",
   "metadata": {},
   "outputs": [],
   "source": [
    "team_attributes = team_attributes[['team_long_name','date', 'buildUpPlaySpeed', 'buildUpPlaySpeedClass','buildUpPlayDribbling', 'buildUpPlayDribblingClass','buildUpPlayPassing', 'buildUpPlayPassingClass','buildUpPlayPositioningClass', 'chanceCreationPassing','chanceCreationPassingClass', 'chanceCreationCrossing','chanceCreationCrossingClass', 'chanceCreationShooting','chanceCreationShootingClass', 'chanceCreationPositioningClass','defencePressure', 'defencePressureClass', 'defenceAggression','defenceAggressionClass', 'defenceTeamWidth', 'defenceTeamWidthClass','defenceDefenderLineClass', ]]"
   ]
  },
  {
   "cell_type": "code",
   "execution_count": 85,
   "id": "988111e5",
   "metadata": {},
   "outputs": [],
   "source": [
    "team_attributes.date = team_attributes.date.str[:4]"
   ]
  },
  {
   "cell_type": "code",
   "execution_count": 86,
   "id": "60670d4e",
   "metadata": {},
   "outputs": [
    {
     "data": {
      "text/plain": [
       "array(['2010', '2014', '2015', '2011', '2012', '2013'], dtype=object)"
      ]
     },
     "execution_count": 86,
     "metadata": {},
     "output_type": "execute_result"
    }
   ],
   "source": [
    "team_attributes.date.unique()"
   ]
  },
  {
   "cell_type": "code",
   "execution_count": 87,
   "id": "26ceca2a",
   "metadata": {},
   "outputs": [
    {
     "data": {
      "text/html": [
       "<div>\n",
       "<style scoped>\n",
       "    .dataframe tbody tr th:only-of-type {\n",
       "        vertical-align: middle;\n",
       "    }\n",
       "\n",
       "    .dataframe tbody tr th {\n",
       "        vertical-align: top;\n",
       "    }\n",
       "\n",
       "    .dataframe thead th {\n",
       "        text-align: right;\n",
       "    }\n",
       "</style>\n",
       "<table border=\"1\" class=\"dataframe\">\n",
       "  <thead>\n",
       "    <tr style=\"text-align: right;\">\n",
       "      <th></th>\n",
       "      <th>team_long_name</th>\n",
       "      <th>date</th>\n",
       "      <th>buildUpPlaySpeed</th>\n",
       "      <th>buildUpPlaySpeedClass</th>\n",
       "      <th>buildUpPlayDribbling</th>\n",
       "      <th>buildUpPlayDribblingClass</th>\n",
       "      <th>buildUpPlayPassing</th>\n",
       "      <th>buildUpPlayPassingClass</th>\n",
       "      <th>buildUpPlayPositioningClass</th>\n",
       "      <th>chanceCreationPassing</th>\n",
       "      <th>...</th>\n",
       "      <th>chanceCreationShooting</th>\n",
       "      <th>chanceCreationShootingClass</th>\n",
       "      <th>chanceCreationPositioningClass</th>\n",
       "      <th>defencePressure</th>\n",
       "      <th>defencePressureClass</th>\n",
       "      <th>defenceAggression</th>\n",
       "      <th>defenceAggressionClass</th>\n",
       "      <th>defenceTeamWidth</th>\n",
       "      <th>defenceTeamWidthClass</th>\n",
       "      <th>defenceDefenderLineClass</th>\n",
       "    </tr>\n",
       "  </thead>\n",
       "  <tbody>\n",
       "    <tr>\n",
       "      <th>2</th>\n",
       "      <td>FC Aarau</td>\n",
       "      <td>2015</td>\n",
       "      <td>47</td>\n",
       "      <td>Balanced</td>\n",
       "      <td>41.0</td>\n",
       "      <td>Normal</td>\n",
       "      <td>54</td>\n",
       "      <td>Mixed</td>\n",
       "      <td>Organised</td>\n",
       "      <td>54</td>\n",
       "      <td>...</td>\n",
       "      <td>64</td>\n",
       "      <td>Normal</td>\n",
       "      <td>Organised</td>\n",
       "      <td>47</td>\n",
       "      <td>Medium</td>\n",
       "      <td>44</td>\n",
       "      <td>Press</td>\n",
       "      <td>54</td>\n",
       "      <td>Normal</td>\n",
       "      <td>Cover</td>\n",
       "    </tr>\n",
       "    <tr>\n",
       "      <th>8</th>\n",
       "      <td>Aberdeen</td>\n",
       "      <td>2015</td>\n",
       "      <td>59</td>\n",
       "      <td>Balanced</td>\n",
       "      <td>64.0</td>\n",
       "      <td>Normal</td>\n",
       "      <td>53</td>\n",
       "      <td>Mixed</td>\n",
       "      <td>Organised</td>\n",
       "      <td>51</td>\n",
       "      <td>...</td>\n",
       "      <td>63</td>\n",
       "      <td>Normal</td>\n",
       "      <td>Free Form</td>\n",
       "      <td>49</td>\n",
       "      <td>Medium</td>\n",
       "      <td>45</td>\n",
       "      <td>Press</td>\n",
       "      <td>63</td>\n",
       "      <td>Normal</td>\n",
       "      <td>Cover</td>\n",
       "    </tr>\n",
       "    <tr>\n",
       "      <th>14</th>\n",
       "      <td>AC Ajaccio</td>\n",
       "      <td>2015</td>\n",
       "      <td>59</td>\n",
       "      <td>Balanced</td>\n",
       "      <td>57.0</td>\n",
       "      <td>Normal</td>\n",
       "      <td>52</td>\n",
       "      <td>Mixed</td>\n",
       "      <td>Organised</td>\n",
       "      <td>48</td>\n",
       "      <td>...</td>\n",
       "      <td>52</td>\n",
       "      <td>Normal</td>\n",
       "      <td>Organised</td>\n",
       "      <td>38</td>\n",
       "      <td>Medium</td>\n",
       "      <td>47</td>\n",
       "      <td>Press</td>\n",
       "      <td>53</td>\n",
       "      <td>Normal</td>\n",
       "      <td>Cover</td>\n",
       "    </tr>\n",
       "    <tr>\n",
       "      <th>20</th>\n",
       "      <td>Milan</td>\n",
       "      <td>2015</td>\n",
       "      <td>48</td>\n",
       "      <td>Balanced</td>\n",
       "      <td>70.0</td>\n",
       "      <td>Lots</td>\n",
       "      <td>52</td>\n",
       "      <td>Mixed</td>\n",
       "      <td>Organised</td>\n",
       "      <td>66</td>\n",
       "      <td>...</td>\n",
       "      <td>69</td>\n",
       "      <td>Lots</td>\n",
       "      <td>Organised</td>\n",
       "      <td>58</td>\n",
       "      <td>Medium</td>\n",
       "      <td>57</td>\n",
       "      <td>Press</td>\n",
       "      <td>49</td>\n",
       "      <td>Normal</td>\n",
       "      <td>Cover</td>\n",
       "    </tr>\n",
       "    <tr>\n",
       "      <th>26</th>\n",
       "      <td>Académica de Coimbra</td>\n",
       "      <td>2015</td>\n",
       "      <td>53</td>\n",
       "      <td>Balanced</td>\n",
       "      <td>53.0</td>\n",
       "      <td>Normal</td>\n",
       "      <td>44</td>\n",
       "      <td>Mixed</td>\n",
       "      <td>Organised</td>\n",
       "      <td>55</td>\n",
       "      <td>...</td>\n",
       "      <td>60</td>\n",
       "      <td>Normal</td>\n",
       "      <td>Organised</td>\n",
       "      <td>39</td>\n",
       "      <td>Medium</td>\n",
       "      <td>38</td>\n",
       "      <td>Press</td>\n",
       "      <td>61</td>\n",
       "      <td>Normal</td>\n",
       "      <td>Cover</td>\n",
       "    </tr>\n",
       "  </tbody>\n",
       "</table>\n",
       "<p>5 rows × 23 columns</p>\n",
       "</div>"
      ],
      "text/plain": [
       "          team_long_name  date  buildUpPlaySpeed buildUpPlaySpeedClass  \\\n",
       "2               FC Aarau  2015                47              Balanced   \n",
       "8               Aberdeen  2015                59              Balanced   \n",
       "14            AC Ajaccio  2015                59              Balanced   \n",
       "20                 Milan  2015                48              Balanced   \n",
       "26  Académica de Coimbra  2015                53              Balanced   \n",
       "\n",
       "    buildUpPlayDribbling buildUpPlayDribblingClass  buildUpPlayPassing  \\\n",
       "2                   41.0                    Normal                  54   \n",
       "8                   64.0                    Normal                  53   \n",
       "14                  57.0                    Normal                  52   \n",
       "20                  70.0                      Lots                  52   \n",
       "26                  53.0                    Normal                  44   \n",
       "\n",
       "   buildUpPlayPassingClass buildUpPlayPositioningClass  chanceCreationPassing  \\\n",
       "2                    Mixed                   Organised                     54   \n",
       "8                    Mixed                   Organised                     51   \n",
       "14                   Mixed                   Organised                     48   \n",
       "20                   Mixed                   Organised                     66   \n",
       "26                   Mixed                   Organised                     55   \n",
       "\n",
       "    ... chanceCreationShooting  chanceCreationShootingClass  \\\n",
       "2   ...                     64                       Normal   \n",
       "8   ...                     63                       Normal   \n",
       "14  ...                     52                       Normal   \n",
       "20  ...                     69                         Lots   \n",
       "26  ...                     60                       Normal   \n",
       "\n",
       "   chanceCreationPositioningClass  defencePressure defencePressureClass  \\\n",
       "2                       Organised               47               Medium   \n",
       "8                       Free Form               49               Medium   \n",
       "14                      Organised               38               Medium   \n",
       "20                      Organised               58               Medium   \n",
       "26                      Organised               39               Medium   \n",
       "\n",
       "   defenceAggression  defenceAggressionClass defenceTeamWidth  \\\n",
       "2                 44                   Press               54   \n",
       "8                 45                   Press               63   \n",
       "14                47                   Press               53   \n",
       "20                57                   Press               49   \n",
       "26                38                   Press               61   \n",
       "\n",
       "    defenceTeamWidthClass defenceDefenderLineClass  \n",
       "2                  Normal                    Cover  \n",
       "8                  Normal                    Cover  \n",
       "14                 Normal                    Cover  \n",
       "20                 Normal                    Cover  \n",
       "26                 Normal                    Cover  \n",
       "\n",
       "[5 rows x 23 columns]"
      ]
     },
     "execution_count": 87,
     "metadata": {},
     "output_type": "execute_result"
    }
   ],
   "source": [
    "team_attributes_2015 = team_attributes.query('date==\"2015\"')\n",
    "team_attributes_2015.head()"
   ]
  },
  {
   "cell_type": "code",
   "execution_count": 88,
   "id": "2a419602",
   "metadata": {},
   "outputs": [],
   "source": [
    "team_attributes_2015.drop(['buildUpPlaySpeedClass','buildUpPlayDribblingClass', 'buildUpPlayPassingClass','buildUpPlayPositioningClass','chanceCreationPassingClass', 'chanceCreationCrossingClass', 'chanceCreationShootingClass', 'chanceCreationPositioningClass','defencePressureClass', 'defenceAggressionClass', 'defenceTeamWidthClass','defenceDefenderLineClass', ],axis=1,inplace=True)"
   ]
  },
  {
   "cell_type": "code",
   "execution_count": 89,
   "id": "b4dd4076",
   "metadata": {},
   "outputs": [
    {
     "data": {
      "text/html": [
       "<div>\n",
       "<style scoped>\n",
       "    .dataframe tbody tr th:only-of-type {\n",
       "        vertical-align: middle;\n",
       "    }\n",
       "\n",
       "    .dataframe tbody tr th {\n",
       "        vertical-align: top;\n",
       "    }\n",
       "\n",
       "    .dataframe thead th {\n",
       "        text-align: right;\n",
       "    }\n",
       "</style>\n",
       "<table border=\"1\" class=\"dataframe\">\n",
       "  <thead>\n",
       "    <tr style=\"text-align: right;\">\n",
       "      <th></th>\n",
       "      <th>team_long_name</th>\n",
       "      <th>date</th>\n",
       "      <th>buildUpPlaySpeed</th>\n",
       "      <th>buildUpPlayDribbling</th>\n",
       "      <th>buildUpPlayPassing</th>\n",
       "      <th>chanceCreationPassing</th>\n",
       "      <th>chanceCreationCrossing</th>\n",
       "      <th>chanceCreationShooting</th>\n",
       "      <th>defencePressure</th>\n",
       "      <th>defenceAggression</th>\n",
       "      <th>defenceTeamWidth</th>\n",
       "    </tr>\n",
       "  </thead>\n",
       "  <tbody>\n",
       "    <tr>\n",
       "      <th>2</th>\n",
       "      <td>FC Aarau</td>\n",
       "      <td>2015</td>\n",
       "      <td>47</td>\n",
       "      <td>41.0</td>\n",
       "      <td>54</td>\n",
       "      <td>54</td>\n",
       "      <td>63</td>\n",
       "      <td>64</td>\n",
       "      <td>47</td>\n",
       "      <td>44</td>\n",
       "      <td>54</td>\n",
       "    </tr>\n",
       "    <tr>\n",
       "      <th>8</th>\n",
       "      <td>Aberdeen</td>\n",
       "      <td>2015</td>\n",
       "      <td>59</td>\n",
       "      <td>64.0</td>\n",
       "      <td>53</td>\n",
       "      <td>51</td>\n",
       "      <td>72</td>\n",
       "      <td>63</td>\n",
       "      <td>49</td>\n",
       "      <td>45</td>\n",
       "      <td>63</td>\n",
       "    </tr>\n",
       "    <tr>\n",
       "      <th>14</th>\n",
       "      <td>AC Ajaccio</td>\n",
       "      <td>2015</td>\n",
       "      <td>59</td>\n",
       "      <td>57.0</td>\n",
       "      <td>52</td>\n",
       "      <td>48</td>\n",
       "      <td>38</td>\n",
       "      <td>52</td>\n",
       "      <td>38</td>\n",
       "      <td>47</td>\n",
       "      <td>53</td>\n",
       "    </tr>\n",
       "    <tr>\n",
       "      <th>20</th>\n",
       "      <td>Milan</td>\n",
       "      <td>2015</td>\n",
       "      <td>48</td>\n",
       "      <td>70.0</td>\n",
       "      <td>52</td>\n",
       "      <td>66</td>\n",
       "      <td>36</td>\n",
       "      <td>69</td>\n",
       "      <td>58</td>\n",
       "      <td>57</td>\n",
       "      <td>49</td>\n",
       "    </tr>\n",
       "    <tr>\n",
       "      <th>26</th>\n",
       "      <td>Académica de Coimbra</td>\n",
       "      <td>2015</td>\n",
       "      <td>53</td>\n",
       "      <td>53.0</td>\n",
       "      <td>44</td>\n",
       "      <td>55</td>\n",
       "      <td>51</td>\n",
       "      <td>60</td>\n",
       "      <td>39</td>\n",
       "      <td>38</td>\n",
       "      <td>61</td>\n",
       "    </tr>\n",
       "  </tbody>\n",
       "</table>\n",
       "</div>"
      ],
      "text/plain": [
       "          team_long_name  date  buildUpPlaySpeed  buildUpPlayDribbling  \\\n",
       "2               FC Aarau  2015                47                  41.0   \n",
       "8               Aberdeen  2015                59                  64.0   \n",
       "14            AC Ajaccio  2015                59                  57.0   \n",
       "20                 Milan  2015                48                  70.0   \n",
       "26  Académica de Coimbra  2015                53                  53.0   \n",
       "\n",
       "    buildUpPlayPassing  chanceCreationPassing  chanceCreationCrossing  \\\n",
       "2                   54                     54                      63   \n",
       "8                   53                     51                      72   \n",
       "14                  52                     48                      38   \n",
       "20                  52                     66                      36   \n",
       "26                  44                     55                      51   \n",
       "\n",
       "    chanceCreationShooting  defencePressure  defenceAggression  \\\n",
       "2                       64               47                 44   \n",
       "8                       63               49                 45   \n",
       "14                      52               38                 47   \n",
       "20                      69               58                 57   \n",
       "26                      60               39                 38   \n",
       "\n",
       "    defenceTeamWidth  \n",
       "2                 54  \n",
       "8                 63  \n",
       "14                53  \n",
       "20                49  \n",
       "26                61  "
      ]
     },
     "execution_count": 89,
     "metadata": {},
     "output_type": "execute_result"
    }
   ],
   "source": [
    "team_attributes_2015.head(5)"
   ]
  },
  {
   "cell_type": "code",
   "execution_count": 90,
   "id": "75555045",
   "metadata": {},
   "outputs": [
    {
     "data": {
      "text/plain": [
       "0"
      ]
     },
     "execution_count": 90,
     "metadata": {},
     "output_type": "execute_result"
    }
   ],
   "source": [
    "team_attributes_2015.buildUpPlayPassing.isnull().sum()"
   ]
  },
  {
   "cell_type": "code",
   "execution_count": 91,
   "id": "4a1eee8a",
   "metadata": {},
   "outputs": [
    {
     "data": {
      "text/plain": [
       "0"
      ]
     },
     "execution_count": 91,
     "metadata": {},
     "output_type": "execute_result"
    }
   ],
   "source": [
    "team_attributes_2015.chanceCreationPassing.isnull().sum()"
   ]
  },
  {
   "cell_type": "code",
   "execution_count": 92,
   "id": "9b614667",
   "metadata": {},
   "outputs": [],
   "source": [
    "team_attributes_2015['generalPassing'] = team_attributes_2015['chanceCreationPassing']+team_attributes_2015['chanceCreationPassing']\n",
    "team_attributes_2015['generalPassing'] = team_attributes_2015['generalPassing']/2"
   ]
  },
  {
   "cell_type": "code",
   "execution_count": 93,
   "id": "aec7791c",
   "metadata": {},
   "outputs": [
    {
     "data": {
      "text/html": [
       "<div>\n",
       "<style scoped>\n",
       "    .dataframe tbody tr th:only-of-type {\n",
       "        vertical-align: middle;\n",
       "    }\n",
       "\n",
       "    .dataframe tbody tr th {\n",
       "        vertical-align: top;\n",
       "    }\n",
       "\n",
       "    .dataframe thead th {\n",
       "        text-align: right;\n",
       "    }\n",
       "</style>\n",
       "<table border=\"1\" class=\"dataframe\">\n",
       "  <thead>\n",
       "    <tr style=\"text-align: right;\">\n",
       "      <th></th>\n",
       "      <th>team_long_name</th>\n",
       "      <th>date</th>\n",
       "      <th>buildUpPlaySpeed</th>\n",
       "      <th>buildUpPlayDribbling</th>\n",
       "      <th>buildUpPlayPassing</th>\n",
       "      <th>chanceCreationPassing</th>\n",
       "      <th>chanceCreationCrossing</th>\n",
       "      <th>chanceCreationShooting</th>\n",
       "      <th>defencePressure</th>\n",
       "      <th>defenceAggression</th>\n",
       "      <th>defenceTeamWidth</th>\n",
       "      <th>generalPassing</th>\n",
       "    </tr>\n",
       "  </thead>\n",
       "  <tbody>\n",
       "    <tr>\n",
       "      <th>2</th>\n",
       "      <td>FC Aarau</td>\n",
       "      <td>2015</td>\n",
       "      <td>47</td>\n",
       "      <td>41.0</td>\n",
       "      <td>54</td>\n",
       "      <td>54</td>\n",
       "      <td>63</td>\n",
       "      <td>64</td>\n",
       "      <td>47</td>\n",
       "      <td>44</td>\n",
       "      <td>54</td>\n",
       "      <td>54.0</td>\n",
       "    </tr>\n",
       "    <tr>\n",
       "      <th>8</th>\n",
       "      <td>Aberdeen</td>\n",
       "      <td>2015</td>\n",
       "      <td>59</td>\n",
       "      <td>64.0</td>\n",
       "      <td>53</td>\n",
       "      <td>51</td>\n",
       "      <td>72</td>\n",
       "      <td>63</td>\n",
       "      <td>49</td>\n",
       "      <td>45</td>\n",
       "      <td>63</td>\n",
       "      <td>51.0</td>\n",
       "    </tr>\n",
       "    <tr>\n",
       "      <th>14</th>\n",
       "      <td>AC Ajaccio</td>\n",
       "      <td>2015</td>\n",
       "      <td>59</td>\n",
       "      <td>57.0</td>\n",
       "      <td>52</td>\n",
       "      <td>48</td>\n",
       "      <td>38</td>\n",
       "      <td>52</td>\n",
       "      <td>38</td>\n",
       "      <td>47</td>\n",
       "      <td>53</td>\n",
       "      <td>48.0</td>\n",
       "    </tr>\n",
       "    <tr>\n",
       "      <th>20</th>\n",
       "      <td>Milan</td>\n",
       "      <td>2015</td>\n",
       "      <td>48</td>\n",
       "      <td>70.0</td>\n",
       "      <td>52</td>\n",
       "      <td>66</td>\n",
       "      <td>36</td>\n",
       "      <td>69</td>\n",
       "      <td>58</td>\n",
       "      <td>57</td>\n",
       "      <td>49</td>\n",
       "      <td>66.0</td>\n",
       "    </tr>\n",
       "    <tr>\n",
       "      <th>26</th>\n",
       "      <td>Académica de Coimbra</td>\n",
       "      <td>2015</td>\n",
       "      <td>53</td>\n",
       "      <td>53.0</td>\n",
       "      <td>44</td>\n",
       "      <td>55</td>\n",
       "      <td>51</td>\n",
       "      <td>60</td>\n",
       "      <td>39</td>\n",
       "      <td>38</td>\n",
       "      <td>61</td>\n",
       "      <td>55.0</td>\n",
       "    </tr>\n",
       "  </tbody>\n",
       "</table>\n",
       "</div>"
      ],
      "text/plain": [
       "          team_long_name  date  buildUpPlaySpeed  buildUpPlayDribbling  \\\n",
       "2               FC Aarau  2015                47                  41.0   \n",
       "8               Aberdeen  2015                59                  64.0   \n",
       "14            AC Ajaccio  2015                59                  57.0   \n",
       "20                 Milan  2015                48                  70.0   \n",
       "26  Académica de Coimbra  2015                53                  53.0   \n",
       "\n",
       "    buildUpPlayPassing  chanceCreationPassing  chanceCreationCrossing  \\\n",
       "2                   54                     54                      63   \n",
       "8                   53                     51                      72   \n",
       "14                  52                     48                      38   \n",
       "20                  52                     66                      36   \n",
       "26                  44                     55                      51   \n",
       "\n",
       "    chanceCreationShooting  defencePressure  defenceAggression  \\\n",
       "2                       64               47                 44   \n",
       "8                       63               49                 45   \n",
       "14                      52               38                 47   \n",
       "20                      69               58                 57   \n",
       "26                      60               39                 38   \n",
       "\n",
       "    defenceTeamWidth  generalPassing  \n",
       "2                 54            54.0  \n",
       "8                 63            51.0  \n",
       "14                53            48.0  \n",
       "20                49            66.0  \n",
       "26                61            55.0  "
      ]
     },
     "execution_count": 93,
     "metadata": {},
     "output_type": "execute_result"
    }
   ],
   "source": [
    "team_attributes_2015.head(5)"
   ]
  },
  {
   "cell_type": "markdown",
   "id": "17630662",
   "metadata": {},
   "source": [
    "### `A player wants to play in the club that has the best passing game, which club would you recommend?`"
   ]
  },
  {
   "cell_type": "code",
   "execution_count": 94,
   "id": "1d40a1c1",
   "metadata": {},
   "outputs": [
    {
     "data": {
      "text/html": [
       "<div>\n",
       "<style scoped>\n",
       "    .dataframe tbody tr th:only-of-type {\n",
       "        vertical-align: middle;\n",
       "    }\n",
       "\n",
       "    .dataframe tbody tr th {\n",
       "        vertical-align: top;\n",
       "    }\n",
       "\n",
       "    .dataframe thead th {\n",
       "        text-align: right;\n",
       "    }\n",
       "</style>\n",
       "<table border=\"1\" class=\"dataframe\">\n",
       "  <thead>\n",
       "    <tr style=\"text-align: right;\">\n",
       "      <th></th>\n",
       "      <th>team_long_name</th>\n",
       "      <th>date</th>\n",
       "      <th>buildUpPlaySpeed</th>\n",
       "      <th>buildUpPlayDribbling</th>\n",
       "      <th>buildUpPlayPassing</th>\n",
       "      <th>chanceCreationPassing</th>\n",
       "      <th>chanceCreationCrossing</th>\n",
       "      <th>chanceCreationShooting</th>\n",
       "      <th>defencePressure</th>\n",
       "      <th>defenceAggression</th>\n",
       "      <th>defenceTeamWidth</th>\n",
       "      <th>generalPassing</th>\n",
       "    </tr>\n",
       "  </thead>\n",
       "  <tbody>\n",
       "    <tr>\n",
       "      <th>141</th>\n",
       "      <td>Bayer 04 Leverkusen</td>\n",
       "      <td>2015</td>\n",
       "      <td>73</td>\n",
       "      <td>29.0</td>\n",
       "      <td>55</td>\n",
       "      <td>77</td>\n",
       "      <td>54</td>\n",
       "      <td>61</td>\n",
       "      <td>61</td>\n",
       "      <td>72</td>\n",
       "      <td>50</td>\n",
       "      <td>77.0</td>\n",
       "    </tr>\n",
       "    <tr>\n",
       "      <th>171</th>\n",
       "      <td>Birmingham City</td>\n",
       "      <td>2015</td>\n",
       "      <td>56</td>\n",
       "      <td>32.0</td>\n",
       "      <td>75</td>\n",
       "      <td>77</td>\n",
       "      <td>62</td>\n",
       "      <td>64</td>\n",
       "      <td>42</td>\n",
       "      <td>47</td>\n",
       "      <td>54</td>\n",
       "      <td>77.0</td>\n",
       "    </tr>\n",
       "  </tbody>\n",
       "</table>\n",
       "</div>"
      ],
      "text/plain": [
       "          team_long_name  date  buildUpPlaySpeed  buildUpPlayDribbling  \\\n",
       "141  Bayer 04 Leverkusen  2015                73                  29.0   \n",
       "171      Birmingham City  2015                56                  32.0   \n",
       "\n",
       "     buildUpPlayPassing  chanceCreationPassing  chanceCreationCrossing  \\\n",
       "141                  55                     77                      54   \n",
       "171                  75                     77                      62   \n",
       "\n",
       "     chanceCreationShooting  defencePressure  defenceAggression  \\\n",
       "141                      61               61                 72   \n",
       "171                      64               42                 47   \n",
       "\n",
       "     defenceTeamWidth  generalPassing  \n",
       "141                50            77.0  \n",
       "171                54            77.0  "
      ]
     },
     "execution_count": 94,
     "metadata": {},
     "output_type": "execute_result"
    }
   ],
   "source": [
    "team_attributes_2015.query('generalPassing==generalPassing.max()')"
   ]
  },
  {
   "cell_type": "markdown",
   "id": "20a5c20a",
   "metadata": {},
   "source": [
    "### I would advise him to sign for Bayer Leverkusen or Birmigham"
   ]
  },
  {
   "cell_type": "code",
   "execution_count": 95,
   "id": "9cf05bb8",
   "metadata": {},
   "outputs": [],
   "source": [
    "con.close()"
   ]
  },
  {
   "cell_type": "markdown",
   "id": "1480a4b6",
   "metadata": {},
   "source": [
    "<a href=\"#toc\" role=\"button\" aria-pressed=\"true\" >⬆️Back to Table of Contents ⬆️</a>"
   ]
  },
  {
   "cell_type": "markdown",
   "id": "753a6bcf",
   "metadata": {},
   "source": [
    "<a id=\"5\"></a>\n",
    "# **<center><span style=\"color:#fd7b12;\">Conclusion  </span></center>**"
   ]
  },
  {
   "cell_type": "markdown",
   "id": "53356643",
   "metadata": {},
   "source": [
    "### `How many games do you play in a season?`"
   ]
  },
  {
   "cell_type": "markdown",
   "id": "2d889164",
   "metadata": {},
   "source": [
    "### It is noted that each season, at least 3000 matches have been played since 2008."
   ]
  },
  {
   "cell_type": "markdown",
   "id": "470a1a21",
   "metadata": {},
   "source": [
    "### `Which league plays the most matches and which plays the least?`"
   ]
  },
  {
   "cell_type": "markdown",
   "id": "3a4ef1c8",
   "metadata": {},
   "source": [
    "### The championship where we play the most is the English championship and the one where we play the least is the Swiss championship"
   ]
  },
  {
   "cell_type": "markdown",
   "id": "b8b21f98",
   "metadata": {},
   "source": [
    "### `Of the home and away teams, who scores the most on average?`"
   ]
  },
  {
   "cell_type": "markdown",
   "id": "be0523cb",
   "metadata": {},
   "source": [
    "### Home teams tend to score more goals than away teams"
   ]
  },
  {
   "cell_type": "markdown",
   "id": "342155d7",
   "metadata": {},
   "source": [
    "### `In what direction do the predictions of bookmakers in general go?`"
   ]
  },
  {
   "cell_type": "markdown",
   "id": "d737a208",
   "metadata": {},
   "source": [
    "### Among bookmakers the tendency is much more to designate the winning home team or to predict a draw"
   ]
  },
  {
   "cell_type": "markdown",
   "id": "aa8cbc9a",
   "metadata": {},
   "source": [
    "### `Which teams have played every game since recording started in england?`"
   ]
  },
  {
   "cell_type": "markdown",
   "id": "8d68f58a",
   "metadata": {},
   "source": [
    "### The teams having played all the matches since the beginning of the recording are : Manchester United, Liverpool, Sunderland, Arsenal, Aston Villa, Everton, Manchester City, Tottenham Hotspur, Chelsea, Stoke City"
   ]
  },
  {
   "cell_type": "markdown",
   "id": "37238ee1",
   "metadata": {},
   "source": [
    "### `Which team has scored the most goals?`"
   ]
  },
  {
   "cell_type": "markdown",
   "id": "a6e7e468",
   "metadata": {},
   "source": [
    "### Manchester City is the team that has scored the most goals over the period"
   ]
  },
  {
   "cell_type": "markdown",
   "id": "c2b92922",
   "metadata": {},
   "source": [
    "### `What are the physical characteristics recommended to be a footballer?`"
   ]
  },
  {
   "cell_type": "markdown",
   "id": "c58d82ad",
   "metadata": {},
   "source": [
    "### The physical characteristics recommended to be a footballer are ---->\n",
    "### Height : [177 - 185], Weight : [159 - 179]"
   ]
  },
  {
   "cell_type": "markdown",
   "id": "d4443320",
   "metadata": {},
   "source": [
    "### `Who is the best player right now in the database?`"
   ]
  },
  {
   "cell_type": "markdown",
   "id": "0903bf28",
   "metadata": {},
   "source": [
    "### In our dataset, the best players are Neuer and Neymar"
   ]
  },
  {
   "cell_type": "markdown",
   "id": "634390c1",
   "metadata": {},
   "source": [
    "### `Who is the best potential right now in the database?`"
   ]
  },
  {
   "cell_type": "markdown",
   "id": "a4576b11",
   "metadata": {},
   "source": [
    "### In our dataset, the best potential is Neymar"
   ]
  },
  {
   "cell_type": "markdown",
   "id": "90ead1da",
   "metadata": {},
   "source": [
    "### `A club wants to recruit an attacking player who is also involved in defensive play and who has a very good level. who would you advise?`"
   ]
  },
  {
   "cell_type": "markdown",
   "id": "f42a5582",
   "metadata": {},
   "source": [
    "### The players who best match the request are : Alexis Sanchez, Bastian Schweinsteiger, Calos Tevez, Thomas Mueller"
   ]
  },
  {
   "cell_type": "markdown",
   "id": "745a683b",
   "metadata": {},
   "source": [
    "### `A player wants to play in the club that has the best passing game, which club would you recommend?`"
   ]
  },
  {
   "cell_type": "markdown",
   "id": "a38675f0",
   "metadata": {},
   "source": [
    "### I would advise him to sign for Bayer Leverkusen or Birmigham"
   ]
  },
  {
   "cell_type": "markdown",
   "id": "1480a4b6",
   "metadata": {},
   "source": [
    "<a href=\"#toc\" role=\"button\" aria-pressed=\"true\" >⬆️Back to Table of Contents ⬆️</a>"
   ]
  },
  {
   "cell_type": "markdown",
   "id": "753a6bcf",
   "metadata": {},
   "source": [
    "<a id=\"6\"></a>\n",
    "# **<center><span style=\"color:#fd7b12;\">Limitation  </span></center>**"
   ]
  },
  {
   "cell_type": "markdown",
   "id": "b300ff08",
   "metadata": {},
   "source": [
    "### The limits encountered during operation are:\n",
    "\n",
    "### There are a lot of columns in tables, for example Match table has 115 columns most of which don't have a proper explanation of what it is."
   ]
  },
  {
   "cell_type": "markdown",
   "id": "1480a4b6",
   "metadata": {},
   "source": [
    "<a href=\"#toc\" role=\"button\" aria-pressed=\"true\" >⬆️Back to Table of Contents ⬆️</a>"
   ]
  },
  {
   "cell_type": "code",
   "execution_count": null,
   "id": "d11c6c4c",
   "metadata": {},
   "outputs": [],
   "source": []
  }
 ],
 "metadata": {
  "kernelspec": {
   "display_name": "Python 3 (ipykernel)",
   "language": "python",
   "name": "python3"
  },
  "language_info": {
   "codemirror_mode": {
    "name": "ipython",
    "version": 3
   },
   "file_extension": ".py",
   "mimetype": "text/x-python",
   "name": "python",
   "nbconvert_exporter": "python",
   "pygments_lexer": "ipython3",
   "version": "3.9.7"
  }
 },
 "nbformat": 4,
 "nbformat_minor": 5
}
