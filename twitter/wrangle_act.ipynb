{
 "cells": [
  {
   "cell_type": "markdown",
   "id": "d00ec675",
   "metadata": {},
   "source": [
    "**Created by Gael AHOUANVOEDO**\n",
    "\n",
    "**🚀 Twitter Database 📊 Udacicty Data Analyst NanoDegree 📈**\n",
    "\n",
    "**16 June 2022**"
   ]
  },
  {
   "cell_type": "markdown",
   "id": "5752d771",
   "metadata": {},
   "source": [
    "# **<center><span style=\"color:#fd7b12;\">🚀 TWITTER DATABASE 🚀   </span></center>**\n",
    "## <center>For more information you can contact me at +221781203911👍</center>"
   ]
  },
  {
   "cell_type": "markdown",
   "id": "8ca2e992",
   "metadata": {},
   "source": [
    "# **<span style=\"color:#fd7b12;\">Table of Contents  </span>**\n",
    "<a id=\"toc\"></a>\n",
    "- [1. Introduction](#1)\n",
    "- [2. Imports](#2)\n",
    "- [3. Gathering](#3)\n",
    "- [4. Assessing](#4)\n",
    "- [5. Cleaning](#5)\n",
    "- [6. Storing](#6)\n",
    "- [7. Data Visualisation](#7)"
   ]
  },
  {
   "cell_type": "markdown",
   "id": "753a6bcf",
   "metadata": {},
   "source": [
    "<a id=\"1\"></a>\n",
    "# **<center><span style=\"color:#fd7b12;\">Introduction  </span></center>**"
   ]
  },
  {
   "cell_type": "markdown",
   "id": "9d0472c7",
   "metadata": {},
   "source": [
    "### **In this project, I have to manipulate data from the WeRateDogs Twitter account to create interesting and reliable analyzes and visualizations.**"
   ]
  },
  {
   "cell_type": "markdown",
   "id": "a30d773b",
   "metadata": {},
   "source": [
    "<a href=\"#toc\" role=\"button\" aria-pressed=\"true\" >⬆️Back to Table of Contents ⬆️</a>"
   ]
  },
  {
   "cell_type": "markdown",
   "id": "3bca3df8",
   "metadata": {},
   "source": [
    "<a id=\"2\"></a>\n",
    "# **<center><span style=\"color:#fd7b12;\">Imports  </span></center>**"
   ]
  },
  {
   "cell_type": "code",
   "execution_count": 1,
   "id": "b6272e53",
   "metadata": {},
   "outputs": [],
   "source": [
    "import pandas as pd\n",
    "import numpy as np\n",
    "import requests as req\n",
    "import tweepy\n",
    "import json\n",
    "import matplotlib.pyplot as plt\n",
    "import requests\n",
    "import seaborn as sns"
   ]
  },
  {
   "cell_type": "markdown",
   "id": "1480a4b6",
   "metadata": {},
   "source": [
    "<a href=\"#toc\" role=\"button\" aria-pressed=\"true\" >⬆️Back to Table of Contents ⬆️</a>"
   ]
  },
  {
   "cell_type": "markdown",
   "id": "81772765",
   "metadata": {},
   "source": [
    "<a id=\"3\"></a>\n",
    "# **<center><span style=\"color:#fd7b12;\">Gathering </span></center>**"
   ]
  },
  {
   "cell_type": "markdown",
   "id": "e65a726e",
   "metadata": {},
   "source": [
    "### Read twitter archive enhanced dataframe with pandas"
   ]
  },
  {
   "cell_type": "code",
   "execution_count": 2,
   "id": "7e376ca3",
   "metadata": {
    "scrolled": true
   },
   "outputs": [
    {
     "data": {
      "text/html": [
       "<div>\n",
       "<style scoped>\n",
       "    .dataframe tbody tr th:only-of-type {\n",
       "        vertical-align: middle;\n",
       "    }\n",
       "\n",
       "    .dataframe tbody tr th {\n",
       "        vertical-align: top;\n",
       "    }\n",
       "\n",
       "    .dataframe thead th {\n",
       "        text-align: right;\n",
       "    }\n",
       "</style>\n",
       "<table border=\"1\" class=\"dataframe\">\n",
       "  <thead>\n",
       "    <tr style=\"text-align: right;\">\n",
       "      <th></th>\n",
       "      <th>tweet_id</th>\n",
       "      <th>in_reply_to_status_id</th>\n",
       "      <th>in_reply_to_user_id</th>\n",
       "      <th>timestamp</th>\n",
       "      <th>source</th>\n",
       "      <th>text</th>\n",
       "      <th>retweeted_status_id</th>\n",
       "      <th>retweeted_status_user_id</th>\n",
       "      <th>retweeted_status_timestamp</th>\n",
       "      <th>expanded_urls</th>\n",
       "      <th>rating_numerator</th>\n",
       "      <th>rating_denominator</th>\n",
       "      <th>name</th>\n",
       "      <th>doggo</th>\n",
       "      <th>floofer</th>\n",
       "      <th>pupper</th>\n",
       "      <th>puppo</th>\n",
       "    </tr>\n",
       "  </thead>\n",
       "  <tbody>\n",
       "    <tr>\n",
       "      <th>0</th>\n",
       "      <td>892420643555336193</td>\n",
       "      <td>NaN</td>\n",
       "      <td>NaN</td>\n",
       "      <td>2017-08-01 16:23:56 +0000</td>\n",
       "      <td>&lt;a href=\"http://twitter.com/download/iphone\" r...</td>\n",
       "      <td>This is Phineas. He's a mystical boy. Only eve...</td>\n",
       "      <td>NaN</td>\n",
       "      <td>NaN</td>\n",
       "      <td>NaN</td>\n",
       "      <td>https://twitter.com/dog_rates/status/892420643...</td>\n",
       "      <td>13</td>\n",
       "      <td>10</td>\n",
       "      <td>Phineas</td>\n",
       "      <td>None</td>\n",
       "      <td>None</td>\n",
       "      <td>None</td>\n",
       "      <td>None</td>\n",
       "    </tr>\n",
       "    <tr>\n",
       "      <th>1</th>\n",
       "      <td>892177421306343426</td>\n",
       "      <td>NaN</td>\n",
       "      <td>NaN</td>\n",
       "      <td>2017-08-01 00:17:27 +0000</td>\n",
       "      <td>&lt;a href=\"http://twitter.com/download/iphone\" r...</td>\n",
       "      <td>This is Tilly. She's just checking pup on you....</td>\n",
       "      <td>NaN</td>\n",
       "      <td>NaN</td>\n",
       "      <td>NaN</td>\n",
       "      <td>https://twitter.com/dog_rates/status/892177421...</td>\n",
       "      <td>13</td>\n",
       "      <td>10</td>\n",
       "      <td>Tilly</td>\n",
       "      <td>None</td>\n",
       "      <td>None</td>\n",
       "      <td>None</td>\n",
       "      <td>None</td>\n",
       "    </tr>\n",
       "    <tr>\n",
       "      <th>2</th>\n",
       "      <td>891815181378084864</td>\n",
       "      <td>NaN</td>\n",
       "      <td>NaN</td>\n",
       "      <td>2017-07-31 00:18:03 +0000</td>\n",
       "      <td>&lt;a href=\"http://twitter.com/download/iphone\" r...</td>\n",
       "      <td>This is Archie. He is a rare Norwegian Pouncin...</td>\n",
       "      <td>NaN</td>\n",
       "      <td>NaN</td>\n",
       "      <td>NaN</td>\n",
       "      <td>https://twitter.com/dog_rates/status/891815181...</td>\n",
       "      <td>12</td>\n",
       "      <td>10</td>\n",
       "      <td>Archie</td>\n",
       "      <td>None</td>\n",
       "      <td>None</td>\n",
       "      <td>None</td>\n",
       "      <td>None</td>\n",
       "    </tr>\n",
       "  </tbody>\n",
       "</table>\n",
       "</div>"
      ],
      "text/plain": [
       "             tweet_id  in_reply_to_status_id  in_reply_to_user_id  \\\n",
       "0  892420643555336193                    NaN                  NaN   \n",
       "1  892177421306343426                    NaN                  NaN   \n",
       "2  891815181378084864                    NaN                  NaN   \n",
       "\n",
       "                   timestamp  \\\n",
       "0  2017-08-01 16:23:56 +0000   \n",
       "1  2017-08-01 00:17:27 +0000   \n",
       "2  2017-07-31 00:18:03 +0000   \n",
       "\n",
       "                                              source  \\\n",
       "0  <a href=\"http://twitter.com/download/iphone\" r...   \n",
       "1  <a href=\"http://twitter.com/download/iphone\" r...   \n",
       "2  <a href=\"http://twitter.com/download/iphone\" r...   \n",
       "\n",
       "                                                text  retweeted_status_id  \\\n",
       "0  This is Phineas. He's a mystical boy. Only eve...                  NaN   \n",
       "1  This is Tilly. She's just checking pup on you....                  NaN   \n",
       "2  This is Archie. He is a rare Norwegian Pouncin...                  NaN   \n",
       "\n",
       "   retweeted_status_user_id retweeted_status_timestamp  \\\n",
       "0                       NaN                        NaN   \n",
       "1                       NaN                        NaN   \n",
       "2                       NaN                        NaN   \n",
       "\n",
       "                                       expanded_urls  rating_numerator  \\\n",
       "0  https://twitter.com/dog_rates/status/892420643...                13   \n",
       "1  https://twitter.com/dog_rates/status/892177421...                13   \n",
       "2  https://twitter.com/dog_rates/status/891815181...                12   \n",
       "\n",
       "   rating_denominator     name doggo floofer pupper puppo  \n",
       "0                  10  Phineas  None    None   None  None  \n",
       "1                  10    Tilly  None    None   None  None  \n",
       "2                  10   Archie  None    None   None  None  "
      ]
     },
     "execution_count": 2,
     "metadata": {},
     "output_type": "execute_result"
    }
   ],
   "source": [
    "df_enhanced = pd.read_csv(\"twitter-archive-enhanced.csv\")\n",
    "df_enhanced.head(3)"
   ]
  },
  {
   "cell_type": "markdown",
   "id": "5bfd41f4",
   "metadata": {},
   "source": [
    "### Read image predictions file with requetes library"
   ]
  },
  {
   "cell_type": "code",
   "execution_count": 3,
   "id": "4378055e",
   "metadata": {},
   "outputs": [],
   "source": [
    "url = \"https://d17h27t6h515a5.cloudfront.net/topher/2017/August/599fd2ad_image-predictions/image-predictions.tsv\"\n",
    "\n",
    "response = requests.get(url)\n",
    "\n",
    "with open(\"image_predictions.tsv\", mode = \"wb\") as file:\n",
    "    file.write(response.content)"
   ]
  },
  {
   "cell_type": "code",
   "execution_count": 4,
   "id": "80065e52",
   "metadata": {},
   "outputs": [
    {
     "data": {
      "text/html": [
       "<div>\n",
       "<style scoped>\n",
       "    .dataframe tbody tr th:only-of-type {\n",
       "        vertical-align: middle;\n",
       "    }\n",
       "\n",
       "    .dataframe tbody tr th {\n",
       "        vertical-align: top;\n",
       "    }\n",
       "\n",
       "    .dataframe thead th {\n",
       "        text-align: right;\n",
       "    }\n",
       "</style>\n",
       "<table border=\"1\" class=\"dataframe\">\n",
       "  <thead>\n",
       "    <tr style=\"text-align: right;\">\n",
       "      <th></th>\n",
       "      <th>tweet_id</th>\n",
       "      <th>jpg_url</th>\n",
       "      <th>img_num</th>\n",
       "      <th>p1</th>\n",
       "      <th>p1_conf</th>\n",
       "      <th>p1_dog</th>\n",
       "      <th>p2</th>\n",
       "      <th>p2_conf</th>\n",
       "      <th>p2_dog</th>\n",
       "      <th>p3</th>\n",
       "      <th>p3_conf</th>\n",
       "      <th>p3_dog</th>\n",
       "    </tr>\n",
       "  </thead>\n",
       "  <tbody>\n",
       "    <tr>\n",
       "      <th>0</th>\n",
       "      <td>666020888022790149</td>\n",
       "      <td>https://pbs.twimg.com/media/CT4udn0WwAA0aMy.jpg</td>\n",
       "      <td>1</td>\n",
       "      <td>Welsh_springer_spaniel</td>\n",
       "      <td>0.465074</td>\n",
       "      <td>True</td>\n",
       "      <td>collie</td>\n",
       "      <td>0.156665</td>\n",
       "      <td>True</td>\n",
       "      <td>Shetland_sheepdog</td>\n",
       "      <td>0.061428</td>\n",
       "      <td>True</td>\n",
       "    </tr>\n",
       "    <tr>\n",
       "      <th>1</th>\n",
       "      <td>666029285002620928</td>\n",
       "      <td>https://pbs.twimg.com/media/CT42GRgUYAA5iDo.jpg</td>\n",
       "      <td>1</td>\n",
       "      <td>redbone</td>\n",
       "      <td>0.506826</td>\n",
       "      <td>True</td>\n",
       "      <td>miniature_pinscher</td>\n",
       "      <td>0.074192</td>\n",
       "      <td>True</td>\n",
       "      <td>Rhodesian_ridgeback</td>\n",
       "      <td>0.072010</td>\n",
       "      <td>True</td>\n",
       "    </tr>\n",
       "    <tr>\n",
       "      <th>2</th>\n",
       "      <td>666033412701032449</td>\n",
       "      <td>https://pbs.twimg.com/media/CT4521TWwAEvMyu.jpg</td>\n",
       "      <td>1</td>\n",
       "      <td>German_shepherd</td>\n",
       "      <td>0.596461</td>\n",
       "      <td>True</td>\n",
       "      <td>malinois</td>\n",
       "      <td>0.138584</td>\n",
       "      <td>True</td>\n",
       "      <td>bloodhound</td>\n",
       "      <td>0.116197</td>\n",
       "      <td>True</td>\n",
       "    </tr>\n",
       "  </tbody>\n",
       "</table>\n",
       "</div>"
      ],
      "text/plain": [
       "             tweet_id                                          jpg_url  \\\n",
       "0  666020888022790149  https://pbs.twimg.com/media/CT4udn0WwAA0aMy.jpg   \n",
       "1  666029285002620928  https://pbs.twimg.com/media/CT42GRgUYAA5iDo.jpg   \n",
       "2  666033412701032449  https://pbs.twimg.com/media/CT4521TWwAEvMyu.jpg   \n",
       "\n",
       "   img_num                      p1   p1_conf  p1_dog                  p2  \\\n",
       "0        1  Welsh_springer_spaniel  0.465074    True              collie   \n",
       "1        1                 redbone  0.506826    True  miniature_pinscher   \n",
       "2        1         German_shepherd  0.596461    True            malinois   \n",
       "\n",
       "    p2_conf  p2_dog                   p3   p3_conf  p3_dog  \n",
       "0  0.156665    True    Shetland_sheepdog  0.061428    True  \n",
       "1  0.074192    True  Rhodesian_ridgeback  0.072010    True  \n",
       "2  0.138584    True           bloodhound  0.116197    True  "
      ]
     },
     "execution_count": 4,
     "metadata": {},
     "output_type": "execute_result"
    }
   ],
   "source": [
    "df_predict = pd.read_csv(\"image_predictions.tsv\", sep='\\t')\n",
    "df_predict.head(3)"
   ]
  },
  {
   "cell_type": "markdown",
   "id": "c0d6c115",
   "metadata": {},
   "source": [
    "### Load Twitter API data with the json file"
   ]
  },
  {
   "cell_type": "code",
   "execution_count": 5,
   "id": "65abf4e1",
   "metadata": {},
   "outputs": [
    {
     "data": {
      "text/html": [
       "<div>\n",
       "<style scoped>\n",
       "    .dataframe tbody tr th:only-of-type {\n",
       "        vertical-align: middle;\n",
       "    }\n",
       "\n",
       "    .dataframe tbody tr th {\n",
       "        vertical-align: top;\n",
       "    }\n",
       "\n",
       "    .dataframe thead th {\n",
       "        text-align: right;\n",
       "    }\n",
       "</style>\n",
       "<table border=\"1\" class=\"dataframe\">\n",
       "  <thead>\n",
       "    <tr style=\"text-align: right;\">\n",
       "      <th></th>\n",
       "      <th>favorites</th>\n",
       "      <th>retweets</th>\n",
       "    </tr>\n",
       "    <tr>\n",
       "      <th>tweet_id</th>\n",
       "      <th></th>\n",
       "      <th></th>\n",
       "    </tr>\n",
       "  </thead>\n",
       "  <tbody>\n",
       "    <tr>\n",
       "      <th>892420643555336193</th>\n",
       "      <td>39467</td>\n",
       "      <td>8853</td>\n",
       "    </tr>\n",
       "    <tr>\n",
       "      <th>892177421306343426</th>\n",
       "      <td>33819</td>\n",
       "      <td>6514</td>\n",
       "    </tr>\n",
       "    <tr>\n",
       "      <th>891815181378084864</th>\n",
       "      <td>25461</td>\n",
       "      <td>4328</td>\n",
       "    </tr>\n",
       "    <tr>\n",
       "      <th>891689557279858688</th>\n",
       "      <td>42908</td>\n",
       "      <td>8964</td>\n",
       "    </tr>\n",
       "    <tr>\n",
       "      <th>891327558926688256</th>\n",
       "      <td>41048</td>\n",
       "      <td>9774</td>\n",
       "    </tr>\n",
       "  </tbody>\n",
       "</table>\n",
       "</div>"
      ],
      "text/plain": [
       "                    favorites  retweets\n",
       "tweet_id                               \n",
       "892420643555336193      39467      8853\n",
       "892177421306343426      33819      6514\n",
       "891815181378084864      25461      4328\n",
       "891689557279858688      42908      8964\n",
       "891327558926688256      41048      9774"
      ]
     },
     "execution_count": 5,
     "metadata": {},
     "output_type": "execute_result"
    }
   ],
   "source": [
    "with open('tweet_json.txt') as f:\n",
    "    df_api = pd.DataFrame((json.loads(line) for line in f), columns = ['id', 'favorite_count', 'retweet_count'])\n",
    "\n",
    "df_api.columns = ['tweet_id', 'favorites', 'retweets']\n",
    "df_api.set_index('tweet_id', inplace = True)\n",
    "df_api.head()"
   ]
  },
  {
   "cell_type": "markdown",
   "id": "cc14c862",
   "metadata": {},
   "source": [
    "### All dataframes are successfully gather"
   ]
  },
  {
   "cell_type": "markdown",
   "id": "f5608cde",
   "metadata": {},
   "source": [
    "<a href=\"#toc\" role=\"button\" aria-pressed=\"true\" >⬆️Back to Table of Contents ⬆️</a>"
   ]
  },
  {
   "cell_type": "markdown",
   "id": "b7dc1b19",
   "metadata": {},
   "source": [
    "<a id=\"4\"></a>\n",
    "# **<center><span style=\"color:#fd7b12;\"> Assessing  </span></center>**"
   ]
  },
  {
   "cell_type": "markdown",
   "id": "1527d2b3",
   "metadata": {},
   "source": [
    "### The goal is to identify for at least eight (8) quality issues and two (2) tidiness issues. We start with our twitter archive  dataset"
   ]
  },
  {
   "cell_type": "code",
   "execution_count": 6,
   "id": "be0cd700",
   "metadata": {},
   "outputs": [
    {
     "data": {
      "text/html": [
       "<div>\n",
       "<style scoped>\n",
       "    .dataframe tbody tr th:only-of-type {\n",
       "        vertical-align: middle;\n",
       "    }\n",
       "\n",
       "    .dataframe tbody tr th {\n",
       "        vertical-align: top;\n",
       "    }\n",
       "\n",
       "    .dataframe thead th {\n",
       "        text-align: right;\n",
       "    }\n",
       "</style>\n",
       "<table border=\"1\" class=\"dataframe\">\n",
       "  <thead>\n",
       "    <tr style=\"text-align: right;\">\n",
       "      <th></th>\n",
       "      <th>tweet_id</th>\n",
       "      <th>in_reply_to_status_id</th>\n",
       "      <th>in_reply_to_user_id</th>\n",
       "      <th>timestamp</th>\n",
       "      <th>source</th>\n",
       "      <th>text</th>\n",
       "      <th>retweeted_status_id</th>\n",
       "      <th>retweeted_status_user_id</th>\n",
       "      <th>retweeted_status_timestamp</th>\n",
       "      <th>expanded_urls</th>\n",
       "      <th>rating_numerator</th>\n",
       "      <th>rating_denominator</th>\n",
       "      <th>name</th>\n",
       "      <th>doggo</th>\n",
       "      <th>floofer</th>\n",
       "      <th>pupper</th>\n",
       "      <th>puppo</th>\n",
       "    </tr>\n",
       "  </thead>\n",
       "  <tbody>\n",
       "    <tr>\n",
       "      <th>0</th>\n",
       "      <td>892420643555336193</td>\n",
       "      <td>NaN</td>\n",
       "      <td>NaN</td>\n",
       "      <td>2017-08-01 16:23:56 +0000</td>\n",
       "      <td>&lt;a href=\"http://twitter.com/download/iphone\" r...</td>\n",
       "      <td>This is Phineas. He's a mystical boy. Only eve...</td>\n",
       "      <td>NaN</td>\n",
       "      <td>NaN</td>\n",
       "      <td>NaN</td>\n",
       "      <td>https://twitter.com/dog_rates/status/892420643...</td>\n",
       "      <td>13</td>\n",
       "      <td>10</td>\n",
       "      <td>Phineas</td>\n",
       "      <td>None</td>\n",
       "      <td>None</td>\n",
       "      <td>None</td>\n",
       "      <td>None</td>\n",
       "    </tr>\n",
       "    <tr>\n",
       "      <th>1</th>\n",
       "      <td>892177421306343426</td>\n",
       "      <td>NaN</td>\n",
       "      <td>NaN</td>\n",
       "      <td>2017-08-01 00:17:27 +0000</td>\n",
       "      <td>&lt;a href=\"http://twitter.com/download/iphone\" r...</td>\n",
       "      <td>This is Tilly. She's just checking pup on you....</td>\n",
       "      <td>NaN</td>\n",
       "      <td>NaN</td>\n",
       "      <td>NaN</td>\n",
       "      <td>https://twitter.com/dog_rates/status/892177421...</td>\n",
       "      <td>13</td>\n",
       "      <td>10</td>\n",
       "      <td>Tilly</td>\n",
       "      <td>None</td>\n",
       "      <td>None</td>\n",
       "      <td>None</td>\n",
       "      <td>None</td>\n",
       "    </tr>\n",
       "    <tr>\n",
       "      <th>2</th>\n",
       "      <td>891815181378084864</td>\n",
       "      <td>NaN</td>\n",
       "      <td>NaN</td>\n",
       "      <td>2017-07-31 00:18:03 +0000</td>\n",
       "      <td>&lt;a href=\"http://twitter.com/download/iphone\" r...</td>\n",
       "      <td>This is Archie. He is a rare Norwegian Pouncin...</td>\n",
       "      <td>NaN</td>\n",
       "      <td>NaN</td>\n",
       "      <td>NaN</td>\n",
       "      <td>https://twitter.com/dog_rates/status/891815181...</td>\n",
       "      <td>12</td>\n",
       "      <td>10</td>\n",
       "      <td>Archie</td>\n",
       "      <td>None</td>\n",
       "      <td>None</td>\n",
       "      <td>None</td>\n",
       "      <td>None</td>\n",
       "    </tr>\n",
       "  </tbody>\n",
       "</table>\n",
       "</div>"
      ],
      "text/plain": [
       "             tweet_id  in_reply_to_status_id  in_reply_to_user_id  \\\n",
       "0  892420643555336193                    NaN                  NaN   \n",
       "1  892177421306343426                    NaN                  NaN   \n",
       "2  891815181378084864                    NaN                  NaN   \n",
       "\n",
       "                   timestamp  \\\n",
       "0  2017-08-01 16:23:56 +0000   \n",
       "1  2017-08-01 00:17:27 +0000   \n",
       "2  2017-07-31 00:18:03 +0000   \n",
       "\n",
       "                                              source  \\\n",
       "0  <a href=\"http://twitter.com/download/iphone\" r...   \n",
       "1  <a href=\"http://twitter.com/download/iphone\" r...   \n",
       "2  <a href=\"http://twitter.com/download/iphone\" r...   \n",
       "\n",
       "                                                text  retweeted_status_id  \\\n",
       "0  This is Phineas. He's a mystical boy. Only eve...                  NaN   \n",
       "1  This is Tilly. She's just checking pup on you....                  NaN   \n",
       "2  This is Archie. He is a rare Norwegian Pouncin...                  NaN   \n",
       "\n",
       "   retweeted_status_user_id retweeted_status_timestamp  \\\n",
       "0                       NaN                        NaN   \n",
       "1                       NaN                        NaN   \n",
       "2                       NaN                        NaN   \n",
       "\n",
       "                                       expanded_urls  rating_numerator  \\\n",
       "0  https://twitter.com/dog_rates/status/892420643...                13   \n",
       "1  https://twitter.com/dog_rates/status/892177421...                13   \n",
       "2  https://twitter.com/dog_rates/status/891815181...                12   \n",
       "\n",
       "   rating_denominator     name doggo floofer pupper puppo  \n",
       "0                  10  Phineas  None    None   None  None  \n",
       "1                  10    Tilly  None    None   None  None  \n",
       "2                  10   Archie  None    None   None  None  "
      ]
     },
     "execution_count": 6,
     "metadata": {},
     "output_type": "execute_result"
    }
   ],
   "source": [
    "df_enhanced.head(3)"
   ]
  },
  {
   "cell_type": "code",
   "execution_count": 7,
   "id": "8d9b7426",
   "metadata": {},
   "outputs": [
    {
     "name": "stdout",
     "output_type": "stream",
     "text": [
      "<class 'pandas.core.frame.DataFrame'>\n",
      "RangeIndex: 2356 entries, 0 to 2355\n",
      "Data columns (total 17 columns):\n",
      " #   Column                      Non-Null Count  Dtype  \n",
      "---  ------                      --------------  -----  \n",
      " 0   tweet_id                    2356 non-null   int64  \n",
      " 1   in_reply_to_status_id       78 non-null     float64\n",
      " 2   in_reply_to_user_id         78 non-null     float64\n",
      " 3   timestamp                   2356 non-null   object \n",
      " 4   source                      2356 non-null   object \n",
      " 5   text                        2356 non-null   object \n",
      " 6   retweeted_status_id         181 non-null    float64\n",
      " 7   retweeted_status_user_id    181 non-null    float64\n",
      " 8   retweeted_status_timestamp  181 non-null    object \n",
      " 9   expanded_urls               2297 non-null   object \n",
      " 10  rating_numerator            2356 non-null   int64  \n",
      " 11  rating_denominator          2356 non-null   int64  \n",
      " 12  name                        2356 non-null   object \n",
      " 13  doggo                       2356 non-null   object \n",
      " 14  floofer                     2356 non-null   object \n",
      " 15  pupper                      2356 non-null   object \n",
      " 16  puppo                       2356 non-null   object \n",
      "dtypes: float64(4), int64(3), object(10)\n",
      "memory usage: 313.0+ KB\n"
     ]
    }
   ],
   "source": [
    "df_enhanced.info()"
   ]
  },
  {
   "cell_type": "markdown",
   "id": "30f3a0e9",
   "metadata": {},
   "source": [
    "### We observe that we have some missing values. How many in total ?"
   ]
  },
  {
   "cell_type": "code",
   "execution_count": 8,
   "id": "80f3fb85",
   "metadata": {},
   "outputs": [
    {
     "data": {
      "text/plain": [
       "11140"
      ]
     },
     "execution_count": 8,
     "metadata": {},
     "output_type": "execute_result"
    }
   ],
   "source": [
    "df_enhanced.isnull().sum().sum() "
   ]
  },
  {
   "cell_type": "markdown",
   "id": "b62e05e6",
   "metadata": {},
   "source": [
    "### Our timestamp also have wrong data types. Object instead of Date"
   ]
  },
  {
   "cell_type": "code",
   "execution_count": 9,
   "id": "f4a74cf0",
   "metadata": {},
   "outputs": [
    {
     "data": {
      "text/plain": [
       "dtype('O')"
      ]
     },
     "execution_count": 9,
     "metadata": {},
     "output_type": "execute_result"
    }
   ],
   "source": [
    "df_enhanced['timestamp'].dtypes"
   ]
  },
  {
   "cell_type": "markdown",
   "id": "a50ffbb5",
   "metadata": {},
   "source": [
    "### In name also we can oserve that we have wrong dog names like 'a'"
   ]
  },
  {
   "cell_type": "code",
   "execution_count": 10,
   "id": "c12f5ae0",
   "metadata": {},
   "outputs": [
    {
     "data": {
      "text/plain": [
       "None          745\n",
       "a              55\n",
       "Charlie        12\n",
       "Cooper         11\n",
       "Lucy           11\n",
       "             ... \n",
       "Dex             1\n",
       "Ace             1\n",
       "Tayzie          1\n",
       "Grizzie         1\n",
       "Christoper      1\n",
       "Name: name, Length: 957, dtype: int64"
      ]
     },
     "execution_count": 10,
     "metadata": {},
     "output_type": "execute_result"
    }
   ],
   "source": [
    "df_enhanced.name.value_counts()"
   ]
  },
  {
   "cell_type": "markdown",
   "id": "01bd2d42",
   "metadata": {},
   "source": [
    "### Some notation are badly extract from text we can see it with the index 2355"
   ]
  },
  {
   "cell_type": "code",
   "execution_count": 11,
   "id": "cf152866",
   "metadata": {},
   "outputs": [
    {
     "data": {
      "text/plain": [
       "Index(['tweet_id', 'in_reply_to_status_id', 'in_reply_to_user_id', 'timestamp',\n",
       "       'source', 'text', 'retweeted_status_id', 'retweeted_status_user_id',\n",
       "       'retweeted_status_timestamp', 'expanded_urls', 'rating_numerator',\n",
       "       'rating_denominator', 'name', 'doggo', 'floofer', 'pupper', 'puppo'],\n",
       "      dtype='object')"
      ]
     },
     "execution_count": 11,
     "metadata": {},
     "output_type": "execute_result"
    }
   ],
   "source": [
    "df_dog = df_enhanced.copy()\n",
    "df_dog.columns"
   ]
  },
  {
   "cell_type": "code",
   "execution_count": 12,
   "id": "3460120b",
   "metadata": {},
   "outputs": [],
   "source": [
    "df_dog.drop(['tweet_id', 'in_reply_to_status_id', 'in_reply_to_user_id', 'timestamp','source', 'retweeted_status_id', 'retweeted_status_user_id','retweeted_status_timestamp', 'expanded_urls', 'name', 'doggo', 'floofer', 'pupper', 'puppo'], axis=1,inplace=True)\n"
   ]
  },
  {
   "cell_type": "code",
   "execution_count": 13,
   "id": "1bfce795",
   "metadata": {},
   "outputs": [
    {
     "data": {
      "text/plain": [
       "text                  This is an Albanian 3 1/2 legged  Episcopalian...\n",
       "rating_numerator                                                      1\n",
       "rating_denominator                                                    2\n",
       "Name: 2335, dtype: object"
      ]
     },
     "execution_count": 13,
     "metadata": {},
     "output_type": "execute_result"
    }
   ],
   "source": [
    "df_dog.iloc[2335]"
   ]
  },
  {
   "cell_type": "code",
   "execution_count": 14,
   "id": "06b6991a",
   "metadata": {},
   "outputs": [
    {
     "data": {
      "text/plain": [
       "'This is an Albanian 3 1/2 legged  Episcopalian. Loves well-polished hardwood flooring. Penis on the collar. 9/10 https://t.co/d9NcXFKwLv'"
      ]
     },
     "execution_count": 14,
     "metadata": {},
     "output_type": "execute_result"
    }
   ],
   "source": [
    "df_dog.text[2335] #wrong note extraction"
   ]
  },
  {
   "cell_type": "markdown",
   "id": "558ac7e6",
   "metadata": {},
   "source": [
    "### Some dogs have no classification"
   ]
  },
  {
   "cell_type": "code",
   "execution_count": 15,
   "id": "b9868ac0",
   "metadata": {},
   "outputs": [],
   "source": [
    "df_dog = df_enhanced.copy()"
   ]
  },
  {
   "cell_type": "code",
   "execution_count": 16,
   "id": "fc3452f7",
   "metadata": {},
   "outputs": [],
   "source": [
    "df_dog.drop(['in_reply_to_status_id', 'in_reply_to_user_id', 'timestamp','source', 'text', 'retweeted_status_id', 'retweeted_status_user_id','retweeted_status_timestamp', 'expanded_urls', 'rating_numerator','rating_denominator', 'name'], axis=1, inplace=True)"
   ]
  },
  {
   "cell_type": "code",
   "execution_count": 17,
   "id": "a7a16e37",
   "metadata": {},
   "outputs": [
    {
     "data": {
      "text/html": [
       "<div>\n",
       "<style scoped>\n",
       "    .dataframe tbody tr th:only-of-type {\n",
       "        vertical-align: middle;\n",
       "    }\n",
       "\n",
       "    .dataframe tbody tr th {\n",
       "        vertical-align: top;\n",
       "    }\n",
       "\n",
       "    .dataframe thead th {\n",
       "        text-align: right;\n",
       "    }\n",
       "</style>\n",
       "<table border=\"1\" class=\"dataframe\">\n",
       "  <thead>\n",
       "    <tr style=\"text-align: right;\">\n",
       "      <th></th>\n",
       "      <th>tweet_id</th>\n",
       "      <th>doggo</th>\n",
       "      <th>floofer</th>\n",
       "      <th>pupper</th>\n",
       "      <th>puppo</th>\n",
       "    </tr>\n",
       "  </thead>\n",
       "  <tbody>\n",
       "    <tr>\n",
       "      <th>0</th>\n",
       "      <td>892420643555336193</td>\n",
       "      <td>None</td>\n",
       "      <td>None</td>\n",
       "      <td>None</td>\n",
       "      <td>None</td>\n",
       "    </tr>\n",
       "    <tr>\n",
       "      <th>1</th>\n",
       "      <td>892177421306343426</td>\n",
       "      <td>None</td>\n",
       "      <td>None</td>\n",
       "      <td>None</td>\n",
       "      <td>None</td>\n",
       "    </tr>\n",
       "    <tr>\n",
       "      <th>2</th>\n",
       "      <td>891815181378084864</td>\n",
       "      <td>None</td>\n",
       "      <td>None</td>\n",
       "      <td>None</td>\n",
       "      <td>None</td>\n",
       "    </tr>\n",
       "    <tr>\n",
       "      <th>3</th>\n",
       "      <td>891689557279858688</td>\n",
       "      <td>None</td>\n",
       "      <td>None</td>\n",
       "      <td>None</td>\n",
       "      <td>None</td>\n",
       "    </tr>\n",
       "    <tr>\n",
       "      <th>4</th>\n",
       "      <td>891327558926688256</td>\n",
       "      <td>None</td>\n",
       "      <td>None</td>\n",
       "      <td>None</td>\n",
       "      <td>None</td>\n",
       "    </tr>\n",
       "    <tr>\n",
       "      <th>...</th>\n",
       "      <td>...</td>\n",
       "      <td>...</td>\n",
       "      <td>...</td>\n",
       "      <td>...</td>\n",
       "      <td>...</td>\n",
       "    </tr>\n",
       "    <tr>\n",
       "      <th>2351</th>\n",
       "      <td>666049248165822465</td>\n",
       "      <td>None</td>\n",
       "      <td>None</td>\n",
       "      <td>None</td>\n",
       "      <td>None</td>\n",
       "    </tr>\n",
       "    <tr>\n",
       "      <th>2352</th>\n",
       "      <td>666044226329800704</td>\n",
       "      <td>None</td>\n",
       "      <td>None</td>\n",
       "      <td>None</td>\n",
       "      <td>None</td>\n",
       "    </tr>\n",
       "    <tr>\n",
       "      <th>2353</th>\n",
       "      <td>666033412701032449</td>\n",
       "      <td>None</td>\n",
       "      <td>None</td>\n",
       "      <td>None</td>\n",
       "      <td>None</td>\n",
       "    </tr>\n",
       "    <tr>\n",
       "      <th>2354</th>\n",
       "      <td>666029285002620928</td>\n",
       "      <td>None</td>\n",
       "      <td>None</td>\n",
       "      <td>None</td>\n",
       "      <td>None</td>\n",
       "    </tr>\n",
       "    <tr>\n",
       "      <th>2355</th>\n",
       "      <td>666020888022790149</td>\n",
       "      <td>None</td>\n",
       "      <td>None</td>\n",
       "      <td>None</td>\n",
       "      <td>None</td>\n",
       "    </tr>\n",
       "  </tbody>\n",
       "</table>\n",
       "<p>1976 rows × 5 columns</p>\n",
       "</div>"
      ],
      "text/plain": [
       "                tweet_id doggo floofer pupper puppo\n",
       "0     892420643555336193  None    None   None  None\n",
       "1     892177421306343426  None    None   None  None\n",
       "2     891815181378084864  None    None   None  None\n",
       "3     891689557279858688  None    None   None  None\n",
       "4     891327558926688256  None    None   None  None\n",
       "...                  ...   ...     ...    ...   ...\n",
       "2351  666049248165822465  None    None   None  None\n",
       "2352  666044226329800704  None    None   None  None\n",
       "2353  666033412701032449  None    None   None  None\n",
       "2354  666029285002620928  None    None   None  None\n",
       "2355  666020888022790149  None    None   None  None\n",
       "\n",
       "[1976 rows x 5 columns]"
      ]
     },
     "execution_count": 17,
     "metadata": {},
     "output_type": "execute_result"
    }
   ],
   "source": [
    "df_dog.query('doggo ==\"None\" & floofer==\"None\" & pupper ==\"None\" & puppo ==\"None\"') #dog with not classification"
   ]
  },
  {
   "cell_type": "markdown",
   "id": "3c4ce66d",
   "metadata": {},
   "source": [
    "### Another more than one classification"
   ]
  },
  {
   "cell_type": "code",
   "execution_count": 18,
   "id": "9673cae5",
   "metadata": {},
   "outputs": [
    {
     "data": {
      "text/html": [
       "<div>\n",
       "<style scoped>\n",
       "    .dataframe tbody tr th:only-of-type {\n",
       "        vertical-align: middle;\n",
       "    }\n",
       "\n",
       "    .dataframe tbody tr th {\n",
       "        vertical-align: top;\n",
       "    }\n",
       "\n",
       "    .dataframe thead th {\n",
       "        text-align: right;\n",
       "    }\n",
       "</style>\n",
       "<table border=\"1\" class=\"dataframe\">\n",
       "  <thead>\n",
       "    <tr style=\"text-align: right;\">\n",
       "      <th></th>\n",
       "      <th>tweet_id</th>\n",
       "      <th>doggo</th>\n",
       "      <th>floofer</th>\n",
       "      <th>pupper</th>\n",
       "      <th>puppo</th>\n",
       "    </tr>\n",
       "  </thead>\n",
       "  <tbody>\n",
       "    <tr>\n",
       "      <th>0</th>\n",
       "      <td>892420643555336193</td>\n",
       "      <td>None</td>\n",
       "      <td>None</td>\n",
       "      <td>None</td>\n",
       "      <td>None</td>\n",
       "    </tr>\n",
       "    <tr>\n",
       "      <th>1</th>\n",
       "      <td>892177421306343426</td>\n",
       "      <td>None</td>\n",
       "      <td>None</td>\n",
       "      <td>None</td>\n",
       "      <td>None</td>\n",
       "    </tr>\n",
       "    <tr>\n",
       "      <th>2</th>\n",
       "      <td>891815181378084864</td>\n",
       "      <td>None</td>\n",
       "      <td>None</td>\n",
       "      <td>None</td>\n",
       "      <td>None</td>\n",
       "    </tr>\n",
       "    <tr>\n",
       "      <th>3</th>\n",
       "      <td>891689557279858688</td>\n",
       "      <td>None</td>\n",
       "      <td>None</td>\n",
       "      <td>None</td>\n",
       "      <td>None</td>\n",
       "    </tr>\n",
       "    <tr>\n",
       "      <th>4</th>\n",
       "      <td>891327558926688256</td>\n",
       "      <td>None</td>\n",
       "      <td>None</td>\n",
       "      <td>None</td>\n",
       "      <td>None</td>\n",
       "    </tr>\n",
       "    <tr>\n",
       "      <th>...</th>\n",
       "      <td>...</td>\n",
       "      <td>...</td>\n",
       "      <td>...</td>\n",
       "      <td>...</td>\n",
       "      <td>...</td>\n",
       "    </tr>\n",
       "    <tr>\n",
       "      <th>2351</th>\n",
       "      <td>666049248165822465</td>\n",
       "      <td>None</td>\n",
       "      <td>None</td>\n",
       "      <td>None</td>\n",
       "      <td>None</td>\n",
       "    </tr>\n",
       "    <tr>\n",
       "      <th>2352</th>\n",
       "      <td>666044226329800704</td>\n",
       "      <td>None</td>\n",
       "      <td>None</td>\n",
       "      <td>None</td>\n",
       "      <td>None</td>\n",
       "    </tr>\n",
       "    <tr>\n",
       "      <th>2353</th>\n",
       "      <td>666033412701032449</td>\n",
       "      <td>None</td>\n",
       "      <td>None</td>\n",
       "      <td>None</td>\n",
       "      <td>None</td>\n",
       "    </tr>\n",
       "    <tr>\n",
       "      <th>2354</th>\n",
       "      <td>666029285002620928</td>\n",
       "      <td>None</td>\n",
       "      <td>None</td>\n",
       "      <td>None</td>\n",
       "      <td>None</td>\n",
       "    </tr>\n",
       "    <tr>\n",
       "      <th>2355</th>\n",
       "      <td>666020888022790149</td>\n",
       "      <td>None</td>\n",
       "      <td>None</td>\n",
       "      <td>None</td>\n",
       "      <td>None</td>\n",
       "    </tr>\n",
       "  </tbody>\n",
       "</table>\n",
       "<p>2356 rows × 5 columns</p>\n",
       "</div>"
      ],
      "text/plain": [
       "                tweet_id doggo floofer pupper puppo\n",
       "0     892420643555336193  None    None   None  None\n",
       "1     892177421306343426  None    None   None  None\n",
       "2     891815181378084864  None    None   None  None\n",
       "3     891689557279858688  None    None   None  None\n",
       "4     891327558926688256  None    None   None  None\n",
       "...                  ...   ...     ...    ...   ...\n",
       "2351  666049248165822465  None    None   None  None\n",
       "2352  666044226329800704  None    None   None  None\n",
       "2353  666033412701032449  None    None   None  None\n",
       "2354  666029285002620928  None    None   None  None\n",
       "2355  666020888022790149  None    None   None  None\n",
       "\n",
       "[2356 rows x 5 columns]"
      ]
     },
     "execution_count": 18,
     "metadata": {},
     "output_type": "execute_result"
    }
   ],
   "source": [
    "df_dog"
   ]
  },
  {
   "cell_type": "code",
   "execution_count": 19,
   "id": "dd5854a2",
   "metadata": {},
   "outputs": [
    {
     "data": {
      "text/html": [
       "<div>\n",
       "<style scoped>\n",
       "    .dataframe tbody tr th:only-of-type {\n",
       "        vertical-align: middle;\n",
       "    }\n",
       "\n",
       "    .dataframe tbody tr th {\n",
       "        vertical-align: top;\n",
       "    }\n",
       "\n",
       "    .dataframe thead th {\n",
       "        text-align: right;\n",
       "    }\n",
       "</style>\n",
       "<table border=\"1\" class=\"dataframe\">\n",
       "  <thead>\n",
       "    <tr style=\"text-align: right;\">\n",
       "      <th></th>\n",
       "      <th>tweet_id</th>\n",
       "      <th>doggo</th>\n",
       "      <th>floofer</th>\n",
       "      <th>pupper</th>\n",
       "      <th>puppo</th>\n",
       "    </tr>\n",
       "  </thead>\n",
       "  <tbody>\n",
       "    <tr>\n",
       "      <th>200</th>\n",
       "      <td>854010172552949760</td>\n",
       "      <td>doggo</td>\n",
       "      <td>floofer</td>\n",
       "      <td>None</td>\n",
       "      <td>None</td>\n",
       "    </tr>\n",
       "  </tbody>\n",
       "</table>\n",
       "</div>"
      ],
      "text/plain": [
       "               tweet_id  doggo  floofer pupper puppo\n",
       "200  854010172552949760  doggo  floofer   None  None"
      ]
     },
     "execution_count": 19,
     "metadata": {},
     "output_type": "execute_result"
    }
   ],
   "source": [
    "df_dog.query('doggo ==\"doggo\" & floofer==\"floofer\" & pupper ==\"None\" & puppo ==\"None\"') #7 dog with more than 1 classification"
   ]
  },
  {
   "cell_type": "markdown",
   "id": "f0c41549",
   "metadata": {},
   "source": [
    "### Source columns contain html codes"
   ]
  },
  {
   "cell_type": "code",
   "execution_count": 20,
   "id": "f5bb2129",
   "metadata": {},
   "outputs": [
    {
     "data": {
      "text/plain": [
       "<a href=\"http://twitter.com/download/iphone\" rel=\"nofollow\">Twitter for iPhone</a>     2221\n",
       "<a href=\"http://vine.co\" rel=\"nofollow\">Vine - Make a Scene</a>                          91\n",
       "<a href=\"http://twitter.com\" rel=\"nofollow\">Twitter Web Client</a>                       33\n",
       "<a href=\"https://about.twitter.com/products/tweetdeck\" rel=\"nofollow\">TweetDeck</a>      11\n",
       "Name: source, dtype: int64"
      ]
     },
     "execution_count": 20,
     "metadata": {},
     "output_type": "execute_result"
    }
   ],
   "source": [
    "df_enhanced.source.value_counts()"
   ]
  },
  {
   "cell_type": "markdown",
   "id": "2d29f2c7",
   "metadata": {},
   "source": [
    "### In conclusion, we have :"
   ]
  },
  {
   "cell_type": "markdown",
   "id": "07ac3b50",
   "metadata": {},
   "source": [
    "<div class=\"alert alert-block alert-info\" style=\"font-size:14px; font-family:verdana; line-height: 1.7em;\">\n",
    "    📌 &nbsp;<b><u>Data Quality</u></b><br>\n",
    "\n",
    "* <i>We observe that we have some missing values</i>\n",
    "* <i>Timestamp also have wrong data types. Object instead of Date</i>\n",
    "* <i>In name we can oserve that we have wrong dog names like 'a'</i>\n",
    "* <i>Some rating are badly extract from text</i>\n",
    "* <i>Some dogs have no classification</i>\n",
    "* <i> Some dogs have more than one classification</i>\n",
    "* <i>Source columns contain html codes</i>\n",
    "    \n",
    "    📌 &nbsp;<b><u>Tidness</u></b><br>\n",
    "\n",
    "* <i>The columns doggo, floofer,pupper and puppo are not easy to analyze and should be in one column</i>\n",
    "* <i>The dataset should be merge with the twitter archive dataset</i>"
   ]
  },
  {
   "cell_type": "markdown",
   "id": "c50eec63",
   "metadata": {},
   "source": [
    "### Now we assessing our predict dataset"
   ]
  },
  {
   "cell_type": "markdown",
   "id": "b7b087c4",
   "metadata": {},
   "source": [
    "### Firstly we observe that the dataset should be merge with the twitter archive dataset."
   ]
  },
  {
   "cell_type": "code",
   "execution_count": 21,
   "id": "0671f525",
   "metadata": {},
   "outputs": [
    {
     "data": {
      "text/html": [
       "<div>\n",
       "<style scoped>\n",
       "    .dataframe tbody tr th:only-of-type {\n",
       "        vertical-align: middle;\n",
       "    }\n",
       "\n",
       "    .dataframe tbody tr th {\n",
       "        vertical-align: top;\n",
       "    }\n",
       "\n",
       "    .dataframe thead th {\n",
       "        text-align: right;\n",
       "    }\n",
       "</style>\n",
       "<table border=\"1\" class=\"dataframe\">\n",
       "  <thead>\n",
       "    <tr style=\"text-align: right;\">\n",
       "      <th></th>\n",
       "      <th>tweet_id</th>\n",
       "      <th>jpg_url</th>\n",
       "      <th>img_num</th>\n",
       "      <th>p1</th>\n",
       "      <th>p1_conf</th>\n",
       "      <th>p1_dog</th>\n",
       "      <th>p2</th>\n",
       "      <th>p2_conf</th>\n",
       "      <th>p2_dog</th>\n",
       "      <th>p3</th>\n",
       "      <th>p3_conf</th>\n",
       "      <th>p3_dog</th>\n",
       "    </tr>\n",
       "  </thead>\n",
       "  <tbody>\n",
       "    <tr>\n",
       "      <th>0</th>\n",
       "      <td>666020888022790149</td>\n",
       "      <td>https://pbs.twimg.com/media/CT4udn0WwAA0aMy.jpg</td>\n",
       "      <td>1</td>\n",
       "      <td>Welsh_springer_spaniel</td>\n",
       "      <td>0.465074</td>\n",
       "      <td>True</td>\n",
       "      <td>collie</td>\n",
       "      <td>0.156665</td>\n",
       "      <td>True</td>\n",
       "      <td>Shetland_sheepdog</td>\n",
       "      <td>0.061428</td>\n",
       "      <td>True</td>\n",
       "    </tr>\n",
       "    <tr>\n",
       "      <th>1</th>\n",
       "      <td>666029285002620928</td>\n",
       "      <td>https://pbs.twimg.com/media/CT42GRgUYAA5iDo.jpg</td>\n",
       "      <td>1</td>\n",
       "      <td>redbone</td>\n",
       "      <td>0.506826</td>\n",
       "      <td>True</td>\n",
       "      <td>miniature_pinscher</td>\n",
       "      <td>0.074192</td>\n",
       "      <td>True</td>\n",
       "      <td>Rhodesian_ridgeback</td>\n",
       "      <td>0.072010</td>\n",
       "      <td>True</td>\n",
       "    </tr>\n",
       "    <tr>\n",
       "      <th>2</th>\n",
       "      <td>666033412701032449</td>\n",
       "      <td>https://pbs.twimg.com/media/CT4521TWwAEvMyu.jpg</td>\n",
       "      <td>1</td>\n",
       "      <td>German_shepherd</td>\n",
       "      <td>0.596461</td>\n",
       "      <td>True</td>\n",
       "      <td>malinois</td>\n",
       "      <td>0.138584</td>\n",
       "      <td>True</td>\n",
       "      <td>bloodhound</td>\n",
       "      <td>0.116197</td>\n",
       "      <td>True</td>\n",
       "    </tr>\n",
       "    <tr>\n",
       "      <th>3</th>\n",
       "      <td>666044226329800704</td>\n",
       "      <td>https://pbs.twimg.com/media/CT5Dr8HUEAA-lEu.jpg</td>\n",
       "      <td>1</td>\n",
       "      <td>Rhodesian_ridgeback</td>\n",
       "      <td>0.408143</td>\n",
       "      <td>True</td>\n",
       "      <td>redbone</td>\n",
       "      <td>0.360687</td>\n",
       "      <td>True</td>\n",
       "      <td>miniature_pinscher</td>\n",
       "      <td>0.222752</td>\n",
       "      <td>True</td>\n",
       "    </tr>\n",
       "    <tr>\n",
       "      <th>4</th>\n",
       "      <td>666049248165822465</td>\n",
       "      <td>https://pbs.twimg.com/media/CT5IQmsXIAAKY4A.jpg</td>\n",
       "      <td>1</td>\n",
       "      <td>miniature_pinscher</td>\n",
       "      <td>0.560311</td>\n",
       "      <td>True</td>\n",
       "      <td>Rottweiler</td>\n",
       "      <td>0.243682</td>\n",
       "      <td>True</td>\n",
       "      <td>Doberman</td>\n",
       "      <td>0.154629</td>\n",
       "      <td>True</td>\n",
       "    </tr>\n",
       "  </tbody>\n",
       "</table>\n",
       "</div>"
      ],
      "text/plain": [
       "             tweet_id                                          jpg_url  \\\n",
       "0  666020888022790149  https://pbs.twimg.com/media/CT4udn0WwAA0aMy.jpg   \n",
       "1  666029285002620928  https://pbs.twimg.com/media/CT42GRgUYAA5iDo.jpg   \n",
       "2  666033412701032449  https://pbs.twimg.com/media/CT4521TWwAEvMyu.jpg   \n",
       "3  666044226329800704  https://pbs.twimg.com/media/CT5Dr8HUEAA-lEu.jpg   \n",
       "4  666049248165822465  https://pbs.twimg.com/media/CT5IQmsXIAAKY4A.jpg   \n",
       "\n",
       "   img_num                      p1   p1_conf  p1_dog                  p2  \\\n",
       "0        1  Welsh_springer_spaniel  0.465074    True              collie   \n",
       "1        1                 redbone  0.506826    True  miniature_pinscher   \n",
       "2        1         German_shepherd  0.596461    True            malinois   \n",
       "3        1     Rhodesian_ridgeback  0.408143    True             redbone   \n",
       "4        1      miniature_pinscher  0.560311    True          Rottweiler   \n",
       "\n",
       "    p2_conf  p2_dog                   p3   p3_conf  p3_dog  \n",
       "0  0.156665    True    Shetland_sheepdog  0.061428    True  \n",
       "1  0.074192    True  Rhodesian_ridgeback  0.072010    True  \n",
       "2  0.138584    True           bloodhound  0.116197    True  \n",
       "3  0.360687    True   miniature_pinscher  0.222752    True  \n",
       "4  0.243682    True             Doberman  0.154629    True  "
      ]
     },
     "execution_count": 21,
     "metadata": {},
     "output_type": "execute_result"
    }
   ],
   "source": [
    "df_predict.head() "
   ]
  },
  {
   "cell_type": "markdown",
   "id": "7b61c706",
   "metadata": {},
   "source": [
    "### The dataset has 2075 entries, while twitter archive dataset has 2356 entries."
   ]
  },
  {
   "cell_type": "code",
   "execution_count": 22,
   "id": "e852e413",
   "metadata": {},
   "outputs": [
    {
     "data": {
      "text/plain": [
       "2075"
      ]
     },
     "execution_count": 22,
     "metadata": {},
     "output_type": "execute_result"
    }
   ],
   "source": [
    "df_predict.shape[0] "
   ]
  },
  {
   "cell_type": "markdown",
   "id": "227ea083",
   "metadata": {},
   "source": [
    "### Column names are confusing and do not give much information about the content"
   ]
  },
  {
   "cell_type": "code",
   "execution_count": 23,
   "id": "3961485b",
   "metadata": {},
   "outputs": [
    {
     "data": {
      "text/plain": [
       "Index(['tweet_id', 'jpg_url', 'img_num', 'p1', 'p1_conf', 'p1_dog', 'p2',\n",
       "       'p2_conf', 'p2_dog', 'p3', 'p3_conf', 'p3_dog'],\n",
       "      dtype='object')"
      ]
     },
     "execution_count": 23,
     "metadata": {},
     "output_type": "execute_result"
    }
   ],
   "source": [
    "df_predict.columns "
   ]
  },
  {
   "cell_type": "markdown",
   "id": "7dc1c3d4",
   "metadata": {},
   "source": [
    "### We have duplicates image"
   ]
  },
  {
   "cell_type": "code",
   "execution_count": 24,
   "id": "b981e27d",
   "metadata": {},
   "outputs": [
    {
     "data": {
      "text/plain": [
       "66"
      ]
     },
     "execution_count": 24,
     "metadata": {},
     "output_type": "execute_result"
    }
   ],
   "source": [
    "df_predict.jpg_url.duplicated().sum()"
   ]
  },
  {
   "cell_type": "markdown",
   "id": "3e7c410f",
   "metadata": {},
   "source": [
    "### Non-dog records in the dataset like 'orange'"
   ]
  },
  {
   "cell_type": "code",
   "execution_count": 25,
   "id": "7ecbfc3f",
   "metadata": {},
   "outputs": [
    {
     "data": {
      "text/plain": [
       "golden_retriever      150\n",
       "Labrador_retriever    100\n",
       "Pembroke               89\n",
       "Chihuahua              83\n",
       "pug                    57\n",
       "                     ... \n",
       "pillow                  1\n",
       "carousel                1\n",
       "bald_eagle              1\n",
       "lorikeet                1\n",
       "orange                  1\n",
       "Name: p1, Length: 378, dtype: int64"
      ]
     },
     "execution_count": 25,
     "metadata": {},
     "output_type": "execute_result"
    }
   ],
   "source": [
    "df_predict.p1.value_counts()"
   ]
  },
  {
   "cell_type": "markdown",
   "id": "03d4adb4",
   "metadata": {},
   "source": [
    "### The predictions are sometimes uppercase, sometimes lowercase"
   ]
  },
  {
   "cell_type": "code",
   "execution_count": 26,
   "id": "b47aac8f",
   "metadata": {},
   "outputs": [
    {
     "data": {
      "text/plain": [
       "Labrador_retriever    79\n",
       "Chihuahua             58\n",
       "golden_retriever      48\n",
       "Eskimo_dog            38\n",
       "kelpie                35\n",
       "                      ..\n",
       "ox                     1\n",
       "assault_rifle          1\n",
       "axolotl                1\n",
       "pot                    1\n",
       "banana                 1\n",
       "Name: p3, Length: 408, dtype: int64"
      ]
     },
     "execution_count": 26,
     "metadata": {},
     "output_type": "execute_result"
    }
   ],
   "source": [
    "df_predict.p3.value_counts()"
   ]
  },
  {
   "cell_type": "markdown",
   "id": "77f0d829",
   "metadata": {},
   "source": [
    "<div class=\"alert alert-block alert-info\" style=\"font-size:14px; font-family:verdana; line-height: 1.7em;\">\n",
    "    📌 &nbsp;<b><u>Data Quality</u></b><br>\n",
    "\n",
    "* <i>The dataset has 2075 entries, while twitter archive dataset has 2356 entries</i>\n",
    "* <i>Column names are confusing and do not give much information about the content</i>\n",
    "* <i>We have duplicates image</i>\n",
    "* <i>Non-dog records in the dataset like 'orange'</i>\n",
    "    \n",
    "    📌 &nbsp;<b><u>Tidness</u></b><br>\n",
    "\n",
    "* <i>The dataset should be merge with the twitter archive dataset</i>"
   ]
  },
  {
   "cell_type": "markdown",
   "id": "2fc43cea",
   "metadata": {},
   "source": [
    "### Now we assessing our API dataset"
   ]
  },
  {
   "cell_type": "code",
   "execution_count": 27,
   "id": "eed6ae84",
   "metadata": {},
   "outputs": [
    {
     "data": {
      "text/html": [
       "<div>\n",
       "<style scoped>\n",
       "    .dataframe tbody tr th:only-of-type {\n",
       "        vertical-align: middle;\n",
       "    }\n",
       "\n",
       "    .dataframe tbody tr th {\n",
       "        vertical-align: top;\n",
       "    }\n",
       "\n",
       "    .dataframe thead th {\n",
       "        text-align: right;\n",
       "    }\n",
       "</style>\n",
       "<table border=\"1\" class=\"dataframe\">\n",
       "  <thead>\n",
       "    <tr style=\"text-align: right;\">\n",
       "      <th></th>\n",
       "      <th>favorites</th>\n",
       "      <th>retweets</th>\n",
       "    </tr>\n",
       "    <tr>\n",
       "      <th>tweet_id</th>\n",
       "      <th></th>\n",
       "      <th></th>\n",
       "    </tr>\n",
       "  </thead>\n",
       "  <tbody>\n",
       "    <tr>\n",
       "      <th>892420643555336193</th>\n",
       "      <td>39467</td>\n",
       "      <td>8853</td>\n",
       "    </tr>\n",
       "    <tr>\n",
       "      <th>892177421306343426</th>\n",
       "      <td>33819</td>\n",
       "      <td>6514</td>\n",
       "    </tr>\n",
       "    <tr>\n",
       "      <th>891815181378084864</th>\n",
       "      <td>25461</td>\n",
       "      <td>4328</td>\n",
       "    </tr>\n",
       "    <tr>\n",
       "      <th>891689557279858688</th>\n",
       "      <td>42908</td>\n",
       "      <td>8964</td>\n",
       "    </tr>\n",
       "    <tr>\n",
       "      <th>891327558926688256</th>\n",
       "      <td>41048</td>\n",
       "      <td>9774</td>\n",
       "    </tr>\n",
       "  </tbody>\n",
       "</table>\n",
       "</div>"
      ],
      "text/plain": [
       "                    favorites  retweets\n",
       "tweet_id                               \n",
       "892420643555336193      39467      8853\n",
       "892177421306343426      33819      6514\n",
       "891815181378084864      25461      4328\n",
       "891689557279858688      42908      8964\n",
       "891327558926688256      41048      9774"
      ]
     },
     "execution_count": 27,
     "metadata": {},
     "output_type": "execute_result"
    }
   ],
   "source": [
    "df_api.head()"
   ]
  },
  {
   "cell_type": "markdown",
   "id": "0ea4b830",
   "metadata": {},
   "source": [
    "### Twitter archive dataset has 2356 entries, while twitter API data has 2354."
   ]
  },
  {
   "cell_type": "code",
   "execution_count": 28,
   "id": "980069a1",
   "metadata": {},
   "outputs": [
    {
     "data": {
      "text/plain": [
       "2354"
      ]
     },
     "execution_count": 28,
     "metadata": {},
     "output_type": "execute_result"
    }
   ],
   "source": [
    "df_api.shape[0]"
   ]
  },
  {
   "cell_type": "markdown",
   "id": "a2f5895f",
   "metadata": {},
   "source": [
    "<div class=\"alert alert-block alert-info\" style=\"font-size:14px; font-family:verdana; line-height: 1.7em;\">\n",
    "    📌 &nbsp;<b><u>Data Quality</u></b><br>\n",
    "\n",
    "* <i>Twitter archive dataset has 2356 entries, while twitter API data has 2354.</i>\n",
    "    \n",
    "  📌 &nbsp;<b><u>Tidness</u></b><br>\n",
    "\n",
    "* <i>The dataset should be merge with the twitter archive dataset</i>"
   ]
  },
  {
   "cell_type": "markdown",
   "id": "9e119612",
   "metadata": {},
   "source": [
    "<a href=\"#toc\" role=\"button\" aria-pressed=\"true\" >⬆️Back to Table of Contents ⬆️</a>"
   ]
  },
  {
   "cell_type": "markdown",
   "id": "bd98cd09",
   "metadata": {},
   "source": [
    "<a id=\"5\"></a>\n",
    "# **<center><span style=\"color:#fd7b12;\"> Cleaning </span></center>**"
   ]
  },
  {
   "cell_type": "markdown",
   "id": "f10d7c7a",
   "metadata": {},
   "source": [
    "<div class=\"alert alert-block alert-info\" style=\"font-size:14px; font-family:verdana; line-height: 1.7em;\">\n",
    "    📌 &nbsp;<b><u>1 - Merge the three Datasets</u></b><br>\n",
    "\n",
    "* <i>Merge twitter archive enhanced, predict and api datasets on tweet_id </i>\n",
    "* <i>Make a copy of our new dataset</i>\n",
    "* <i>Drop unnecessary columns </i>"
   ]
  },
  {
   "cell_type": "code",
   "execution_count": 29,
   "id": "a3488bdb",
   "metadata": {},
   "outputs": [
    {
     "data": {
      "text/html": [
       "<div>\n",
       "<style scoped>\n",
       "    .dataframe tbody tr th:only-of-type {\n",
       "        vertical-align: middle;\n",
       "    }\n",
       "\n",
       "    .dataframe tbody tr th {\n",
       "        vertical-align: top;\n",
       "    }\n",
       "\n",
       "    .dataframe thead th {\n",
       "        text-align: right;\n",
       "    }\n",
       "</style>\n",
       "<table border=\"1\" class=\"dataframe\">\n",
       "  <thead>\n",
       "    <tr style=\"text-align: right;\">\n",
       "      <th></th>\n",
       "      <th>tweet_id</th>\n",
       "      <th>in_reply_to_status_id</th>\n",
       "      <th>in_reply_to_user_id</th>\n",
       "      <th>timestamp</th>\n",
       "      <th>source</th>\n",
       "      <th>text</th>\n",
       "      <th>retweeted_status_id</th>\n",
       "      <th>retweeted_status_user_id</th>\n",
       "      <th>retweeted_status_timestamp</th>\n",
       "      <th>expanded_urls</th>\n",
       "      <th>...</th>\n",
       "      <th>img_num</th>\n",
       "      <th>p1</th>\n",
       "      <th>p1_conf</th>\n",
       "      <th>p1_dog</th>\n",
       "      <th>p2</th>\n",
       "      <th>p2_conf</th>\n",
       "      <th>p2_dog</th>\n",
       "      <th>p3</th>\n",
       "      <th>p3_conf</th>\n",
       "      <th>p3_dog</th>\n",
       "    </tr>\n",
       "  </thead>\n",
       "  <tbody>\n",
       "    <tr>\n",
       "      <th>0</th>\n",
       "      <td>892420643555336193</td>\n",
       "      <td>NaN</td>\n",
       "      <td>NaN</td>\n",
       "      <td>2017-08-01 16:23:56 +0000</td>\n",
       "      <td>&lt;a href=\"http://twitter.com/download/iphone\" r...</td>\n",
       "      <td>This is Phineas. He's a mystical boy. Only eve...</td>\n",
       "      <td>NaN</td>\n",
       "      <td>NaN</td>\n",
       "      <td>NaN</td>\n",
       "      <td>https://twitter.com/dog_rates/status/892420643...</td>\n",
       "      <td>...</td>\n",
       "      <td>1.0</td>\n",
       "      <td>orange</td>\n",
       "      <td>0.097049</td>\n",
       "      <td>False</td>\n",
       "      <td>bagel</td>\n",
       "      <td>0.085851</td>\n",
       "      <td>False</td>\n",
       "      <td>banana</td>\n",
       "      <td>0.076110</td>\n",
       "      <td>False</td>\n",
       "    </tr>\n",
       "    <tr>\n",
       "      <th>1</th>\n",
       "      <td>892177421306343426</td>\n",
       "      <td>NaN</td>\n",
       "      <td>NaN</td>\n",
       "      <td>2017-08-01 00:17:27 +0000</td>\n",
       "      <td>&lt;a href=\"http://twitter.com/download/iphone\" r...</td>\n",
       "      <td>This is Tilly. She's just checking pup on you....</td>\n",
       "      <td>NaN</td>\n",
       "      <td>NaN</td>\n",
       "      <td>NaN</td>\n",
       "      <td>https://twitter.com/dog_rates/status/892177421...</td>\n",
       "      <td>...</td>\n",
       "      <td>1.0</td>\n",
       "      <td>Chihuahua</td>\n",
       "      <td>0.323581</td>\n",
       "      <td>True</td>\n",
       "      <td>Pekinese</td>\n",
       "      <td>0.090647</td>\n",
       "      <td>True</td>\n",
       "      <td>papillon</td>\n",
       "      <td>0.068957</td>\n",
       "      <td>True</td>\n",
       "    </tr>\n",
       "  </tbody>\n",
       "</table>\n",
       "<p>2 rows × 28 columns</p>\n",
       "</div>"
      ],
      "text/plain": [
       "             tweet_id  in_reply_to_status_id  in_reply_to_user_id  \\\n",
       "0  892420643555336193                    NaN                  NaN   \n",
       "1  892177421306343426                    NaN                  NaN   \n",
       "\n",
       "                   timestamp  \\\n",
       "0  2017-08-01 16:23:56 +0000   \n",
       "1  2017-08-01 00:17:27 +0000   \n",
       "\n",
       "                                              source  \\\n",
       "0  <a href=\"http://twitter.com/download/iphone\" r...   \n",
       "1  <a href=\"http://twitter.com/download/iphone\" r...   \n",
       "\n",
       "                                                text  retweeted_status_id  \\\n",
       "0  This is Phineas. He's a mystical boy. Only eve...                  NaN   \n",
       "1  This is Tilly. She's just checking pup on you....                  NaN   \n",
       "\n",
       "   retweeted_status_user_id retweeted_status_timestamp  \\\n",
       "0                       NaN                        NaN   \n",
       "1                       NaN                        NaN   \n",
       "\n",
       "                                       expanded_urls  ...  img_num         p1  \\\n",
       "0  https://twitter.com/dog_rates/status/892420643...  ...      1.0     orange   \n",
       "1  https://twitter.com/dog_rates/status/892177421...  ...      1.0  Chihuahua   \n",
       "\n",
       "    p1_conf p1_dog        p2   p2_conf p2_dog        p3   p3_conf p3_dog  \n",
       "0  0.097049  False     bagel  0.085851  False    banana  0.076110  False  \n",
       "1  0.323581   True  Pekinese  0.090647   True  papillon  0.068957   True  \n",
       "\n",
       "[2 rows x 28 columns]"
      ]
     },
     "execution_count": 29,
     "metadata": {},
     "output_type": "execute_result"
    }
   ],
   "source": [
    "data = pd.merge(df_enhanced, df_predict, on = \"tweet_id\", how = \"outer\")\n",
    "data.head(2)"
   ]
  },
  {
   "cell_type": "code",
   "execution_count": 30,
   "id": "75bbefde",
   "metadata": {},
   "outputs": [
    {
     "data": {
      "text/html": [
       "<div>\n",
       "<style scoped>\n",
       "    .dataframe tbody tr th:only-of-type {\n",
       "        vertical-align: middle;\n",
       "    }\n",
       "\n",
       "    .dataframe tbody tr th {\n",
       "        vertical-align: top;\n",
       "    }\n",
       "\n",
       "    .dataframe thead th {\n",
       "        text-align: right;\n",
       "    }\n",
       "</style>\n",
       "<table border=\"1\" class=\"dataframe\">\n",
       "  <thead>\n",
       "    <tr style=\"text-align: right;\">\n",
       "      <th></th>\n",
       "      <th>tweet_id</th>\n",
       "      <th>in_reply_to_status_id</th>\n",
       "      <th>in_reply_to_user_id</th>\n",
       "      <th>timestamp</th>\n",
       "      <th>source</th>\n",
       "      <th>text</th>\n",
       "      <th>retweeted_status_id</th>\n",
       "      <th>retweeted_status_user_id</th>\n",
       "      <th>retweeted_status_timestamp</th>\n",
       "      <th>expanded_urls</th>\n",
       "      <th>...</th>\n",
       "      <th>p1_conf</th>\n",
       "      <th>p1_dog</th>\n",
       "      <th>p2</th>\n",
       "      <th>p2_conf</th>\n",
       "      <th>p2_dog</th>\n",
       "      <th>p3</th>\n",
       "      <th>p3_conf</th>\n",
       "      <th>p3_dog</th>\n",
       "      <th>favorites</th>\n",
       "      <th>retweets</th>\n",
       "    </tr>\n",
       "  </thead>\n",
       "  <tbody>\n",
       "    <tr>\n",
       "      <th>0</th>\n",
       "      <td>892420643555336193</td>\n",
       "      <td>NaN</td>\n",
       "      <td>NaN</td>\n",
       "      <td>2017-08-01 16:23:56 +0000</td>\n",
       "      <td>&lt;a href=\"http://twitter.com/download/iphone\" r...</td>\n",
       "      <td>This is Phineas. He's a mystical boy. Only eve...</td>\n",
       "      <td>NaN</td>\n",
       "      <td>NaN</td>\n",
       "      <td>NaN</td>\n",
       "      <td>https://twitter.com/dog_rates/status/892420643...</td>\n",
       "      <td>...</td>\n",
       "      <td>0.097049</td>\n",
       "      <td>False</td>\n",
       "      <td>bagel</td>\n",
       "      <td>0.085851</td>\n",
       "      <td>False</td>\n",
       "      <td>banana</td>\n",
       "      <td>0.076110</td>\n",
       "      <td>False</td>\n",
       "      <td>39467.0</td>\n",
       "      <td>8853.0</td>\n",
       "    </tr>\n",
       "    <tr>\n",
       "      <th>1</th>\n",
       "      <td>892177421306343426</td>\n",
       "      <td>NaN</td>\n",
       "      <td>NaN</td>\n",
       "      <td>2017-08-01 00:17:27 +0000</td>\n",
       "      <td>&lt;a href=\"http://twitter.com/download/iphone\" r...</td>\n",
       "      <td>This is Tilly. She's just checking pup on you....</td>\n",
       "      <td>NaN</td>\n",
       "      <td>NaN</td>\n",
       "      <td>NaN</td>\n",
       "      <td>https://twitter.com/dog_rates/status/892177421...</td>\n",
       "      <td>...</td>\n",
       "      <td>0.323581</td>\n",
       "      <td>True</td>\n",
       "      <td>Pekinese</td>\n",
       "      <td>0.090647</td>\n",
       "      <td>True</td>\n",
       "      <td>papillon</td>\n",
       "      <td>0.068957</td>\n",
       "      <td>True</td>\n",
       "      <td>33819.0</td>\n",
       "      <td>6514.0</td>\n",
       "    </tr>\n",
       "  </tbody>\n",
       "</table>\n",
       "<p>2 rows × 30 columns</p>\n",
       "</div>"
      ],
      "text/plain": [
       "             tweet_id  in_reply_to_status_id  in_reply_to_user_id  \\\n",
       "0  892420643555336193                    NaN                  NaN   \n",
       "1  892177421306343426                    NaN                  NaN   \n",
       "\n",
       "                   timestamp  \\\n",
       "0  2017-08-01 16:23:56 +0000   \n",
       "1  2017-08-01 00:17:27 +0000   \n",
       "\n",
       "                                              source  \\\n",
       "0  <a href=\"http://twitter.com/download/iphone\" r...   \n",
       "1  <a href=\"http://twitter.com/download/iphone\" r...   \n",
       "\n",
       "                                                text  retweeted_status_id  \\\n",
       "0  This is Phineas. He's a mystical boy. Only eve...                  NaN   \n",
       "1  This is Tilly. She's just checking pup on you....                  NaN   \n",
       "\n",
       "   retweeted_status_user_id retweeted_status_timestamp  \\\n",
       "0                       NaN                        NaN   \n",
       "1                       NaN                        NaN   \n",
       "\n",
       "                                       expanded_urls  ...   p1_conf  p1_dog  \\\n",
       "0  https://twitter.com/dog_rates/status/892420643...  ...  0.097049   False   \n",
       "1  https://twitter.com/dog_rates/status/892177421...  ...  0.323581    True   \n",
       "\n",
       "         p2   p2_conf p2_dog        p3   p3_conf p3_dog  favorites retweets  \n",
       "0     bagel  0.085851  False    banana  0.076110  False    39467.0   8853.0  \n",
       "1  Pekinese  0.090647   True  papillon  0.068957   True    33819.0   6514.0  \n",
       "\n",
       "[2 rows x 30 columns]"
      ]
     },
     "execution_count": 30,
     "metadata": {},
     "output_type": "execute_result"
    }
   ],
   "source": [
    "data = pd.merge(data, df_api, on = \"tweet_id\", how = \"outer\")\n",
    "data.head(2)"
   ]
  },
  {
   "cell_type": "code",
   "execution_count": 31,
   "id": "079b6932",
   "metadata": {
    "scrolled": true
   },
   "outputs": [
    {
     "data": {
      "text/html": [
       "<div>\n",
       "<style scoped>\n",
       "    .dataframe tbody tr th:only-of-type {\n",
       "        vertical-align: middle;\n",
       "    }\n",
       "\n",
       "    .dataframe tbody tr th {\n",
       "        vertical-align: top;\n",
       "    }\n",
       "\n",
       "    .dataframe thead th {\n",
       "        text-align: right;\n",
       "    }\n",
       "</style>\n",
       "<table border=\"1\" class=\"dataframe\">\n",
       "  <thead>\n",
       "    <tr style=\"text-align: right;\">\n",
       "      <th></th>\n",
       "      <th>tweet_id</th>\n",
       "      <th>in_reply_to_status_id</th>\n",
       "      <th>in_reply_to_user_id</th>\n",
       "      <th>timestamp</th>\n",
       "      <th>source</th>\n",
       "      <th>text</th>\n",
       "      <th>retweeted_status_id</th>\n",
       "      <th>retweeted_status_user_id</th>\n",
       "      <th>retweeted_status_timestamp</th>\n",
       "      <th>expanded_urls</th>\n",
       "      <th>...</th>\n",
       "      <th>p1_conf</th>\n",
       "      <th>p1_dog</th>\n",
       "      <th>p2</th>\n",
       "      <th>p2_conf</th>\n",
       "      <th>p2_dog</th>\n",
       "      <th>p3</th>\n",
       "      <th>p3_conf</th>\n",
       "      <th>p3_dog</th>\n",
       "      <th>favorites</th>\n",
       "      <th>retweets</th>\n",
       "    </tr>\n",
       "  </thead>\n",
       "  <tbody>\n",
       "    <tr>\n",
       "      <th>0</th>\n",
       "      <td>892420643555336193</td>\n",
       "      <td>NaN</td>\n",
       "      <td>NaN</td>\n",
       "      <td>2017-08-01 16:23:56 +0000</td>\n",
       "      <td>&lt;a href=\"http://twitter.com/download/iphone\" r...</td>\n",
       "      <td>This is Phineas. He's a mystical boy. Only eve...</td>\n",
       "      <td>NaN</td>\n",
       "      <td>NaN</td>\n",
       "      <td>NaN</td>\n",
       "      <td>https://twitter.com/dog_rates/status/892420643...</td>\n",
       "      <td>...</td>\n",
       "      <td>0.097049</td>\n",
       "      <td>False</td>\n",
       "      <td>bagel</td>\n",
       "      <td>0.085851</td>\n",
       "      <td>False</td>\n",
       "      <td>banana</td>\n",
       "      <td>0.076110</td>\n",
       "      <td>False</td>\n",
       "      <td>39467.0</td>\n",
       "      <td>8853.0</td>\n",
       "    </tr>\n",
       "    <tr>\n",
       "      <th>1</th>\n",
       "      <td>892177421306343426</td>\n",
       "      <td>NaN</td>\n",
       "      <td>NaN</td>\n",
       "      <td>2017-08-01 00:17:27 +0000</td>\n",
       "      <td>&lt;a href=\"http://twitter.com/download/iphone\" r...</td>\n",
       "      <td>This is Tilly. She's just checking pup on you....</td>\n",
       "      <td>NaN</td>\n",
       "      <td>NaN</td>\n",
       "      <td>NaN</td>\n",
       "      <td>https://twitter.com/dog_rates/status/892177421...</td>\n",
       "      <td>...</td>\n",
       "      <td>0.323581</td>\n",
       "      <td>True</td>\n",
       "      <td>Pekinese</td>\n",
       "      <td>0.090647</td>\n",
       "      <td>True</td>\n",
       "      <td>papillon</td>\n",
       "      <td>0.068957</td>\n",
       "      <td>True</td>\n",
       "      <td>33819.0</td>\n",
       "      <td>6514.0</td>\n",
       "    </tr>\n",
       "  </tbody>\n",
       "</table>\n",
       "<p>2 rows × 30 columns</p>\n",
       "</div>"
      ],
      "text/plain": [
       "             tweet_id  in_reply_to_status_id  in_reply_to_user_id  \\\n",
       "0  892420643555336193                    NaN                  NaN   \n",
       "1  892177421306343426                    NaN                  NaN   \n",
       "\n",
       "                   timestamp  \\\n",
       "0  2017-08-01 16:23:56 +0000   \n",
       "1  2017-08-01 00:17:27 +0000   \n",
       "\n",
       "                                              source  \\\n",
       "0  <a href=\"http://twitter.com/download/iphone\" r...   \n",
       "1  <a href=\"http://twitter.com/download/iphone\" r...   \n",
       "\n",
       "                                                text  retweeted_status_id  \\\n",
       "0  This is Phineas. He's a mystical boy. Only eve...                  NaN   \n",
       "1  This is Tilly. She's just checking pup on you....                  NaN   \n",
       "\n",
       "   retweeted_status_user_id retweeted_status_timestamp  \\\n",
       "0                       NaN                        NaN   \n",
       "1                       NaN                        NaN   \n",
       "\n",
       "                                       expanded_urls  ...   p1_conf  p1_dog  \\\n",
       "0  https://twitter.com/dog_rates/status/892420643...  ...  0.097049   False   \n",
       "1  https://twitter.com/dog_rates/status/892177421...  ...  0.323581    True   \n",
       "\n",
       "         p2   p2_conf p2_dog        p3   p3_conf p3_dog  favorites retweets  \n",
       "0     bagel  0.085851  False    banana  0.076110  False    39467.0   8853.0  \n",
       "1  Pekinese  0.090647   True  papillon  0.068957   True    33819.0   6514.0  \n",
       "\n",
       "[2 rows x 30 columns]"
      ]
     },
     "execution_count": 31,
     "metadata": {},
     "output_type": "execute_result"
    }
   ],
   "source": [
    "df = data.copy()\n",
    "df.head(2)"
   ]
  },
  {
   "cell_type": "markdown",
   "id": "1c419fef",
   "metadata": {},
   "source": [
    "<div class=\"alert alert-block alert-info\" style=\"font-size:14px; font-family:verdana; line-height: 1.7em;\">\n",
    "    📌 &nbsp;<b><u>2 - Drop columns</u></b><br>\n",
    "\n",
    "* <i>Drop non-assigned </i>\n",
    "* <i>Drop unnecessary columns</i>"
   ]
  },
  {
   "cell_type": "code",
   "execution_count": 32,
   "id": "6a2b4fa3",
   "metadata": {},
   "outputs": [
    {
     "data": {
      "text/plain": [
       "(2356, 30)"
      ]
     },
     "execution_count": 32,
     "metadata": {},
     "output_type": "execute_result"
    }
   ],
   "source": [
    "df.shape"
   ]
  },
  {
   "cell_type": "code",
   "execution_count": 33,
   "id": "33ef9064",
   "metadata": {},
   "outputs": [],
   "source": [
    "df = df[df['retweeted_status_id'].isnull()]"
   ]
  },
  {
   "cell_type": "code",
   "execution_count": 34,
   "id": "309ecacb",
   "metadata": {},
   "outputs": [
    {
     "data": {
      "text/plain": [
       "Index(['tweet_id', 'in_reply_to_status_id', 'in_reply_to_user_id', 'timestamp',\n",
       "       'source', 'text', 'retweeted_status_id', 'retweeted_status_user_id',\n",
       "       'retweeted_status_timestamp', 'expanded_urls', 'rating_numerator',\n",
       "       'rating_denominator', 'name', 'doggo', 'floofer', 'pupper', 'puppo',\n",
       "       'jpg_url', 'img_num', 'p1', 'p1_conf', 'p1_dog', 'p2', 'p2_conf',\n",
       "       'p2_dog', 'p3', 'p3_conf', 'p3_dog', 'favorites', 'retweets'],\n",
       "      dtype='object')"
      ]
     },
     "execution_count": 34,
     "metadata": {},
     "output_type": "execute_result"
    }
   ],
   "source": [
    "df.columns"
   ]
  },
  {
   "cell_type": "code",
   "execution_count": 35,
   "id": "dbf60e66",
   "metadata": {},
   "outputs": [],
   "source": [
    "df.drop(['in_reply_to_status_id','in_reply_to_user_id','retweeted_status_id',\n",
    "           'retweeted_status_user_id','retweeted_status_timestamp'], axis = 1, inplace = True)"
   ]
  },
  {
   "cell_type": "code",
   "execution_count": 36,
   "id": "0745e607",
   "metadata": {},
   "outputs": [
    {
     "data": {
      "text/plain": [
       "(2175, 25)"
      ]
     },
     "execution_count": 36,
     "metadata": {},
     "output_type": "execute_result"
    }
   ],
   "source": [
    "df.shape"
   ]
  },
  {
   "cell_type": "code",
   "execution_count": 37,
   "id": "686ed9a9",
   "metadata": {},
   "outputs": [
    {
     "data": {
      "text/html": [
       "<div>\n",
       "<style scoped>\n",
       "    .dataframe tbody tr th:only-of-type {\n",
       "        vertical-align: middle;\n",
       "    }\n",
       "\n",
       "    .dataframe tbody tr th {\n",
       "        vertical-align: top;\n",
       "    }\n",
       "\n",
       "    .dataframe thead th {\n",
       "        text-align: right;\n",
       "    }\n",
       "</style>\n",
       "<table border=\"1\" class=\"dataframe\">\n",
       "  <thead>\n",
       "    <tr style=\"text-align: right;\">\n",
       "      <th></th>\n",
       "      <th>tweet_id</th>\n",
       "      <th>timestamp</th>\n",
       "      <th>source</th>\n",
       "      <th>text</th>\n",
       "      <th>expanded_urls</th>\n",
       "      <th>rating_numerator</th>\n",
       "      <th>rating_denominator</th>\n",
       "      <th>name</th>\n",
       "      <th>doggo</th>\n",
       "      <th>floofer</th>\n",
       "      <th>...</th>\n",
       "      <th>p1_conf</th>\n",
       "      <th>p1_dog</th>\n",
       "      <th>p2</th>\n",
       "      <th>p2_conf</th>\n",
       "      <th>p2_dog</th>\n",
       "      <th>p3</th>\n",
       "      <th>p3_conf</th>\n",
       "      <th>p3_dog</th>\n",
       "      <th>favorites</th>\n",
       "      <th>retweets</th>\n",
       "    </tr>\n",
       "  </thead>\n",
       "  <tbody>\n",
       "    <tr>\n",
       "      <th>0</th>\n",
       "      <td>892420643555336193</td>\n",
       "      <td>2017-08-01 16:23:56 +0000</td>\n",
       "      <td>&lt;a href=\"http://twitter.com/download/iphone\" r...</td>\n",
       "      <td>This is Phineas. He's a mystical boy. Only eve...</td>\n",
       "      <td>https://twitter.com/dog_rates/status/892420643...</td>\n",
       "      <td>13</td>\n",
       "      <td>10</td>\n",
       "      <td>Phineas</td>\n",
       "      <td>None</td>\n",
       "      <td>None</td>\n",
       "      <td>...</td>\n",
       "      <td>0.097049</td>\n",
       "      <td>False</td>\n",
       "      <td>bagel</td>\n",
       "      <td>0.085851</td>\n",
       "      <td>False</td>\n",
       "      <td>banana</td>\n",
       "      <td>0.076110</td>\n",
       "      <td>False</td>\n",
       "      <td>39467.0</td>\n",
       "      <td>8853.0</td>\n",
       "    </tr>\n",
       "    <tr>\n",
       "      <th>1</th>\n",
       "      <td>892177421306343426</td>\n",
       "      <td>2017-08-01 00:17:27 +0000</td>\n",
       "      <td>&lt;a href=\"http://twitter.com/download/iphone\" r...</td>\n",
       "      <td>This is Tilly. She's just checking pup on you....</td>\n",
       "      <td>https://twitter.com/dog_rates/status/892177421...</td>\n",
       "      <td>13</td>\n",
       "      <td>10</td>\n",
       "      <td>Tilly</td>\n",
       "      <td>None</td>\n",
       "      <td>None</td>\n",
       "      <td>...</td>\n",
       "      <td>0.323581</td>\n",
       "      <td>True</td>\n",
       "      <td>Pekinese</td>\n",
       "      <td>0.090647</td>\n",
       "      <td>True</td>\n",
       "      <td>papillon</td>\n",
       "      <td>0.068957</td>\n",
       "      <td>True</td>\n",
       "      <td>33819.0</td>\n",
       "      <td>6514.0</td>\n",
       "    </tr>\n",
       "  </tbody>\n",
       "</table>\n",
       "<p>2 rows × 25 columns</p>\n",
       "</div>"
      ],
      "text/plain": [
       "             tweet_id                  timestamp  \\\n",
       "0  892420643555336193  2017-08-01 16:23:56 +0000   \n",
       "1  892177421306343426  2017-08-01 00:17:27 +0000   \n",
       "\n",
       "                                              source  \\\n",
       "0  <a href=\"http://twitter.com/download/iphone\" r...   \n",
       "1  <a href=\"http://twitter.com/download/iphone\" r...   \n",
       "\n",
       "                                                text  \\\n",
       "0  This is Phineas. He's a mystical boy. Only eve...   \n",
       "1  This is Tilly. She's just checking pup on you....   \n",
       "\n",
       "                                       expanded_urls  rating_numerator  \\\n",
       "0  https://twitter.com/dog_rates/status/892420643...                13   \n",
       "1  https://twitter.com/dog_rates/status/892177421...                13   \n",
       "\n",
       "   rating_denominator     name doggo floofer  ...   p1_conf p1_dog        p2  \\\n",
       "0                  10  Phineas  None    None  ...  0.097049  False     bagel   \n",
       "1                  10    Tilly  None    None  ...  0.323581   True  Pekinese   \n",
       "\n",
       "    p2_conf p2_dog        p3   p3_conf p3_dog  favorites retweets  \n",
       "0  0.085851  False    banana  0.076110  False    39467.0   8853.0  \n",
       "1  0.090647   True  papillon  0.068957   True    33819.0   6514.0  \n",
       "\n",
       "[2 rows x 25 columns]"
      ]
     },
     "execution_count": 37,
     "metadata": {},
     "output_type": "execute_result"
    }
   ],
   "source": [
    "df.head(2)"
   ]
  },
  {
   "cell_type": "code",
   "execution_count": 38,
   "id": "72aac1d8",
   "metadata": {},
   "outputs": [
    {
     "name": "stdout",
     "output_type": "stream",
     "text": [
      "<class 'pandas.core.frame.DataFrame'>\n",
      "Int64Index: 2175 entries, 0 to 2355\n",
      "Data columns (total 25 columns):\n",
      " #   Column              Non-Null Count  Dtype  \n",
      "---  ------              --------------  -----  \n",
      " 0   tweet_id            2175 non-null   int64  \n",
      " 1   timestamp           2175 non-null   object \n",
      " 2   source              2175 non-null   object \n",
      " 3   text                2175 non-null   object \n",
      " 4   expanded_urls       2117 non-null   object \n",
      " 5   rating_numerator    2175 non-null   int64  \n",
      " 6   rating_denominator  2175 non-null   int64  \n",
      " 7   name                2175 non-null   object \n",
      " 8   doggo               2175 non-null   object \n",
      " 9   floofer             2175 non-null   object \n",
      " 10  pupper              2175 non-null   object \n",
      " 11  puppo               2175 non-null   object \n",
      " 12  jpg_url             1994 non-null   object \n",
      " 13  img_num             1994 non-null   float64\n",
      " 14  p1                  1994 non-null   object \n",
      " 15  p1_conf             1994 non-null   float64\n",
      " 16  p1_dog              1994 non-null   object \n",
      " 17  p2                  1994 non-null   object \n",
      " 18  p2_conf             1994 non-null   float64\n",
      " 19  p2_dog              1994 non-null   object \n",
      " 20  p3                  1994 non-null   object \n",
      " 21  p3_conf             1994 non-null   float64\n",
      " 22  p3_dog              1994 non-null   object \n",
      " 23  favorites           2175 non-null   float64\n",
      " 24  retweets            2175 non-null   float64\n",
      "dtypes: float64(6), int64(3), object(16)\n",
      "memory usage: 441.8+ KB\n"
     ]
    }
   ],
   "source": [
    "df.info()"
   ]
  },
  {
   "cell_type": "markdown",
   "id": "b8f81eca",
   "metadata": {},
   "source": [
    "<div class=\"alert alert-block alert-info\" style=\"font-size:14px; font-family:verdana; line-height: 1.7em;\">\n",
    "    📌 &nbsp;<b><u>3 - One columns for dog classification</u></b><br>\n",
    "\n",
    "* <i>Read dog types from text column and add it on new columns </i>\n",
    "* <i>Drop old columns</i>"
   ]
  },
  {
   "cell_type": "code",
   "execution_count": 39,
   "id": "4fc76116",
   "metadata": {},
   "outputs": [],
   "source": [
    "for index, column in df.iterrows():\n",
    "    for word in ['puppo', 'pupper', 'doggo', 'floofer']:\n",
    "        if word.lower() in str(df.loc[index, 'text']).lower():\n",
    "            df.loc[index, 'stage'] = word.title()"
   ]
  },
  {
   "cell_type": "code",
   "execution_count": 40,
   "id": "5a465b6c",
   "metadata": {},
   "outputs": [
    {
     "data": {
      "text/html": [
       "<div>\n",
       "<style scoped>\n",
       "    .dataframe tbody tr th:only-of-type {\n",
       "        vertical-align: middle;\n",
       "    }\n",
       "\n",
       "    .dataframe tbody tr th {\n",
       "        vertical-align: top;\n",
       "    }\n",
       "\n",
       "    .dataframe thead th {\n",
       "        text-align: right;\n",
       "    }\n",
       "</style>\n",
       "<table border=\"1\" class=\"dataframe\">\n",
       "  <thead>\n",
       "    <tr style=\"text-align: right;\">\n",
       "      <th></th>\n",
       "      <th>tweet_id</th>\n",
       "      <th>timestamp</th>\n",
       "      <th>source</th>\n",
       "      <th>text</th>\n",
       "      <th>expanded_urls</th>\n",
       "      <th>rating_numerator</th>\n",
       "      <th>rating_denominator</th>\n",
       "      <th>name</th>\n",
       "      <th>jpg_url</th>\n",
       "      <th>img_num</th>\n",
       "      <th>...</th>\n",
       "      <th>p1_dog</th>\n",
       "      <th>p2</th>\n",
       "      <th>p2_conf</th>\n",
       "      <th>p2_dog</th>\n",
       "      <th>p3</th>\n",
       "      <th>p3_conf</th>\n",
       "      <th>p3_dog</th>\n",
       "      <th>favorites</th>\n",
       "      <th>retweets</th>\n",
       "      <th>stage</th>\n",
       "    </tr>\n",
       "  </thead>\n",
       "  <tbody>\n",
       "    <tr>\n",
       "      <th>0</th>\n",
       "      <td>892420643555336193</td>\n",
       "      <td>2017-08-01 16:23:56 +0000</td>\n",
       "      <td>&lt;a href=\"http://twitter.com/download/iphone\" r...</td>\n",
       "      <td>This is Phineas. He's a mystical boy. Only eve...</td>\n",
       "      <td>https://twitter.com/dog_rates/status/892420643...</td>\n",
       "      <td>13</td>\n",
       "      <td>10</td>\n",
       "      <td>Phineas</td>\n",
       "      <td>https://pbs.twimg.com/media/DGKD1-bXoAAIAUK.jpg</td>\n",
       "      <td>1.0</td>\n",
       "      <td>...</td>\n",
       "      <td>False</td>\n",
       "      <td>bagel</td>\n",
       "      <td>0.085851</td>\n",
       "      <td>False</td>\n",
       "      <td>banana</td>\n",
       "      <td>0.076110</td>\n",
       "      <td>False</td>\n",
       "      <td>39467.0</td>\n",
       "      <td>8853.0</td>\n",
       "      <td>NaN</td>\n",
       "    </tr>\n",
       "    <tr>\n",
       "      <th>1</th>\n",
       "      <td>892177421306343426</td>\n",
       "      <td>2017-08-01 00:17:27 +0000</td>\n",
       "      <td>&lt;a href=\"http://twitter.com/download/iphone\" r...</td>\n",
       "      <td>This is Tilly. She's just checking pup on you....</td>\n",
       "      <td>https://twitter.com/dog_rates/status/892177421...</td>\n",
       "      <td>13</td>\n",
       "      <td>10</td>\n",
       "      <td>Tilly</td>\n",
       "      <td>https://pbs.twimg.com/media/DGGmoV4XsAAUL6n.jpg</td>\n",
       "      <td>1.0</td>\n",
       "      <td>...</td>\n",
       "      <td>True</td>\n",
       "      <td>Pekinese</td>\n",
       "      <td>0.090647</td>\n",
       "      <td>True</td>\n",
       "      <td>papillon</td>\n",
       "      <td>0.068957</td>\n",
       "      <td>True</td>\n",
       "      <td>33819.0</td>\n",
       "      <td>6514.0</td>\n",
       "      <td>NaN</td>\n",
       "    </tr>\n",
       "    <tr>\n",
       "      <th>2</th>\n",
       "      <td>891815181378084864</td>\n",
       "      <td>2017-07-31 00:18:03 +0000</td>\n",
       "      <td>&lt;a href=\"http://twitter.com/download/iphone\" r...</td>\n",
       "      <td>This is Archie. He is a rare Norwegian Pouncin...</td>\n",
       "      <td>https://twitter.com/dog_rates/status/891815181...</td>\n",
       "      <td>12</td>\n",
       "      <td>10</td>\n",
       "      <td>Archie</td>\n",
       "      <td>https://pbs.twimg.com/media/DGBdLU1WsAANxJ9.jpg</td>\n",
       "      <td>1.0</td>\n",
       "      <td>...</td>\n",
       "      <td>True</td>\n",
       "      <td>malamute</td>\n",
       "      <td>0.078253</td>\n",
       "      <td>True</td>\n",
       "      <td>kelpie</td>\n",
       "      <td>0.031379</td>\n",
       "      <td>True</td>\n",
       "      <td>25461.0</td>\n",
       "      <td>4328.0</td>\n",
       "      <td>NaN</td>\n",
       "    </tr>\n",
       "  </tbody>\n",
       "</table>\n",
       "<p>3 rows × 22 columns</p>\n",
       "</div>"
      ],
      "text/plain": [
       "             tweet_id                  timestamp  \\\n",
       "0  892420643555336193  2017-08-01 16:23:56 +0000   \n",
       "1  892177421306343426  2017-08-01 00:17:27 +0000   \n",
       "2  891815181378084864  2017-07-31 00:18:03 +0000   \n",
       "\n",
       "                                              source  \\\n",
       "0  <a href=\"http://twitter.com/download/iphone\" r...   \n",
       "1  <a href=\"http://twitter.com/download/iphone\" r...   \n",
       "2  <a href=\"http://twitter.com/download/iphone\" r...   \n",
       "\n",
       "                                                text  \\\n",
       "0  This is Phineas. He's a mystical boy. Only eve...   \n",
       "1  This is Tilly. She's just checking pup on you....   \n",
       "2  This is Archie. He is a rare Norwegian Pouncin...   \n",
       "\n",
       "                                       expanded_urls  rating_numerator  \\\n",
       "0  https://twitter.com/dog_rates/status/892420643...                13   \n",
       "1  https://twitter.com/dog_rates/status/892177421...                13   \n",
       "2  https://twitter.com/dog_rates/status/891815181...                12   \n",
       "\n",
       "   rating_denominator     name  \\\n",
       "0                  10  Phineas   \n",
       "1                  10    Tilly   \n",
       "2                  10   Archie   \n",
       "\n",
       "                                           jpg_url  img_num  ... p1_dog  \\\n",
       "0  https://pbs.twimg.com/media/DGKD1-bXoAAIAUK.jpg      1.0  ...  False   \n",
       "1  https://pbs.twimg.com/media/DGGmoV4XsAAUL6n.jpg      1.0  ...   True   \n",
       "2  https://pbs.twimg.com/media/DGBdLU1WsAANxJ9.jpg      1.0  ...   True   \n",
       "\n",
       "         p2   p2_conf p2_dog        p3   p3_conf p3_dog  favorites retweets  \\\n",
       "0     bagel  0.085851  False    banana  0.076110  False    39467.0   8853.0   \n",
       "1  Pekinese  0.090647   True  papillon  0.068957   True    33819.0   6514.0   \n",
       "2  malamute  0.078253   True    kelpie  0.031379   True    25461.0   4328.0   \n",
       "\n",
       "   stage  \n",
       "0    NaN  \n",
       "1    NaN  \n",
       "2    NaN  \n",
       "\n",
       "[3 rows x 22 columns]"
      ]
     },
     "execution_count": 40,
     "metadata": {},
     "output_type": "execute_result"
    }
   ],
   "source": [
    "df.drop(['puppo','pupper','doggo','floofer'],axis=1, inplace=True)\n",
    "df.head(3)"
   ]
  },
  {
   "cell_type": "code",
   "execution_count": 41,
   "id": "67ce02d9",
   "metadata": {},
   "outputs": [
    {
     "data": {
      "text/plain": [
       "Pupper     250\n",
       "Doggo       94\n",
       "Puppo       31\n",
       "Floofer     10\n",
       "Name: stage, dtype: int64"
      ]
     },
     "execution_count": 41,
     "metadata": {},
     "output_type": "execute_result"
    }
   ],
   "source": [
    "df.stage.value_counts()"
   ]
  },
  {
   "cell_type": "markdown",
   "id": "4d0cdb1b",
   "metadata": {},
   "source": [
    "<div class=\"alert alert-block alert-info\" style=\"font-size:14px; font-family:verdana; line-height: 1.7em;\">\n",
    "    📌 &nbsp;<b><u>4 - Timestamp is object instead of date</u></b><br>\n",
    "\n",
    "* <i>Covert object into datetime </i>"
   ]
  },
  {
   "cell_type": "code",
   "execution_count": 42,
   "id": "1f6cb14b",
   "metadata": {},
   "outputs": [
    {
     "data": {
      "text/plain": [
       "dtype('O')"
      ]
     },
     "execution_count": 42,
     "metadata": {},
     "output_type": "execute_result"
    }
   ],
   "source": [
    "df.timestamp.dtypes"
   ]
  },
  {
   "cell_type": "code",
   "execution_count": 43,
   "id": "3e6a41c9",
   "metadata": {},
   "outputs": [],
   "source": [
    "df.timestamp = pd.to_datetime(df_enhanced.timestamp)"
   ]
  },
  {
   "cell_type": "code",
   "execution_count": 44,
   "id": "782bb9b6",
   "metadata": {
    "scrolled": true
   },
   "outputs": [
    {
     "data": {
      "text/plain": [
       "datetime64[ns, UTC]"
      ]
     },
     "execution_count": 44,
     "metadata": {},
     "output_type": "execute_result"
    }
   ],
   "source": [
    "df.timestamp.dtypes"
   ]
  },
  {
   "cell_type": "markdown",
   "id": "a2f5895f",
   "metadata": {},
   "source": [
    "<div class=\"alert alert-block alert-info\" style=\"font-size:14px; font-family:verdana; line-height: 1.7em;\">\n",
    "    📌 &nbsp;<b><u>5 - Wrong dogs name</u></b><br>\n",
    "\n",
    "* <i>Creating two lists: one for well-extracted names and one for missing names</i>\n",
    "* <i>Creating a list of texts</i>\n",
    "* <i>Creating a regex pattern</i>\n",
    "* <i>Go through the text list and check if the content and pattern matches some of the expressions</i>\n",
    "* <i>Replace incorrect values with NaN</i>"
   ]
  },
  {
   "cell_type": "code",
   "execution_count": 45,
   "id": "5d8883f2",
   "metadata": {},
   "outputs": [
    {
     "data": {
      "text/plain": [
       "None          680\n",
       "a              55\n",
       "Lucy           11\n",
       "Charlie        11\n",
       "Cooper         10\n",
       "             ... \n",
       "Wishes          1\n",
       "Rose            1\n",
       "Theo            1\n",
       "Fido            1\n",
       "Christoper      1\n",
       "Name: name, Length: 956, dtype: int64"
      ]
     },
     "execution_count": 45,
     "metadata": {},
     "output_type": "execute_result"
    }
   ],
   "source": [
    "df.name.value_counts()"
   ]
  },
  {
   "cell_type": "code",
   "execution_count": 46,
   "id": "a2c7d225",
   "metadata": {},
   "outputs": [],
   "source": [
    "extracted_names = []\n",
    "missing_names = []"
   ]
  },
  {
   "cell_type": "code",
   "execution_count": 47,
   "id": "30db4a06",
   "metadata": {},
   "outputs": [],
   "source": [
    "text_list = df['text'].values.tolist()"
   ]
  },
  {
   "cell_type": "code",
   "execution_count": 48,
   "id": "e716f1ea",
   "metadata": {},
   "outputs": [],
   "source": [
    "import re\n",
    "pattern = re.compile('([A-Z].*)')"
   ]
  },
  {
   "cell_type": "code",
   "execution_count": 49,
   "id": "5638545f",
   "metadata": {},
   "outputs": [],
   "source": [
    "for text in df['text']:\n",
    "    \n",
    "    if text.__contains__('This is') and pattern.fullmatch(text.split()[text.split().index(\"is\")+1]):\n",
    "        extracted_names.append(text.split(\" \")[2].strip('.').strip(','))\n",
    "    elif text.startswith(\"Meet\") and pattern.fullmatch(text.split(\" \")[1]):\n",
    "        extracted_names.append(text.split(\" \")[1].strip('.').strip(','))\n",
    "    elif text.startswith(\"Here we have\") and pattern.fullmatch(text.split(\" \", 3)[3]):\n",
    "        extracted_names.append(text.split(\" \")[3].strip('.').strip(','))\n",
    "    elif text.split(\" \").__contains__(\"named\") and pattern.fullmatch(text.split()[text.split().index(\"named\")+1]):\n",
    "        extracted_names.append(text.split()[text.split().index(\"named\")+1].strip('.').strip(','))\n",
    "    elif text.__contains__(\"name is\") and pattern.fullmatch(text.split()[text.split().index(\"is\")+1]):\n",
    "        extracted_names.append(text.split()[text.split().index(\"is\")+1].strip('.').strip(','))\n",
    "    elif text.__contains__(\"Say hello to\") and pattern.fullmatch(text.split()[text.split().index(\"to\")+1]):\n",
    "        extracted_names.append(text.split(\" \")[3].strip('.').strip(','))\n",
    "    else:\n",
    "        extracted_names.append(\"NaN\")\n",
    "        missing_names.append(text)"
   ]
  },
  {
   "cell_type": "code",
   "execution_count": 50,
   "id": "2684b92b",
   "metadata": {},
   "outputs": [
    {
     "data": {
      "text/plain": [
       "[\"Here we have a majestic great white breaching off South Africa's coast. Absolutely h*ckin breathtaking. 13/10 (IG: tucker_marlo) #BarkWeek https://t.co/kQ04fDDRmh\",\n",
       " \"When you watch your owner call another dog a good boy but then they turn back to you and say you're a great boy. 13/10 https://t.co/v0nONBcwxq\",\n",
       " \"Here's a puppo that seems to be on the fence about something haha no but seriously someone help her. 13/10 https://t.co/BxvuXk0UCm\",\n",
       " \"I've yet to rate a Venezuelan Hover Wiener. This is such an honor. 14/10 paw-inspiring af (IG: roxy.thedoxy) https://t.co/20VrLAA8ba\",\n",
       " 'You may not have known you needed to see this today. 13/10 please enjoy (IG: emmylouroo) https://t.co/WZqNqygEyV',\n",
       " 'This... is a Jubilant Antarctic House Bear. We only rate dogs. Please only send dogs. Thank you... 12/10 would suffocate in floof https://t.co/4Ad1jzJSdp',\n",
       " '@NonWhiteHat @MayhewMayhem omg hello tanner you are a scary good boy 12/10 would pet with extreme caution',\n",
       " 'Here we have a corgi undercover as a malamute. Pawbably doing important investigative work. Zero control over tongue happenings. 13/10 https://t.co/44ItaMubBf',\n",
       " 'I present to you, Pup in Hat. Pup in Hat is great for all occasions. Extremely versatile. Compact as h*ck. 14/10 (IG: itselizabethgales) https://t.co/vvBOcC2VdC',\n",
       " \"OMG HE DIDN'T MEAN TO HE WAS JUST TRYING A LITTLE BARKOUR HE'S SUPER SORRY 13/10 WOULD FORGIVE IMMEDIATE https://t.co/uF3pQ8Wubj\",\n",
       " \"Please only send dogs. We don't rate mechanics, no matter how h*ckin good. Thank you... 13/10 would sneak a pat https://t.co/Se5fZ9wp5E\",\n",
       " '@roushfenway These are good dogs but 17/10 is an emotional impulse rating. More like 13/10s',\n",
       " 'Here is a pupper approaching maximum borkdrive. Zooming at never before seen speeds. 14/10 paw-inspiring af \\n(IG: puffie_the_chow) https://t.co/ghXBIIeQZF',\n",
       " \"Ugh not again. We only rate dogs. Please don't send in well-dressed  floppy-tongued street penguins. Dogs only please. Thank you... 12/10 https://t.co/WiAMbTkDPf\",\n",
       " \"Please don't send in photos without dogs in them. We're not @porch_rates. Insubordinate and churlish. Pretty good porch tho 11/10 https://t.co/HauE8M3Bu4\",\n",
       " '@RealKentMurphy 14/10 confirmed',\n",
       " 'Martha is stunning how h*ckin dare you. 13/10 https://t.co/9uABQXgjwa',\n",
       " 'I can say with the pupmost confidence that the doggos who assisted with this search are heroic as h*ck. 14/10 for all https://t.co/8yoc1CNTsu',\n",
       " \"You'll get your package when that precious man is done appreciating the pups. 13/10 for everyone https://t.co/PFp4MghzBW\",\n",
       " 'Guys please stop sending pictures without any dogs in th- oh never mind hello excuse me sir. 12/10 stealthy as h*ck https://t.co/brCQoqc8AW',\n",
       " \"I can't believe this keeps happening. This, is a birb taking a bath. We only rate dogs. Please only send dogs. Thank you... 12/10 https://t.co/pwY9PQhtP2\",\n",
       " \"We usually don't rate Deck-bound Saskatoon Black Bears, but this one is h*ckin flawless. Sneaky tongue slip too. 13/10 would hug firmly https://t.co/mNuMH9400n\",\n",
       " \"Here's a very large dog. He has a date later. Politely asked this water person to check if his breath is bad. 12/10 good to go doggo https://t.co/EMYIdoblMR\",\n",
       " 'Here are my favorite #dogsatpollingstations \\nMost voted for a more consistent walking schedule and to increase daily pats tenfold. All 13/10 https://t.co/17FVMl4VZ5',\n",
       " 'We. Only. Rate. Dogs. Do not send in other things like this fluffy floor shark clearly ready to attack. Get it together guys... 12/10 https://t.co/BZHiKx3FpQ',\n",
       " 'Never doubt a doggo 14/10 https://t.co/AbBLh2FZCH',\n",
       " \"Real funny guys. Sending in a pic without a dog in it. Hilarious. We'll rate the rug tho because it's giving off a very good vibe. 11/10 https://t.co/GCD1JccCyi\",\n",
       " '@ComplicitOwl @ShopWeRateDogs &gt;10/10 is reserved for dogs',\n",
       " \"Here's a h*ckin peaceful boy. Unbothered by the comings and goings. 13/10 please reveal your wise ways https://t.co/yeaH8Ej5eM\",\n",
       " 'Unbelievable. We only rate dogs. Please don\\'t send in non-canines like the \"I\" from Pixar\\'s opening credits. Thank you... 12/10 https://t.co/JMhDNv5wXZ',\n",
       " \"Oh my this spooked me up. We only rate dogs, not happy ghosts. Please send dogs only. It's a very simple premise. Thank you... 13/10 https://t.co/M5Rz0R8SIQ\",\n",
       " 'He was providing for his family 13/10 how dare you https://t.co/Q8mVwWN3f4',\n",
       " \"We only rate dogs. Please don't send in Jesus. We're trying to remain professional and legitimate. Thank you... 14/10 https://t.co/wr3xsjeCIR\",\n",
       " \"@Jack_Septic_Eye I'd need a few more pics to polish a full analysis, but based on the good boy content above I'm leaning towards 12/10\",\n",
       " 'Ladies and gentlemen... I found Pipsy. He may have changed his name to Pablo, but he never changed his love for the sea. Pupgraded to 14/10 https://t.co/lVU5GyNFen',\n",
       " \"We only rate dogs. Please don't send perfectly toasted marshmallows attempting to drive. Thank you... 13/10 https://t.co/nvZyyrp0kd\",\n",
       " \"HI. MY. NAME. IS. BOOMER. AND. I. WANT. TO. SAY. IT'S. H*CKIN. RIDICULOUS. THAT. DOGS. CAN'T VOTE. ABSOLUTE. CODSWALLUP. THANK. YOU. 13/10 https://t.co/SqKJPwbQ2g\",\n",
       " 'Here we have perhaps the wisest dog of all. Above average with light sabers. Immortal as h*ck. 14/10 dog, or dog not, there is no try https://t.co/upRYxG4KbG',\n",
       " \"We only rate dogs. This is quite clearly a smol broken polar bear. We'd appreciate if you only send dogs. Thank you... 12/10 https://t.co/g2nSyGenG9\",\n",
       " \"Here we have an exotic dog. Good at ukulele. Fashionable af. Has two more arms if needed. Is blue. Knows what 'ohana means. 13/10 would pet https://t.co/gEsymGTXCT\",\n",
       " \"I have stumbled puppon a doggo painting party. They're looking to be the next Pupcasso or Puppollock. All 13/10 would put it on the fridge https://t.co/cUeDMlHJbq\",\n",
       " \"Instead of the usual nightly dog rate, I'm sharing this story with you. Meeko is 13/10 and would like your help \\n\\nhttps://t.co/Mj4j6QoIJk https://t.co/JdNE5oqYEV\",\n",
       " '@Marc_IRL pixelated af 12/10',\n",
       " 'THIS IS CHARLIE, MARK. HE DID JUST WANT TO SAY HI AFTER ALL. PUPGRADED TO A 14/10. WOULD BE AN HONOR TO FLY WITH https://t.co/p1hBHCmWnA',\n",
       " \"@xianmcguire @Jenna_Marbles Kardashians wouldn't be famous if as a society we didn't place enormous value on what they do. The dogs are very deserving of their 14/10\",\n",
       " '@dhmontgomery We also gave snoop dogg a 420/10 but I think that predated your research',\n",
       " '@s8n You tried very hard to portray this good boy as not so good, but you have ultimately failed. His goodness shines through. 666/10',\n",
       " 'HE\\'S LIKE \"WAIT A MINUTE I\\'M AN ANIMAL THIS IS AMAZING HI HUMAN I LOVE YOU AS WELL\" 13/10 https://t.co/sb73bV5Y7S',\n",
       " \"Here's a puppo participating in the #ScienceMarch. Cleverly disguising her own doggo agenda. 13/10 would keep the planet habitable for https://t.co/cMhq16isel\",\n",
       " 'I HEARD HE TIED HIS OWN BOWTIE MARK AND HE JUST WANTS TO SAY HI AND MAYBE A NOGGIN PAT SHOW SOME RESPECT 13/10 https://t.co/5BEjzT2Tth',\n",
       " \"Guys, we only rate dogs. This is quite clearly a bulbasaur. Please only send dogs. Thank you... 12/10 human used pet, it's super effective https://t.co/Xc7uj1C64x\",\n",
       " 'Sometimes you guys remind me just how impactful a pupper can be. Cooper will be remembered as a good boy by so many. 14/10 rest easy friend https://t.co/oBL7LEJEzR',\n",
       " \"At first I thought this was a shy doggo, but it's actually a Rare Canadian Floofer Owl. Amateurs would confuse the two. 11/10 only send dogs https://t.co/TXdT3tmuYk\",\n",
       " \"A photographer took pictures before and after he told his bunny he's a good boy. Here are the results. 13/10 https://t.co/wiQZIsaWUe\",\n",
       " \"Oh jeez u did me quite the spook little fella. We normally don't rate triceratops but this one seems suspiciously good. 11/10 would pet well https://t.co/BMtfCmNbnS\",\n",
       " '@markhoppus MARK THAT DOG HAS SEEN AND EXPERIENCED MANY THINGS. PROBABLY LOST OTHER EAR DOING SOMETHING HEROIC. 13/10 HUG THE DOG HOPPUS',\n",
       " 'Seriously guys? Again? We only rate dogs. Please stop submitting other things like this super good hammerhead shark. Thank you... 12/10 https://t.co/TCMC90mSOT',\n",
       " 'At first I thought this was a dog because of the sign, but it is clearly Wilson from Home Improvement. Please only send in dogs... 11/10 https://t.co/jqPk1BZ6xu',\n",
       " 'Please stop sending in animals other than dogs. We only rate dogs. Not Furry Ecuadorian Sea Turtles. Thank you... 12/10 https://t.co/UOE79zb6VU',\n",
       " 'Jerry just apuppologized to me. He said there was no ill-intent to the slippage. I overreacted I admit. Pupgraded to an 11/10 would pet',\n",
       " '.@breaannanicolee PUPDATE: Cannon has a heart on his nose. Pupgraded to a 13/10',\n",
       " 'Unbelievable... We. Only. Rate. Dogs. Please stop sending in other things like this Blossoming Flop Kangaroo. Thank you... 11/10 https://t.co/EeeErAbso0',\n",
       " 'THIS WAS NOT HIS FAULT HE HAD NO IDEA. 11/10 STILL A VERY GOOD DOG https://t.co/GJ8rozumsy',\n",
       " 'SHE DID AN ICY ZOOM AND KNEW WHEN TO PUT ON THE BRAKES 13/10 CANCEL THE GAME THIS IS ALL WE NEED https://t.co/4ctgpGcqAd',\n",
       " \"We usually don't rate polar bears but this one seems extra good. Majestic as h*ck. 13/10 would hug for a while https://t.co/TLNexlqzXP\",\n",
       " \"C'mon guys. Please only send in dogs. We only rate dogs, not Exceptional-Tongued Peruvian Floor Bears. Thank you... 12/10 https://t.co/z30iQLiXNo\",\n",
       " \"PUPDATE: I'm proud to announce that Toby is 236 days sober. Pupgraded to a 13/10. We're all very proud of you, Toby https://t.co/a5OaJeRl9B\",\n",
       " 'HE WAS DOING A SNOOZE NO SHAME IN A SNOOZE 13/10 https://t.co/Gu5wHx3CBd',\n",
       " 'Here we have some incredible doggos for #K9VeteransDay. All brave as h*ck. Salute your dog in solidarity. 14/10 for all https://t.co/SVNMdFqKDL',\n",
       " \"We don't rate penguins, but if we did, this one would get 12/10 https://t.co/cEORXhwZ5K\",\n",
       " '@0_kelvin_0 &gt;10/10 is reserved for puppos sorry Kevin',\n",
       " \"I didn't even have to intervene. Took him 4 minutes to realize his error. 10/10 for Kevin https://t.co/2gclc1MNr7\",\n",
       " 'You have been visited by the magical sugar jar puggo. He has granted you three boops. 13/10 would use immediately https://t.co/76iL7JUQdG',\n",
       " 'SHE MISPLACED HER HOOMAN 13/10 MISTAKES HAPPEN https://t.co/ngAxYLVYHP',\n",
       " '@markhoppus 182/10',\n",
       " '@bragg6of8 @Andy_Pace_ we are still looking for the first 15/10',\n",
       " 'Here\\'s a pupper before and after being asked \"who\\'s a good girl?\" Unsure as h*ck. 12/10 hint hint it\\'s you https://t.co/ORiK6jlgdH',\n",
       " \"Atlas is back and this time he's prettier than the sunset. Seems to be aware of it too. 13/10 would give modeling contract https://t.co/uRdKlFArQE\",\n",
       " \"@jonnysun @Lin_Manuel ok jomny I know you're excited but 960/00 isn't a valid rating, 13/10 is tho\",\n",
       " \"We only rate dogs. Please don't send in any non-canines like this Floppy Tongued House Panda. Thank you... 12/10 would still pet https://t.co/8fX2VkExnL\",\n",
       " \"When you're so blinded by your systematic plagiarism that you forget what day it is. 0/10 https://t.co/YbEJPkg4Ag\",\n",
       " \"Here's a doggo fully pupared for a shower. H*ckin exquisite balance. Sneaky tongue slip too. 13/10 https://t.co/UtEVnQ1ZPg\",\n",
       " 'DOGGO ON THE LOOSE I REPEAT DOGGO ON THE LOOSE 10/10 https://t.co/ffIH2WxwF0',\n",
       " 'Prosperous good boy 13/10 socioeconomic af https://t.co/8YlD5lxPbQ',\n",
       " \"There's going to be a dog terminal at JFK Airport. This is not a drill. 10/10  \\nhttps://t.co/dp5h9bCwU7\",\n",
       " '@docmisterio account started on 11/15/15',\n",
       " '@UNC can confirm 12/10',\n",
       " \"I usually only share these on Friday's, but this is Blue. He's a very smoochable pooch who needs your help. 13/10\\n\\nhttps://t.co/piiX0ke8Z6 https://t.co/1UHrKcaCiO\",\n",
       " \"I couldn't make it to the #WKCDogShow BUT I have people there on the ground relaying me the finest pupper pics possible. 13/10 for all https://t.co/jd6lYhfdH4\",\n",
       " \"Here's a stressed doggo. Had a long day. Many things on her mind. The hat communicates these feelings exquisitely. 11/10 https://t.co/fmRS43mWQB\",\n",
       " \"Occasionally, we're sent fantastic stories. This is one of them. 14/10 for Grace https://t.co/bZ4axuH6OK\",\n",
       " 'Beebop and Doobert should start a band 12/10 would listen',\n",
       " \"I was going to do 007/10, but the joke wasn't worth the &lt;10 rating\",\n",
       " \"We only rate dogs. Please don't send in any more non-dogs like this Wild Albanian Street Moose. Thank you... 11/10 https://t.co/srXL2s868C\",\n",
       " \"Here's a little more info on Dew, your favorite roaming doggo that went h*ckin viral. 13/10 \\nhttps://t.co/1httNYrCeW https://t.co/KvaM8j3jhX\",\n",
       " \"Here's a very loving and accepting puppo. Appears to have read her Constitution well. 14/10 would pat head approvingly https://t.co/6ao80wIpV1\",\n",
       " 'Retweet the h*ck out of this 13/10 pupper #BellLetsTalk https://t.co/wBmc7OaGvS',\n",
       " '\"I wish we were dogs\" 14/10 for @BadlandsNPS https://t.co/50qq2DItPW',\n",
       " '@HistoryInPics 13/10',\n",
       " \"Here's a super supportive puppo participating in the Toronto  #WomensMarch today. 13/10 https://t.co/nTz3FtorBc\",\n",
       " 'Please stop sending in non-canines like this Very Pettable Dozing Bath Tortoise. We only rate dogs. Only send dogs... 12/10 https://t.co/mcagPeENIh',\n",
       " \"We only rate dogs. Please don't send pics of men capturing low level clouds. Thank you... 11/10 https://t.co/rLi83ZyCL5\",\n",
       " \"@imgur for a polar bear tho I'd say 13/10 is appropriate\",\n",
       " \"Here's a doggo who looks like he's about to give you a list of mythical ingredients to go collect for his potion. 11/10 would obey https://t.co/8SiwKDlRcl\",\n",
       " 'The floofs have been released I repeat the floofs have been released. 84/70 https://t.co/NIYC820tmd',\n",
       " 'We are proud to support @LoveYourMelon on their mission to put a hat on every kid battling cancer. They are 14/10\\n\\nhttps://t.co/XQlmPTLHPl https://t.co/ZNIkkHgtYE',\n",
       " \"I've never wanted to go to a camp more in my entire life. 12/10 for all on board https://t.co/wJZlpGFEbD\",\n",
       " \"Here we have a doggo who has messed up. He was hoping you wouldn't notice. 11/10 someone help him https://t.co/XdRNXNYD4E\",\n",
       " 'Some happy pupper news to share. 10/10 for everyone involved \\nhttps://t.co/MefMAZX2uv',\n",
       " 'Looks like he went cross-eyed trying way too hard to use the force. 12/10 \\nhttps://t.co/bbuKxk0fM8',\n",
       " \"Name a more iconic quartet... I'll wait. 13/10 for all https://t.co/kCLgD8687T\",\n",
       " \"Here's a pupper with squeaky hiccups. Please enjoy. 13/10 https://t.co/MiMKtsLN6k\",\n",
       " 'Happy New Year from the squad! 13/10 for all https://t.co/9njRxyUd5L',\n",
       " 'Here is Atlas. He went all out this year. 13/10 downright magical af https://t.co/DVYIZOnO81',\n",
       " \"Here's a doggo who has concluded that Christmas is entirely too bright. Requests you tone it down a notch. 11/10 https://t.co/cD967DjnIn\",\n",
       " \"We only rate dogs. Please don't send in other things like this very good Christmas tree. Thank you... 13/10 https://t.co/rvSANEsQZJ\",\n",
       " \"Everybody stop what you're doing and look at this dog with her tiny Santa hat. 13/10 https://t.co/KK4XQK9SPi\",\n",
       " \"I've been informed by multiple sources that this is actually a dog elf who's tired from helping Santa all night. Pupgraded to 12/10\",\n",
       " \"Here's an anonymous doggo that appears to be very done with Christmas. 11/10 cheer up pup https://t.co/BzITyGw3JA\",\n",
       " \"I'm happy to inform you all that Jake is in excellent hands. 13/10 for him and his new family \\nhttps://t.co/LRCTJpnCnS https://t.co/wZz7fI6XO1\",\n",
       " \"PUPDATE: I've been informed that Augie was actually bringing his family these flowers when he tripped. Very good boy. Pupgraded to 11/10\",\n",
       " 'Please only send in dogs. We only rate dogs, not seemingly heartbroken ewoks. Thank you... still 10/10 would console https://t.co/HIraYS1Bzo',\n",
       " 'I call this one \"A Blep by the Sea\" 12/10 https://t.co/EMdnCugNbo',\n",
       " \"Here's a pupper in a onesie. Quite pupset about it. Currently plotting revenge. 12/10 would rescue https://t.co/xQfrbNK3HD\",\n",
       " '\"Good afternoon class today we\\'re going to learn what makes a good boy so good\" 13/10 https://t.co/f1h2Fsalv9',\n",
       " 'Hooman catch successful. Massive hit by dog. Fumble ensued. Possession to dog. 13/10 https://t.co/QrFkqgHR1G',\n",
       " 'We only rate dogs. Please stop sending in non-canines like this Freudian Poof Lion. This is incredibly frustrating... 11/10 https://t.co/IZidSrBvhi',\n",
       " \"HE'S TRYING TO BE HIS OWN PERSON LET HIM GO 13/10\\nhttps://t.co/LEZ8jR5txd\",\n",
       " 'Pupper hath acquire enemy. 13/10 https://t.co/ns9qoElfsX',\n",
       " 'Like doggo, like pupper version 2. Both 11/10 https://t.co/9IxWAXFqze',\n",
       " \".@NBCSports OMG THE TINY HAT I'M GOING TO HAVE TO SAY 11/10 NBC\",\n",
       " 'oh h*ck 10/10 https://t.co/bC69RrW559',\n",
       " '@SkyWilliams doggo simply protecting you from evil that which you cannot see. 11/10 would give extra pets',\n",
       " \"Here's a very sleepy pupper. Appears to be portable as h*ck. 12/10 would snug intensely https://t.co/61sX7pW5Ca\",\n",
       " \"Here's a doggo doin a struggle. 11/10 much determined https://t.co/gQqRBfkX4I\",\n",
       " \"Here's a helicopter pupper. He takes off at random. H*ckin hard to control. 12/10 rare af https://t.co/GRWPgNKt2z\",\n",
       " '@JODYHiGHROLLER it may be an 11/10 but what do I know 😉',\n",
       " \"Here's a sleepy doggo that requested some assistance. 12/10 would carry everywhere https://t.co/bvkkqOjNDV\",\n",
       " '#ImWithThor 13/10\\nhttps://t.co/a18mzkhTf6',\n",
       " \"I didn't believe it at first but now I can see that voter fraud is a serious h*ckin issue. 11/10 https://t.co/7i0bDMbrVN\",\n",
       " 'Elder doggo does a splash. Both 13/10 incredible stuff https://t.co/gBUDjdEcqz',\n",
       " 'Oh h*ck look at this spookling right here. Fright level off the charts. 12/10 sufficiently spooked https://t.co/BNy9IIJMb0',\n",
       " 'Your favorite squad is looking extra h*ckin spooky today. 13/10 for all https://t.co/PrgvOyPtDT',\n",
       " 'Here is a perfect example of someone who has their priorities in order. 13/10 for both owner and Forrest https://t.co/LRyMrU7Wfq',\n",
       " 'Vine will be deeply missed. This was by far my favorite one. 14/10 https://t.co/roqIxCvEB3',\n",
       " \"When she says you're a good boy and you know you're a good boy because you're a good boy. 13/10 https://t.co/O5IUmRHRIh\",\n",
       " 'HE WAS JUST A LIL SLEEPY FROM BEING SUCH A GOOD DOGGI ALL THE TIME MISTAKES HAPPEN 13/10\\nhttps://t.co/G2ms0A5jWM',\n",
       " \"Atlas is back and this time he's got doggles. Still 13/10 solarly conscious af https://t.co/s7MgFWDySc\",\n",
       " 'Did... did they pick out that license plate? 12/10 for both https://t.co/lRmUUOxgbQ',\n",
       " '\"Honestly Kathleen I just want more Ken Bone\" 12/10 https://t.co/HmlEvAMP4r',\n",
       " '13/10 for breakdancing puppo @shibbnbot',\n",
       " 'Today, 10/10, should be National Dog Rates Day',\n",
       " 'Who keeps sending in pictures without dogs in them? This needs to stop. 5/10 for the mediocre road https://t.co/ELqelxWMrC',\n",
       " 'Idk why this keeps happening. We only rate dogs. Not Bangladeshi Couch Chipmunks. Please only send dogs... 12/10 https://t.co/ya7bviQUUf',\n",
       " 'Pupper butt 1, Doggo 0. Both 12/10 https://t.co/WQvcPEpH2u',\n",
       " \"We normally don't rate lobsters, but this one appears to be a really good lobster. 10/10 would pet with caution https://t.co/YkHc7U7uUy\",\n",
       " 'I want to finally rate this iconic puppo who thinks the parade is all for him. 13/10 would absolutely attend https://t.co/5dUYOu4b8d',\n",
       " \"Here's a perturbed super floof. 12/10 would snug so damn well https://t.co/VG095mi09Q\",\n",
       " \"We only rate dogs. Pls stop sending in non-canines like this Urban Floof Giraffe. I can't handle this. 11/10 https://t.co/zHIqpM5Gni\",\n",
       " \"Here's a doggo questioning his entire existence. 10/10 someone tell him he's a good boy  https://t.co/dVm5Hgdpeb\",\n",
       " 'Have you ever seen such a smol pupper? Portable af. 12/10 would keep in shirt pocket https://t.co/KsqaIzlQ12',\n",
       " \"Everybody drop what you're doing and look at this dog. 13/10 must be super h*ckin rare https://t.co/I1bJUzUEW5\",\n",
       " \"Oh my god it's Narcos but Barkos. 13/10 someone please make this happen\\nhttps://t.co/tird9cIlzB\",\n",
       " 'RIP Loki. Thank you for the good times. You will be missed by many. 14/10 https://t.co/gJKD9pst5A',\n",
       " 'Evolution of a pupper yawn featuring Max. 12/10 groundbreaking stuff https://t.co/t8Y4x9DmVD',\n",
       " '\"Yep... just as I suspected. You\\'re not flossing.\" 12/10 and 11/10 for the pup not flossing https://t.co/SuXcI9B7pQ',\n",
       " \"Atlas rolled around in some chalk and now he's a magical rainbow floofer. 13/10 please never take a bath https://t.co/nzqTNw0744\",\n",
       " \"I can't tap the screen to make the hearts appear fast enough. 10/10 for the source of all future unproductiveness https://t.co/wOhuABgj6I\",\n",
       " \"This girl straight up rejected a guy because he doesn't like dogs. She is my hero and I give her 13/10 https://t.co/J39lT3b0rH\",\n",
       " 'I WAS SENT THE ACTUAL DOG IN THE PROFILE PIC BY HIS OWNER THIS IS SO WILD. 14/10 ULTIMATE LEGEND STATUS https://t.co/7oQ1wpfxIH',\n",
       " 'You need to watch these two doggos argue through a cat door. Both 11/10 https://t.co/qEP31epKEV',\n",
       " 'Guys this is getting so out of hand. We only rate dogs. This is a Galapagos Speed Panda. Pls only send dogs... 10/10 https://t.co/8lpAGaZRFn',\n",
       " \"Here's a couple rufferees making sure all the sports are played fairly today. Both 10/10 would bribe with extra pets https://t.co/H9yjI9eo3A\",\n",
       " 'Doggo will persevere. 13/10\\nhttps://t.co/yOVzAomJ6k',\n",
       " 'Another pic without a dog in it? What am I supposed to do? Rate the carpet? Fine I will. 7/10 looks adequately comfy https://t.co/OJZQ6I4gGd',\n",
       " 'We only rate dogs. Pls stop sending in non-canines like this Arctic Floof Kangaroo. This is very frustrating. 11/10 https://t.co/qlUDuPoE3d',\n",
       " \"I don't know any of the backstory behind this picture but for some reason I'm crying. 13/10 for owner and doggo https://t.co/QOKZdus9TT\",\n",
       " \"This is my dog. Her name is Zoey. She knows I've been rating other dogs. She's not happy. 13/10 no bias at all https://t.co/ep1NkYoiwB\",\n",
       " \"@TheEllenShow I'm not sure if you know this but that doggo right there is a 12/10\",\n",
       " 'This left me speechless. 14/10 heckin heroic af https://t.co/3td8P3o0mB',\n",
       " \"Guys.. we only rate dogs. Pls don't send any more pics of the Loch Ness Monster. Only send in dogs. Thank you. 11/10 https://t.co/obH5vMbm1j\",\n",
       " 'Ohboyohboyohboyohboyohboyohboyohboyohboyohboyohboyohboyohboyohboyohboyohboy. 10/10 for all (by happytailsresort) https://t.co/EY8kEFuzK7',\n",
       " 'Doggo want what doggo cannot have. Temptation strong, dog stronger. 12/10  https://t.co/IqyTF6qik6',\n",
       " \"Here's a wicked fast pupper. 12/10 camera could barely keep pup https://t.co/HtAR6gpUAu\",\n",
       " 'We only rate dogs... this is a Taiwanese Guide Walrus. Im getting real heckin tired of this. Please send dogs. 10/10 https://t.co/49hkNAsubi',\n",
       " \"No no no this is all wrong. The Walmart had to have run into the dog driving the car. 10/10 someone tell him it's ok\\nhttps://t.co/fRaTGcj68A\",\n",
       " 'This doggo is just waiting for someone to be proud of her and her accomplishment. 13/10 legendary af https://t.co/9T2h14yn4Q',\n",
       " 'Why does this never happen at my front door... 165/150 https://t.co/HmwrdfEfUE',\n",
       " \"In case you haven't seen the most dramatic sneeze ever... 13/10 https://t.co/iy7ylyZcsE\",\n",
       " \"Teagan reads entire books in store so they're free. Loved 50 Shades of Grey (how dare I make that joke so late) 9/10 https://t.co/l46jwv5WYv\",\n",
       " \"Here's another picture without a dog in it. Idk why you guys keep sending these. 4/10 just because that's a neat rug https://t.co/mOmnL19Wsl\",\n",
       " \"She walks herself up and down the train to be petted by all the passengers. 13/10 I can't handle this https://t.co/gwKCspY8N2\",\n",
       " \"Here's a doggo completely oblivious to the double rainbow behind him. 10/10 someone tell him https://t.co/OfvRoD6ndV\",\n",
       " 'All hail sky doggo. 13/10 would jump super high to pet https://t.co/CsLRpqdeTF',\n",
       " 'Pwease accept dis rose on behalf of dog. 11/10 https://t.co/az5BVcIV5I',\n",
       " \"Here's a heartwarming scene of a single father raising his two pups. Downright awe-inspiring af. 12/10 for everyone https://t.co/hfddJ0OiNR\",\n",
       " 'When ur older siblings get to play in the deep end but dad says ur not old enough. Maybe one day puppo. All 10/10 https://t.co/JrDAzMhwG9',\n",
       " \"Here's a frustrated pupper attempting to escape a pool of Frosted Flakes. 12/10 https://t.co/GAYViEweWr\",\n",
       " \"This is one of the most inspirational stories I've ever come across. I have no words. 14/10 for both doggo and owner https://t.co/I5ld3eKD5k\",\n",
       " \"When you hear your owner say they need to hatch another egg, but you've already been on 17 walks today. 10/10 https://t.co/lFEoGqZ4oA\",\n",
       " '\"The dogtor is in hahahaha no but seriously I\\'m very qualified and that tumor is definitely malignant\" 10/10 https://t.co/ULqThwWmLg',\n",
       " 'Here we are witnessing an isolated squad of bouncing doggos. Unbelievably rare for this time of year. 11/10 for all https://t.co/CCdlwiTwQf',\n",
       " 'So this just changed my life. 13/10 please enjoy  https://t.co/dsv4xAtfv7',\n",
       " 'Nothing better than a doggo and a sunset. 10/10 majestic af https://t.co/xVSodF19PS',\n",
       " 'Hooman used Pokeball\\n*wiggle*\\n*wiggle*\\nDoggo broke free \\n10/10 https://t.co/bWSgqnwSHr',\n",
       " 'Here are three doggos completely misjudging an airborne stick. Decent efforts tho. All 9/10 https://t.co/HCXQL4fGVZ',\n",
       " 'Hopefully this puppo on a swing will help get you through your Monday. 11/10 would push https://t.co/G54yClasz2',\n",
       " \"Here's a doggo trying to catch some fish. 8/10 futile af (vid by @KellyBauerx) https://t.co/jwd0j6oWLE\",\n",
       " \"Please stop sending it pictures that don't even have a doggo or pupper in them. Churlish af. 5/10 neat couch tho https://t.co/u2c9c7qSg8\",\n",
       " \"Here's a pupper that's very hungry but too lazy to get up and eat. 12/10 (vid by @RealDavidCortes) https://t.co/lsVAMBq6ex\",\n",
       " '\"This photographer took pics of her best friend before and after she told them they were beautiful\" 12/10 https://t.co/510gJW9fsy',\n",
       " '13/10 such a good doggo\\n@spaghemily',\n",
       " 'And finally, happy 4th of July from the squad 🇺🇸 13/10 for all https://t.co/Mr8Lr3iOUe',\n",
       " \"Pause your cookout and admire this pupper's nifty hat. 10/10 https://t.co/RG4C9IdNJM\",\n",
       " 'Duuun dun... duuun dun... dunn  dun. dunn dun. dun dun dun dun dun dun dun dun dun dun dun dun dun dun dun. 10/10 https://t.co/9qdJ2Q1Cwx',\n",
       " 'What jokester sent in a pic without a dog in it? This is not @rock_rates. This is @dog_rates. Thank you ...10/10 https://t.co/nDPaYHrtNX',\n",
       " '#BarkWeek is getting rather heckin terrifying over here. Doin me quite the spooken. 13/10 (vid by @corgi_zero) https://t.co/eA7k1ZQslA',\n",
       " \"This is one of the most reckless puppers I've ever seen. How she got a license in the first place is beyond me. 6/10 https://t.co/z5bAdtn9kd\",\n",
       " '\"So... we meat again\" (I\\'m so sorry for that pun I couldn\\'t resist pls don\\'t unfollow) 10/10 https://t.co/XFBrrqapZa',\n",
       " 'SWIM AWAY PUPPER SWIM AWAY 13/10 #BarkWeek  https://t.co/QGGhZoTcwy',\n",
       " \"This sherk must've leapt out of the water and into the canoe, trapping the human. Won't even help paddle smh. 7/10 https://t.co/KubWEqOIgO\",\n",
       " \"Stop what you're doing and watch this heckin masterpiece right here. Both 13/10 https://t.co/3BOVI2WZoH\",\n",
       " 'PUPPER NOOOOO BEHIND YOUUU 10/10 pls keep this pupper in your thoughts https://t.co/ZPfeRtOX0Q',\n",
       " \"Pls don't send more sherks. I don't care how seemingly floofy they are. It does me so much frighten. Thank u. 11/10 https://t.co/oQqlOsla4R\",\n",
       " 'This is a mighty rare blue-tailed hammer sherk. Human almost lost a limb trying to take these. Be careful guys. 8/10 https://t.co/TGenMeXreW',\n",
       " 'Viewer discretion is advised. This is a terrible attack in progress. Not even in water (tragic af). 4/10 bad sherk https://t.co/L3U0j14N5R',\n",
       " \"Other pupper asked not to have his identity shared. Probably just embarrassed about the headbutt. Also 12/10 it'll be ok mystery pup\",\n",
       " 'Again w the sharks guys. This week is about dogs ACTING or DRESSING like sharks. NOT actual sharks. Thank u ...11/10 https://t.co/Ie2mWXWjpr',\n",
       " \"Guys pls stop sending actual sharks. It's too dangerous for me and the people taking the photos. Thank you ...10/10 https://t.co/12lICZN2SP\",\n",
       " 'Never seen a shark hold another shark like this before. Must be evolving. Both 10/10 please only send dogs though https://t.co/x4IUNKV79Y',\n",
       " 'Guys... I said DOGS with \"shark qualities\" or \"costumes.\" Not actual sharks. This did me a real frighten ...11/10 https://t.co/DX1JUHJVN7',\n",
       " \"PUPDATE: can't see any. Even if I could, I couldn't reach them to pet. 0/10 much disappointment https://t.co/c7WXaB2nqX\",\n",
       " 'This is a carrot. We only rate dogs. Please only send in dogs. You all really should know this by now ...11/10 https://t.co/9e48aPrBm2',\n",
       " 'Guys... Dog Jesus 2.0\\n13/10 buoyant af https://t.co/CuNA7OwfKQ',\n",
       " \"When you just can't resist... 10/10 topnotch tongue https://t.co/jeWEGUgbXf\",\n",
       " \"Here's a golden floofer helping with the groceries. Bed got in way. Still 11/10 helpful af (vid by @categoen) https://t.co/6ZRoZUWFmd\",\n",
       " \"This is an Iraqi Speed Kangaroo. It is not a dog. Please only send in dogs. I'm very angry with all of you ...9/10 https://t.co/5qpBTTpgUt\",\n",
       " 'We only rate dogs. Pls stop sending in non-canines like this Jamaican Flop Seal. This is very very frustrating. 9/10 https://t.co/nc53zEN0hZ',\n",
       " \"Here's a doggo realizing you can stand in a pool. 13/10 enlightened af (vid by Tina Conrad) https://t.co/7wE9LTEXC4\",\n",
       " \"This is actually a pupper and I'd pet it so well. 12/10\\nhttps://t.co/RNqS7C4Y4N\",\n",
       " \"When you're given AUX cord privileges from the back seat and accidentally start blasting an audiobook... both 10/10 https://t.co/gCCrY8P0K9\",\n",
       " 'This is a very rare Great Alaskan Bush Pupper. Hard to stumble upon without spooking. 12/10 would pet passionately https://t.co/xOBKCdpzaa',\n",
       " \"For anyone who's wondering, this is what happens after a doggo catches it's tail... 11/10 https://t.co/G4fNhzelDv\",\n",
       " 'Was just informed about this hero pupper and others like her. Another 14/10, would be an absolute honor to pet https://t.co/hBTzPmj36Z',\n",
       " \"When your crush won't pay attention to you. Both 10/10 tragic af https://t.co/d3LELGVlqu\",\n",
       " 'This is just downright precious af. 12/10 for both pupper and doggo https://t.co/o5J479bZUC',\n",
       " \"Here we are witnessing the touchdown of a pupnado. It's not funny it's actually very deadly. 9/10 might still pet https://t.co/CmLoKMbOHv\",\n",
       " 'After so many requests, this is Bretagne. She was the last surviving 9/11 search dog, and our second ever 14/10. RIP https://t.co/XAVDNDaVgQ',\n",
       " 'When the photographer forgets to tell you where to look... 10/10 https://t.co/u1GHWxhC85',\n",
       " 'This is getting incredibly frustrating. This is a Mexican Golden Beaver. We only rate dogs. Only send dogs ...10/10 https://t.co/0yolOOyD3X',\n",
       " \"Here's a doggo that don't need no human. 12/10 independent af (vid by @MichelleLiuCee) https://t.co/vdgtdb6rON\",\n",
       " 'This... is a Tyrannosaurus rex. We only rate dogs. Please only send in dogs. Thank you ...10/10 https://t.co/zxw8d5g94P',\n",
       " \"Here's a doggo blowing bubbles. It's downright legendary. 13/10 would watch on repeat forever (vid by Kent Duryee) https://t.co/YcXgHfp1EC\",\n",
       " '@mount_alex3 13/10',\n",
       " 'When a single soap orb changes your entire perception of the universe... 10/10 https://t.co/9eCXpVExJc',\n",
       " '\"Don\\'t talk to me or my son ever again\" ...10/10 for both https://t.co/s96OYXZIfK',\n",
       " 'For the last time, we only rate dogs. Pls stop sending other animals like this Duck-Billed Platypus. Thank you. 9/10 https://t.co/twxYcPOafl',\n",
       " 'We only rate dogs. Pls stop sending in non-canines like this Slovak Car Bunny. It makes my job very difficult. 11/10 https://t.co/VflvQLH2y5',\n",
       " \"Just wanted to share this super rare Rainbow Floofer in case you guys haven't seen it yet. 13/10 colorful af https://t.co/CaG9MzD3WT\",\n",
       " \"Everybody stop what you're doing and watch these puppers enjoy summer. Both 13/10 https://t.co/wvjqSCN6iC\",\n",
       " 'Say hello to mad pupper. You know what you did. 13/10 would pet until no longer furustrated https://t.co/u1ulQ5heLX',\n",
       " 'We only rate dogs. Please stop sending in non-canines like this Alaskan Flop Turtle. This is very frustrating. 10/10 https://t.co/qXteK6Atxc',\n",
       " \"Right after you graduate vs when you remember you're on your own now and can barely work a washing machine ...10/10 https://t.co/O1TLuYjsNS\",\n",
       " '*faints* 12/10 perfection in pupper form https://t.co/t6TxTwTLEK',\n",
       " \"We only rate dogs. Please stop sending in your 31 year old sons that won't get out of your house. Thank you... 11/10 https://t.co/aTU53NNUkt\",\n",
       " 'This dog is more successful than I will ever be. 13/10 absolute legend https://t.co/BPoaHySYwA',\n",
       " \"When your friend is turnt af and you're just trying to chill. 10/10 (vid by @presgang) https://t.co/OufVDk23JC\",\n",
       " '\"Ello this is dog how may I assist\" ...10/10 https://t.co/jeAENpjH7L',\n",
       " 'Like father (doggo), like son (pupper). Both 12/10 https://t.co/pG2inLaOda',\n",
       " 'When your teacher agreed on 10,000 RTs and no final but after 24 hours you only have 37... 10/10 https://t.co/sVnJfWVjUp',\n",
       " 'Say hello to this unbelievably well behaved squad of doggos. 204/170 would try to pet all at once https://t.co/yGQI3He3xv',\n",
       " 'We only rate dogs. Pls stop sending non-canines like this Bulgarian Eyeless Porch Bear. This is unacceptable... 9/10 https://t.co/2yctWAUZ3Z',\n",
       " '\"Challenge completed\" \\n(pupgraded to 12/10) https://t.co/85dTK7XCXB',\n",
       " '\"Challenge accepted\"\\n10/10 https://t.co/vNjvr5Bl9u',\n",
       " 'When you\\'re way too slow for the \"down low\" portion of a high five. 13/10 https://t.co/Cofwoy7Vpq',\n",
       " 'This is all I want in my life. 12/10 for super sleepy pupper https://t.co/4RlLA5ObMh',\n",
       " \"Here's a doggo struggling to cope with the winds. 13/10 https://t.co/qv3aUwaouT\",\n",
       " 'This pupper had to undergo emergency haircut surgery so he could hear again. 10/10 miraculous af https://t.co/fUyDIFkBwx',\n",
       " 'This pupper was about to explain where that dirt came from but then decided against it. 11/10 https://t.co/SbaelU6zRs',\n",
       " \"I swear to god if we get sent another Blue Madagascan Peacock we'll deactivate. We 👏 Only 👏 Rate 👏 Dogs... 9/10 https://t.co/bbta2Q4URK\",\n",
       " \"When you're trying to enjoy yourself but end up having to take care of your way too drunk friend. 11/10 https://t.co/BRkhj6tdN0\",\n",
       " \"I'm getting super heckin frustrated with you all sending in non canines like this ostrich. We only rate dogs... 9/10 https://t.co/Rgbni2Ns8z\",\n",
       " \"Pup had to be removed cuz it wouldn't have been fair to the opposing team. 13/10 absolute legend ⚽️\\nhttps://t.co/BHICimO58W\",\n",
       " 'Nothin better than a doggo and a sunset. 11/10 https://t.co/JlFqOhrHEs',\n",
       " 'Happy 4/20 from the squad! 13/10 for all https://t.co/eV1diwds8a',\n",
       " \"Garden's coming in nice this year. 10/10 https://t.co/5Lra3e4rrw\",\n",
       " \"This doggo was initially thrilled when she saw the happy cartoon pup but quickly realized she'd been deceived. 10/10 https://t.co/mvnBGaWULV\",\n",
       " \"We normally don't rate marshmallows but this one appears to be flawlessly toasted so I'll make an exception. 10/10 https://t.co/D9jbbmPmos\",\n",
       " 'Get you a pup that can do both. 10/10 https://t.co/zSbyvm62xZ',\n",
       " \"This pic is old but I hadn't seen it until today and had to share. Creative af. 13/10 very good boy, would pet well https://t.co/4kD16wMA1Z\",\n",
       " \"Here's a badass mystery pupper. You weren't aware that you owe him money, but you do. 10/10 shades sick af https://t.co/fv9e9AtzSG\",\n",
       " 'People please. This is a Deadly Mediterranean Plop T-Rex. We only rate dogs. Only send in dogs. Thanks you... 11/10 https://t.co/2ATDsgHD4n',\n",
       " 'There has clearly been a mistake. Pup did nothing wrong. 12/10 would help escape\\nhttps://t.co/Juid3nnLbC',\n",
       " \"Here's a super majestic doggo and a sunset 11/10 https://t.co/UACnoyi8zu\",\n",
       " \"This is old now but it's absolutely heckin fantastic and I can't not share it with you all. 13/10  https://t.co/wJX74TSgzP\",\n",
       " 'This is a taco. We only rate dogs. Please only send in dogs. Dogs are what we rate. Not tacos. Thank you... 10/10 https://t.co/cxl6xGY8B9',\n",
       " \"Just in case anyone's having a bad day. 12/10 would bounce with https://t.co/T9sgP9ttnQ\",\n",
       " 'Here are two lil cuddly puppers. Both 12/10 would snug like so much https://t.co/zO4eb7C4tG',\n",
       " 'Happy Easter from the squad! 🐇🐶 13/10 for all https://t.co/YMx4KWJUAB',\n",
       " \"I know we only rate dogs, but since it's Easter I guess we could rate a bunny for a change. 10/10 petable as hell https://t.co/O2RlKXigHu\",\n",
       " \"Happy Saturday here's 9 puppers on a bench. 99/90 good work everybody https://t.co/mpvaVxKmc1\",\n",
       " 'Here we see an extremely rare Bearded Floofmallow. Only a few left in the wild. 11/10 would pet with a purpose https://t.co/jVJJKlPbvq',\n",
       " \"Please don't send in any more polar bears. We only rate dogs. Thank you... 10/10 https://t.co/83RGhdIQz2\",\n",
       " 'Reminder that we made our first set of stickers available! All are 12/10 would stick\\nUse code \"pupper\" at checkout🐶\\n\\nhttps://t.co/kJIMNyMNKV',\n",
       " \"I can't even comprehend how confused this dog must be right now. 10/10 https://t.co/8AGcQ4hIfK\",\n",
       " 'I want to hear the joke this dog was just told. 10/10 https://t.co/1KiuZqqOD4',\n",
       " 'Oh. My. God. 13/10 magical af https://t.co/Ezu6jQrKAZ',\n",
       " '\"Please, no puparazzi\" 11/10 https://t.co/nJIXSPfedK',\n",
       " \"What hooligan sent in pictures w/out a dog in them? Churlish af. 3/10 just bc that's a neat fluffy bean bag chair https://t.co/wcwoGOkZvz\",\n",
       " \"Here's a brigade of puppers. All look very prepared for whatever happens next. 80/80 https://t.co/0eb7R1Om12\",\n",
       " \"I've watched this a million times and you probably will too. 12/10 (vid by @emily_galasso) https://t.co/DU7Rb3NDiy\",\n",
       " 'We 👏🏻 only 👏🏻 rate 👏🏻 dogs. Pls stop sending in non-canines like this Dutch Panda Worm. This is infuriating. 11/10 https://t.co/odfLzBonG2',\n",
       " \"The squad is back for St. Patrick's Day! ☘ 💚\\n13/10 for all https://t.co/OcCDb2bng5\",\n",
       " \"This pupper got her hair chalked for her birthday. Hasn't told her parents yet. Rebellious af. 11/10 very nifty https://t.co/h1OX2mLtxV\",\n",
       " 'WeRateDogs stickers are here and they\\'re 12/10! Use code \"puppers\" at checkout 🐶🐾\\n\\nShop now: https://t.co/k5xsufRKYm https://t.co/ShXk46V13r',\n",
       " '*lets out a tiny whimper and then collapses* ...12/10 https://t.co/BNdVZEHRow',\n",
       " 'From left to right:\\nCletus, Jerome, Alejandro, Burp, &amp; Titson\\nNone know where camera is. 45/50 would hug all at once https://t.co/sedre1ivTK',\n",
       " \"Here's a pupper with magic eyes. Not wearing a seat belt tho (irresponsible af). Very distracting to driver. 9/10 https://t.co/5DLJB4ssvI\",\n",
       " 'RT if you are as ready for summer as this pup is 12/10 https://t.co/xdNNEZdGJY',\n",
       " 'Please stop sending in non canines like this Guatemalan Twiggle Bunny. We only rate dogs. Only send in dogs... 11/10 https://t.co/XKhobeGuvT',\n",
       " \"Everybody stop what you're doing and watch this video. Frank is stuck in a loop. 13/10 (Vid by @klbmatty) https://t.co/5AJs8TIV1U\",\n",
       " \"@serial @MrRoles OH MY GOD I listened to all of season 1 during a single road trip. I love you guys! I can confirm Bernie's 12/10 rating :)\",\n",
       " \"When your roommate eats your leftover Chili's but you pretend it's no big deal cuz you fat anyway. 10/10 head up pup https://t.co/0nMgoue8IR\",\n",
       " \"He's doing his best. 12/10 very impressive that he got his license in the first place  https://t.co/2vRmkkOLcN\",\n",
       " \"We usually don't rate marshmallows but this one's having so much fun in the snow. 10/10 (vid by @kylejk24) https://t.co/NL2KwOioBh\",\n",
       " '\"I shall trip the big pupper with leash. Big pupper will never see it coming. I am a genius.\" Both 11/10 https://t.co/uQsCJ8pf51',\n",
       " 'This dog just brutally murdered a snowman. Currently toying with its nutritious remains 9/10 would totally still pet https://t.co/iKThgKnW1j',\n",
       " 'Ever seen a dog pet another dog? Both 13/10 truly an awe-inspiring scene. (Vid by @mdougherty20) https://t.co/3PoKf6cw7f',\n",
       " \"Here's a sneak peek of me on spring break. 10/10 so many tired pups these days https://t.co/6aJrjKfNqX\",\n",
       " 'Please enjoy this pup in a cooler. Permanently ready for someone to throw a tennis ball his way. 12/10 https://t.co/KUS0xl7XIp',\n",
       " \"Here's a very sleepy pupper. Thinks it's an airplane. 12/10 would snug for eternity https://t.co/GGmcTIkBbf\",\n",
       " \"When you're just relaxin and having a swell time but then remember you have to fill out the FAFSA ...11/10 https://t.co/qy33OBcexg\",\n",
       " \"He was doing his best. 12/10 I'll be his lawyer\\nhttps://t.co/WN4C6miCzR\",\n",
       " 'Seriously, add us 🐶 11/10 for sad wet pupper https://t.co/xwPE9faVZR',\n",
       " '\"Ma\\'am, for the last time, I\\'m not authorized to make that type of transaction\" 11/10 https://t.co/nPTBsdm3BF',\n",
       " 'I found a forest Pipsy. 12/10 https://t.co/mIQ1KoVsmU',\n",
       " 'Here is a heartbreaking scene of an incredible pupper being laid to rest. 10/10 RIP pupper https://t.co/81mvJ0rGRu',\n",
       " '\"Yes hi could I get a number 4 with no pickles\" ...12/10 https://t.co/kQPVxqA3gq',\n",
       " 'This pupper killed this great white in an epic sea battle. Now wears it as a trophy. Such brave. Much fierce. 13/10 https://t.co/Lu0ECu5tO5',\n",
       " 'When you wake up from a long nap and have no idea who you are. 12/10 https://t.co/dlF93GLnDc',\n",
       " '13/10 hero af\\n@ABC',\n",
       " 'This sneezy pupper is just adorable af. 12/10 (vid by @gwilks1) https://t.co/h5aI0Tim4j',\n",
       " \"Here is a whole flock of puppers.  60/50 I'll take the lot https://t.co/9dpcw6MdWa\",\n",
       " '\"YOU CAN\\'T HANDLE THE TRUTH\" both 10/10 https://t.co/ZvxdB4i9AG',\n",
       " \"When you're trying to watch your favorite tv show but your friends keep interrupting. 10/10 relatable af https://t.co/QQZDCYl6zT\",\n",
       " 'Really guys? Again? I know this is a rare Albanian Bingo Seal, but we only rate dogs. Only send in dogs... 9/10 https://t.co/6JYLpUmBrC',\n",
       " \"This pupper doesn't understand gates. 10/10 so close https://t.co/GUbFF4o6dZ\",\n",
       " \"Happy Friday here's a sleepy pupper 12/10 https://t.co/eBcqv9SPkY\",\n",
       " \"This is a Butternut Cumberfloof. It's not windy they just look like that. 11/10 back at it again with the red socks https://t.co/hMjzhdUHaW\",\n",
       " 'This is an East African Chalupa Seal. We only rate dogs. Please only send in dogs. Thank you... 10/10 https://t.co/iHe6liLwWR',\n",
       " 'This is a Wild Tuscan Poofwiggle. Careful not to startle. Rare tongue slip. One eye magical. 12/10 would def pet https://t.co/4EnShAQjv6',\n",
       " 'Please enjoy this picture as much as I did. 12/10 https://t.co/7u8mM99Tj5',\n",
       " '\"AND IIIIIIIIIIIEIIIIIIIIIIIII WILL ALWAYS LOVE YOUUUUU\" 11/10 https://t.co/rSNCEiTtfI',\n",
       " \"I know it's tempting, but please stop sending in pics of Donald Trump. Thank you ...9/10 https://t.co/y35Y1TJERY\",\n",
       " \"Please pray for this pupper. Nothing wrong with her she just can't stop getting hit with banana peels. 11/10 https://t.co/8sdVenUAqr\",\n",
       " \"I'm not sure what's happening here, but it's pretty spectacular. 12/10 for both https://t.co/JKXh0NbBNL\",\n",
       " '\"Pupper is a present to world. Here is a bow for pupper.\" 12/10 precious as hell https://t.co/ItSsE92gCW',\n",
       " 'We only rate dogs. Pls stop sending in non-canines like this Mongolian grass snake. This is very frustrating. 11/10 https://t.co/22x9SbCYCU',\n",
       " \"If a pupper gave that to me I'd probably start shaking and faint from all the joy. 11/10 https://t.co/o9aJVPB25n\",\n",
       " \"When it's Janet from accounting's birthday but you can't eat the cake cuz it's chocolate. 10/10 hang in there pupper https://t.co/Fbdr5orUrJ\",\n",
       " 'Take all my money. 10/10 https://t.co/B28ebc5LzQ',\n",
       " \"I know this is a tad late but here's a wonderful Valentine's Day pupper 12/10 https://t.co/hTE2PEwGvi\",\n",
       " '\"Don\\'t ever talk to me or my son again.\" ...both 10/10 https://t.co/b8ncwl6TlE',\n",
       " '\"I\\'m bathing the children what do you want?\"  ...both 10/10 https://t.co/Rizm1LWh4z',\n",
       " 'ERMAHGERD 12/10 please enjoy https://t.co/7WrAWKdBac',\n",
       " 'HAPPY V-DAY FROM YOUR FAV PUPPER SQUAD 13/10 for all https://t.co/7u6VnZ1UFe',\n",
       " \"This dog is never sure if he's doing the right thing. 10/10 https://t.co/GXq43zFfBu\",\n",
       " 'Here we are witnessing five Guatemalan Birch Floofs in their natural habitat. All 12/10 (Vid by @pootdanielle) https://t.co/rb8nzVNh7F',\n",
       " '\"Dammit hooman quit playin I jus wanna wheat thin\" 11/10 https://t.co/yAASRDPJnQ',\n",
       " 'Pls make sure ur dogs have gone through some barkour training b4 they attempt stunts like this. 8/10 https://t.co/VmF35YvtqP',\n",
       " 'This pupper doubles as a hallway rug. Very rare. Versatile af. 11/10 https://t.co/Jxd5pR02Cn',\n",
       " \"Here's a pupper with a piece of pizza. Two of everybody's favorite things in one photo. 11/10 https://t.co/5USjFjKI7Z\",\n",
       " \"Happy Wednesday here's a bucket of pups. 44/40 would pet all at once https://t.co/HppvrYuamZ\",\n",
       " 'Please stop sending in saber-toothed tigers. This is getting ridiculous. We only rate dogs.\\n...8/10 https://t.co/iAeQNueou8',\n",
       " \"These two pirates crashed their ship and don't know what to do now. Very irresponsible of them. Both 9/10 https://t.co/RJvUjgGH5z\",\n",
       " 'Guys I found the dog from Up. 12/10 https://t.co/WqoZtX9jmJ',\n",
       " 'Oh my god 10/10 for every little hot dog pupper',\n",
       " 'After reading the comments I may have overestimated this pup. Downgraded to a 1/10. Please forgive me',\n",
       " '12/10 revolutionary af https://t.co/zKzq4nIY86',\n",
       " 'This poor pupper has been stuck in a vortex since last week. Please keep her in your thoughts. 10/10 https://t.co/7ODQWHwYDx',\n",
       " \"Here's a dog enjoying a sunset. 11/10 would trade lives with https://t.co/VsQdLxrv9h\",\n",
       " 'If you are aware of who is making these please let me know. 13/10 vroom vroom https://t.co/U0D1sbIDrG',\n",
       " \"We normally don't rate unicorns but this one has 3 ears so it must be super rare. 12/10 majestic af https://t.co/f9qlKiv39T\",\n",
       " 'This is just a beautiful pupper good shit evolution. 12/10 https://t.co/2L8pI0Z2Ib',\n",
       " \"This may be the greatest video I've ever been sent. 4/10 for Charles the puppy, 13/10 overall. (Vid by @stevenxx_) https://t.co/uaJmNgXR2P\",\n",
       " 'Please only send in dogs. This t-rex is very scary. 5/10 ...might still pet (vid by @helizabethmicha) https://t.co/Vn6w5w8TO2',\n",
       " 'This pupper only appears through the hole of a Funyun. Much like Phineas, this one is also mysterious af. 10/10 https://t.co/SQsEBWxPyG',\n",
       " \"It's okay pup. This happens every time I listen to @adele also. 11/10 (vid by @_larirutschmann) https://t.co/oCImpQuoRb\",\n",
       " '\"Martha come take a look at this. I\\'m so fed up with the media\\'s unrealistic portrayal of dogs these days.\" 10/10 https://t.co/Sd4qAdSRqI',\n",
       " 'These lil fellas are the best of friends. 12/10 for both. 1 like = 1 friend (vid by @CassieBrookee15) https://t.co/gzRghPC61H',\n",
       " 'What kind of person sends in a pic without a dog in it? So churlish. Neat rug tho 7/10 https://t.co/LSTAwTdTaw',\n",
       " \"BREAKING PUPDATE: I've just been notified that (if in U.S.) this dog appears to be operating the vehicle. Upgraded to 10/10. Skilled af\",\n",
       " 'This pupper is afraid of its own feet. 12/10 would comfort https://t.co/Tn9Mp0oPoJ',\n",
       " 'When you keepin the popcorn bucket in your lap and she reach for some... 10/10 https://t.co/a1IrjaID3X',\n",
       " \"Personally I'd give him an 11/10. Not sure why you think you're qualified to rate such a stellar pup.\\n@CommonWhiteGirI\",\n",
       " 'I hope you guys enjoy this beautiful snowy pupper as much as I did. 11/10 https://t.co/DYUsHtL2aR',\n",
       " '\"Thank you friend that was a swell petting\" 11/10 (vid by @MatthewjamesMac) https://t.co/NY3cPAZAIM',\n",
       " \"Please only send in dogs. Don't submit other things like this pic of Kenny Chesney in a bathtub. Thank you. 9/10 https://t.co/TMpDHHGspy\",\n",
       " '\"Fuck the system\" 10/10 https://t.co/N0OADmCnVV',\n",
       " 'This pupper just descended from heaven. 12/10 can probably fly https://t.co/X6X9wM7NuS',\n",
       " '\"Hello yes could I get one pupper to go please thank you\"\\nBoth 13/10 https://t.co/kYWcXbluUu',\n",
       " 'PUPDATE: just noticed this dog has some extra legs. Very advanced. Revolutionary af. Upgraded to a 9/10',\n",
       " 'This is a rare Arctic Wubberfloof. Unamused by the happenings. No longer has the appetites. 12/10 would totally hug https://t.co/krvbacIX0N',\n",
       " 'These are some pictures of Teddy that further justify his 13/10 rating. Please enjoy https://t.co/tDkJAnQsbQ',\n",
       " \"We usually don't rate penguins but this one is in need of a confidence boost after that slide. 10/10 https://t.co/qnMJHBxPuo\",\n",
       " 'THE BRITISH ARE COMING\\nTHE BRITISH ARE COMING\\n10/10 https://t.co/frGWV7IP6J',\n",
       " \"When bae says they can't go out but you see them with someone else that same night. 5/10 &amp; 10/10 for heartbroken pup https://t.co/aenk0KpoWM\",\n",
       " 'I present to you... Dog Jesus. 13/10 (he could be sitting on a rock but I doubt it) https://t.co/fR1P3g5I6k',\n",
       " 'Here we see one dog giving a puptalk to another dog. Both are focused af. Left one has powerful feet. 11/10 for both https://t.co/fUacc13OrW',\n",
       " \"Happy Saturday here's a dog in a mailbox. 12/10 https://t.co/MM7tb4HpEY\",\n",
       " \"We've got a doggy down. Requesting backup. 12/10 for both. Please enjoy  https://t.co/pmarb2dG0e\",\n",
       " 'This golden is happy to refute the soft mouth egg test. Not a fan of sweeping generalizations. 11/10 #notallpuppers https://t.co/DgXYBDMM3E',\n",
       " 'She thought the sunset was pretty, but I thought she was prettier. 10/10 https://t.co/HSL3mnP5NX',\n",
       " '12/10 @LightningHoltt',\n",
       " 'Stop sending in lobsters. This is the final warning. We only rate dogs. Thank you... 9/10 https://t.co/B9ZXXKJYNx',\n",
       " \"This pupper can only sleep on shoes. It's a crippling disease. Tearing his family apart. 12/10 I'd totally pet tho https://t.co/03XlvS8izg\",\n",
       " '\"I\\'m the only one that ever does anything in this household\" 10/10 https://t.co/V8HcVIh4jt',\n",
       " 'Here we are witnessing a rare High Stepping Alaskan Floofer. 12/10 dangerously petable (vid by @TheMrsNux) https://t.co/K4s9IJh2jm',\n",
       " \"Happy Wednesday here's a pup wearing a beret. 12/10 please enjoy https://t.co/MXedEzSHIf\",\n",
       " 'Here we see 33 dogs posing for a picture. All get 11/10 for superb cooperation https://t.co/TRAri5iHzd',\n",
       " 'Downright majestic af 12/10 https://t.co/WFh2FEbYzj',\n",
       " 'Someone sent me this without any context and every aspect of it is spectacular. 13/10 please enjoy https://t.co/Rxrd4hPmp4',\n",
       " \"We normally don't rate birds but I feel bad cos this one forgot to fly south for the winter. 9/10 just wants a bath https://t.co/o47yitCn9N\",\n",
       " 'This pupper just wants to say hello. 11/10 would knock down fence for https://t.co/A8X8fwS78x',\n",
       " 'When you have a ton of work to do but then remember you have tomorrow off. 10/10 https://t.co/MfEaMUFYTx',\n",
       " 'When you stumble but recover quickly cause your crush is watching. 12/10 https://t.co/PMeq6IedU7',\n",
       " 'This pupper is sprouting a flower out of her head. 12/10 revolutionary af https://t.co/glmvQBRjv4',\n",
       " \"Please send dogs. I'm tired of seeing other stuff like this dangerous pirate. We only rate dogs. Thank you... 10/10 https://t.co/YdLytdZOqv\",\n",
       " \"13/10 I can't stop watching this (vid by @k8lynwright) https://t.co/nZhhMRr5Hp\",\n",
       " 'With great pupper comes great responsibility. 12/10 https://t.co/hK6xB042EP',\n",
       " 'Another magnificent photo. 12/10 https://t.co/X5w387K5jr',\n",
       " '\"You got any games on your phone\" 7/10 for invasive brown Dalmatian pupper https://t.co/yzGR9xjE9Q',\n",
       " \"Army of water dogs here. None of them know where they're going. Have no real purpose. Aggressive barks. 5/10 for all https://t.co/A88x73TwMN\",\n",
       " \"This pupper's New Year's resolution was to become a Hershey's kiss. 11/10 she's super pumped about it https://t.co/D7jYj6vdwC\",\n",
       " 'This pupper forgot how to walk. 12/10 happens to all of us (vid by @bbuckley96) https://t.co/KFTrkSOuu3',\n",
       " 'Strange pup here. Easily manipulated. Rather inbred. Sharp for a dog. Appears uncomfortable. 8/10 would still pet https://t.co/nSQrhwbk1V',\n",
       " 'I just love this picture. 12/10 lovely af https://t.co/Kc84eFNhYU',\n",
       " \"This pup's having a nightmare that he forgot to type a paper due first thing in the morning. 12/10 (vid by ... https://t.co/CufnbUT0pB\",\n",
       " 'Heartwarming scene here. Son reuniting w father after coming home from deployment. Very moving. 10/10 for both pups https://t.co/95JJevQOWW',\n",
       " 'When bae calls your name from across the room. 12/10 (vid by @christinemcc98) https://t.co/xolcXA6gxe',\n",
       " \"Yes I do realize a rating of 4/20 would've been fitting. However, it would be unjust to give these cooperative pups that low of a rating\",\n",
       " \"Your fav crew is back and this time they're embracing cannabis culture. 12/10 for all https://t.co/oSvRDuMm1D\",\n",
       " \"This pupper has a magical eye. 11/10 I can't stop looking at it https://t.co/heAGpKTpPW\",\n",
       " \"This is the newly formed pupper a capella group. They're just starting out but I see tons of potential. 8/10 for all https://t.co/wbAcvFoNtn\",\n",
       " 'Jack deserves another round of applause. If you missed this earlier today I strongly suggest reading it. Wonderful first 14/10 🐶❤️',\n",
       " 'Everybody needs to read this. Jack is our first 14/10. Truly heroic pupper https://t.co/3m6bNGXWnM',\n",
       " 'For the last time, WE. DO. NOT. RATE. BULBASAUR. We only rate dogs. Please only send dogs. Thank you ...9/10 https://t.co/GboDG8WhJG',\n",
       " '\"Tristan do not speak to me with that kind of tone or I will take away the Xbox.\" 10/10 https://t.co/VGPH0TfESw',\n",
       " \"I would like everyone to appreciate this pup's face as much as I do. 11/10 https://t.co/QIe7oxkSNo\",\n",
       " 'For those who claim this is a goat, u are wrong. It is not the Greatest Of All Time. The rating of 5/10 should have made that clear. Thank u',\n",
       " '\"Hello yes I\\'ll just get one of each color thanks\" 12/10 for all https://t.co/AMDsllQs7a',\n",
       " \"Here we have a basking dino pupper. Looks powerful. Occasionally shits eggs. Doesn't want the holidays to end. 5/10 https://t.co/DnNweb5eTO\",\n",
       " 'This little fella really hates stairs. Prefers bush. 13/10 legendary pupper https://t.co/e3LPMAHj7p',\n",
       " '\"FOR THE LAST TIME I DON\\'T WANNA PLAY TWISTER ALL THE SPOTS ARE GREY DAMN IT CINDY\" ...10/10 https://t.co/uhQNehTpIu',\n",
       " \"This pupper just got his first kiss. 12/10 he's so happy https://t.co/2sHwD7HztL\",\n",
       " \"After watching this video, we've determined that Pippa will be upgraded to a 12/10. Please enjoy https://t.co/IKoRK4yoxV\",\n",
       " 'Two sneaky puppers were not initially seen, moving the rating to 143/130. Please forgive us. Thank you https://t.co/kRK51Y5ac3',\n",
       " 'Someone help the girl is being mugged. Several are distracting her while two steal her shoes. Clever puppers 121/110 https://t.co/1zfnTJLt55',\n",
       " 'Gang of fearless hoofed puppers here. Straight savages. Elevated for extra terror. Front one has killed before 6/10s https://t.co/jkCb25OWfh',\n",
       " '\"Yo Boomer I\\'m taking a selfie, grab your stick\"\\n\"Ok make sure to get this rad hole I just dug in there\"\\n\\nBoth 10/10 https://t.co/e0gbl9VFpA',\n",
       " 'Heartwarming scene of two pups that want nothing more than to be together. Touching af. Great tongue. Both 11/10 https://t.co/k32mSlRx0j',\n",
       " 'Here we see a faulty pupper. Might need to replace batteries. Try turning off &amp; back on again. 9/10 would still pet https://t.co/O1E4AtHVxO',\n",
       " 'Breathtaking pupper here. Should be on the cover of Dogue. Top-notch tongue. Appears considerably fluffy. 12/10 https://t.co/Eeh3yfdglS',\n",
       " \"HEY PUP WHAT'S THE PART OF THE HUMAN BODY THAT CONNECTS THE FOOT AND THE LEG? 11/10 so smart https://t.co/XQ1tRUmO3z\",\n",
       " '\"Hello forest pupper I am house pupper welcome to my abode\" (8/10 for both) https://t.co/qFD8217fUT',\n",
       " 'I just want to be friends with this dog. Appears to be into the sports. A true brobean. 10/10 would introduce to mom https://t.co/1Z7Q6svWpe',\n",
       " '\"Have a seat, son. There are some things we need to discuss\" 10/10 https://t.co/g4G5tvfTVd',\n",
       " 'aahhhhkslaldhwnxmzbbs 12/10 for being da smooshiest https://t.co/UOPdXmUz4H',\n",
       " 'Here we see a nifty leaping pupper. Feet look deadly. Sad that the holidays are over. 9/10 undeniably huggable https://t.co/ny8mnXhGOW',\n",
       " \"I'm aware that I could've said 20/16, but here at WeRateDogs we are very professional. An inconsistent rating scale is simply irresponsible\",\n",
       " \"Happy New Year from your fav holiday squad! 🎉 12/10 for all\\n\\nHere's to a pupper-filled year 🍻🐶🐶🐶 https://t.co/ZSdEj59FGf\",\n",
       " 'NAAAAAAA ZAPENYAAAAA MABADI-CHIBAWAAA 12/10 https://t.co/Ny4iM6FDtz',\n",
       " 'I have no words. Just a magnificent pup. 12/10 https://t.co/viwWHZgX8j',\n",
       " 'I know we joke around on here, but this is getting really frustrating. We rate dogs. Not T-Rex. Thank you... 8/10 https://t.co/5aFw7SWyxU',\n",
       " \"I'm not sure what this dog is doing but it's pretty inspirational. 12/10 https://t.co/4Kn9GEHXiE\",\n",
       " \"Unique dog here. Wrinkly as hell. Weird segmented neck. Finger on fire. Doesn't seem to notice. 5/10 might still pet https://t.co/Hy9La4xNX3\",\n",
       " 'Can you spot Toby the guilty pupper? 7/10 would be higher but he made quite the mess shredding his stuffed pals https://t.co/3uCcDEJLXs',\n",
       " '*collapses* 12/10 https://t.co/C7M8mnzHIK',\n",
       " \"I've been told there's a slight possibility he's checking his mirror. We'll bump to 9.5/10. Still a menace\",\n",
       " 'This is actually a lion. We only rate dogs. For the last time please only send dogs. Thank u.\\n12/10 would still pet https://t.co/Pp26dMQxap',\n",
       " 'I just love this pic. 11/10 this pupper is going places https://t.co/P16uhh1PbI',\n",
       " 'I thought I made this very clear. We only rate dogs. Stop sending other things like this shark. Thank you... 9/10 https://t.co/CXSJZ4Stk3',\n",
       " \"This guy's dog broke. So sad. 9/10 would still pet https://t.co/BYiXJDEzv7\",\n",
       " \"Great picture here. Dog on the right panicked &amp; forgot about his tongue. Middle green dog must've fainted. All 10/10 https://t.co/31npKUAox0\",\n",
       " 'Here we have uncovered an entire battalion of holiday puppers. Average of 11.26/10 https://t.co/eNm2S6p9BD',\n",
       " 'Merry Christmas. My gift to you is this tiny unicorn running into a wall in slow motion. 11/10 https://t.co/UKqIAnR3He',\n",
       " \"Here's a sleepy Christmas pupper 11/10 https://t.co/KXg0f8GNQ9\",\n",
       " 'This pupper is patiently waiting to scare the shit out of Santa. 10/10 https://t.co/NhXo67K6yt',\n",
       " 'This pupper is not coming inside until she catches a snowflake on her tongue. 11/10 the determination is palpable https://t.co/lvMYbmKq8H',\n",
       " 'This is by far the most coordinated series of pictures I was sent. Downright impressive in every way. 12/10 for all https://t.co/etzLo3sdZE',\n",
       " '\"Dammit hooman I\\'m jus trynna lik the fler\" 11/10 https://t.co/eRZRI8OTj7',\n",
       " 'Everybody look at this beautiful pupper 13/10 https://t.co/hyAC5Hq9GC',\n",
       " \"Guys this really needs to stop. We've been over this way too many times. This is a giraffe. We only rate dogs.. 7/10 https://t.co/yavgkHYPOC\",\n",
       " 'This little pupper just arrived. 11/10 would snug https://t.co/DA5aqnSGfB',\n",
       " 'Crazy unseen footage from Jurassic Park. 10/10 for both dinosaur puppers https://t.co/L8wt2IpwxO',\n",
       " \"I know everyone's excited for Christmas but that doesn't mean you can send in reindeer. We only rate dogs... 8/10 https://t.co/eWjWgbOCYL\",\n",
       " 'This is officially the greatest yawn of all time. 12/10 https://t.co/4R0Cc0sLVE',\n",
       " \"This dog doesn't know how to stairs. Quite tragic really. 9/10 get it together pup https://t.co/kTpr9PTMg1\",\n",
       " \"If your Monday isn't going so well just take a look at this. Both 12/10 https://t.co/GJT6SILPGU\",\n",
       " \"Here's a pupper with some mean tan lines. Snazzy sweater though 12/10 https://t.co/DpCSVsl6vu\",\n",
       " 'Here we are witnessing a wild field pupper. Lost his wallet in there. Rather unfortunate. 10/10 good luck pup https://t.co/sZy9Co74Bw',\n",
       " 'Exotic pup here. Tail long af. Throat looks swollen. Might breathe fire. Exceptionally unfluffy 2/10 would still pet https://t.co/a8SqCaSo2r',\n",
       " 'Touching scene here. Really stirs up the emotions. The bond between father &amp; son. So beautiful. 10/10 for both pups https://t.co/AJWJHov5gx',\n",
       " 'This made my day. 12/10 please enjoy https://t.co/VRTbo3aAcm',\n",
       " 'These little fellas have opposite facial expressions. Both 12/10 https://t.co/LmThv0GWen',\n",
       " 'This pupper likes tape. 12/10 https://t.co/cSp6w5GWgm',\n",
       " 'Another spooky pupper here. Most definitely floating. No legs. Probably knows some dark magic. 10/10 very spooked https://t.co/JK8MByRzgj',\n",
       " \"After getting lost in Reese's eyes for several minutes we're going to upgrade him to a 13/10\",\n",
       " '\"Everything looks pretty good in there. Make sure to brush your gums. Been flossing? How\\'s school going?\" Both 10/10 https://t.co/lWL2IMJqLR',\n",
       " \"Guys this was terrifying. Really spooked me up. We don't rate ghosts. We rate dogs. Please only send dogs... 9/10 https://t.co/EJImi1udYb\",\n",
       " \"IT'S PUPPERGEDDON. Total of 144/120 ...I think https://t.co/ZanVtAtvIq\",\n",
       " \"This was Cindy's face when she heard Susan forgot the snacks for after the kid's soccer game. 11/10 https://t.co/gzkuVGRgAD\",\n",
       " 'Endangered triangular pup here. Could be a wizard. Caught mid-laugh. No legs. Just fluff. Probably a wizard. 9/10 https://t.co/GFVIHIod0Z',\n",
       " \"In honor of the new Star Wars movie. Here's Yoda pug. 12/10 pet really well, would I https://t.co/pvjdRn00XH\",\n",
       " 'This is a dog swinging. I really enjoyed it so I hope you all do as well. 11/10 https://t.co/Ozo9KHTRND',\n",
       " 'Contortionist pup here. Inside pentagram. Clearly worships Satan. Known to slowly push fragile stuff off tables 6/10 https://t.co/EX9oR55VMe',\n",
       " 'Reckless pupper here. Not even looking at road. Absolute menace. No regard for fellow pupper lives. 10/10 still cute https://t.co/96IBkOYB7j',\n",
       " 'Not much to say here. I just think everyone needs to see this. 12/10 https://t.co/AGag0hFHpe',\n",
       " 'Downright inspiring 12/10 https://t.co/vSLtYBWHcQ',\n",
       " 'This dog gave up mid jump. 9/10 https://t.co/KmMv3Y2zI8',\n",
       " \"This is the happiest pupper I've ever seen. 10/10 would trade lives with https://t.co/ep8ATEJwRb\",\n",
       " 'Here we see a Byzantine Rigatoni. Very aerodynamic. No eyes. Actually not windy here they just look like that. 9/10 https://t.co/gzI0m6wXRo',\n",
       " \"10/10 I'd follow this dog into battle no questions asked https://t.co/ngTNXYQF0L\",\n",
       " 'This pups goal was to get all four feet as close to each other as possible. Valiant effort 12/10 https://t.co/2mXALbgBTV',\n",
       " 'Who leaves the last cupcake just sitting there? 9/10 https://t.co/PWMqAoEx2a',\n",
       " 'Here we see a rare pouched pupper. Ample storage space. Looks alert. Jumps at random. Kicked open that door. 8/10 https://t.co/mqvaxleHRz',\n",
       " 'Super speedy pupper. Does not go gentle into that goodnight. 10/10 https://t.co/uPXBXS1XNb',\n",
       " 'Exotic handheld dog here. Appears unathletic. Feet look deadly. Can be thrown a great distance. 5/10 might pet idk https://t.co/Avq4awulqk',\n",
       " 'Finally some constructive political change in this country. 11/10 https://t.co/mvQaETHVSb',\n",
       " \"Watch out Airbud. This pupper is also good at the sports. 12/10 I'm thinking D1 https://t.co/1HrFdo7M0C\",\n",
       " 'When someone yells \"cops!\" at a party and you gotta get your drunk friend out of there. 10/10 https://t.co/4rMZi5Ca1k',\n",
       " \"I promise this wasn't meant to be a cuteness overload account but ermergerd look at this cozy pupper. 13/10 https://t.co/mpQl2rJjDh\",\n",
       " \"This is the saddest/sweetest/best picture I've been sent. 12/10 😢🐶 https://t.co/vQ2Lw1BLBF\",\n",
       " '*screeches for a sec and then faints* 12/10 https://t.co/N5QL4ySBEx',\n",
       " 'This pupper loves leaves. 11/10 for committed leaf lover https://t.co/APvLqbEhkF',\n",
       " \"After some outrage from the crowd. Bubbles is being upgraded to a 7/10. That's as high as I'm going. Thank you\",\n",
       " 'This pupper is very passionate about Christmas. Wanted to give the tree a hug. So cute. 8/10 https://t.co/NsGyECJuq7',\n",
       " 'ITSOFLUFFAYYYYY 12/10 https://t.co/bfw13CnuuZ',\n",
       " 'Three generations of pupper. 11/10 for all https://t.co/tAmQYvzrau',\n",
       " \"Hope your Monday isn't too awful. Here's two baseball puppers. 11/10 for each https://t.co/dB0H9hdZai\",\n",
       " 'All this pupper wanted to do was go skiing. No one told him about the El Niño. Poor pupper. 10/10 maybe next year https://t.co/fTgbq1UBR9',\n",
       " 'These two pups just met and have instantly bonded. Spectacular scene. Mesmerizing af. 10/10 and 7/10 for blue dog https://t.co/gwryaJO4tC',\n",
       " 'Here we are witnessing a very excited dog. Clearly has no control over neck movements. 8/10 would still pet https://t.co/ICNIjSkrXs',\n",
       " \"Extremely rare pup here. Very religious. Always praying. Too many legs. Not overwhelmingly fluffy. Won't bark. 3/10 https://t.co/REyE5YKVBb\",\n",
       " '\"Yes hello I\\'ma just snag this here toasted bagel real quick. carry on.\" 9/10 https://t.co/Cuz0Osnekp',\n",
       " \"I'm sure you've all seen this pupper. Not prepared at all for the flying disc of terror. 10/10 https://t.co/G0pQiFGM7O\",\n",
       " 'Breathtaking scene. A father taking care of his newborn pup. Tugs at the heartstrings. 10/10 restores my faith https://t.co/06oZdehGEa',\n",
       " \"Ok, I'll admit this is a pretty adorable bunny hopping towards the ocean but please only send in dogs... 11/10 https://t.co/sfsVCGIipI\",\n",
       " '&amp; this is Yoshi. Another world record contender 11/10 (what the hell is happening why are there so many contenders?) https://t.co/QG708dDNH6',\n",
       " 'Here we have an entire platoon of puppers. Total score: 88/80 would pet all at once https://t.co/y93p6FLvVw',\n",
       " 'This dog is being demoted to a 9/10 for not wearing a helmet while riding. Gotta stay safe out there. Thank you',\n",
       " '🎶 HELLO FROM THE OTHER SIIIIIIIIDE 🎶 10/10s https://t.co/GK2HJtkdQk',\n",
       " \"Here's a handful of sleepy puppers. All look unaware of their surroundings. Lousy guard dogs. Still cute tho 11/10s https://t.co/lyXX3v5j4s\",\n",
       " \"Here's a pupper licking in slow motion. 12/10 please enjoy https://t.co/AUJi8ujxw9\",\n",
       " \"We've got ourselves a battle here. Watch out Reggie. 11/10 https://t.co/ALJvbtcwf0\",\n",
       " 'Seriously guys?! Only send in dogs. I only rate dogs. This is a baby black bear... 11/10 https://t.co/H7kpabTfLj',\n",
       " '12/10 stay woke https://t.co/XDiQw4Akiw',\n",
       " 'I shall call him squishy and he shall be mine, and he shall be my squishy. 13/10 https://t.co/WId5lxNdPH',\n",
       " 'RT until we find this dog. Clearly a cool dog (front leg relaxed out window). Looks to be a superb driver. 10/10 https://t.co/MnTrKaQ8Wn',\n",
       " 'Rare shielded battle dog here. Very happy about abundance of lettuce. Painfully slow fetcher. Still petable. 5/10 https://t.co/C3tlKVq7eO',\n",
       " \"Happy Friday. Here's some golden puppers. 12/10 for all https://t.co/wNkqAED6lG\",\n",
       " 'The tail alone is 13/10. Great dog, better owner https://t.co/IyAXinfyju',\n",
       " 'Everyone needs to watch this. 13/10 https://t.co/Bb3xnpsWBC',\n",
       " \"Yea I lied. Here's more. All 13/10 https://t.co/ZQZf2U4xCP\",\n",
       " \"Good morning here's a grass pupper. 12/10 https://t.co/2d68FmWGGs\",\n",
       " \"What kind of person sends in a picture without a dog in it? 1/10 just because that's a nice table https://t.co/RDXCfk8hK0\",\n",
       " 'holy shit 12/10 https://t.co/p6O8X93bTQ',\n",
       " \"When you're presenting a group project and the 4th guy tells the teacher that he did all the work. 10/10 https://t.co/f50mbB4UWS\",\n",
       " 'What an honor. 3 dogs here. Blond one is clearly a gymnast. Other two just confused. Very nifty pups. 9/10 for all https://t.co/YDgstgIDGs',\n",
       " \"C'mon guys. We've been over this. We only rate dogs. This is a cow. Please only submit dogs. Thank you...... 9/10 https://t.co/WjcELNEqN2\",\n",
       " 'This is a fluffy albino Bacardi Columbia mix. Excellent at the tweets. 11/10 would hug gently https://t.co/diboDRUuEI',\n",
       " 'Ok last one of these. I may try to make some myself. Anyway here ya go. 13/10 https://t.co/i9CDd1oEu8',\n",
       " \"When your entire life is crumbling before you and you're trying really hard to hold your shit together.\\n10/10 https://t.co/vqFkgYPCW8\",\n",
       " 'I have found another. 13/10 https://t.co/HwroPYv8pY',\n",
       " 'ER... MER... GERD 13/10 https://t.co/L1puJISV1a',\n",
       " 'Bedazzled pup here. Fashionable af. Super yellow. Looks hella fluffy. Webbed paws for efficient fetching. 8/10 https://t.co/ot8yMUGodj',\n",
       " \"This pup was carefully tossed to make it look like she's riding that horse. I have no words this is fabulous. 12/10 https://t.co/Bob33W4sfD\",\n",
       " \"These two pups are masters of camouflage. Very dedicated to the craft. Both must've spent decades practicing. 10/10s https://t.co/RBiQ8hPqwr\",\n",
       " 'Just received another perfect photo of dogs and the sunset. 12/10 https://t.co/9YmNcxA2Cc',\n",
       " 'Everyone please just appreciate how perfect these two photos are. 12/10 for both https://t.co/rLf7asnHxO',\n",
       " 'Some clarification is required. The dog is singing Cher and that is more than worthy of an 11/10. Thank you',\n",
       " '\"🎶 DO YOU BELIEVE IN LIFE AFTER LOVE 🎶\"\\n11/10 https://t.co/URNs5zFskc',\n",
       " 'Two gorgeous dogs here. Little waddling dog is a rebel. Refuses to look at camera. Must be a preteen. 5/10 &amp; 8/10 https://t.co/YPfw7oahbD',\n",
       " 'When you see sophomores in high school driving. 11/10 https://t.co/m6aC8d1Kzp',\n",
       " \"This pupper is fed up with being tickled. 12/10 I'm currently working on an elaborate heist to steal this dog https://t.co/F33n1hy3LL\",\n",
       " 'Rare submerged pup here. Holds breath for a long time. Frowning because that spoon ignores him. 5/10 would still pet https://t.co/EJzzNHE8bE',\n",
       " \"The 13/10 also takes into account this impeccable yard. Louis is great but the future dad in me can't ignore that luscious green grass\",\n",
       " 'This pupper just wants a belly rub. This pupper has nothing to do w the tree being sideways now. 10/10 good pupper https://t.co/AyJ7Ohk71f',\n",
       " '13/10\\n@ABC7',\n",
       " 'This is life-changing. 12/10 https://t.co/SroTpI6psB',\n",
       " '\"AT DAWN, WE RIDE\"\\n10/10 for both dogs https://t.co/3aXX6wH6it',\n",
       " 'This is a Sagitariot Baklava mix. Loves her new hat. 11/10 radiant pup https://t.co/Bko5kFJYUU',\n",
       " \"Herd of wild dogs here. Not sure what they're trying to do. No real goals in life. 3/10 find your purpose puppers https://t.co/t5ih0VrK02\",\n",
       " \"Yea I can't handle the cuteness anymore. Curls for days. 12/10 for all https://t.co/sAI6gCGZYX\",\n",
       " \"When you realize it doesn't matter how hard you study. You're still going to fail. 10/10 https://t.co/qzYXbyv0SJ\",\n",
       " \"This pup is sad bc he didn't get to be the toy car. Also he has shitty money management skills. 10/10 still cute tho https://t.co/PiSXXZjDSJ\",\n",
       " 'This is one esteemed pupper. Just graduated college. 10/10 what a champ https://t.co/nyReCVRiyd',\n",
       " \"Guys I'm getting real tired of this. We only rate dogs. Please don't send in other things like this Bulbasaur. 3/10 https://t.co/t5rQHl6W8M\",\n",
       " \"When you're having a great time sleeping and your mom comes in and turns on the lights. 10/10 https://t.co/6qYd6BNSPd\",\n",
       " \"The millennials have spoken and we've decided to immediately demote to a 1/10. Thank you\",\n",
       " 'This is a heavily opinionated dog. Loves walls. Nobody knows how the hair works. Always ready for a kiss. 4/10 https://t.co/dFiaKZ9cDl',\n",
       " '🎶 HELLO FROM THE OTHER SIIIIIIIIDE 🎶 10/10 https://t.co/MTOOksRzvH',\n",
       " \"I know a lot of you are studying for finals. Good luck! Here's this. It should help somehow. 12/10 https://t.co/s2ktuPQd79\",\n",
       " 'Large blue dog here. Cool shades. Flipping us off w both hands. Obviously a preteen. 3/10 for rude blue preteen pup https://t.co/mcPd5AFfhA',\n",
       " \"When you're having a blast and remember tomorrow's Monday. 11/10 https://t.co/YPsJasNVGe\",\n",
       " 'When you ask your professor about extra credit on the last day of class. 8/10 https://t.co/H6rqZyE4NP',\n",
       " 'Sun burnt dog here. Quite large. Wants to promote peace. Looks unemployed. Ears for days. 7/10 would pet profusely https://t.co/WlKiN3ll0w',\n",
       " \"This little pupper can't wait for Christmas. He's pretending to be a present. S'cute. 11/10 twenty more days 🎁🎄🐶 https://t.co/m8r9rbcgX4\",\n",
       " '*lets out a tiny screech and then goes into complete cardiac arrest* 12/10 https://t.co/az5PLGzVNJ',\n",
       " \"IT'S SO SMALL ERMERGERF 11/10 https://t.co/dNUbKOSiWW\",\n",
       " 'Take a moment and appreciate how these two dogs fell asleep. Simply magnificent. 10/10 for both https://t.co/juX48bWpng',\n",
       " \"Magical floating dog here. Very calm. Always hangs by the pond. Rather moist. Good listener. 6/10 personally I'd pet https://t.co/1euKoOvy49\",\n",
       " 'Very happy pup here. Always smiling. Loves his little leaf. Carries it everywhere with him. 9/10 https://t.co/81BCQAyvcs',\n",
       " 'Extraordinary dog here. Looks large. Just a head. No body. Rather intrusive. 5/10 would still pet https://t.co/ufHWUFA9Pu',\n",
       " 'Marvelous dog here. Rad ears. Not very soft. Large tumor on nose. Has a pet rock. Good w kids. 6/10 overall neat pup https://t.co/g5YkRqP0dg',\n",
       " \"This lil pupper is sad because we haven't found Kony yet. RT to spread awareness. 12/10 would pet firmly https://t.co/Cv7dRdcMvQ\",\n",
       " 'This is a baby Rand Paul. Curls for days. 11/10 would cuddle the hell out of https://t.co/xHXNaPAYRe',\n",
       " 'Lots of pups here. All are Judea Hazelnuts. Exceptionally portable. 8/10 for all https://t.co/Pa8EmpDCuI',\n",
       " \"When she says she'll be ready in a minute but you've been waiting in the car for almost an hour. 10/10 https://t.co/EH0N3dFKUi\",\n",
       " 'This is light saber pup. Ready to fight off evil with light saber. 10/10 true hero https://t.co/LPPa3btIIt',\n",
       " 'When you accidentally open up the front facing camera. 10/10 https://t.co/jDXxZARQIZ',\n",
       " 'Mighty rare dogs here. Long smooth necks. Great knees. Travel in squads. 1 out of every 14 is massive. 8/10 for all https://t.co/PoMKKnKpRd',\n",
       " '10/10 for dog. 7/10 for cat. 12/10 for human. Much skill. Would pet all https://t.co/uhx5gfpx5k',\n",
       " \"Exotic underwater dog here. Very shy. Wont return tennis balls I toss him. Never been petted. 5/10 I bet he's soft https://t.co/WH7Nzc5IBA\",\n",
       " 'This pup has a heart on its ass and that is downright legendary. 12/10 https://t.co/0OI927mmNJ',\n",
       " 'This is just impressive I have nothing else to say. 11/10 https://t.co/LquQZiZjJP',\n",
       " 'Remarkable dog here. Walks on back legs really well. Looks extra soft. 8/10 would cuddle with https://t.co/gpWLdbposg',\n",
       " \"This is space pup. He's very confused. Tries to moonwalk at one point. Super spiffy uniform. 13/10 I love space pup https://t.co/SfPQ2KeLdq\",\n",
       " \"When you try to recreate the scene from Lady &amp; The Tramp but then remember you don't have a significant other. 10/10 https://t.co/TASnD8Q08S\",\n",
       " 'Very fit horned dog here. Looks powerful. Not phased by wind. Great beard. Big enough to ride? 6/10 would cuddle https://t.co/wwwYO9C9kl',\n",
       " \"I'm just going to leave this one here as well. 13/10 https://t.co/DaD5SyajWt\",\n",
       " \"This is the best thing I've ever seen so spread it like wildfire &amp; maybe we'll find the genius who created it. 13/10 https://t.co/q6RsuOVYwU\",\n",
       " 'After 22 minutes of careful deliberation this dog is being demoted to a 1/10. The longer you look at him the more terrifying he becomes',\n",
       " 'Interesting dog here. Very large. Purple. Manifests rainbows. Perfect teeth. No ears. Surprisingly knowledgable 6/10 https://t.co/QVaEMsB9tS',\n",
       " 'Super rare dog here. Spiffy mohawk. Sharp mouth. Shits eggs. Cool chariot wheel in background. 6/10 v confident pup https://t.co/pcx8jm1J1K',\n",
       " 'Striped dog here. Having fun playing on back. Sturdy paws. Looks like an organized Dalmatian. 7/10 would still pet https://t.co/U1mSS3Ykez',\n",
       " 'Tfw she says hello from the other side. 9/10 https://t.co/lS1TIDagIb',\n",
       " 'This pup holds the secrets of the universe in his left eye. 12/10 https://t.co/F7xwE0wmnu',\n",
       " 'Pack of horned dogs here. Very team-oriented bunch. All have weird laughs. Bond between them strong. 8/10 for all https://t.co/U7DQQdZ0mX',\n",
       " '*struggling to breathe properly* 12/10 https://t.co/NKHx0pcOii',\n",
       " 'Neat pup here. Enjoys lettuce. Long af ears. Short lil legs. Hops surprisingly high for dog. 9/10 still very petable https://t.co/HYR611wiA4',\n",
       " 'Me running from commitment. 10/10 https://t.co/ycVJyFFkES',\n",
       " \"Two miniature golden retrievers here. Webbed paws. Don't walk very efficiently. Can't catch a tennis ball. 4/10s https://t.co/WzVLdSHJU7\",\n",
       " \"Yea I can't handle this job anymore your dogs are too adorable. 12/10 https://t.co/N9W5L7BLTm\",\n",
       " 'After so many requests... here you go.\\n\\nGood dogg. 420/10 https://t.co/yfAAo1gdeY',\n",
       " \"Pink dogs here. Unreasonably long necks. Left guy has only 1 leg. Quite nimble. Don't bark tho 4/10s would still pet https://t.co/QY5uvMmmQk\",\n",
       " \"Scary dog here. Too many legs. Extra tail. Not soft, let alone fluffy. Won't bark. Moves sideways. Has weapon. 2/10 https://t.co/XOPXCSXiUT\",\n",
       " \"Can't do better than this lol. 10/10 for the owner https://t.co/yrqGyMZhW6\",\n",
       " \"I would do radical things in the name of Dog God. I'd believe every word in that book. 10/10 https://t.co/9ZuGAmLZDR\",\n",
       " 'Two obedient dogs here. Left one has extra leg sticking out of its back. They each get 9/10. Would pet both at once https://t.co/RGcNPsmAfY',\n",
       " \"Flamboyant pup here. Probably poisonous. Won't eat kibble. Doesn't bark. Slow af. Petting doesn't look fun. 1/10 https://t.co/jxukeh2BeO\",\n",
       " \"This dude slaps your girl's ass what do you do?\\n5/10 https://t.co/6dioUL6gcP\",\n",
       " '\"To bone or not to bone?\"\\n10/10 https://t.co/4g5kFdxp6g',\n",
       " '*screams for a little bit and then crumples to the floor shaking* 12/10 https://t.co/W2MCt9pTed',\n",
       " 'Honor to rate this dog. Great teeth. Nice horns. Unbelievable posture. Fun to pet. Big enough to ride. 10/10 rad dog https://t.co/7JMAHdJ6A4',\n",
       " 'Silly dog here. Wearing bunny ears. Nice long tail. Unique paws. Not crazy soft but will do. Extremely agile. 7/10 https://t.co/2BnCLtJMxD',\n",
       " \"This dog can't see its haters. 11/10 https://t.co/35BcGFdEAK\",\n",
       " 'Vibrant dog here. Fabulous tail. Only 2 legs tho. Has wings but can barely fly (lame). Rather elusive. 5/10 okay pup https://t.co/cixC0M3P1e',\n",
       " 'Two unbelievably athletic dogs here. Great form. Perfect execution. 10/10 for both https://t.co/sQuKwSKtDE',\n",
       " 'Sharp dog here. Introverted. Loves purple. Not fun to pet. Hurts to cuddle with. 6/10 still good dog tho https://t.co/Dfv2YaHPMn',\n",
       " 'AT DAWN...\\nWE RIDE\\n\\n11/10 https://t.co/QnfO7HEQGA',\n",
       " '\"Hi yes this is dog. I can\\'t help with that s- sir please... the manager isn\\'t in right n- well that was rude\"\\n10/10 https://t.co/DuQXATW27f',\n",
       " '😂😂😂 10/10 for the dog and the owner https://t.co/5iYF0Ci0EK',\n",
       " 'Awesome dog here. Not sure where it is tho. Spectacular camouflage. Enjoys leaves. Not very soft. 5/10 still petable https://t.co/rOTOteKx4q',\n",
       " 'Here we see really big dog cuddling smaller dog. Very touching. True friendship. 10/10s would pet both at once https://t.co/A6XnvxHiUQ',\n",
       " \"I've never seen a dog so genuinely happy about a tennis ball. 12/10 s'cute https://t.co/9RYY2NtHDw\",\n",
       " 'After countless hours of research and hundreds of formula alterations we have concluded that Dug should be bumped to an 11/10',\n",
       " \"This is a brave dog. Excellent free climber. Trying to get closer to God. Not very loyal though. Doesn't bark. 5/10 https://t.co/ODnILTr4QM\",\n",
       " \"Very human-like. Cute overbite smile *finger to earpiece* I'm being told that the dog is actually on the right\\n10/10 https://t.co/MSIbWu4YYs\",\n",
       " 'Special dog here. Pretty big. Neck kinda long for dog. Cool spots. Must be a Dalmatian variant. 6/10 would still pet https://t.co/f8GXeDbFzu',\n",
       " 'Just got home from college. Dis my dog. She does all my homework. Big red turd in background. 13/10 no bias at all https://t.co/6WGFp9cuj6',\n",
       " \"Super rare dog right here guys. Doesn't bark. Seems strong. Blue. Very family friendly pet. 10/10 overall good dog https://t.co/Jykq2iq3qN\",\n",
       " 'Two gorgeous pups here. Both have cute fake horns(adorable). Barn in the back looks on fire. 5/10 would pet rly well https://t.co/w5oYFXi0uh',\n",
       " 'Honor to rate this dog. Lots of fur on him. Two massive tumors on back. Should get checked out. Very neat tho. 7/10 https://t.co/bMhs18elNF',\n",
       " \"Unique dog here. Oddly shaped tail. Long pink front legs. I don't think dogs breath underwater sos. 4/10 bad owner https://t.co/0EJXxE9UxW\",\n",
       " '12/10 good shit Bubka\\n@wane15',\n",
       " 'This is a wild Toblerone from Papua New Guinea. Mouth always open. Addicted to hay. Acts blind. 7/10 handsome dog https://t.co/IGmVbz07tZ',\n",
       " 'Incredibly rare dog here. Good at bipedalism. Rad blue spikes. Ready to dance. 11/10 https://t.co/70X1TIXn38',\n",
       " 'Fascinating dog here. Loves beach. Oddly long nose for dog. Massive ass paws. Hard to cuddle w. 3/10 would still pet https://t.co/IiSdmhkC5N',\n",
       " 'Here is a horned dog. Much grace. Can jump over moons (dam!). Paws not soft. Bad at barking. 7/10 can still pet tho https://t.co/2Su7gmsnZm',\n",
       " 'Never forget this vine. You will not stop watching for at least 15 minutes. This is the second coveted.. 13/10 https://t.co/roqIxCvEB3',\n",
       " 'It is an honor to rate this pup. He is a Snorklhuahua from Amarillo. A true renaissance dog. Also part Rudolph 10/10 https://t.co/ALNyYuGui7',\n",
       " \"There's a lot going on here but in my honest opinion every dog pictured is pretty fabulous. 10/10 for all. Good dogs https://t.co/VvYVbsi6c3\",\n",
       " 'Good teamwork between these dogs. One is on lookout while other eats. Long necks. Nice big house. 9/10s good pups https://t.co/uXgmECGYEB',\n",
       " \"Here is a mother dog caring for her pups. Snazzy red mohawk. Doesn't wag tail. Pups look confused. Overall 4/10 https://t.co/YOHe6lf09m\",\n",
       " '2 rare dogs. They waddle (v inefficient). Sometimes slide on bellies. Right one wants to be aircraft Marshall. 9/10s https://t.co/P8bivfp5sU',\n",
       " \"I can't do better than he did. 10/10 https://t.co/fM0KXns7Or\",\n",
       " 'Sneaky dog here. Tuba player has no clue. 10/10 super sneaky https://t.co/jWVwSppaa2',\n",
       " 'These two dogs are Bo &amp; Smittens. Smittens is trying out a new deodorant and wanted Bo to smell it. 10/10 true pals https://t.co/4pw1QQ6udh',\n",
       " 'Fun dogs here. Top one clearly an athlete. Bottom one very stable. Not very soft tho. 9/10s would still cuddle both https://t.co/79sHR36NsI',\n",
       " \"This lil pup is Oliver. Hops around. Has wings but doesn't fly (lame). Annoying chirp. Won't catch tennis balls 2/10 https://t.co/DnhUw0aBM2\",\n",
       " 'This dog resembles a baked potato. Bed looks uncomfortable. No tail. Comes with butter tho. 3/10 petting still fun https://t.co/x89NSCEZCq',\n",
       " 'Wow. Armored dog here. Ready for battle. Face looks dangerous. Not very loyal. Lil dog on back havin a blast. 5/10 https://t.co/SyMoWrp368',\n",
       " 'Neat dog. Lots of spikes. Always in push-up position. Laid a shit ton of eggs earlier. Super stellar pup. 10/10 https://t.co/ODqrL3zXYE',\n",
       " \"THE EYES 12/10\\n\\nI'm sorry. These are supposed to be funny but your dogs are too adorable https://t.co/z1xPTgVLc7\",\n",
       " 'OMIGOD 12/10 https://t.co/SVMF4Frf1w',\n",
       " 'Dogs only please. Small cows and other non canines will not be tolerated. Sick tattoos tho 8/10 https://t.co/s1z7mX4c9O',\n",
       " \"Super rare dog. Endangered (?). Thinks it's funny. Mocks everything I say. Colorful af. Has wings (dope). 9/10 https://t.co/BY8nQAMz0x\",\n",
       " 'What a dog to start the day with. Very calm. Likes to chill by pond. Corkscrews sticking out of head. Obedient. 7/10 https://t.co/0nIxPTDWAZ',\n",
       " 'Never seen dog like this. Breathes heavy. Tilts head in a pattern. No bark. Shitty at fetch. Not even cordless. 1/10 https://t.co/i9iSGNn3fx',\n",
       " 'Here is George. George took a selfie of his new man bun and that is downright epic. (Also looks like Rand Paul) 9/10 https://t.co/afRtVsoIIb',\n",
       " 'Two dogs in this one. Both are rare Jujitsu Pythagoreans. One slightly whiter than other. Long legs. 7/10 and 8/10 https://t.co/ITxxcc4v9y',\n",
       " 'Exotic dog here. Long neck. Weird paws. Obsessed with bread. Waddles. Flies sometimes (wow!). Very happy dog. 6/10 https://t.co/rqO4I3nf2N',\n",
       " 'Never seen this breed before. Very pointy pup. Hurts when you cuddle. Still cute tho. 10/10 https://t.co/97HuBrVuOx',\n",
       " 'Ermergerd 12/10 https://t.co/PQni2sjPsm',\n",
       " 'Here we have a neat pup. Very white. Cool shades. Upcoming cruise? Great dog 10/10 https://t.co/LEaviT37v1',\n",
       " '*takes several long deep breaths* omg omg oMG OMG OMG OMGSJYBSNDUYWJO 12/10 https://t.co/QCugm5ydl6',\n",
       " 'Quite an advanced dog here. Impressively dressed for canine. Has weapon. About to take out trash. 10/10 good dog https://t.co/8uCMwS9CbV',\n",
       " \"This is a Dasani Kingfisher from Maine. His name is Daryl. Daryl doesn't like being swallowed by a panda. 8/10 https://t.co/jpaeu6LNmW\",\n",
       " 'These are strange dogs. All have toupees. Long neck for dogs. In a shed of sorts? Work in groups? 4/10 still petable https://t.co/PZxSarAfSN',\n",
       " 'Extremely intelligent dog here. Has learned to walk like human. Even has his own dog. Very impressive 10/10 https://t.co/0DvHAMdA4V',\n",
       " 'Here is Dave. He is actually just a skinny legged seal. Happy birthday Dave. 10/10 https://t.co/DPSamreuRq',\n",
       " 'After much debate this dog is being upgraded to 10/10. I repeat 10/10',\n",
       " 'Here we have a Hufflepuff. Loves vest. Eyes wide af. Flaccid tail. Matches carpet. Always a little blurry. 8/10 https://t.co/7JdgVqDnvR',\n",
       " '12/10 gimme now https://t.co/QZAnwgnOMB',\n",
       " \"My goodness. Very rare dog here. Large. Tail dangerous. Kinda fat. Only eats leaves. Doesn't come when called 3/10 https://t.co/xYGdBrMS9h\",\n",
       " 'These are Peruvian Feldspars. Their names are Cupit and Prencer. Both resemble Rand Paul. Sick outfits 10/10 &amp; 10/10 https://t.co/ZnEMHBsAs1',\n",
       " '12/10 simply brilliant pup https://t.co/V6ZzG45zzG',\n",
       " \"Unfamiliar with this breed. Ears pointy af. Won't let go of seashell. Won't eat kibble. Not very fast. Bad dog 2/10 https://t.co/EIn5kElY1S\",\n",
       " \"Cool dog. Enjoys couch. Low monotone bark. Very nice kicks. Pisses milk (must be rare). Can't go down stairs. 4/10 https://t.co/vXMKrJC81s\",\n",
       " 'Here we see a lone northeastern Cumberbatch. Half ladybug. Only builds with bricks. Very confident with body. 7/10 https://t.co/7LtjBS0GPK',\n",
       " '\"Can you behave? You\\'re ruining my wedding day\"\\nDOG: idgaf this flashlight tastes good as hell\\n\\n10/10 https://t.co/GlFZPzqcEU',\n",
       " 'Oh boy what a pup! Sunglasses take this one to the next level. Weirdly folds front legs. Pretty big. 6/10 https://t.co/yECbFrSArM',\n",
       " 'Here we have an Austrian Pulitzer. Collectors edition. Levitates (?). 7/10 would garden with https://t.co/NMQq6HIglK',\n",
       " '*internally screaming* 12/10 https://t.co/YMcrXC2Y6R',\n",
       " \"This is quite the dog. Gets really excited when not in water. Not very soft tho. Bad at fetch. Can't do tricks. 2/10 https://t.co/aMCTNWO94t\",\n",
       " 'This is a southern Vesuvius bumblegruff. Can drive a truck (wow). Made friends with 5 other nifty dogs (neat). 7/10 https://t.co/LopTBkKa8h',\n",
       " 'Oh goodness. A super rare northeast Qdoba kangaroo mix. Massive feet. No pouch (disappointing). Seems alert. 9/10 https://t.co/Dc7b0E8qFE',\n",
       " 'Those are sunglasses and a jean jacket. 11/10 dog cool af https://t.co/uHXrPkUEyl',\n",
       " 'Unique dog here. Very small. Lives in container of Frosted Flakes (?). Short legs. Must be rare 6/10 would still pet https://t.co/XMD9CwjEnM',\n",
       " 'Here we have a mixed Asiago from the Galápagos Islands. Only one ear working. Big fan of marijuana carpet. 8/10 https://t.co/tltQ5w9aUO',\n",
       " \"Look at this jokester thinking seat belt laws don't apply to him. Great tongue tho 10/10 https://t.co/VFKG1vxGjB\",\n",
       " 'This is an extremely rare horned Parthenon. Not amused. Wears shoes. Overall very nice. 9/10 would pet aggressively https://t.co/QpRjllzWAL',\n",
       " \"This is a funny dog. Weird toes. Won't come down. Loves branch. Refuses to eat his food. Hard to cuddle with. 3/10 https://t.co/IIXis0zta0\",\n",
       " 'This is an Albanian 3 1/2 legged  Episcopalian. Loves well-polished hardwood flooring. Penis on the collar. 9/10 https://t.co/d9NcXFKwLv',\n",
       " 'Can take selfies 11/10 https://t.co/ws2AMaNwPW',\n",
       " 'Very concerned about fellow dog trapped in computer. 10/10 https://t.co/0yxApIikpk',\n",
       " \"Not familiar with this breed. No tail (weird). Only 2 legs. Doesn't bark. Surprisingly quick. Shits eggs. 1/10 https://t.co/Asgdc6kuLX\",\n",
       " 'Oh my. Here you are seeing an Adobe Setter giving birth to twins!!! The world is an amazing place. 11/10 https://t.co/11LvqN4WLq',\n",
       " 'Can stand on stump for what seems like a while. Built that birdhouse? Impressive. Made friends with a squirrel. 8/10 https://t.co/Ri4nMTLq5C',\n",
       " 'This appears to be a Mongolian Presbyterian mix. Very tired. Tongue slip confirmed. 9/10 would lie down with https://t.co/mnioXo3IfP',\n",
       " 'Here we have a well-established sunblockerspaniel. Lost his other flip-flop. 6/10 not very waterproof https://t.co/3RU6x0vHB7',\n",
       " \"Let's hope this flight isn't Malaysian (lol). What a dog! Almost completely camouflaged. 10/10 I trust this pilot https://t.co/Yk6GHE9tOY\",\n",
       " 'Here we have a northern speckled Rhododendron. Much sass. Gives 0 fucks. Good tongue. 9/10 would caress sensually https://t.co/ZoL8kq2XFx',\n",
       " 'This is the happiest dog you will ever see. Very committed owner. Nice couch. 10/10 https://t.co/RhUEAloehK',\n",
       " \"Here is the Rand Paul of retrievers folks! He's probably good at poker. Can drink beer (lol rad). 8/10 good dog https://t.co/pYAJkAe76p\",\n",
       " 'My oh my. This is a rare blond Canadian terrier on wheels. Only $8.98. Rather docile. 9/10 very rare https://t.co/yWBqbrzy8O',\n",
       " 'Here is a Siberian heavily armored polar bear mix. Strong owner. 10/10 I would do unspeakable things to pet this dog https://t.co/rdivxLiqEt',\n",
       " \"This is an odd dog. Hard on the outside but loving on the inside. Petting still fun. Doesn't play catch well. 2/10 https://t.co/v5A4vzSDdc\",\n",
       " 'This is a truly beautiful English Wilson Staff retriever. Has a nice phone. Privileged. 10/10 would trade lives with https://t.co/fvIbQfHjIe',\n",
       " 'Here we have a 1949 1st generation vulpix. Enjoys sweat tea and Fox News. Cannot be phased. 5/10 https://t.co/4B7cOc1EDq',\n",
       " 'This is a purebred Piers Morgan. Loves to Netflix and chill. Always looks like he forgot to unplug the iron. 6/10 https://t.co/DWnyCjf2mx',\n",
       " 'Here is a very happy pup. Big fan of well-maintained decks. Just look at that tongue. 9/10 would cuddle af https://t.co/y671yMhoiR',\n",
       " 'This is a western brown Mitsubishi terrier. Upset about leaf. Actually 2 dogs here. 7/10 would walk the shit out of https://t.co/r7mOb2m0UI',\n",
       " 'Here we have a Japanese Irish Setter. Lost eye in Vietnam (?). Big fan of relaxing on stair. 8/10 would pet https://t.co/BLDqew2Ijj']"
      ]
     },
     "execution_count": 50,
     "metadata": {},
     "output_type": "execute_result"
    }
   ],
   "source": [
    "missing_names"
   ]
  },
  {
   "cell_type": "code",
   "execution_count": 51,
   "id": "9b1e9976",
   "metadata": {},
   "outputs": [],
   "source": [
    "df['name'] = extracted_names"
   ]
  },
  {
   "cell_type": "code",
   "execution_count": 52,
   "id": "765c88f5",
   "metadata": {},
   "outputs": [],
   "source": [
    "df['name'] = df['name'].replace(to_replace = r'^([a-z])', value = np.nan, regex = True)"
   ]
  },
  {
   "cell_type": "code",
   "execution_count": 53,
   "id": "16af46be",
   "metadata": {},
   "outputs": [
    {
     "data": {
      "text/plain": [
       "NaN           755\n",
       "Charlie        11\n",
       "Lucy           11\n",
       "Oliver         10\n",
       "Cooper         10\n",
       "             ... \n",
       "Emma            1\n",
       "Spencer         1\n",
       "Lilli           1\n",
       "Boston          1\n",
       "Christoper      1\n",
       "Name: name, Length: 958, dtype: int64"
      ]
     },
     "execution_count": 53,
     "metadata": {},
     "output_type": "execute_result"
    }
   ],
   "source": [
    "df.name.value_counts()"
   ]
  },
  {
   "cell_type": "markdown",
   "id": "a2f5895f",
   "metadata": {},
   "source": [
    "<div class=\"alert alert-block alert-info\" style=\"font-size:14px; font-family:verdana; line-height: 1.7em;\">\n",
    "    📌 &nbsp;<b><u>6 - Bad rating</u></b><br>\n",
    "\n",
    "* <i>Save index of tweets with denominator greater than 10</i>\n",
    "* <i>Fix rating manually for tweets for which rating was read incorrectly</i>\n",
    "* <i>Add normalized rating</i>"
   ]
  },
  {
   "cell_type": "code",
   "execution_count": 54,
   "id": "a4efe156",
   "metadata": {},
   "outputs": [
    {
     "data": {
      "text/plain": [
       "Int64Index([ 342,  433,  902, 1068, 1120, 1165, 1202, 1228, 1254, 1274, 1351,\n",
       "            1433, 1598, 1634, 1635, 1662, 1663, 1779, 1843],\n",
       "           dtype='int64')"
      ]
     },
     "execution_count": 54,
     "metadata": {},
     "output_type": "execute_result"
    }
   ],
   "source": [
    "high_denominator = df[df.rating_denominator > 10].index\n",
    "high_denominator"
   ]
  },
  {
   "cell_type": "code",
   "execution_count": 55,
   "id": "4740a019",
   "metadata": {},
   "outputs": [],
   "source": [
    "df.loc[832088576586297345, 'rating_denominator'] = 0\n",
    "df.loc[832088576586297345, 'rating_numerator'] = 0\n",
    "\n",
    "df.loc[775096608509886464, 'rating_denominator'] = 10\n",
    "df.loc[775096608509886464, 'rating_numerator'] = 14\n",
    "\n",
    "df.loc[740373189193256964, 'rating_denominator'] = 10\n",
    "df.loc[740373189193256964, 'rating_numerator'] = 14\n",
    "\n",
    "df.loc[722974582966214656, 'rating_denominator'] = 10\n",
    "df.loc[722974582966214656, 'rating_numerator'] = 13\n",
    "\n",
    "df.loc[716439118184652801, 'rating_denominator'] = 10\n",
    "df.loc[716439118184652801, 'rating_numerator'] = 11\n",
    "\n",
    "df.loc[682962037429899265, 'rating_denominator'] = 10\n",
    "df.loc[682962037429899265, 'rating_numerator'] = 10"
   ]
  },
  {
   "cell_type": "code",
   "execution_count": 56,
   "id": "4ae8eb3b",
   "metadata": {},
   "outputs": [
    {
     "data": {
      "text/html": [
       "<div>\n",
       "<style scoped>\n",
       "    .dataframe tbody tr th:only-of-type {\n",
       "        vertical-align: middle;\n",
       "    }\n",
       "\n",
       "    .dataframe tbody tr th {\n",
       "        vertical-align: top;\n",
       "    }\n",
       "\n",
       "    .dataframe thead th {\n",
       "        text-align: right;\n",
       "    }\n",
       "</style>\n",
       "<table border=\"1\" class=\"dataframe\">\n",
       "  <thead>\n",
       "    <tr style=\"text-align: right;\">\n",
       "      <th></th>\n",
       "      <th>text</th>\n",
       "      <th>rating_denominator</th>\n",
       "      <th>rating_numerator</th>\n",
       "    </tr>\n",
       "  </thead>\n",
       "  <tbody>\n",
       "    <tr>\n",
       "      <th>1634</th>\n",
       "      <td>Two sneaky puppers were not initially seen, mo...</td>\n",
       "      <td>130.0</td>\n",
       "      <td>143.0</td>\n",
       "    </tr>\n",
       "    <tr>\n",
       "      <th>1663</th>\n",
       "      <td>I'm aware that I could've said 20/16, but here...</td>\n",
       "      <td>16.0</td>\n",
       "      <td>20.0</td>\n",
       "    </tr>\n",
       "    <tr>\n",
       "      <th>1843</th>\n",
       "      <td>Here we have an entire platoon of puppers. Tot...</td>\n",
       "      <td>80.0</td>\n",
       "      <td>88.0</td>\n",
       "    </tr>\n",
       "  </tbody>\n",
       "</table>\n",
       "</div>"
      ],
      "text/plain": [
       "                                                   text  rating_denominator  \\\n",
       "1634  Two sneaky puppers were not initially seen, mo...               130.0   \n",
       "1663  I'm aware that I could've said 20/16, but here...                16.0   \n",
       "1843  Here we have an entire platoon of puppers. Tot...                80.0   \n",
       "\n",
       "      rating_numerator  \n",
       "1634             143.0  \n",
       "1663              20.0  \n",
       "1843              88.0  "
      ]
     },
     "execution_count": 56,
     "metadata": {},
     "output_type": "execute_result"
    }
   ],
   "source": [
    "df.loc[high_denominator,:][['text','rating_denominator', 'rating_numerator']].sample(3)"
   ]
  },
  {
   "cell_type": "code",
   "execution_count": 57,
   "id": "1a26d087",
   "metadata": {},
   "outputs": [],
   "source": [
    "df['rating'] = df['rating_numerator'] / df['rating_denominator']"
   ]
  },
  {
   "cell_type": "code",
   "execution_count": 58,
   "id": "c6f39d34",
   "metadata": {},
   "outputs": [
    {
     "data": {
      "text/html": [
       "<div>\n",
       "<style scoped>\n",
       "    .dataframe tbody tr th:only-of-type {\n",
       "        vertical-align: middle;\n",
       "    }\n",
       "\n",
       "    .dataframe tbody tr th {\n",
       "        vertical-align: top;\n",
       "    }\n",
       "\n",
       "    .dataframe thead th {\n",
       "        text-align: right;\n",
       "    }\n",
       "</style>\n",
       "<table border=\"1\" class=\"dataframe\">\n",
       "  <thead>\n",
       "    <tr style=\"text-align: right;\">\n",
       "      <th></th>\n",
       "      <th>text</th>\n",
       "      <th>rating_denominator</th>\n",
       "      <th>rating_numerator</th>\n",
       "      <th>rating</th>\n",
       "    </tr>\n",
       "  </thead>\n",
       "  <tbody>\n",
       "    <tr>\n",
       "      <th>1018</th>\n",
       "      <td>Guys... Dog Jesus 2.0\\n13/10 buoyant af https:...</td>\n",
       "      <td>10.0</td>\n",
       "      <td>13.0</td>\n",
       "      <td>1.3</td>\n",
       "    </tr>\n",
       "    <tr>\n",
       "      <th>1214</th>\n",
       "      <td>This is Michelangelope. He's half coffee cup. ...</td>\n",
       "      <td>10.0</td>\n",
       "      <td>12.0</td>\n",
       "      <td>1.2</td>\n",
       "    </tr>\n",
       "    <tr>\n",
       "      <th>1435</th>\n",
       "      <td>Please stop sending in saber-toothed tigers. T...</td>\n",
       "      <td>10.0</td>\n",
       "      <td>8.0</td>\n",
       "      <td>0.8</td>\n",
       "    </tr>\n",
       "    <tr>\n",
       "      <th>214</th>\n",
       "      <td>This is Iggy. He was a rescue dog killed in th...</td>\n",
       "      <td>10.0</td>\n",
       "      <td>14.0</td>\n",
       "      <td>1.4</td>\n",
       "    </tr>\n",
       "    <tr>\n",
       "      <th>2097</th>\n",
       "      <td>This is Jerry. He's a great listener. Low main...</td>\n",
       "      <td>10.0</td>\n",
       "      <td>8.0</td>\n",
       "      <td>0.8</td>\n",
       "    </tr>\n",
       "  </tbody>\n",
       "</table>\n",
       "</div>"
      ],
      "text/plain": [
       "                                                   text  rating_denominator  \\\n",
       "1018  Guys... Dog Jesus 2.0\\n13/10 buoyant af https:...                10.0   \n",
       "1214  This is Michelangelope. He's half coffee cup. ...                10.0   \n",
       "1435  Please stop sending in saber-toothed tigers. T...                10.0   \n",
       "214   This is Iggy. He was a rescue dog killed in th...                10.0   \n",
       "2097  This is Jerry. He's a great listener. Low main...                10.0   \n",
       "\n",
       "      rating_numerator  rating  \n",
       "1018              13.0     1.3  \n",
       "1214              12.0     1.2  \n",
       "1435               8.0     0.8  \n",
       "214               14.0     1.4  \n",
       "2097               8.0     0.8  "
      ]
     },
     "execution_count": 58,
     "metadata": {},
     "output_type": "execute_result"
    }
   ],
   "source": [
    "df[['text','rating_denominator', 'rating_numerator', 'rating']].sample(5)"
   ]
  },
  {
   "cell_type": "markdown",
   "id": "a2f5895f",
   "metadata": {},
   "source": [
    "<div class=\"alert alert-block alert-info\" style=\"font-size:14px; font-family:verdana; line-height: 1.7em;\">\n",
    "    📌 &nbsp;<b><u>7 - Remove html from source</u></b><br>\n",
    "\n",
    "* <i>Extract source in value</i>"
   ]
  },
  {
   "cell_type": "code",
   "execution_count": 59,
   "id": "6c55d08a",
   "metadata": {},
   "outputs": [
    {
     "data": {
      "text/html": [
       "<div>\n",
       "<style scoped>\n",
       "    .dataframe tbody tr th:only-of-type {\n",
       "        vertical-align: middle;\n",
       "    }\n",
       "\n",
       "    .dataframe tbody tr th {\n",
       "        vertical-align: top;\n",
       "    }\n",
       "\n",
       "    .dataframe thead th {\n",
       "        text-align: right;\n",
       "    }\n",
       "</style>\n",
       "<table border=\"1\" class=\"dataframe\">\n",
       "  <thead>\n",
       "    <tr style=\"text-align: right;\">\n",
       "      <th></th>\n",
       "      <th>tweet_id</th>\n",
       "      <th>timestamp</th>\n",
       "      <th>source</th>\n",
       "      <th>text</th>\n",
       "      <th>expanded_urls</th>\n",
       "      <th>rating_numerator</th>\n",
       "      <th>rating_denominator</th>\n",
       "      <th>name</th>\n",
       "      <th>jpg_url</th>\n",
       "      <th>img_num</th>\n",
       "      <th>...</th>\n",
       "      <th>p2</th>\n",
       "      <th>p2_conf</th>\n",
       "      <th>p2_dog</th>\n",
       "      <th>p3</th>\n",
       "      <th>p3_conf</th>\n",
       "      <th>p3_dog</th>\n",
       "      <th>favorites</th>\n",
       "      <th>retweets</th>\n",
       "      <th>stage</th>\n",
       "      <th>rating</th>\n",
       "    </tr>\n",
       "  </thead>\n",
       "  <tbody>\n",
       "    <tr>\n",
       "      <th>0</th>\n",
       "      <td>8.924206e+17</td>\n",
       "      <td>2017-08-01 16:23:56+00:00</td>\n",
       "      <td>&lt;a href=\"http://twitter.com/download/iphone\" r...</td>\n",
       "      <td>This is Phineas. He's a mystical boy. Only eve...</td>\n",
       "      <td>https://twitter.com/dog_rates/status/892420643...</td>\n",
       "      <td>13.0</td>\n",
       "      <td>10.0</td>\n",
       "      <td>Phineas</td>\n",
       "      <td>https://pbs.twimg.com/media/DGKD1-bXoAAIAUK.jpg</td>\n",
       "      <td>1.0</td>\n",
       "      <td>...</td>\n",
       "      <td>bagel</td>\n",
       "      <td>0.085851</td>\n",
       "      <td>False</td>\n",
       "      <td>banana</td>\n",
       "      <td>0.076110</td>\n",
       "      <td>False</td>\n",
       "      <td>39467.0</td>\n",
       "      <td>8853.0</td>\n",
       "      <td>NaN</td>\n",
       "      <td>1.3</td>\n",
       "    </tr>\n",
       "    <tr>\n",
       "      <th>1</th>\n",
       "      <td>8.921774e+17</td>\n",
       "      <td>2017-08-01 00:17:27+00:00</td>\n",
       "      <td>&lt;a href=\"http://twitter.com/download/iphone\" r...</td>\n",
       "      <td>This is Tilly. She's just checking pup on you....</td>\n",
       "      <td>https://twitter.com/dog_rates/status/892177421...</td>\n",
       "      <td>13.0</td>\n",
       "      <td>10.0</td>\n",
       "      <td>Tilly</td>\n",
       "      <td>https://pbs.twimg.com/media/DGGmoV4XsAAUL6n.jpg</td>\n",
       "      <td>1.0</td>\n",
       "      <td>...</td>\n",
       "      <td>Pekinese</td>\n",
       "      <td>0.090647</td>\n",
       "      <td>True</td>\n",
       "      <td>papillon</td>\n",
       "      <td>0.068957</td>\n",
       "      <td>True</td>\n",
       "      <td>33819.0</td>\n",
       "      <td>6514.0</td>\n",
       "      <td>NaN</td>\n",
       "      <td>1.3</td>\n",
       "    </tr>\n",
       "  </tbody>\n",
       "</table>\n",
       "<p>2 rows × 23 columns</p>\n",
       "</div>"
      ],
      "text/plain": [
       "       tweet_id                 timestamp  \\\n",
       "0  8.924206e+17 2017-08-01 16:23:56+00:00   \n",
       "1  8.921774e+17 2017-08-01 00:17:27+00:00   \n",
       "\n",
       "                                              source  \\\n",
       "0  <a href=\"http://twitter.com/download/iphone\" r...   \n",
       "1  <a href=\"http://twitter.com/download/iphone\" r...   \n",
       "\n",
       "                                                text  \\\n",
       "0  This is Phineas. He's a mystical boy. Only eve...   \n",
       "1  This is Tilly. She's just checking pup on you....   \n",
       "\n",
       "                                       expanded_urls  rating_numerator  \\\n",
       "0  https://twitter.com/dog_rates/status/892420643...              13.0   \n",
       "1  https://twitter.com/dog_rates/status/892177421...              13.0   \n",
       "\n",
       "   rating_denominator     name  \\\n",
       "0                10.0  Phineas   \n",
       "1                10.0    Tilly   \n",
       "\n",
       "                                           jpg_url  img_num  ...        p2  \\\n",
       "0  https://pbs.twimg.com/media/DGKD1-bXoAAIAUK.jpg      1.0  ...     bagel   \n",
       "1  https://pbs.twimg.com/media/DGGmoV4XsAAUL6n.jpg      1.0  ...  Pekinese   \n",
       "\n",
       "    p2_conf p2_dog        p3   p3_conf p3_dog favorites  retweets stage  \\\n",
       "0  0.085851  False    banana  0.076110  False   39467.0    8853.0   NaN   \n",
       "1  0.090647   True  papillon  0.068957   True   33819.0    6514.0   NaN   \n",
       "\n",
       "   rating  \n",
       "0     1.3  \n",
       "1     1.3  \n",
       "\n",
       "[2 rows x 23 columns]"
      ]
     },
     "execution_count": 59,
     "metadata": {},
     "output_type": "execute_result"
    }
   ],
   "source": [
    "df.head(2)"
   ]
  },
  {
   "cell_type": "code",
   "execution_count": 60,
   "id": "08336673",
   "metadata": {},
   "outputs": [],
   "source": [
    "df.source = df.source.str.extract(\"\\>(.*?)\\<\", expand = True)"
   ]
  },
  {
   "cell_type": "code",
   "execution_count": 61,
   "id": "3e65d071",
   "metadata": {},
   "outputs": [
    {
     "data": {
      "text/html": [
       "<div>\n",
       "<style scoped>\n",
       "    .dataframe tbody tr th:only-of-type {\n",
       "        vertical-align: middle;\n",
       "    }\n",
       "\n",
       "    .dataframe tbody tr th {\n",
       "        vertical-align: top;\n",
       "    }\n",
       "\n",
       "    .dataframe thead th {\n",
       "        text-align: right;\n",
       "    }\n",
       "</style>\n",
       "<table border=\"1\" class=\"dataframe\">\n",
       "  <thead>\n",
       "    <tr style=\"text-align: right;\">\n",
       "      <th></th>\n",
       "      <th>tweet_id</th>\n",
       "      <th>timestamp</th>\n",
       "      <th>source</th>\n",
       "    </tr>\n",
       "  </thead>\n",
       "  <tbody>\n",
       "    <tr>\n",
       "      <th>0</th>\n",
       "      <td>8.924206e+17</td>\n",
       "      <td>2017-08-01 16:23:56+00:00</td>\n",
       "      <td>Twitter for iPhone</td>\n",
       "    </tr>\n",
       "    <tr>\n",
       "      <th>1</th>\n",
       "      <td>8.921774e+17</td>\n",
       "      <td>2017-08-01 00:17:27+00:00</td>\n",
       "      <td>Twitter for iPhone</td>\n",
       "    </tr>\n",
       "  </tbody>\n",
       "</table>\n",
       "</div>"
      ],
      "text/plain": [
       "       tweet_id                 timestamp              source\n",
       "0  8.924206e+17 2017-08-01 16:23:56+00:00  Twitter for iPhone\n",
       "1  8.921774e+17 2017-08-01 00:17:27+00:00  Twitter for iPhone"
      ]
     },
     "execution_count": 61,
     "metadata": {},
     "output_type": "execute_result"
    }
   ],
   "source": [
    "df.iloc[:,:3].head(2)"
   ]
  },
  {
   "cell_type": "code",
   "execution_count": 62,
   "id": "72319c4e",
   "metadata": {},
   "outputs": [
    {
     "data": {
      "text/plain": [
       "Twitter for iPhone     2042\n",
       "Vine - Make a Scene      91\n",
       "Twitter Web Client       31\n",
       "TweetDeck                11\n",
       "Name: source, dtype: int64"
      ]
     },
     "execution_count": 62,
     "metadata": {},
     "output_type": "execute_result"
    }
   ],
   "source": [
    "df.source.value_counts()"
   ]
  },
  {
   "cell_type": "markdown",
   "id": "a2f5895f",
   "metadata": {},
   "source": [
    "<div class=\"alert alert-block alert-info\" style=\"font-size:14px; font-family:verdana; line-height: 1.7em;\">\n",
    "    📌 &nbsp;<b><u>8 - Duplicates image</u></b><br>\n",
    "\n",
    "* <i>DisplAy jpg_url duplicates</i>\n",
    "* <i>Delete duplicated jpg_url</i>\n",
    "* <i>DisplAy jpg_url duplicates</i>\n",
    "* <i>DisplAy jpg_url duplicates</i>"
   ]
  },
  {
   "cell_type": "code",
   "execution_count": 63,
   "id": "57600704",
   "metadata": {},
   "outputs": [
    {
     "data": {
      "text/plain": [
       "186"
      ]
     },
     "execution_count": 63,
     "metadata": {},
     "output_type": "execute_result"
    }
   ],
   "source": [
    "sum(df.jpg_url.duplicated())"
   ]
  },
  {
   "cell_type": "code",
   "execution_count": 64,
   "id": "418594a0",
   "metadata": {},
   "outputs": [],
   "source": [
    "df = df.drop_duplicates(subset=['jpg_url'], keep='last')"
   ]
  },
  {
   "cell_type": "code",
   "execution_count": 65,
   "id": "7a3f31f1",
   "metadata": {},
   "outputs": [
    {
     "data": {
      "text/plain": [
       "0"
      ]
     },
     "execution_count": 65,
     "metadata": {},
     "output_type": "execute_result"
    }
   ],
   "source": [
    "sum(df['jpg_url'].duplicated())"
   ]
  },
  {
   "cell_type": "markdown",
   "id": "969d1a13",
   "metadata": {},
   "source": [
    "<div class=\"alert alert-block alert-info\" style=\"font-size:14px; font-family:verdana; line-height: 1.7em;\">\n",
    "        📌 &nbsp;<b><u>9 - Rename Columns</u></b><br>\n",
    "\n",
    "* <i>Rename predict columns</i>"
   ]
  },
  {
   "cell_type": "code",
   "execution_count": 66,
   "id": "34758534",
   "metadata": {},
   "outputs": [
    {
     "data": {
      "text/plain": [
       "Index(['tweet_id', 'timestamp', 'source', 'text', 'expanded_urls',\n",
       "       'rating_numerator', 'rating_denominator', 'name', 'jpg_url', 'img_num',\n",
       "       'p1', 'p1_conf', 'p1_dog', 'p2', 'p2_conf', 'p2_dog', 'p3', 'p3_conf',\n",
       "       'p3_dog', 'favorites', 'retweets', 'stage', 'rating'],\n",
       "      dtype='object')"
      ]
     },
     "execution_count": 66,
     "metadata": {},
     "output_type": "execute_result"
    }
   ],
   "source": [
    "df.columns"
   ]
  },
  {
   "cell_type": "code",
   "execution_count": 67,
   "id": "acd0dcde",
   "metadata": {},
   "outputs": [],
   "source": [
    "df.columns = ['tweet_id', 'timestamp', 'source', 'text', 'expanded_urls','rating_numerator', 'rating_denominator', 'name','image_url', 'img_number', '1st_prediction','1st_prediction_confidence','1st_prediction_isdog','2nd_prediction','2nd_prediction_confidence','2nd_prediction_isdog','3rd_prediction','3rd_prediction_confidence','3rd_prediction_isdog', 'favorites','retweets','stage', 'rating']"
   ]
  },
  {
   "cell_type": "code",
   "execution_count": 68,
   "id": "5f50dc07",
   "metadata": {},
   "outputs": [
    {
     "data": {
      "text/plain": [
       "Index(['tweet_id', 'timestamp', 'source', 'text', 'expanded_urls',\n",
       "       'rating_numerator', 'rating_denominator', 'name', 'image_url',\n",
       "       'img_number', '1st_prediction', '1st_prediction_confidence',\n",
       "       '1st_prediction_isdog', '2nd_prediction', '2nd_prediction_confidence',\n",
       "       '2nd_prediction_isdog', '3rd_prediction', '3rd_prediction_confidence',\n",
       "       '3rd_prediction_isdog', 'favorites', 'retweets', 'stage', 'rating'],\n",
       "      dtype='object')"
      ]
     },
     "execution_count": 68,
     "metadata": {},
     "output_type": "execute_result"
    }
   ],
   "source": [
    "df.columns"
   ]
  },
  {
   "cell_type": "markdown",
   "id": "42405b64",
   "metadata": {},
   "source": [
    "<div class=\"alert alert-block alert-info\" style=\"font-size:14px; font-family:verdana; line-height: 1.7em;\">\n",
    "        📌 &nbsp;<b><u>9 - Fill/Drop null values</u></b><br>\n",
    "\n",
    "* <i>Fill some null values</i>\n",
    "* <i>Drop the others values</i>"
   ]
  },
  {
   "cell_type": "code",
   "execution_count": 69,
   "id": "322eb895",
   "metadata": {},
   "outputs": [
    {
     "data": {
      "text/plain": [
       "tweet_id                        1\n",
       "timestamp                       1\n",
       "source                          1\n",
       "text                            1\n",
       "expanded_urls                   1\n",
       "rating_numerator                0\n",
       "rating_denominator              0\n",
       "name                            4\n",
       "image_url                       1\n",
       "img_number                      1\n",
       "1st_prediction                  1\n",
       "1st_prediction_confidence       1\n",
       "1st_prediction_isdog            1\n",
       "2nd_prediction                  1\n",
       "2nd_prediction_confidence       1\n",
       "2nd_prediction_isdog            1\n",
       "3rd_prediction                  1\n",
       "3rd_prediction_confidence       1\n",
       "3rd_prediction_isdog            1\n",
       "favorites                       1\n",
       "retweets                        1\n",
       "stage                        1653\n",
       "rating                          0\n",
       "dtype: int64"
      ]
     },
     "execution_count": 69,
     "metadata": {},
     "output_type": "execute_result"
    }
   ],
   "source": [
    "df.isnull().sum()"
   ]
  },
  {
   "cell_type": "code",
   "execution_count": 70,
   "id": "c0dd1ee6",
   "metadata": {},
   "outputs": [],
   "source": [
    "df['stage'].fillna(value = 'Unknown', inplace=True)"
   ]
  },
  {
   "cell_type": "code",
   "execution_count": 71,
   "id": "355779cc",
   "metadata": {},
   "outputs": [],
   "source": [
    "df.dropna(inplace=True)"
   ]
  },
  {
   "cell_type": "code",
   "execution_count": 72,
   "id": "2e2bc399",
   "metadata": {},
   "outputs": [
    {
     "data": {
      "text/plain": [
       "tweet_id                     0\n",
       "timestamp                    0\n",
       "source                       0\n",
       "text                         0\n",
       "expanded_urls                0\n",
       "rating_numerator             0\n",
       "rating_denominator           0\n",
       "name                         0\n",
       "image_url                    0\n",
       "img_number                   0\n",
       "1st_prediction               0\n",
       "1st_prediction_confidence    0\n",
       "1st_prediction_isdog         0\n",
       "2nd_prediction               0\n",
       "2nd_prediction_confidence    0\n",
       "2nd_prediction_isdog         0\n",
       "3rd_prediction               0\n",
       "3rd_prediction_confidence    0\n",
       "3rd_prediction_isdog         0\n",
       "favorites                    0\n",
       "retweets                     0\n",
       "stage                        0\n",
       "rating                       0\n",
       "dtype: int64"
      ]
     },
     "execution_count": 72,
     "metadata": {},
     "output_type": "execute_result"
    }
   ],
   "source": [
    "df.isnull().sum()"
   ]
  },
  {
   "cell_type": "markdown",
   "id": "d680ee6e",
   "metadata": {},
   "source": [
    "<div class=\"alert alert-block alert-info\" style=\"font-size:14px; font-family:verdana; line-height: 1.7em;\">\n",
    "        📌 &nbsp;<b><u>10 - Re-Order Columns</u></b><br>\n",
    "\n",
    "* <i>Fill some null values</i>\n",
    "* <i>Drop the others values</i>"
   ]
  },
  {
   "cell_type": "code",
   "execution_count": 73,
   "id": "9b8fa520",
   "metadata": {},
   "outputs": [
    {
     "data": {
      "text/plain": [
       "Index(['tweet_id', 'timestamp', 'source', 'text', 'expanded_urls',\n",
       "       'rating_numerator', 'rating_denominator', 'name', 'image_url',\n",
       "       'img_number', '1st_prediction', '1st_prediction_confidence',\n",
       "       '1st_prediction_isdog', '2nd_prediction', '2nd_prediction_confidence',\n",
       "       '2nd_prediction_isdog', '3rd_prediction', '3rd_prediction_confidence',\n",
       "       '3rd_prediction_isdog', 'favorites', 'retweets', 'stage', 'rating'],\n",
       "      dtype='object')"
      ]
     },
     "execution_count": 73,
     "metadata": {},
     "output_type": "execute_result"
    }
   ],
   "source": [
    "df.columns"
   ]
  },
  {
   "cell_type": "code",
   "execution_count": 74,
   "id": "08027858",
   "metadata": {},
   "outputs": [
    {
     "data": {
      "text/plain": [
       "23"
      ]
     },
     "execution_count": 74,
     "metadata": {},
     "output_type": "execute_result"
    }
   ],
   "source": [
    "df.shape[1]"
   ]
  },
  {
   "cell_type": "code",
   "execution_count": 75,
   "id": "4be2d361",
   "metadata": {},
   "outputs": [],
   "source": [
    "df = df[['tweet_id', 'timestamp', 'source', 'text','name', 'stage','rating_numerator', 'rating_denominator', 'rating', 'favorites','retweets','image_url', 'img_number','1st_prediction','1st_prediction_confidence', '1st_prediction_isdog', '2nd_prediction','2nd_prediction_confidence', '2nd_prediction_isdog', '3rd_prediction','3rd_prediction_confidence', '3rd_prediction_isdog','expanded_urls']]"
   ]
  },
  {
   "cell_type": "code",
   "execution_count": 76,
   "id": "77cad00c",
   "metadata": {},
   "outputs": [
    {
     "data": {
      "text/html": [
       "<div>\n",
       "<style scoped>\n",
       "    .dataframe tbody tr th:only-of-type {\n",
       "        vertical-align: middle;\n",
       "    }\n",
       "\n",
       "    .dataframe tbody tr th {\n",
       "        vertical-align: top;\n",
       "    }\n",
       "\n",
       "    .dataframe thead th {\n",
       "        text-align: right;\n",
       "    }\n",
       "</style>\n",
       "<table border=\"1\" class=\"dataframe\">\n",
       "  <thead>\n",
       "    <tr style=\"text-align: right;\">\n",
       "      <th></th>\n",
       "      <th>tweet_id</th>\n",
       "      <th>timestamp</th>\n",
       "      <th>source</th>\n",
       "      <th>text</th>\n",
       "      <th>name</th>\n",
       "      <th>stage</th>\n",
       "      <th>rating_numerator</th>\n",
       "      <th>rating_denominator</th>\n",
       "      <th>rating</th>\n",
       "      <th>favorites</th>\n",
       "      <th>...</th>\n",
       "      <th>1st_prediction</th>\n",
       "      <th>1st_prediction_confidence</th>\n",
       "      <th>1st_prediction_isdog</th>\n",
       "      <th>2nd_prediction</th>\n",
       "      <th>2nd_prediction_confidence</th>\n",
       "      <th>2nd_prediction_isdog</th>\n",
       "      <th>3rd_prediction</th>\n",
       "      <th>3rd_prediction_confidence</th>\n",
       "      <th>3rd_prediction_isdog</th>\n",
       "      <th>expanded_urls</th>\n",
       "    </tr>\n",
       "  </thead>\n",
       "  <tbody>\n",
       "    <tr>\n",
       "      <th>0</th>\n",
       "      <td>8.924206e+17</td>\n",
       "      <td>2017-08-01 16:23:56+00:00</td>\n",
       "      <td>Twitter for iPhone</td>\n",
       "      <td>This is Phineas. He's a mystical boy. Only eve...</td>\n",
       "      <td>Phineas</td>\n",
       "      <td>Unknown</td>\n",
       "      <td>13.0</td>\n",
       "      <td>10.0</td>\n",
       "      <td>1.3</td>\n",
       "      <td>39467.0</td>\n",
       "      <td>...</td>\n",
       "      <td>orange</td>\n",
       "      <td>0.097049</td>\n",
       "      <td>False</td>\n",
       "      <td>bagel</td>\n",
       "      <td>0.085851</td>\n",
       "      <td>False</td>\n",
       "      <td>banana</td>\n",
       "      <td>0.076110</td>\n",
       "      <td>False</td>\n",
       "      <td>https://twitter.com/dog_rates/status/892420643...</td>\n",
       "    </tr>\n",
       "    <tr>\n",
       "      <th>1</th>\n",
       "      <td>8.921774e+17</td>\n",
       "      <td>2017-08-01 00:17:27+00:00</td>\n",
       "      <td>Twitter for iPhone</td>\n",
       "      <td>This is Tilly. She's just checking pup on you....</td>\n",
       "      <td>Tilly</td>\n",
       "      <td>Unknown</td>\n",
       "      <td>13.0</td>\n",
       "      <td>10.0</td>\n",
       "      <td>1.3</td>\n",
       "      <td>33819.0</td>\n",
       "      <td>...</td>\n",
       "      <td>Chihuahua</td>\n",
       "      <td>0.323581</td>\n",
       "      <td>True</td>\n",
       "      <td>Pekinese</td>\n",
       "      <td>0.090647</td>\n",
       "      <td>True</td>\n",
       "      <td>papillon</td>\n",
       "      <td>0.068957</td>\n",
       "      <td>True</td>\n",
       "      <td>https://twitter.com/dog_rates/status/892177421...</td>\n",
       "    </tr>\n",
       "    <tr>\n",
       "      <th>2</th>\n",
       "      <td>8.918152e+17</td>\n",
       "      <td>2017-07-31 00:18:03+00:00</td>\n",
       "      <td>Twitter for iPhone</td>\n",
       "      <td>This is Archie. He is a rare Norwegian Pouncin...</td>\n",
       "      <td>Archie</td>\n",
       "      <td>Unknown</td>\n",
       "      <td>12.0</td>\n",
       "      <td>10.0</td>\n",
       "      <td>1.2</td>\n",
       "      <td>25461.0</td>\n",
       "      <td>...</td>\n",
       "      <td>Chihuahua</td>\n",
       "      <td>0.716012</td>\n",
       "      <td>True</td>\n",
       "      <td>malamute</td>\n",
       "      <td>0.078253</td>\n",
       "      <td>True</td>\n",
       "      <td>kelpie</td>\n",
       "      <td>0.031379</td>\n",
       "      <td>True</td>\n",
       "      <td>https://twitter.com/dog_rates/status/891815181...</td>\n",
       "    </tr>\n",
       "    <tr>\n",
       "      <th>3</th>\n",
       "      <td>8.916896e+17</td>\n",
       "      <td>2017-07-30 15:58:51+00:00</td>\n",
       "      <td>Twitter for iPhone</td>\n",
       "      <td>This is Darla. She commenced a snooze mid meal...</td>\n",
       "      <td>Darla</td>\n",
       "      <td>Unknown</td>\n",
       "      <td>13.0</td>\n",
       "      <td>10.0</td>\n",
       "      <td>1.3</td>\n",
       "      <td>42908.0</td>\n",
       "      <td>...</td>\n",
       "      <td>paper_towel</td>\n",
       "      <td>0.170278</td>\n",
       "      <td>False</td>\n",
       "      <td>Labrador_retriever</td>\n",
       "      <td>0.168086</td>\n",
       "      <td>True</td>\n",
       "      <td>spatula</td>\n",
       "      <td>0.040836</td>\n",
       "      <td>False</td>\n",
       "      <td>https://twitter.com/dog_rates/status/891689557...</td>\n",
       "    </tr>\n",
       "    <tr>\n",
       "      <th>4</th>\n",
       "      <td>8.913276e+17</td>\n",
       "      <td>2017-07-29 16:00:24+00:00</td>\n",
       "      <td>Twitter for iPhone</td>\n",
       "      <td>This is Franklin. He would like you to stop ca...</td>\n",
       "      <td>Franklin</td>\n",
       "      <td>Unknown</td>\n",
       "      <td>12.0</td>\n",
       "      <td>10.0</td>\n",
       "      <td>1.2</td>\n",
       "      <td>41048.0</td>\n",
       "      <td>...</td>\n",
       "      <td>basset</td>\n",
       "      <td>0.555712</td>\n",
       "      <td>True</td>\n",
       "      <td>English_springer</td>\n",
       "      <td>0.225770</td>\n",
       "      <td>True</td>\n",
       "      <td>German_short-haired_pointer</td>\n",
       "      <td>0.175219</td>\n",
       "      <td>True</td>\n",
       "      <td>https://twitter.com/dog_rates/status/891327558...</td>\n",
       "    </tr>\n",
       "  </tbody>\n",
       "</table>\n",
       "<p>5 rows × 23 columns</p>\n",
       "</div>"
      ],
      "text/plain": [
       "       tweet_id                 timestamp              source  \\\n",
       "0  8.924206e+17 2017-08-01 16:23:56+00:00  Twitter for iPhone   \n",
       "1  8.921774e+17 2017-08-01 00:17:27+00:00  Twitter for iPhone   \n",
       "2  8.918152e+17 2017-07-31 00:18:03+00:00  Twitter for iPhone   \n",
       "3  8.916896e+17 2017-07-30 15:58:51+00:00  Twitter for iPhone   \n",
       "4  8.913276e+17 2017-07-29 16:00:24+00:00  Twitter for iPhone   \n",
       "\n",
       "                                                text      name    stage  \\\n",
       "0  This is Phineas. He's a mystical boy. Only eve...   Phineas  Unknown   \n",
       "1  This is Tilly. She's just checking pup on you....     Tilly  Unknown   \n",
       "2  This is Archie. He is a rare Norwegian Pouncin...    Archie  Unknown   \n",
       "3  This is Darla. She commenced a snooze mid meal...     Darla  Unknown   \n",
       "4  This is Franklin. He would like you to stop ca...  Franklin  Unknown   \n",
       "\n",
       "   rating_numerator  rating_denominator  rating  favorites  ...  \\\n",
       "0              13.0                10.0     1.3    39467.0  ...   \n",
       "1              13.0                10.0     1.3    33819.0  ...   \n",
       "2              12.0                10.0     1.2    25461.0  ...   \n",
       "3              13.0                10.0     1.3    42908.0  ...   \n",
       "4              12.0                10.0     1.2    41048.0  ...   \n",
       "\n",
       "   1st_prediction 1st_prediction_confidence  1st_prediction_isdog  \\\n",
       "0          orange                  0.097049                 False   \n",
       "1       Chihuahua                  0.323581                  True   \n",
       "2       Chihuahua                  0.716012                  True   \n",
       "3     paper_towel                  0.170278                 False   \n",
       "4          basset                  0.555712                  True   \n",
       "\n",
       "       2nd_prediction  2nd_prediction_confidence 2nd_prediction_isdog  \\\n",
       "0               bagel                   0.085851                False   \n",
       "1            Pekinese                   0.090647                 True   \n",
       "2            malamute                   0.078253                 True   \n",
       "3  Labrador_retriever                   0.168086                 True   \n",
       "4    English_springer                   0.225770                 True   \n",
       "\n",
       "                3rd_prediction  3rd_prediction_confidence  \\\n",
       "0                       banana                   0.076110   \n",
       "1                     papillon                   0.068957   \n",
       "2                       kelpie                   0.031379   \n",
       "3                      spatula                   0.040836   \n",
       "4  German_short-haired_pointer                   0.175219   \n",
       "\n",
       "  3rd_prediction_isdog                                      expanded_urls  \n",
       "0                False  https://twitter.com/dog_rates/status/892420643...  \n",
       "1                 True  https://twitter.com/dog_rates/status/892177421...  \n",
       "2                 True  https://twitter.com/dog_rates/status/891815181...  \n",
       "3                False  https://twitter.com/dog_rates/status/891689557...  \n",
       "4                 True  https://twitter.com/dog_rates/status/891327558...  \n",
       "\n",
       "[5 rows x 23 columns]"
      ]
     },
     "execution_count": 76,
     "metadata": {},
     "output_type": "execute_result"
    }
   ],
   "source": [
    "df.head(5)"
   ]
  },
  {
   "cell_type": "markdown",
   "id": "9e119612",
   "metadata": {},
   "source": [
    "<a href=\"#toc\" role=\"button\" aria-pressed=\"true\" >⬆️Back to Table of Contents ⬆️</a>"
   ]
  },
  {
   "cell_type": "markdown",
   "id": "bd98cd09",
   "metadata": {},
   "source": [
    "<a id=\"6\"></a>\n",
    "# **<center><span style=\"color:#fd7b12;\"> Storing </span></center>**"
   ]
  },
  {
   "cell_type": "code",
   "execution_count": 77,
   "id": "4cd67d73",
   "metadata": {},
   "outputs": [],
   "source": [
    "df.to_csv('twitter.csv', index = False)"
   ]
  },
  {
   "cell_type": "markdown",
   "id": "9e119612",
   "metadata": {},
   "source": [
    "<a href=\"#toc\" role=\"button\" aria-pressed=\"true\" >⬆️Back to Table of Contents ⬆️</a>"
   ]
  },
  {
   "cell_type": "markdown",
   "id": "dcbbf0eb",
   "metadata": {},
   "source": [
    "<a id=\"7\"></a>\n",
    "# **<center><span style=\"color:#fd7b12;\"> Data Visualisation </span></center>**"
   ]
  },
  {
   "cell_type": "code",
   "execution_count": 78,
   "id": "db94396c",
   "metadata": {},
   "outputs": [
    {
     "data": {
      "text/html": [
       "<div>\n",
       "<style scoped>\n",
       "    .dataframe tbody tr th:only-of-type {\n",
       "        vertical-align: middle;\n",
       "    }\n",
       "\n",
       "    .dataframe tbody tr th {\n",
       "        vertical-align: top;\n",
       "    }\n",
       "\n",
       "    .dataframe thead th {\n",
       "        text-align: right;\n",
       "    }\n",
       "</style>\n",
       "<table border=\"1\" class=\"dataframe\">\n",
       "  <thead>\n",
       "    <tr style=\"text-align: right;\">\n",
       "      <th></th>\n",
       "      <th>tweet_id</th>\n",
       "      <th>timestamp</th>\n",
       "      <th>source</th>\n",
       "      <th>text</th>\n",
       "      <th>name</th>\n",
       "      <th>stage</th>\n",
       "      <th>rating_numerator</th>\n",
       "      <th>rating_denominator</th>\n",
       "      <th>rating</th>\n",
       "      <th>favorites</th>\n",
       "      <th>...</th>\n",
       "      <th>1st_prediction</th>\n",
       "      <th>1st_prediction_confidence</th>\n",
       "      <th>1st_prediction_isdog</th>\n",
       "      <th>2nd_prediction</th>\n",
       "      <th>2nd_prediction_confidence</th>\n",
       "      <th>2nd_prediction_isdog</th>\n",
       "      <th>3rd_prediction</th>\n",
       "      <th>3rd_prediction_confidence</th>\n",
       "      <th>3rd_prediction_isdog</th>\n",
       "      <th>expanded_urls</th>\n",
       "    </tr>\n",
       "  </thead>\n",
       "  <tbody>\n",
       "    <tr>\n",
       "      <th>0</th>\n",
       "      <td>8.924206e+17</td>\n",
       "      <td>2017-08-01 16:23:56+00:00</td>\n",
       "      <td>Twitter for iPhone</td>\n",
       "      <td>This is Phineas. He's a mystical boy. Only eve...</td>\n",
       "      <td>Phineas</td>\n",
       "      <td>Unknown</td>\n",
       "      <td>13.0</td>\n",
       "      <td>10.0</td>\n",
       "      <td>1.3</td>\n",
       "      <td>39467.0</td>\n",
       "      <td>...</td>\n",
       "      <td>orange</td>\n",
       "      <td>0.097049</td>\n",
       "      <td>False</td>\n",
       "      <td>bagel</td>\n",
       "      <td>0.085851</td>\n",
       "      <td>False</td>\n",
       "      <td>banana</td>\n",
       "      <td>0.076110</td>\n",
       "      <td>False</td>\n",
       "      <td>https://twitter.com/dog_rates/status/892420643...</td>\n",
       "    </tr>\n",
       "    <tr>\n",
       "      <th>1</th>\n",
       "      <td>8.921774e+17</td>\n",
       "      <td>2017-08-01 00:17:27+00:00</td>\n",
       "      <td>Twitter for iPhone</td>\n",
       "      <td>This is Tilly. She's just checking pup on you....</td>\n",
       "      <td>Tilly</td>\n",
       "      <td>Unknown</td>\n",
       "      <td>13.0</td>\n",
       "      <td>10.0</td>\n",
       "      <td>1.3</td>\n",
       "      <td>33819.0</td>\n",
       "      <td>...</td>\n",
       "      <td>Chihuahua</td>\n",
       "      <td>0.323581</td>\n",
       "      <td>True</td>\n",
       "      <td>Pekinese</td>\n",
       "      <td>0.090647</td>\n",
       "      <td>True</td>\n",
       "      <td>papillon</td>\n",
       "      <td>0.068957</td>\n",
       "      <td>True</td>\n",
       "      <td>https://twitter.com/dog_rates/status/892177421...</td>\n",
       "    </tr>\n",
       "    <tr>\n",
       "      <th>2</th>\n",
       "      <td>8.918152e+17</td>\n",
       "      <td>2017-07-31 00:18:03+00:00</td>\n",
       "      <td>Twitter for iPhone</td>\n",
       "      <td>This is Archie. He is a rare Norwegian Pouncin...</td>\n",
       "      <td>Archie</td>\n",
       "      <td>Unknown</td>\n",
       "      <td>12.0</td>\n",
       "      <td>10.0</td>\n",
       "      <td>1.2</td>\n",
       "      <td>25461.0</td>\n",
       "      <td>...</td>\n",
       "      <td>Chihuahua</td>\n",
       "      <td>0.716012</td>\n",
       "      <td>True</td>\n",
       "      <td>malamute</td>\n",
       "      <td>0.078253</td>\n",
       "      <td>True</td>\n",
       "      <td>kelpie</td>\n",
       "      <td>0.031379</td>\n",
       "      <td>True</td>\n",
       "      <td>https://twitter.com/dog_rates/status/891815181...</td>\n",
       "    </tr>\n",
       "    <tr>\n",
       "      <th>3</th>\n",
       "      <td>8.916896e+17</td>\n",
       "      <td>2017-07-30 15:58:51+00:00</td>\n",
       "      <td>Twitter for iPhone</td>\n",
       "      <td>This is Darla. She commenced a snooze mid meal...</td>\n",
       "      <td>Darla</td>\n",
       "      <td>Unknown</td>\n",
       "      <td>13.0</td>\n",
       "      <td>10.0</td>\n",
       "      <td>1.3</td>\n",
       "      <td>42908.0</td>\n",
       "      <td>...</td>\n",
       "      <td>paper_towel</td>\n",
       "      <td>0.170278</td>\n",
       "      <td>False</td>\n",
       "      <td>Labrador_retriever</td>\n",
       "      <td>0.168086</td>\n",
       "      <td>True</td>\n",
       "      <td>spatula</td>\n",
       "      <td>0.040836</td>\n",
       "      <td>False</td>\n",
       "      <td>https://twitter.com/dog_rates/status/891689557...</td>\n",
       "    </tr>\n",
       "    <tr>\n",
       "      <th>4</th>\n",
       "      <td>8.913276e+17</td>\n",
       "      <td>2017-07-29 16:00:24+00:00</td>\n",
       "      <td>Twitter for iPhone</td>\n",
       "      <td>This is Franklin. He would like you to stop ca...</td>\n",
       "      <td>Franklin</td>\n",
       "      <td>Unknown</td>\n",
       "      <td>12.0</td>\n",
       "      <td>10.0</td>\n",
       "      <td>1.2</td>\n",
       "      <td>41048.0</td>\n",
       "      <td>...</td>\n",
       "      <td>basset</td>\n",
       "      <td>0.555712</td>\n",
       "      <td>True</td>\n",
       "      <td>English_springer</td>\n",
       "      <td>0.225770</td>\n",
       "      <td>True</td>\n",
       "      <td>German_short-haired_pointer</td>\n",
       "      <td>0.175219</td>\n",
       "      <td>True</td>\n",
       "      <td>https://twitter.com/dog_rates/status/891327558...</td>\n",
       "    </tr>\n",
       "  </tbody>\n",
       "</table>\n",
       "<p>5 rows × 23 columns</p>\n",
       "</div>"
      ],
      "text/plain": [
       "       tweet_id                 timestamp              source  \\\n",
       "0  8.924206e+17 2017-08-01 16:23:56+00:00  Twitter for iPhone   \n",
       "1  8.921774e+17 2017-08-01 00:17:27+00:00  Twitter for iPhone   \n",
       "2  8.918152e+17 2017-07-31 00:18:03+00:00  Twitter for iPhone   \n",
       "3  8.916896e+17 2017-07-30 15:58:51+00:00  Twitter for iPhone   \n",
       "4  8.913276e+17 2017-07-29 16:00:24+00:00  Twitter for iPhone   \n",
       "\n",
       "                                                text      name    stage  \\\n",
       "0  This is Phineas. He's a mystical boy. Only eve...   Phineas  Unknown   \n",
       "1  This is Tilly. She's just checking pup on you....     Tilly  Unknown   \n",
       "2  This is Archie. He is a rare Norwegian Pouncin...    Archie  Unknown   \n",
       "3  This is Darla. She commenced a snooze mid meal...     Darla  Unknown   \n",
       "4  This is Franklin. He would like you to stop ca...  Franklin  Unknown   \n",
       "\n",
       "   rating_numerator  rating_denominator  rating  favorites  ...  \\\n",
       "0              13.0                10.0     1.3    39467.0  ...   \n",
       "1              13.0                10.0     1.3    33819.0  ...   \n",
       "2              12.0                10.0     1.2    25461.0  ...   \n",
       "3              13.0                10.0     1.3    42908.0  ...   \n",
       "4              12.0                10.0     1.2    41048.0  ...   \n",
       "\n",
       "   1st_prediction 1st_prediction_confidence  1st_prediction_isdog  \\\n",
       "0          orange                  0.097049                 False   \n",
       "1       Chihuahua                  0.323581                  True   \n",
       "2       Chihuahua                  0.716012                  True   \n",
       "3     paper_towel                  0.170278                 False   \n",
       "4          basset                  0.555712                  True   \n",
       "\n",
       "       2nd_prediction  2nd_prediction_confidence 2nd_prediction_isdog  \\\n",
       "0               bagel                   0.085851                False   \n",
       "1            Pekinese                   0.090647                 True   \n",
       "2            malamute                   0.078253                 True   \n",
       "3  Labrador_retriever                   0.168086                 True   \n",
       "4    English_springer                   0.225770                 True   \n",
       "\n",
       "                3rd_prediction  3rd_prediction_confidence  \\\n",
       "0                       banana                   0.076110   \n",
       "1                     papillon                   0.068957   \n",
       "2                       kelpie                   0.031379   \n",
       "3                      spatula                   0.040836   \n",
       "4  German_short-haired_pointer                   0.175219   \n",
       "\n",
       "  3rd_prediction_isdog                                      expanded_urls  \n",
       "0                False  https://twitter.com/dog_rates/status/892420643...  \n",
       "1                 True  https://twitter.com/dog_rates/status/892177421...  \n",
       "2                 True  https://twitter.com/dog_rates/status/891815181...  \n",
       "3                False  https://twitter.com/dog_rates/status/891689557...  \n",
       "4                 True  https://twitter.com/dog_rates/status/891327558...  \n",
       "\n",
       "[5 rows x 23 columns]"
      ]
     },
     "execution_count": 78,
     "metadata": {},
     "output_type": "execute_result"
    }
   ],
   "source": [
    "df.head()"
   ]
  },
  {
   "cell_type": "code",
   "execution_count": 79,
   "id": "d6642206",
   "metadata": {},
   "outputs": [
    {
     "data": {
      "text/plain": [
       "Index(['tweet_id', 'timestamp', 'source', 'text', 'name', 'stage',\n",
       "       'rating_numerator', 'rating_denominator', 'rating', 'favorites',\n",
       "       'retweets', 'image_url', 'img_number', '1st_prediction',\n",
       "       '1st_prediction_confidence', '1st_prediction_isdog', '2nd_prediction',\n",
       "       '2nd_prediction_confidence', '2nd_prediction_isdog', '3rd_prediction',\n",
       "       '3rd_prediction_confidence', '3rd_prediction_isdog', 'expanded_urls'],\n",
       "      dtype='object')"
      ]
     },
     "execution_count": 79,
     "metadata": {},
     "output_type": "execute_result"
    }
   ],
   "source": [
    "df.columns"
   ]
  },
  {
   "cell_type": "markdown",
   "id": "62194733",
   "metadata": {},
   "source": [
    "<div class=\"alert alert-block alert-info\" style=\"font-size:14px; font-family:verdana; line-height: 1.7em;\">\n",
    "        📌 &nbsp;<b>1 - Count of dogs name in the dataset </b><br>"
   ]
  },
  {
   "cell_type": "code",
   "execution_count": 80,
   "id": "6e00c970",
   "metadata": {},
   "outputs": [
    {
     "data": {
      "text/plain": [
       "Text(0.5, 1.0, 'Count of dogs name in the dataset')"
      ]
     },
     "execution_count": 80,
     "metadata": {},
     "output_type": "execute_result"
    },
    {
     "data": {
      "image/png": "[encoded data removed]",
      "text/plain": [
       "<Figure size 720x576 with 1 Axes>"
      ]
     },
     "metadata": {
      "needs_background": "light"
     },
     "output_type": "display_data"
    }
   ],
   "source": [
    "best_name = df.copy()\n",
    "best_name.drop(best_name[(best_name['name'] == 'NaN')].index, inplace=True)\n",
    "plt.figure(figsize=(10,8))\n",
    "best_name.name.value_counts().head(5).plot(kind='bar', color = \"#C13016\")\n",
    "plt.title('Count of dogs name in the dataset', )"
   ]
  },
  {
   "cell_type": "markdown",
   "id": "949c1421",
   "metadata": {},
   "source": [
    "<div class=\"alert alert-block alert-info\" style=\"font-size:14px; font-family:verdana; line-height: 1.7em;\">\n",
    "        📌 &nbsp;<b>2 - Count of dogs stage in the dataset </b><br>"
   ]
  },
  {
   "cell_type": "code",
   "execution_count": 81,
   "id": "f8a8d8e1",
   "metadata": {},
   "outputs": [
    {
     "data": {
      "text/plain": [
       "Text(0.5, 1.0, 'Count of dogs stage in the dataset')"
      ]
     },
     "execution_count": 81,
     "metadata": {},
     "output_type": "execute_result"
    },
    {
     "data": {
      "image/png": "[encoded data removed]",
      "text/plain": [
       "<Figure size 720x576 with 1 Axes>"
      ]
     },
     "metadata": {
      "needs_background": "light"
     },
     "output_type": "display_data"
    }
   ],
   "source": [
    "best_stage = df.copy()\n",
    "best_stage.drop(best_stage[(best_stage['stage'] == 'Unknown')].index, inplace=True)\n",
    "plt.figure(figsize=(10,8))\n",
    "best_stage.stage.value_counts().plot(kind='bar' ,  color = \"#C13016\")\n",
    "plt.title('Count of dogs stage in the dataset', )"
   ]
  },
  {
   "cell_type": "markdown",
   "id": "88220cd4",
   "metadata": {},
   "source": [
    "<div class=\"alert alert-block alert-info\" style=\"font-size:14px; font-family:verdana; line-height: 1.7em;\">\n",
    "        📌 &nbsp;<b>3 - Distribution of dogs cuteness </b><br>"
   ]
  },
  {
   "cell_type": "code",
   "execution_count": 82,
   "id": "a996a1c8",
   "metadata": {},
   "outputs": [],
   "source": [
    "df_cuteness = df[df['rating'] > 0]"
   ]
  },
  {
   "cell_type": "code",
   "execution_count": 83,
   "id": "0b5d34d1",
   "metadata": {},
   "outputs": [
    {
     "data": {
      "text/plain": [
       "count    1991.000000\n",
       "mean        1.169303\n",
       "std         4.070134\n",
       "min         0.000000\n",
       "25%         1.000000\n",
       "50%         1.100000\n",
       "75%         1.200000\n",
       "max       177.600000\n",
       "Name: rating, dtype: float64"
      ]
     },
     "execution_count": 83,
     "metadata": {},
     "output_type": "execute_result"
    }
   ],
   "source": [
    "df.rating.describe()"
   ]
  },
  {
   "cell_type": "code",
   "execution_count": 84,
   "id": "2ba98047",
   "metadata": {},
   "outputs": [],
   "source": [
    "cute_label = ['Good Dog (0, 1.875]', 'Beautiful Dog (1.875, 3.75]', 'Adorable Dog (3.75, 5.625]', 'Magnific Dog (5.625, 7.5]']"
   ]
  },
  {
   "cell_type": "code",
   "execution_count": 85,
   "id": "8d1ecb67",
   "metadata": {},
   "outputs": [],
   "source": [
    "cute_bins = pd.qcut(df_cuteness['rating'], 4, labels = cute_label)"
   ]
  },
  {
   "cell_type": "code",
   "execution_count": 86,
   "id": "b07b912d",
   "metadata": {},
   "outputs": [
    {
     "data": {
      "image/png": "[encoded data removed]",
      "text/plain": [
       "<Figure size 720x576 with 1 Axes>"
      ]
     },
     "metadata": {},
     "output_type": "display_data"
    }
   ],
   "source": [
    "fig, ax = plt.subplots(figsize=(10,8))\n",
    "cute_bins.value_counts().plot(kind = 'pie', ax = ax, label = 'Dog Stage', autopct='%1.2f%%')\n",
    "plt.title('Proportion of Dog Stages Cuteness')\n",
    "plt.legend();"
   ]
  },
  {
   "cell_type": "markdown",
   "id": "8ad2843c",
   "metadata": {},
   "source": [
    "<div class=\"alert alert-block alert-info\" style=\"font-size:14px; font-family:verdana; line-height: 1.7em;\">\n",
    "        📌 &nbsp;<b>4 - Most beautiful dogs</b><br>"
   ]
  },
  {
   "cell_type": "code",
   "execution_count": 87,
   "id": "b5f579c3",
   "metadata": {
    "scrolled": true
   },
   "outputs": [],
   "source": [
    "best_dog = df.groupby('name')"
   ]
  },
  {
   "cell_type": "code",
   "execution_count": 88,
   "id": "9c2e2521",
   "metadata": {},
   "outputs": [
    {
     "data": {
      "text/plain": [
       "name\n",
       "Atticus     89.350000\n",
       "Logan        7.500000\n",
       "Sam          2.214286\n",
       "Sophie       1.500000\n",
       "Clifford     1.400000\n",
       "Name: rating, dtype: float64"
      ]
     },
     "execution_count": 88,
     "metadata": {},
     "output_type": "execute_result"
    }
   ],
   "source": [
    "best_dog.rating.mean().sort_values(ascending=False).head(5)"
   ]
  },
  {
   "cell_type": "markdown",
   "id": "05a516fb",
   "metadata": {},
   "source": [
    "<div class=\"alert alert-block alert-info\" style=\"font-size:14px; font-family:verdana; line-height: 1.7em;\">\n",
    "        📌 &nbsp;<b>5 - Most beautiful stage</b><br>"
   ]
  },
  {
   "cell_type": "code",
   "execution_count": 89,
   "id": "3151dc05",
   "metadata": {
    "scrolled": true
   },
   "outputs": [],
   "source": [
    "best_stage = df.groupby('stage')"
   ]
  },
  {
   "cell_type": "code",
   "execution_count": 90,
   "id": "7297ab09",
   "metadata": {},
   "outputs": [
    {
     "data": {
      "text/plain": [
       "stage\n",
       "Puppo      1.211111\n",
       "Floofer    1.187500\n",
       "Unknown    1.181433\n",
       "Doggo      1.174684\n",
       "Name: rating, dtype: float64"
      ]
     },
     "execution_count": 90,
     "metadata": {},
     "output_type": "execute_result"
    }
   ],
   "source": [
    "best_stage.rating.mean().sort_values(ascending=False).head(4)"
   ]
  },
  {
   "cell_type": "markdown",
   "id": "9e119612",
   "metadata": {},
   "source": [
    "<a href=\"#toc\" role=\"button\" aria-pressed=\"true\" >⬆️Back to Table of Contents ⬆️</a>"
   ]
  },
  {
   "cell_type": "code",
   "execution_count": null,
   "id": "3e861618",
   "metadata": {},
   "outputs": [],
   "source": []
  }
 ],
 "metadata": {
  "kernelspec": {
   "display_name": "Python 3 (ipykernel)",
   "language": "python",
   "name": "python3"
  },
  "language_info": {
   "codemirror_mode": {
    "name": "ipython",
    "version": 3
   },
   "file_extension": ".py",
   "mimetype": "text/x-python",
   "name": "python",
   "nbconvert_exporter": "python",
   "pygments_lexer": "ipython3",
   "version": "3.9.7"
  }
 },
 "nbformat": 4,
 "nbformat_minor": 5
}
