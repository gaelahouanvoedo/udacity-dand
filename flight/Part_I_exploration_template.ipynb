{
 "cells": [
  {
   "cell_type": "markdown",
   "metadata": {},
   "source": [
    "# Part I - (USA Trips)\n",
    "## by (Adébayo Gael )\n",
    "\n",
    "## Introduction\n",
    "\n",
    "> In this project I'm going to analyze a data set with information about flights in the United States.\n",
    "\n",
    "## Preliminary Wrangling\n"
   ]
  },
  {
   "cell_type": "code",
   "execution_count": 1,
   "metadata": {},
   "outputs": [],
   "source": [
    "import numpy as np\n",
    "import pandas as pd\n",
    "import matplotlib.pyplot as plt\n",
    "import seaborn as sns\n",
    "import glob\n",
    "import requests as re\n",
    "import os\n",
    "import warnings\n",
    "warnings.filterwarnings('ignore')\n",
    "%matplotlib inline"
   ]
  },
  {
   "cell_type": "code",
   "execution_count": 2,
   "metadata": {},
   "outputs": [],
   "source": [
    "data = pd.read_csv('data/2007.csv')\n",
    "df = data.copy()"
   ]
  },
  {
   "cell_type": "code",
   "execution_count": 3,
   "metadata": {},
   "outputs": [
    {
     "data": {
      "text/html": [
       "<div>\n",
       "<style scoped>\n",
       "    .dataframe tbody tr th:only-of-type {\n",
       "        vertical-align: middle;\n",
       "    }\n",
       "\n",
       "    .dataframe tbody tr th {\n",
       "        vertical-align: top;\n",
       "    }\n",
       "\n",
       "    .dataframe thead th {\n",
       "        text-align: right;\n",
       "    }\n",
       "</style>\n",
       "<table border=\"1\" class=\"dataframe\">\n",
       "  <thead>\n",
       "    <tr style=\"text-align: right;\">\n",
       "      <th></th>\n",
       "      <th>Year</th>\n",
       "      <th>Month</th>\n",
       "      <th>DayofMonth</th>\n",
       "      <th>DayOfWeek</th>\n",
       "      <th>DepTime</th>\n",
       "      <th>CRSDepTime</th>\n",
       "      <th>ArrTime</th>\n",
       "      <th>CRSArrTime</th>\n",
       "      <th>UniqueCarrier</th>\n",
       "      <th>FlightNum</th>\n",
       "      <th>...</th>\n",
       "      <th>TaxiIn</th>\n",
       "      <th>TaxiOut</th>\n",
       "      <th>Cancelled</th>\n",
       "      <th>CancellationCode</th>\n",
       "      <th>Diverted</th>\n",
       "      <th>CarrierDelay</th>\n",
       "      <th>WeatherDelay</th>\n",
       "      <th>NASDelay</th>\n",
       "      <th>SecurityDelay</th>\n",
       "      <th>LateAircraftDelay</th>\n",
       "    </tr>\n",
       "  </thead>\n",
       "  <tbody>\n",
       "    <tr>\n",
       "      <th>2288123</th>\n",
       "      <td>2007</td>\n",
       "      <td>4</td>\n",
       "      <td>9</td>\n",
       "      <td>1</td>\n",
       "      <td>1826.0</td>\n",
       "      <td>1831</td>\n",
       "      <td>1925.0</td>\n",
       "      <td>1934</td>\n",
       "      <td>9E</td>\n",
       "      <td>2844</td>\n",
       "      <td>...</td>\n",
       "      <td>5</td>\n",
       "      <td>10</td>\n",
       "      <td>0</td>\n",
       "      <td>NaN</td>\n",
       "      <td>0</td>\n",
       "      <td>0</td>\n",
       "      <td>0</td>\n",
       "      <td>0</td>\n",
       "      <td>0</td>\n",
       "      <td>0</td>\n",
       "    </tr>\n",
       "    <tr>\n",
       "      <th>368072</th>\n",
       "      <td>2007</td>\n",
       "      <td>1</td>\n",
       "      <td>14</td>\n",
       "      <td>7</td>\n",
       "      <td>612.0</td>\n",
       "      <td>620</td>\n",
       "      <td>757.0</td>\n",
       "      <td>816</td>\n",
       "      <td>FL</td>\n",
       "      <td>989</td>\n",
       "      <td>...</td>\n",
       "      <td>9</td>\n",
       "      <td>16</td>\n",
       "      <td>0</td>\n",
       "      <td>NaN</td>\n",
       "      <td>0</td>\n",
       "      <td>0</td>\n",
       "      <td>0</td>\n",
       "      <td>0</td>\n",
       "      <td>0</td>\n",
       "      <td>0</td>\n",
       "    </tr>\n",
       "    <tr>\n",
       "      <th>5999199</th>\n",
       "      <td>2007</td>\n",
       "      <td>10</td>\n",
       "      <td>19</td>\n",
       "      <td>5</td>\n",
       "      <td>1045.0</td>\n",
       "      <td>1045</td>\n",
       "      <td>1147.0</td>\n",
       "      <td>1148</td>\n",
       "      <td>MQ</td>\n",
       "      <td>3045</td>\n",
       "      <td>...</td>\n",
       "      <td>7</td>\n",
       "      <td>19</td>\n",
       "      <td>0</td>\n",
       "      <td>NaN</td>\n",
       "      <td>0</td>\n",
       "      <td>0</td>\n",
       "      <td>0</td>\n",
       "      <td>0</td>\n",
       "      <td>0</td>\n",
       "      <td>0</td>\n",
       "    </tr>\n",
       "    <tr>\n",
       "      <th>578813</th>\n",
       "      <td>2007</td>\n",
       "      <td>1</td>\n",
       "      <td>19</td>\n",
       "      <td>5</td>\n",
       "      <td>1223.0</td>\n",
       "      <td>1225</td>\n",
       "      <td>1618.0</td>\n",
       "      <td>1617</td>\n",
       "      <td>CO</td>\n",
       "      <td>554</td>\n",
       "      <td>...</td>\n",
       "      <td>12</td>\n",
       "      <td>26</td>\n",
       "      <td>0</td>\n",
       "      <td>NaN</td>\n",
       "      <td>0</td>\n",
       "      <td>0</td>\n",
       "      <td>0</td>\n",
       "      <td>0</td>\n",
       "      <td>0</td>\n",
       "      <td>0</td>\n",
       "    </tr>\n",
       "    <tr>\n",
       "      <th>2459447</th>\n",
       "      <td>2007</td>\n",
       "      <td>5</td>\n",
       "      <td>7</td>\n",
       "      <td>1</td>\n",
       "      <td>1204.0</td>\n",
       "      <td>1210</td>\n",
       "      <td>1457.0</td>\n",
       "      <td>1450</td>\n",
       "      <td>WN</td>\n",
       "      <td>949</td>\n",
       "      <td>...</td>\n",
       "      <td>3</td>\n",
       "      <td>7</td>\n",
       "      <td>0</td>\n",
       "      <td>NaN</td>\n",
       "      <td>0</td>\n",
       "      <td>0</td>\n",
       "      <td>0</td>\n",
       "      <td>0</td>\n",
       "      <td>0</td>\n",
       "      <td>0</td>\n",
       "    </tr>\n",
       "  </tbody>\n",
       "</table>\n",
       "<p>5 rows × 29 columns</p>\n",
       "</div>"
      ],
      "text/plain": [
       "         Year  Month  DayofMonth  DayOfWeek  DepTime  CRSDepTime  ArrTime  \\\n",
       "2288123  2007      4           9          1   1826.0        1831   1925.0   \n",
       "368072   2007      1          14          7    612.0         620    757.0   \n",
       "5999199  2007     10          19          5   1045.0        1045   1147.0   \n",
       "578813   2007      1          19          5   1223.0        1225   1618.0   \n",
       "2459447  2007      5           7          1   1204.0        1210   1457.0   \n",
       "\n",
       "         CRSArrTime UniqueCarrier  FlightNum  ... TaxiIn  TaxiOut  Cancelled  \\\n",
       "2288123        1934            9E       2844  ...      5       10          0   \n",
       "368072          816            FL        989  ...      9       16          0   \n",
       "5999199        1148            MQ       3045  ...      7       19          0   \n",
       "578813         1617            CO        554  ...     12       26          0   \n",
       "2459447        1450            WN        949  ...      3        7          0   \n",
       "\n",
       "         CancellationCode  Diverted  CarrierDelay WeatherDelay NASDelay  \\\n",
       "2288123               NaN         0             0            0        0   \n",
       "368072                NaN         0             0            0        0   \n",
       "5999199               NaN         0             0            0        0   \n",
       "578813                NaN         0             0            0        0   \n",
       "2459447               NaN         0             0            0        0   \n",
       "\n",
       "         SecurityDelay  LateAircraftDelay  \n",
       "2288123              0                  0  \n",
       "368072               0                  0  \n",
       "5999199              0                  0  \n",
       "578813               0                  0  \n",
       "2459447              0                  0  \n",
       "\n",
       "[5 rows x 29 columns]"
      ]
     },
     "execution_count": 3,
     "metadata": {},
     "output_type": "execute_result"
    }
   ],
   "source": [
    "df.sample(5)"
   ]
  },
  {
   "cell_type": "code",
   "execution_count": 4,
   "metadata": {},
   "outputs": [
    {
     "data": {
      "text/plain": [
       "(7453215, 29)"
      ]
     },
     "execution_count": 4,
     "metadata": {},
     "output_type": "execute_result"
    }
   ],
   "source": [
    "df.shape"
   ]
  },
  {
   "cell_type": "code",
   "execution_count": 5,
   "metadata": {},
   "outputs": [
    {
     "data": {
      "text/plain": [
       "Index(['Year', 'Month', 'DayofMonth', 'DayOfWeek', 'DepTime', 'CRSDepTime',\n",
       "       'ArrTime', 'CRSArrTime', 'UniqueCarrier', 'FlightNum', 'TailNum',\n",
       "       'ActualElapsedTime', 'CRSElapsedTime', 'AirTime', 'ArrDelay',\n",
       "       'DepDelay', 'Origin', 'Dest', 'Distance', 'TaxiIn', 'TaxiOut',\n",
       "       'Cancelled', 'CancellationCode', 'Diverted', 'CarrierDelay',\n",
       "       'WeatherDelay', 'NASDelay', 'SecurityDelay', 'LateAircraftDelay'],\n",
       "      dtype='object')"
      ]
     },
     "execution_count": 5,
     "metadata": {},
     "output_type": "execute_result"
    }
   ],
   "source": [
    "df.columns"
   ]
  },
  {
   "cell_type": "code",
   "execution_count": 6,
   "metadata": {},
   "outputs": [
    {
     "name": "stdout",
     "output_type": "stream",
     "text": [
      "<class 'pandas.core.frame.DataFrame'>\n",
      "RangeIndex: 7453215 entries, 0 to 7453214\n",
      "Data columns (total 29 columns):\n",
      " #   Column             Dtype  \n",
      "---  ------             -----  \n",
      " 0   Year               int64  \n",
      " 1   Month              int64  \n",
      " 2   DayofMonth         int64  \n",
      " 3   DayOfWeek          int64  \n",
      " 4   DepTime            float64\n",
      " 5   CRSDepTime         int64  \n",
      " 6   ArrTime            float64\n",
      " 7   CRSArrTime         int64  \n",
      " 8   UniqueCarrier      object \n",
      " 9   FlightNum          int64  \n",
      " 10  TailNum            object \n",
      " 11  ActualElapsedTime  float64\n",
      " 12  CRSElapsedTime     float64\n",
      " 13  AirTime            float64\n",
      " 14  ArrDelay           float64\n",
      " 15  DepDelay           float64\n",
      " 16  Origin             object \n",
      " 17  Dest               object \n",
      " 18  Distance           int64  \n",
      " 19  TaxiIn             int64  \n",
      " 20  TaxiOut            int64  \n",
      " 21  Cancelled          int64  \n",
      " 22  CancellationCode   object \n",
      " 23  Diverted           int64  \n",
      " 24  CarrierDelay       int64  \n",
      " 25  WeatherDelay       int64  \n",
      " 26  NASDelay           int64  \n",
      " 27  SecurityDelay      int64  \n",
      " 28  LateAircraftDelay  int64  \n",
      "dtypes: float64(7), int64(17), object(5)\n",
      "memory usage: 1.6+ GB\n"
     ]
    }
   ],
   "source": [
    "df.info()"
   ]
  },
  {
   "cell_type": "code",
   "execution_count": 7,
   "metadata": {},
   "outputs": [
    {
     "data": {
      "text/plain": [
       "CancellationCode     0.978432\n",
       "ArrTime              0.023873\n",
       "AirTime              0.023873\n",
       "ActualElapsedTime    0.023873\n",
       "ArrDelay             0.023873\n",
       "DepTime              0.021568\n",
       "DepDelay             0.021568\n",
       "CRSElapsedTime       0.000133\n",
       "TailNum              0.000003\n",
       "WeatherDelay         0.000000\n",
       "CarrierDelay         0.000000\n",
       "Diverted             0.000000\n",
       "Distance             0.000000\n",
       "NASDelay             0.000000\n",
       "SecurityDelay        0.000000\n",
       "Cancelled            0.000000\n",
       "TaxiOut              0.000000\n",
       "TaxiIn               0.000000\n",
       "Year                 0.000000\n",
       "Dest                 0.000000\n",
       "Origin               0.000000\n",
       "Month                0.000000\n",
       "FlightNum            0.000000\n",
       "UniqueCarrier        0.000000\n",
       "CRSArrTime           0.000000\n",
       "CRSDepTime           0.000000\n",
       "DayOfWeek            0.000000\n",
       "DayofMonth           0.000000\n",
       "LateAircraftDelay    0.000000\n",
       "dtype: float64"
      ]
     },
     "execution_count": 7,
     "metadata": {},
     "output_type": "execute_result"
    }
   ],
   "source": [
    "(df.isnull().sum()/len(df)).sort_values(ascending=False)"
   ]
  },
  {
   "cell_type": "code",
   "execution_count": 8,
   "metadata": {},
   "outputs": [
    {
     "data": {
      "text/html": [
       "<div>\n",
       "<style scoped>\n",
       "    .dataframe tbody tr th:only-of-type {\n",
       "        vertical-align: middle;\n",
       "    }\n",
       "\n",
       "    .dataframe tbody tr th {\n",
       "        vertical-align: top;\n",
       "    }\n",
       "\n",
       "    .dataframe thead th {\n",
       "        text-align: right;\n",
       "    }\n",
       "</style>\n",
       "<table border=\"1\" class=\"dataframe\">\n",
       "  <thead>\n",
       "    <tr style=\"text-align: right;\">\n",
       "      <th></th>\n",
       "      <th>Year</th>\n",
       "      <th>Month</th>\n",
       "      <th>DayofMonth</th>\n",
       "      <th>DayOfWeek</th>\n",
       "      <th>DepTime</th>\n",
       "      <th>CRSDepTime</th>\n",
       "      <th>ArrTime</th>\n",
       "      <th>CRSArrTime</th>\n",
       "      <th>FlightNum</th>\n",
       "      <th>ActualElapsedTime</th>\n",
       "      <th>...</th>\n",
       "      <th>Distance</th>\n",
       "      <th>TaxiIn</th>\n",
       "      <th>TaxiOut</th>\n",
       "      <th>Cancelled</th>\n",
       "      <th>Diverted</th>\n",
       "      <th>CarrierDelay</th>\n",
       "      <th>WeatherDelay</th>\n",
       "      <th>NASDelay</th>\n",
       "      <th>SecurityDelay</th>\n",
       "      <th>LateAircraftDelay</th>\n",
       "    </tr>\n",
       "  </thead>\n",
       "  <tbody>\n",
       "    <tr>\n",
       "      <th>count</th>\n",
       "      <td>7453215.0</td>\n",
       "      <td>7.453215e+06</td>\n",
       "      <td>7.453215e+06</td>\n",
       "      <td>7.453215e+06</td>\n",
       "      <td>7.292467e+06</td>\n",
       "      <td>7.453215e+06</td>\n",
       "      <td>7.275288e+06</td>\n",
       "      <td>7.453215e+06</td>\n",
       "      <td>7.453215e+06</td>\n",
       "      <td>7.275288e+06</td>\n",
       "      <td>...</td>\n",
       "      <td>7.453215e+06</td>\n",
       "      <td>7.453215e+06</td>\n",
       "      <td>7.453215e+06</td>\n",
       "      <td>7.453215e+06</td>\n",
       "      <td>7.453215e+06</td>\n",
       "      <td>7.453215e+06</td>\n",
       "      <td>7.453215e+06</td>\n",
       "      <td>7.453215e+06</td>\n",
       "      <td>7.453215e+06</td>\n",
       "      <td>7.453215e+06</td>\n",
       "    </tr>\n",
       "    <tr>\n",
       "      <th>mean</th>\n",
       "      <td>2007.0</td>\n",
       "      <td>6.514876e+00</td>\n",
       "      <td>1.572589e+01</td>\n",
       "      <td>3.933804e+00</td>\n",
       "      <td>1.339221e+03</td>\n",
       "      <td>1.330596e+03</td>\n",
       "      <td>1.482105e+03</td>\n",
       "      <td>1.495392e+03</td>\n",
       "      <td>2.188099e+03</td>\n",
       "      <td>1.263223e+02</td>\n",
       "      <td>...</td>\n",
       "      <td>7.198058e+02</td>\n",
       "      <td>6.691984e+00</td>\n",
       "      <td>1.630015e+01</td>\n",
       "      <td>2.156761e-02</td>\n",
       "      <td>2.304911e-03</td>\n",
       "      <td>3.865236e+00</td>\n",
       "      <td>7.700904e-01</td>\n",
       "      <td>3.783702e+00</td>\n",
       "      <td>2.373553e-02</td>\n",
       "      <td>5.099134e+00</td>\n",
       "    </tr>\n",
       "    <tr>\n",
       "      <th>std</th>\n",
       "      <td>0.0</td>\n",
       "      <td>3.425117e+00</td>\n",
       "      <td>8.781154e+00</td>\n",
       "      <td>1.992267e+00</td>\n",
       "      <td>4.798528e+02</td>\n",
       "      <td>4.647080e+02</td>\n",
       "      <td>5.072241e+02</td>\n",
       "      <td>4.815902e+02</td>\n",
       "      <td>1.971958e+03</td>\n",
       "      <td>7.118009e+01</td>\n",
       "      <td>...</td>\n",
       "      <td>5.623051e+02</td>\n",
       "      <td>5.151351e+00</td>\n",
       "      <td>1.183396e+01</td>\n",
       "      <td>1.452668e-01</td>\n",
       "      <td>4.795413e-02</td>\n",
       "      <td>2.084240e+01</td>\n",
       "      <td>9.619547e+00</td>\n",
       "      <td>1.617670e+01</td>\n",
       "      <td>1.084995e+00</td>\n",
       "      <td>2.127753e+01</td>\n",
       "    </tr>\n",
       "    <tr>\n",
       "      <th>min</th>\n",
       "      <td>2007.0</td>\n",
       "      <td>1.000000e+00</td>\n",
       "      <td>1.000000e+00</td>\n",
       "      <td>1.000000e+00</td>\n",
       "      <td>1.000000e+00</td>\n",
       "      <td>0.000000e+00</td>\n",
       "      <td>1.000000e+00</td>\n",
       "      <td>0.000000e+00</td>\n",
       "      <td>1.000000e+00</td>\n",
       "      <td>1.200000e+01</td>\n",
       "      <td>...</td>\n",
       "      <td>1.100000e+01</td>\n",
       "      <td>0.000000e+00</td>\n",
       "      <td>0.000000e+00</td>\n",
       "      <td>0.000000e+00</td>\n",
       "      <td>0.000000e+00</td>\n",
       "      <td>0.000000e+00</td>\n",
       "      <td>0.000000e+00</td>\n",
       "      <td>0.000000e+00</td>\n",
       "      <td>0.000000e+00</td>\n",
       "      <td>0.000000e+00</td>\n",
       "    </tr>\n",
       "    <tr>\n",
       "      <th>25%</th>\n",
       "      <td>2007.0</td>\n",
       "      <td>4.000000e+00</td>\n",
       "      <td>8.000000e+00</td>\n",
       "      <td>2.000000e+00</td>\n",
       "      <td>9.300000e+02</td>\n",
       "      <td>9.300000e+02</td>\n",
       "      <td>1.107000e+03</td>\n",
       "      <td>1.115000e+03</td>\n",
       "      <td>5.900000e+02</td>\n",
       "      <td>7.600000e+01</td>\n",
       "      <td>...</td>\n",
       "      <td>3.190000e+02</td>\n",
       "      <td>4.000000e+00</td>\n",
       "      <td>1.000000e+01</td>\n",
       "      <td>0.000000e+00</td>\n",
       "      <td>0.000000e+00</td>\n",
       "      <td>0.000000e+00</td>\n",
       "      <td>0.000000e+00</td>\n",
       "      <td>0.000000e+00</td>\n",
       "      <td>0.000000e+00</td>\n",
       "      <td>0.000000e+00</td>\n",
       "    </tr>\n",
       "    <tr>\n",
       "      <th>50%</th>\n",
       "      <td>2007.0</td>\n",
       "      <td>7.000000e+00</td>\n",
       "      <td>1.600000e+01</td>\n",
       "      <td>4.000000e+00</td>\n",
       "      <td>1.329000e+03</td>\n",
       "      <td>1.322000e+03</td>\n",
       "      <td>1.513000e+03</td>\n",
       "      <td>1.520000e+03</td>\n",
       "      <td>1.509000e+03</td>\n",
       "      <td>1.080000e+02</td>\n",
       "      <td>...</td>\n",
       "      <td>5.690000e+02</td>\n",
       "      <td>5.000000e+00</td>\n",
       "      <td>1.400000e+01</td>\n",
       "      <td>0.000000e+00</td>\n",
       "      <td>0.000000e+00</td>\n",
       "      <td>0.000000e+00</td>\n",
       "      <td>0.000000e+00</td>\n",
       "      <td>0.000000e+00</td>\n",
       "      <td>0.000000e+00</td>\n",
       "      <td>0.000000e+00</td>\n",
       "    </tr>\n",
       "    <tr>\n",
       "      <th>75%</th>\n",
       "      <td>2007.0</td>\n",
       "      <td>9.000000e+00</td>\n",
       "      <td>2.300000e+01</td>\n",
       "      <td>6.000000e+00</td>\n",
       "      <td>1.733000e+03</td>\n",
       "      <td>1.720000e+03</td>\n",
       "      <td>1.911000e+03</td>\n",
       "      <td>1.906000e+03</td>\n",
       "      <td>3.553000e+03</td>\n",
       "      <td>1.560000e+02</td>\n",
       "      <td>...</td>\n",
       "      <td>9.460000e+02</td>\n",
       "      <td>8.000000e+00</td>\n",
       "      <td>1.900000e+01</td>\n",
       "      <td>0.000000e+00</td>\n",
       "      <td>0.000000e+00</td>\n",
       "      <td>0.000000e+00</td>\n",
       "      <td>0.000000e+00</td>\n",
       "      <td>0.000000e+00</td>\n",
       "      <td>0.000000e+00</td>\n",
       "      <td>0.000000e+00</td>\n",
       "    </tr>\n",
       "    <tr>\n",
       "      <th>max</th>\n",
       "      <td>2007.0</td>\n",
       "      <td>1.200000e+01</td>\n",
       "      <td>3.100000e+01</td>\n",
       "      <td>7.000000e+00</td>\n",
       "      <td>2.400000e+03</td>\n",
       "      <td>2.359000e+03</td>\n",
       "      <td>2.400000e+03</td>\n",
       "      <td>2.400000e+03</td>\n",
       "      <td>9.602000e+03</td>\n",
       "      <td>1.270000e+03</td>\n",
       "      <td>...</td>\n",
       "      <td>4.962000e+03</td>\n",
       "      <td>5.450000e+02</td>\n",
       "      <td>5.300000e+02</td>\n",
       "      <td>1.000000e+00</td>\n",
       "      <td>1.000000e+00</td>\n",
       "      <td>2.580000e+03</td>\n",
       "      <td>1.429000e+03</td>\n",
       "      <td>1.386000e+03</td>\n",
       "      <td>3.820000e+02</td>\n",
       "      <td>1.031000e+03</td>\n",
       "    </tr>\n",
       "  </tbody>\n",
       "</table>\n",
       "<p>8 rows × 24 columns</p>\n",
       "</div>"
      ],
      "text/plain": [
       "            Year         Month    DayofMonth     DayOfWeek       DepTime  \\\n",
       "count  7453215.0  7.453215e+06  7.453215e+06  7.453215e+06  7.292467e+06   \n",
       "mean      2007.0  6.514876e+00  1.572589e+01  3.933804e+00  1.339221e+03   \n",
       "std          0.0  3.425117e+00  8.781154e+00  1.992267e+00  4.798528e+02   \n",
       "min       2007.0  1.000000e+00  1.000000e+00  1.000000e+00  1.000000e+00   \n",
       "25%       2007.0  4.000000e+00  8.000000e+00  2.000000e+00  9.300000e+02   \n",
       "50%       2007.0  7.000000e+00  1.600000e+01  4.000000e+00  1.329000e+03   \n",
       "75%       2007.0  9.000000e+00  2.300000e+01  6.000000e+00  1.733000e+03   \n",
       "max       2007.0  1.200000e+01  3.100000e+01  7.000000e+00  2.400000e+03   \n",
       "\n",
       "         CRSDepTime       ArrTime    CRSArrTime     FlightNum  \\\n",
       "count  7.453215e+06  7.275288e+06  7.453215e+06  7.453215e+06   \n",
       "mean   1.330596e+03  1.482105e+03  1.495392e+03  2.188099e+03   \n",
       "std    4.647080e+02  5.072241e+02  4.815902e+02  1.971958e+03   \n",
       "min    0.000000e+00  1.000000e+00  0.000000e+00  1.000000e+00   \n",
       "25%    9.300000e+02  1.107000e+03  1.115000e+03  5.900000e+02   \n",
       "50%    1.322000e+03  1.513000e+03  1.520000e+03  1.509000e+03   \n",
       "75%    1.720000e+03  1.911000e+03  1.906000e+03  3.553000e+03   \n",
       "max    2.359000e+03  2.400000e+03  2.400000e+03  9.602000e+03   \n",
       "\n",
       "       ActualElapsedTime  ...      Distance        TaxiIn       TaxiOut  \\\n",
       "count       7.275288e+06  ...  7.453215e+06  7.453215e+06  7.453215e+06   \n",
       "mean        1.263223e+02  ...  7.198058e+02  6.691984e+00  1.630015e+01   \n",
       "std         7.118009e+01  ...  5.623051e+02  5.151351e+00  1.183396e+01   \n",
       "min         1.200000e+01  ...  1.100000e+01  0.000000e+00  0.000000e+00   \n",
       "25%         7.600000e+01  ...  3.190000e+02  4.000000e+00  1.000000e+01   \n",
       "50%         1.080000e+02  ...  5.690000e+02  5.000000e+00  1.400000e+01   \n",
       "75%         1.560000e+02  ...  9.460000e+02  8.000000e+00  1.900000e+01   \n",
       "max         1.270000e+03  ...  4.962000e+03  5.450000e+02  5.300000e+02   \n",
       "\n",
       "          Cancelled      Diverted  CarrierDelay  WeatherDelay      NASDelay  \\\n",
       "count  7.453215e+06  7.453215e+06  7.453215e+06  7.453215e+06  7.453215e+06   \n",
       "mean   2.156761e-02  2.304911e-03  3.865236e+00  7.700904e-01  3.783702e+00   \n",
       "std    1.452668e-01  4.795413e-02  2.084240e+01  9.619547e+00  1.617670e+01   \n",
       "min    0.000000e+00  0.000000e+00  0.000000e+00  0.000000e+00  0.000000e+00   \n",
       "25%    0.000000e+00  0.000000e+00  0.000000e+00  0.000000e+00  0.000000e+00   \n",
       "50%    0.000000e+00  0.000000e+00  0.000000e+00  0.000000e+00  0.000000e+00   \n",
       "75%    0.000000e+00  0.000000e+00  0.000000e+00  0.000000e+00  0.000000e+00   \n",
       "max    1.000000e+00  1.000000e+00  2.580000e+03  1.429000e+03  1.386000e+03   \n",
       "\n",
       "       SecurityDelay  LateAircraftDelay  \n",
       "count   7.453215e+06       7.453215e+06  \n",
       "mean    2.373553e-02       5.099134e+00  \n",
       "std     1.084995e+00       2.127753e+01  \n",
       "min     0.000000e+00       0.000000e+00  \n",
       "25%     0.000000e+00       0.000000e+00  \n",
       "50%     0.000000e+00       0.000000e+00  \n",
       "75%     0.000000e+00       0.000000e+00  \n",
       "max     3.820000e+02       1.031000e+03  \n",
       "\n",
       "[8 rows x 24 columns]"
      ]
     },
     "execution_count": 8,
     "metadata": {},
     "output_type": "execute_result"
    }
   ],
   "source": [
    "df.describe()"
   ]
  },
  {
   "cell_type": "code",
   "execution_count": 9,
   "metadata": {},
   "outputs": [
    {
     "data": {
      "text/html": [
       "<div>\n",
       "<style scoped>\n",
       "    .dataframe tbody tr th:only-of-type {\n",
       "        vertical-align: middle;\n",
       "    }\n",
       "\n",
       "    .dataframe tbody tr th {\n",
       "        vertical-align: top;\n",
       "    }\n",
       "\n",
       "    .dataframe thead th {\n",
       "        text-align: right;\n",
       "    }\n",
       "</style>\n",
       "<table border=\"1\" class=\"dataframe\">\n",
       "  <thead>\n",
       "    <tr style=\"text-align: right;\">\n",
       "      <th></th>\n",
       "      <th>UniqueCarrier</th>\n",
       "      <th>TailNum</th>\n",
       "      <th>Origin</th>\n",
       "      <th>Dest</th>\n",
       "      <th>CancellationCode</th>\n",
       "    </tr>\n",
       "  </thead>\n",
       "  <tbody>\n",
       "    <tr>\n",
       "      <th>count</th>\n",
       "      <td>7453215</td>\n",
       "      <td>7453193</td>\n",
       "      <td>7453215</td>\n",
       "      <td>7453215</td>\n",
       "      <td>160749</td>\n",
       "    </tr>\n",
       "    <tr>\n",
       "      <th>unique</th>\n",
       "      <td>20</td>\n",
       "      <td>5505</td>\n",
       "      <td>304</td>\n",
       "      <td>310</td>\n",
       "      <td>4</td>\n",
       "    </tr>\n",
       "    <tr>\n",
       "      <th>top</th>\n",
       "      <td>WN</td>\n",
       "      <td>0</td>\n",
       "      <td>ATL</td>\n",
       "      <td>ATL</td>\n",
       "      <td>A</td>\n",
       "    </tr>\n",
       "    <tr>\n",
       "      <th>freq</th>\n",
       "      <td>1168871</td>\n",
       "      <td>105239</td>\n",
       "      <td>413851</td>\n",
       "      <td>413805</td>\n",
       "      <td>66779</td>\n",
       "    </tr>\n",
       "  </tbody>\n",
       "</table>\n",
       "</div>"
      ],
      "text/plain": [
       "       UniqueCarrier  TailNum   Origin     Dest CancellationCode\n",
       "count        7453215  7453193  7453215  7453215           160749\n",
       "unique            20     5505      304      310                4\n",
       "top               WN        0      ATL      ATL                A\n",
       "freq         1168871   105239   413851   413805            66779"
      ]
     },
     "execution_count": 9,
     "metadata": {},
     "output_type": "execute_result"
    }
   ],
   "source": [
    "df.describe(include='object')"
   ]
  },
  {
   "cell_type": "markdown",
   "metadata": {},
   "source": [
    "### What is the structure of your dataset?\n",
    "\n",
    "> The Dataset has 7453215 rows and 29 columns. With a large number of missing values\n",
    "\n",
    "### What is/are the main feature(s) of interest in your dataset?\n",
    "\n",
    "> The essential variables are those relating to delays, airport name, air company and distance\n",
    "\n",
    "### What features in the dataset do you think will help support your investigation into your feature(s) of interest?\n",
    "\n",
    "> All the variables are usable. Everyone has information to give"
   ]
  },
  {
   "cell_type": "markdown",
   "metadata": {},
   "source": [
    "## Univariate Exploration"
   ]
  },
  {
   "cell_type": "code",
   "execution_count": 10,
   "metadata": {},
   "outputs": [
    {
     "data": {
      "text/plain": [
       "Index(['Year', 'Month', 'DayofMonth', 'DayOfWeek', 'DepTime', 'CRSDepTime',\n",
       "       'ArrTime', 'CRSArrTime', 'UniqueCarrier', 'FlightNum', 'TailNum',\n",
       "       'ActualElapsedTime', 'CRSElapsedTime', 'AirTime', 'ArrDelay',\n",
       "       'DepDelay', 'Origin', 'Dest', 'Distance', 'TaxiIn', 'TaxiOut',\n",
       "       'Cancelled', 'CancellationCode', 'Diverted', 'CarrierDelay',\n",
       "       'WeatherDelay', 'NASDelay', 'SecurityDelay', 'LateAircraftDelay'],\n",
       "      dtype='object')"
      ]
     },
     "execution_count": 10,
     "metadata": {},
     "output_type": "execute_result"
    }
   ],
   "source": [
    "df.columns"
   ]
  },
  {
   "cell_type": "code",
   "execution_count": 11,
   "metadata": {},
   "outputs": [
    {
     "data": {
      "text/plain": [
       "array([2007], dtype=int64)"
      ]
     },
     "execution_count": 11,
     "metadata": {},
     "output_type": "execute_result"
    }
   ],
   "source": [
    "# Year\n",
    "df.Year.unique()"
   ]
  },
  {
   "cell_type": "markdown",
   "metadata": {},
   "source": [
    "> The dataset only contains data from 2007. We can proceed with the analysis then"
   ]
  },
  {
   "cell_type": "code",
   "execution_count": 12,
   "metadata": {},
   "outputs": [
    {
     "data": {
      "text/plain": [
       "array([ 1,  2,  3,  4,  5,  6,  7,  8,  9, 10, 11, 12], dtype=int64)"
      ]
     },
     "execution_count": 12,
     "metadata": {},
     "output_type": "execute_result"
    }
   ],
   "source": [
    "# Month\n",
    "df.Month.unique()"
   ]
  },
  {
   "cell_type": "code",
   "execution_count": 13,
   "metadata": {},
   "outputs": [
    {
     "data": {
      "text/plain": [
       "Text(0.5, 1.0, 'Preferred month for travel')"
      ]
     },
     "execution_count": 13,
     "metadata": {},
     "output_type": "execute_result"
    },
    {
     "data": {
      "image/png": "[encoded data removed]",
      "text/plain": [
       "<Figure size 432x288 with 1 Axes>"
      ]
     },
     "metadata": {
      "needs_background": "light"
     },
     "output_type": "display_data"
    }
   ],
   "source": [
    "plt.figure()\n",
    "df.Month.value_counts().head(12).plot(kind='bar')\n",
    "plt.title('Preferred month for travel')"
   ]
  },
  {
   "cell_type": "markdown",
   "metadata": {},
   "source": [
    "> We see that people tend to travel between July and August, which is normal because it is the holiday period."
   ]
  },
  {
   "cell_type": "code",
   "execution_count": 14,
   "metadata": {},
   "outputs": [
    {
     "data": {
      "text/plain": [
       "array([ 1,  2,  3,  4,  5,  6,  7,  8,  9, 10, 11, 12, 13, 14, 15, 16, 17,\n",
       "       18, 19, 20, 21, 22, 23, 24, 25, 26, 27, 28, 29, 30, 31],\n",
       "      dtype=int64)"
      ]
     },
     "execution_count": 14,
     "metadata": {},
     "output_type": "execute_result"
    }
   ],
   "source": [
    "#DayofMonth\n",
    "df.DayofMonth.unique()"
   ]
  },
  {
   "cell_type": "code",
   "execution_count": 15,
   "metadata": {},
   "outputs": [],
   "source": [
    "df_day = df.copy()"
   ]
  },
  {
   "cell_type": "code",
   "execution_count": 16,
   "metadata": {},
   "outputs": [
    {
     "name": "stdout",
     "output_type": "stream",
     "text": [
      "Number of travel in 1st week:  1951552\n",
      "Number of travel in 2nd week:  1971506\n",
      "Number of travel in 3rd week:  2201918\n",
      "Number of travel in 4th week:  1328239\n"
     ]
    }
   ],
   "source": [
    "print('Number of travel in 1st week: ' , df_day.query('DayofMonth < 9 ').shape[0]);\n",
    "print('Number of travel in 2nd week: ' , df_day.query('DayofMonth >= 9 & DayofMonth < 17 ').shape[0])\n",
    "print('Number of travel in 3rd week: ' , df_day.query('DayofMonth >= 17 & DayofMonth < 26 ').shape[0])\n",
    "print('Number of travel in 4th week: ' , df_day.query('DayofMonth >= 26 ').shape[0])"
   ]
  },
  {
   "cell_type": "markdown",
   "metadata": {},
   "source": [
    "> We see that there is much less travel at the end of the month from the 26th to the 31st."
   ]
  },
  {
   "cell_type": "code",
   "execution_count": 17,
   "metadata": {},
   "outputs": [
    {
     "data": {
      "text/plain": [
       "array([1, 2, 3, 4, 5, 6, 7], dtype=int64)"
      ]
     },
     "execution_count": 17,
     "metadata": {},
     "output_type": "execute_result"
    }
   ],
   "source": [
    "#DayofWeek\n",
    "df.DayOfWeek.unique()"
   ]
  },
  {
   "cell_type": "code",
   "execution_count": 18,
   "metadata": {},
   "outputs": [
    {
     "data": {
      "text/plain": [
       "Text(0.5, 1.0, 'Preferred day of week for travel')"
      ]
     },
     "execution_count": 18,
     "metadata": {},
     "output_type": "execute_result"
    },
    {
     "data": {
      "image/png": "[encoded data removed]",
      "text/plain": [
       "<Figure size 432x288 with 1 Axes>"
      ]
     },
     "metadata": {
      "needs_background": "light"
     },
     "output_type": "display_data"
    }
   ],
   "source": [
    "plt.figure()\n",
    "df.DayOfWeek.value_counts().head(7).plot(kind='bar')\n",
    "plt.title('Preferred day of week for travel')"
   ]
  },
  {
   "cell_type": "markdown",
   "metadata": {},
   "source": [
    "> Monday and Friday are the days when we record a lot more travel"
   ]
  },
  {
   "cell_type": "code",
   "execution_count": 19,
   "metadata": {},
   "outputs": [
    {
     "data": {
      "text/plain": [
       "Text(0.5, 0, 'DepTime')"
      ]
     },
     "execution_count": 19,
     "metadata": {},
     "output_type": "execute_result"
    },
    {
     "data": {
      "image/png": "[encoded data removed]",
      "text/plain": [
       "<Figure size 432x288 with 1 Axes>"
      ]
     },
     "metadata": {
      "needs_background": "light"
     },
     "output_type": "display_data"
    }
   ],
   "source": [
    "#Deptime\n",
    "df.DepTime.plot(kind='hist', bins = 24)\n",
    "plt.title('DepTime hhmm')\n",
    "plt.xlabel('DepTime')"
   ]
  },
  {
   "cell_type": "code",
   "execution_count": 20,
   "metadata": {},
   "outputs": [
    {
     "data": {
      "text/plain": [
       "Series([], Name: DepTime, dtype: float64)"
      ]
     },
     "execution_count": 20,
     "metadata": {},
     "output_type": "execute_result"
    }
   ],
   "source": [
    "df.query('DepTime >2400')['DepTime']"
   ]
  },
  {
   "cell_type": "markdown",
   "metadata": {},
   "source": [
    "> Effective departures from the airport are generally between 6 a.m. and 8 p.m."
   ]
  },
  {
   "cell_type": "code",
   "execution_count": 21,
   "metadata": {},
   "outputs": [
    {
     "data": {
      "text/plain": [
       "Text(0.5, 0, 'CRSDepTime')"
      ]
     },
     "execution_count": 21,
     "metadata": {},
     "output_type": "execute_result"
    },
    {
     "data": {
      "image/png": "[encoded data removed]",
      "text/plain": [
       "<Figure size 432x288 with 1 Axes>"
      ]
     },
     "metadata": {
      "needs_background": "light"
     },
     "output_type": "display_data"
    }
   ],
   "source": [
    "#CRSDepTime\n",
    "df.CRSDepTime.plot(kind='hist', bins=24)\n",
    "plt.title('CRSDepTime hhmm')\n",
    "plt.xlabel('CRSDepTime')"
   ]
  },
  {
   "cell_type": "code",
   "execution_count": 22,
   "metadata": {},
   "outputs": [
    {
     "data": {
      "text/plain": [
       "Series([], Name: CRSDepTime, dtype: int64)"
      ]
     },
     "execution_count": 22,
     "metadata": {},
     "output_type": "execute_result"
    }
   ],
   "source": [
    "df.query('CRSDepTime >2400')['CRSDepTime']"
   ]
  },
  {
   "cell_type": "markdown",
   "metadata": {},
   "source": [
    "> Flights are mostly scheduled between 6 a.m. and 7 p.m."
   ]
  },
  {
   "cell_type": "code",
   "execution_count": 23,
   "metadata": {},
   "outputs": [
    {
     "data": {
      "text/plain": [
       "Text(0.5, 0, 'ArrTime')"
      ]
     },
     "execution_count": 23,
     "metadata": {},
     "output_type": "execute_result"
    },
    {
     "data": {
      "image/png": "[encoded data removed]",
      "text/plain": [
       "<Figure size 432x288 with 1 Axes>"
      ]
     },
     "metadata": {
      "needs_background": "light"
     },
     "output_type": "display_data"
    }
   ],
   "source": [
    "#ArrTime\n",
    "df.ArrTime.plot(kind='hist', bins=24)\n",
    "plt.title('ArrTime hhmm')\n",
    "plt.xlabel('ArrTime')"
   ]
  },
  {
   "cell_type": "code",
   "execution_count": 24,
   "metadata": {},
   "outputs": [
    {
     "data": {
      "text/plain": [
       "Series([], Name: ArrTime, dtype: float64)"
      ]
     },
     "execution_count": 24,
     "metadata": {},
     "output_type": "execute_result"
    }
   ],
   "source": [
    "df.query('ArrTime >2400')['ArrTime']"
   ]
  },
  {
   "cell_type": "markdown",
   "metadata": {},
   "source": [
    "> Planes land at their destination between 10 a.m. and 9 p.m."
   ]
  },
  {
   "cell_type": "code",
   "execution_count": 25,
   "metadata": {},
   "outputs": [
    {
     "data": {
      "text/plain": [
       "Text(0.5, 0, 'CRSArrTime')"
      ]
     },
     "execution_count": 25,
     "metadata": {},
     "output_type": "execute_result"
    },
    {
     "data": {
      "image/png": "[encoded data removed]",
      "text/plain": [
       "<Figure size 432x288 with 1 Axes>"
      ]
     },
     "metadata": {
      "needs_background": "light"
     },
     "output_type": "display_data"
    }
   ],
   "source": [
    "#CRSArrTime\n",
    "df.CRSArrTime.plot(kind='hist', bins=24)\n",
    "plt.title('CRSArrTime hhmm')\n",
    "plt.xlabel('CRSArrTime')"
   ]
  },
  {
   "cell_type": "code",
   "execution_count": 26,
   "metadata": {},
   "outputs": [
    {
     "data": {
      "text/plain": [
       "Series([], Name: CRSArrTime, dtype: int64)"
      ]
     },
     "execution_count": 26,
     "metadata": {},
     "output_type": "execute_result"
    }
   ],
   "source": [
    "df.query('CRSArrTime >2400')['CRSArrTime']"
   ]
  },
  {
   "cell_type": "markdown",
   "metadata": {},
   "source": [
    "> Most landings are scheduled between 11 a.m. and 9 p.m."
   ]
  },
  {
   "cell_type": "code",
   "execution_count": 27,
   "metadata": {},
   "outputs": [
    {
     "data": {
      "text/plain": [
       "Text(0.5, 1.0, 'Most Scheduled Company')"
      ]
     },
     "execution_count": 27,
     "metadata": {},
     "output_type": "execute_result"
    },
    {
     "data": {
      "image/png": "[encoded data removed]",
      "text/plain": [
       "<Figure size 432x288 with 1 Axes>"
      ]
     },
     "metadata": {
      "needs_background": "light"
     },
     "output_type": "display_data"
    }
   ],
   "source": [
    "#UniqueCarrier\n",
    "plt.figure()\n",
    "df.UniqueCarrier.value_counts().plot(kind='bar')\n",
    "plt.title('Most Scheduled Company')"
   ]
  },
  {
   "cell_type": "markdown",
   "metadata": {},
   "source": [
    "> WN, AA, OO, MQ, UA are the airlines that made the most trips"
   ]
  },
  {
   "cell_type": "code",
   "execution_count": 28,
   "metadata": {},
   "outputs": [
    {
     "data": {
      "text/plain": [
       "7596"
      ]
     },
     "execution_count": 28,
     "metadata": {},
     "output_type": "execute_result"
    }
   ],
   "source": [
    "#FlightNum\n",
    "df.FlightNum.nunique()"
   ]
  },
  {
   "cell_type": "code",
   "execution_count": 29,
   "metadata": {},
   "outputs": [
    {
     "data": {
      "text/plain": [
       "5505"
      ]
     },
     "execution_count": 29,
     "metadata": {},
     "output_type": "execute_result"
    }
   ],
   "source": [
    "#TailNum\n",
    "df.TailNum.nunique()"
   ]
  },
  {
   "cell_type": "code",
   "execution_count": 30,
   "metadata": {},
   "outputs": [
    {
     "data": {
      "text/plain": [
       "Text(0.5, 0, 'ActualElapsedTime')"
      ]
     },
     "execution_count": 30,
     "metadata": {},
     "output_type": "execute_result"
    },
    {
     "data": {
      "image/png": "[encoded data removed]",
      "text/plain": [
       "<Figure size 432x288 with 1 Axes>"
      ]
     },
     "metadata": {
      "needs_background": "light"
     },
     "output_type": "display_data"
    }
   ],
   "source": [
    "#ActualElapsedTime\n",
    "df.ActualElapsedTime.plot(kind='hist', bins=60)\n",
    "plt.title('ActualElapsedTime min')\n",
    "plt.xlabel('ActualElapsedTime')"
   ]
  },
  {
   "cell_type": "code",
   "execution_count": 31,
   "metadata": {},
   "outputs": [
    {
     "data": {
      "text/html": [
       "<div>\n",
       "<style scoped>\n",
       "    .dataframe tbody tr th:only-of-type {\n",
       "        vertical-align: middle;\n",
       "    }\n",
       "\n",
       "    .dataframe tbody tr th {\n",
       "        vertical-align: top;\n",
       "    }\n",
       "\n",
       "    .dataframe thead th {\n",
       "        text-align: right;\n",
       "    }\n",
       "</style>\n",
       "<table border=\"1\" class=\"dataframe\">\n",
       "  <thead>\n",
       "    <tr style=\"text-align: right;\">\n",
       "      <th></th>\n",
       "      <th>Origin</th>\n",
       "      <th>Dest</th>\n",
       "      <th>ActualElapsedTime</th>\n",
       "    </tr>\n",
       "  </thead>\n",
       "  <tbody>\n",
       "    <tr>\n",
       "      <th>172666</th>\n",
       "      <td>CVG</td>\n",
       "      <td>LAN</td>\n",
       "      <td>1270.0</td>\n",
       "    </tr>\n",
       "    <tr>\n",
       "      <th>3867296</th>\n",
       "      <td>CVG</td>\n",
       "      <td>JAN</td>\n",
       "      <td>1260.0</td>\n",
       "    </tr>\n",
       "    <tr>\n",
       "      <th>2205995</th>\n",
       "      <td>HNL</td>\n",
       "      <td>SEA</td>\n",
       "      <td>1095.0</td>\n",
       "    </tr>\n",
       "    <tr>\n",
       "      <th>6608082</th>\n",
       "      <td>SFO</td>\n",
       "      <td>HNL</td>\n",
       "      <td>1090.0</td>\n",
       "    </tr>\n",
       "    <tr>\n",
       "      <th>2828314</th>\n",
       "      <td>LAX</td>\n",
       "      <td>HNL</td>\n",
       "      <td>989.0</td>\n",
       "    </tr>\n",
       "    <tr>\n",
       "      <th>...</th>\n",
       "      <td>...</td>\n",
       "      <td>...</td>\n",
       "      <td>...</td>\n",
       "    </tr>\n",
       "    <tr>\n",
       "      <th>7112586</th>\n",
       "      <td>BOS</td>\n",
       "      <td>PHX</td>\n",
       "      <td>421.0</td>\n",
       "    </tr>\n",
       "    <tr>\n",
       "      <th>1510130</th>\n",
       "      <td>JFK</td>\n",
       "      <td>SEA</td>\n",
       "      <td>421.0</td>\n",
       "    </tr>\n",
       "    <tr>\n",
       "      <th>7090808</th>\n",
       "      <td>DEN</td>\n",
       "      <td>KOA</td>\n",
       "      <td>421.0</td>\n",
       "    </tr>\n",
       "    <tr>\n",
       "      <th>7090807</th>\n",
       "      <td>DEN</td>\n",
       "      <td>KOA</td>\n",
       "      <td>421.0</td>\n",
       "    </tr>\n",
       "    <tr>\n",
       "      <th>12228</th>\n",
       "      <td>PHL</td>\n",
       "      <td>LAX</td>\n",
       "      <td>421.0</td>\n",
       "    </tr>\n",
       "  </tbody>\n",
       "</table>\n",
       "<p>33177 rows × 3 columns</p>\n",
       "</div>"
      ],
      "text/plain": [
       "        Origin Dest  ActualElapsedTime\n",
       "172666     CVG  LAN             1270.0\n",
       "3867296    CVG  JAN             1260.0\n",
       "2205995    HNL  SEA             1095.0\n",
       "6608082    SFO  HNL             1090.0\n",
       "2828314    LAX  HNL              989.0\n",
       "...        ...  ...                ...\n",
       "7112586    BOS  PHX              421.0\n",
       "1510130    JFK  SEA              421.0\n",
       "7090808    DEN  KOA              421.0\n",
       "7090807    DEN  KOA              421.0\n",
       "12228      PHL  LAX              421.0\n",
       "\n",
       "[33177 rows x 3 columns]"
      ]
     },
     "execution_count": 31,
     "metadata": {},
     "output_type": "execute_result"
    }
   ],
   "source": [
    "df_time = df.query('ActualElapsedTime>420')[['Origin','Dest','ActualElapsedTime']].sort_values(by ='ActualElapsedTime',ascending=False)\n",
    "df_time"
   ]
  },
  {
   "cell_type": "code",
   "execution_count": 32,
   "metadata": {},
   "outputs": [
    {
     "data": {
      "text/plain": [
       "ActualElapsedTime    559.0\n",
       "Name: 0.95, dtype: float64"
      ]
     },
     "execution_count": 32,
     "metadata": {},
     "output_type": "execute_result"
    }
   ],
   "source": [
    "df_time.quantile(q=0.95)"
   ]
  },
  {
   "cell_type": "code",
   "execution_count": 33,
   "metadata": {},
   "outputs": [
    {
     "data": {
      "text/html": [
       "<div>\n",
       "<style scoped>\n",
       "    .dataframe tbody tr th:only-of-type {\n",
       "        vertical-align: middle;\n",
       "    }\n",
       "\n",
       "    .dataframe tbody tr th {\n",
       "        vertical-align: top;\n",
       "    }\n",
       "\n",
       "    .dataframe thead th {\n",
       "        text-align: right;\n",
       "    }\n",
       "</style>\n",
       "<table border=\"1\" class=\"dataframe\">\n",
       "  <thead>\n",
       "    <tr style=\"text-align: right;\">\n",
       "      <th></th>\n",
       "      <th>Origin</th>\n",
       "      <th>Dest</th>\n",
       "      <th>ActualElapsedTime</th>\n",
       "    </tr>\n",
       "  </thead>\n",
       "  <tbody>\n",
       "    <tr>\n",
       "      <th>172666</th>\n",
       "      <td>CVG</td>\n",
       "      <td>LAN</td>\n",
       "      <td>1270.0</td>\n",
       "    </tr>\n",
       "    <tr>\n",
       "      <th>3867296</th>\n",
       "      <td>CVG</td>\n",
       "      <td>JAN</td>\n",
       "      <td>1260.0</td>\n",
       "    </tr>\n",
       "    <tr>\n",
       "      <th>2205995</th>\n",
       "      <td>HNL</td>\n",
       "      <td>SEA</td>\n",
       "      <td>1095.0</td>\n",
       "    </tr>\n",
       "    <tr>\n",
       "      <th>6608082</th>\n",
       "      <td>SFO</td>\n",
       "      <td>HNL</td>\n",
       "      <td>1090.0</td>\n",
       "    </tr>\n",
       "    <tr>\n",
       "      <th>2828314</th>\n",
       "      <td>LAX</td>\n",
       "      <td>HNL</td>\n",
       "      <td>989.0</td>\n",
       "    </tr>\n",
       "    <tr>\n",
       "      <th>...</th>\n",
       "      <td>...</td>\n",
       "      <td>...</td>\n",
       "      <td>...</td>\n",
       "    </tr>\n",
       "    <tr>\n",
       "      <th>4596408</th>\n",
       "      <td>IAD</td>\n",
       "      <td>SMF</td>\n",
       "      <td>639.0</td>\n",
       "    </tr>\n",
       "    <tr>\n",
       "      <th>6795233</th>\n",
       "      <td>EWR</td>\n",
       "      <td>HNL</td>\n",
       "      <td>639.0</td>\n",
       "    </tr>\n",
       "    <tr>\n",
       "      <th>1169119</th>\n",
       "      <td>ATL</td>\n",
       "      <td>HNL</td>\n",
       "      <td>639.0</td>\n",
       "    </tr>\n",
       "    <tr>\n",
       "      <th>3024201</th>\n",
       "      <td>EWR</td>\n",
       "      <td>HNL</td>\n",
       "      <td>639.0</td>\n",
       "    </tr>\n",
       "    <tr>\n",
       "      <th>6809148</th>\n",
       "      <td>EWR</td>\n",
       "      <td>HNL</td>\n",
       "      <td>639.0</td>\n",
       "    </tr>\n",
       "  </tbody>\n",
       "</table>\n",
       "<p>200 rows × 3 columns</p>\n",
       "</div>"
      ],
      "text/plain": [
       "        Origin Dest  ActualElapsedTime\n",
       "172666     CVG  LAN             1270.0\n",
       "3867296    CVG  JAN             1260.0\n",
       "2205995    HNL  SEA             1095.0\n",
       "6608082    SFO  HNL             1090.0\n",
       "2828314    LAX  HNL              989.0\n",
       "...        ...  ...                ...\n",
       "4596408    IAD  SMF              639.0\n",
       "6795233    EWR  HNL              639.0\n",
       "1169119    ATL  HNL              639.0\n",
       "3024201    EWR  HNL              639.0\n",
       "6809148    EWR  HNL              639.0\n",
       "\n",
       "[200 rows x 3 columns]"
      ]
     },
     "execution_count": 33,
     "metadata": {},
     "output_type": "execute_result"
    }
   ],
   "source": [
    "df_time = df.query('ActualElapsedTime>638')[['Origin','Dest','ActualElapsedTime']].sort_values(by ='ActualElapsedTime',ascending=False)\n",
    "df_time"
   ]
  },
  {
   "cell_type": "code",
   "execution_count": 34,
   "metadata": {
    "scrolled": false
   },
   "outputs": [
    {
     "data": {
      "text/plain": [
       "<AxesSubplot:>"
      ]
     },
     "execution_count": 34,
     "metadata": {},
     "output_type": "execute_result"
    },
    {
     "data": {
      "image/png": "[encoded data removed]",
      "text/plain": [
       "<Figure size 432x288 with 1 Axes>"
      ]
     },
     "metadata": {
      "needs_background": "light"
     },
     "output_type": "display_data"
    }
   ],
   "source": [
    "df_time.Dest.value_counts().head(10).plot(kind='bar')"
   ]
  },
  {
   "cell_type": "code",
   "execution_count": 35,
   "metadata": {},
   "outputs": [
    {
     "data": {
      "text/html": [
       "<div>\n",
       "<style scoped>\n",
       "    .dataframe tbody tr th:only-of-type {\n",
       "        vertical-align: middle;\n",
       "    }\n",
       "\n",
       "    .dataframe tbody tr th {\n",
       "        vertical-align: top;\n",
       "    }\n",
       "\n",
       "    .dataframe thead th {\n",
       "        text-align: right;\n",
       "    }\n",
       "</style>\n",
       "<table border=\"1\" class=\"dataframe\">\n",
       "  <thead>\n",
       "    <tr style=\"text-align: right;\">\n",
       "      <th></th>\n",
       "      <th>Origin</th>\n",
       "      <th>Dest</th>\n",
       "      <th>ActualElapsedTime</th>\n",
       "    </tr>\n",
       "  </thead>\n",
       "  <tbody>\n",
       "    <tr>\n",
       "      <th>6608082</th>\n",
       "      <td>SFO</td>\n",
       "      <td>HNL</td>\n",
       "      <td>1090.0</td>\n",
       "    </tr>\n",
       "    <tr>\n",
       "      <th>2828314</th>\n",
       "      <td>LAX</td>\n",
       "      <td>HNL</td>\n",
       "      <td>989.0</td>\n",
       "    </tr>\n",
       "    <tr>\n",
       "      <th>7434434</th>\n",
       "      <td>EWR</td>\n",
       "      <td>HNL</td>\n",
       "      <td>836.0</td>\n",
       "    </tr>\n",
       "    <tr>\n",
       "      <th>1162131</th>\n",
       "      <td>EWR</td>\n",
       "      <td>HNL</td>\n",
       "      <td>725.0</td>\n",
       "    </tr>\n",
       "    <tr>\n",
       "      <th>7432009</th>\n",
       "      <td>EWR</td>\n",
       "      <td>HNL</td>\n",
       "      <td>711.0</td>\n",
       "    </tr>\n",
       "    <tr>\n",
       "      <th>...</th>\n",
       "      <td>...</td>\n",
       "      <td>...</td>\n",
       "      <td>...</td>\n",
       "    </tr>\n",
       "    <tr>\n",
       "      <th>2396229</th>\n",
       "      <td>EWR</td>\n",
       "      <td>HNL</td>\n",
       "      <td>639.0</td>\n",
       "    </tr>\n",
       "    <tr>\n",
       "      <th>6795233</th>\n",
       "      <td>EWR</td>\n",
       "      <td>HNL</td>\n",
       "      <td>639.0</td>\n",
       "    </tr>\n",
       "    <tr>\n",
       "      <th>1169119</th>\n",
       "      <td>ATL</td>\n",
       "      <td>HNL</td>\n",
       "      <td>639.0</td>\n",
       "    </tr>\n",
       "    <tr>\n",
       "      <th>3024201</th>\n",
       "      <td>EWR</td>\n",
       "      <td>HNL</td>\n",
       "      <td>639.0</td>\n",
       "    </tr>\n",
       "    <tr>\n",
       "      <th>6809148</th>\n",
       "      <td>EWR</td>\n",
       "      <td>HNL</td>\n",
       "      <td>639.0</td>\n",
       "    </tr>\n",
       "  </tbody>\n",
       "</table>\n",
       "<p>161 rows × 3 columns</p>\n",
       "</div>"
      ],
      "text/plain": [
       "        Origin Dest  ActualElapsedTime\n",
       "6608082    SFO  HNL             1090.0\n",
       "2828314    LAX  HNL              989.0\n",
       "7434434    EWR  HNL              836.0\n",
       "1162131    EWR  HNL              725.0\n",
       "7432009    EWR  HNL              711.0\n",
       "...        ...  ...                ...\n",
       "2396229    EWR  HNL              639.0\n",
       "6795233    EWR  HNL              639.0\n",
       "1169119    ATL  HNL              639.0\n",
       "3024201    EWR  HNL              639.0\n",
       "6809148    EWR  HNL              639.0\n",
       "\n",
       "[161 rows x 3 columns]"
      ]
     },
     "execution_count": 35,
     "metadata": {},
     "output_type": "execute_result"
    }
   ],
   "source": [
    "df_time.query('Dest == \"HNL\"').sort_values(by ='ActualElapsedTime',ascending=False)"
   ]
  },
  {
   "cell_type": "markdown",
   "metadata": {},
   "source": [
    "> Trips generally last less than 420 minutes. It would seem that the farthest place to reach in general is HNL airport. 95% of the time, when the destination is this one, the trip is harder than the others"
   ]
  },
  {
   "cell_type": "code",
   "execution_count": 36,
   "metadata": {},
   "outputs": [
    {
     "data": {
      "text/plain": [
       "Text(0.5, 0, 'CRSElapsedTime')"
      ]
     },
     "execution_count": 36,
     "metadata": {},
     "output_type": "execute_result"
    },
    {
     "data": {
      "image/png": "[encoded data removed]",
      "text/plain": [
       "<Figure size 432x288 with 1 Axes>"
      ]
     },
     "metadata": {
      "needs_background": "light"
     },
     "output_type": "display_data"
    }
   ],
   "source": [
    "#CRSElapsedTime\n",
    "df.CRSElapsedTime.plot(kind='hist', bins=60)\n",
    "plt.title('CRSElapsedTime min')\n",
    "plt.xlabel('CRSElapsedTime')"
   ]
  },
  {
   "cell_type": "code",
   "execution_count": 37,
   "metadata": {},
   "outputs": [
    {
     "data": {
      "text/plain": [
       "<pandas.core.groupby.generic.DataFrameGroupBy object at 0x0000013822C34520>"
      ]
     },
     "execution_count": 37,
     "metadata": {},
     "output_type": "execute_result"
    }
   ],
   "source": [
    "df_time.groupby(['Dest'])"
   ]
  },
  {
   "cell_type": "code",
   "execution_count": 38,
   "metadata": {},
   "outputs": [
    {
     "data": {
      "text/plain": [
       "1538199     -46.0\n",
       "566619    -1240.0\n",
       "Name: CRSElapsedTime, dtype: float64"
      ]
     },
     "execution_count": 38,
     "metadata": {},
     "output_type": "execute_result"
    }
   ],
   "source": [
    "df.query('CRSElapsedTime<0')['CRSElapsedTime'].sort_values(ascending=False)"
   ]
  },
  {
   "cell_type": "code",
   "execution_count": 39,
   "metadata": {},
   "outputs": [],
   "source": [
    "df.drop(df.query('CRSElapsedTime<0').index , inplace=True)"
   ]
  },
  {
   "cell_type": "code",
   "execution_count": 40,
   "metadata": {},
   "outputs": [
    {
     "data": {
      "text/plain": [
       "Text(0.5, 0, 'CRSElapsedTime')"
      ]
     },
     "execution_count": 40,
     "metadata": {},
     "output_type": "execute_result"
    },
    {
     "data": {
      "image/png": "[encoded data removed]",
      "text/plain": [
       "<Figure size 432x288 with 1 Axes>"
      ]
     },
     "metadata": {
      "needs_background": "light"
     },
     "output_type": "display_data"
    }
   ],
   "source": [
    "df.CRSElapsedTime.plot(kind='hist', bins=60)\n",
    "plt.title('CRSElapsedTime min')\n",
    "plt.xlabel('CRSElapsedTime')"
   ]
  },
  {
   "cell_type": "code",
   "execution_count": 41,
   "metadata": {},
   "outputs": [
    {
     "data": {
      "text/plain": [
       "6026104    1430.0\n",
       "7252332    1430.0\n",
       "1781003     660.0\n",
       "6809486     660.0\n",
       "6812831     660.0\n",
       "            ...  \n",
       "4683231     421.0\n",
       "4691074     421.0\n",
       "4695105     421.0\n",
       "4687222     421.0\n",
       "4692380     421.0\n",
       "Name: CRSElapsedTime, Length: 30669, dtype: float64"
      ]
     },
     "execution_count": 41,
     "metadata": {},
     "output_type": "execute_result"
    }
   ],
   "source": [
    "df.query('CRSElapsedTime>420')['CRSElapsedTime'].sort_values(ascending=False)"
   ]
  },
  {
   "cell_type": "markdown",
   "metadata": {},
   "source": [
    "> Estimates on the duration of a flight in the air seem good. The predicted time histogram closely approximates the actual histogram."
   ]
  },
  {
   "cell_type": "code",
   "execution_count": 42,
   "metadata": {},
   "outputs": [
    {
     "data": {
      "text/plain": [
       "Text(0.5, 0, 'ArrDelay')"
      ]
     },
     "execution_count": 42,
     "metadata": {},
     "output_type": "execute_result"
    },
    {
     "data": {
      "image/png": "[encoded data removed]",
      "text/plain": [
       "<Figure size 432x288 with 1 Axes>"
      ]
     },
     "metadata": {
      "needs_background": "light"
     },
     "output_type": "display_data"
    }
   ],
   "source": [
    "#ArrDelay\n",
    "df.CRSArrTime.plot(kind='hist', bins=24)\n",
    "plt.title('ArrDelay min')\n",
    "plt.xlabel('ArrDelay')"
   ]
  },
  {
   "cell_type": "code",
   "execution_count": 43,
   "metadata": {},
   "outputs": [
    {
     "data": {
      "text/plain": [
       "6061662    2598.0\n",
       "Name: ArrDelay, dtype: float64"
      ]
     },
     "execution_count": 43,
     "metadata": {},
     "output_type": "execute_result"
    }
   ],
   "source": [
    "df.query('ArrDelay >2400')['ArrDelay']"
   ]
  },
  {
   "cell_type": "code",
   "execution_count": 44,
   "metadata": {},
   "outputs": [
    {
     "data": {
      "text/plain": [
       "Text(0.5, 0, 'DepDelay')"
      ]
     },
     "execution_count": 44,
     "metadata": {},
     "output_type": "execute_result"
    },
    {
     "data": {
      "image/png": "[encoded data removed]",
      "text/plain": [
       "<Figure size 432x288 with 1 Axes>"
      ]
     },
     "metadata": {
      "needs_background": "light"
     },
     "output_type": "display_data"
    }
   ],
   "source": [
    "#DepDelay\n",
    "df.CRSArrTime.plot(kind='hist', bins=24)\n",
    "plt.title('DepDelay min')\n",
    "plt.xlabel('DepDelay')"
   ]
  },
  {
   "cell_type": "code",
   "execution_count": 45,
   "metadata": {},
   "outputs": [
    {
     "data": {
      "text/plain": [
       "6061662    2601.0\n",
       "Name: DepDelay, dtype: float64"
      ]
     },
     "execution_count": 45,
     "metadata": {},
     "output_type": "execute_result"
    }
   ],
   "source": [
    "df.query('DepDelay >2400')['DepDelay']"
   ]
  },
  {
   "cell_type": "code",
   "execution_count": 46,
   "metadata": {},
   "outputs": [
    {
     "data": {
      "text/plain": [
       "47.246925587662666"
      ]
     },
     "execution_count": 46,
     "metadata": {},
     "output_type": "execute_result"
    }
   ],
   "source": [
    "len(df.query('DepDelay<0')['DepDelay'])*100/len(df)"
   ]
  },
  {
   "cell_type": "markdown",
   "metadata": {},
   "source": [
    "> Delayed flights often land 1000 minutes (4:00 p.m.) later. It has even happened that a scheduled flight has reached 2500 minutes (41h) later. However, note that 47% of flights land before the scheduled time"
   ]
  },
  {
   "cell_type": "code",
   "execution_count": 47,
   "metadata": {},
   "outputs": [
    {
     "data": {
      "text/plain": [
       "Text(0.5, 1.0, 'Airport Depart')"
      ]
     },
     "execution_count": 47,
     "metadata": {},
     "output_type": "execute_result"
    },
    {
     "data": {
      "image/png": "[encoded data removed]",
      "text/plain": [
       "<Figure size 432x288 with 1 Axes>"
      ]
     },
     "metadata": {
      "needs_background": "light"
     },
     "output_type": "display_data"
    }
   ],
   "source": [
    "#Origin\n",
    "plt.figure()\n",
    "df.Origin.value_counts().head(10).plot(kind='bar')\n",
    "plt.title('Airport Depart')"
   ]
  },
  {
   "cell_type": "code",
   "execution_count": 48,
   "metadata": {},
   "outputs": [
    {
     "data": {
      "text/plain": [
       "Text(0.5, 1.0, 'Airport Arrival')"
      ]
     },
     "execution_count": 48,
     "metadata": {},
     "output_type": "execute_result"
    },
    {
     "data": {
      "image/png": "[encoded data removed]",
      "text/plain": [
       "<Figure size 432x288 with 1 Axes>"
      ]
     },
     "metadata": {
      "needs_background": "light"
     },
     "output_type": "display_data"
    }
   ],
   "source": [
    "#Dest\n",
    "plt.figure()\n",
    "df.Dest.value_counts().head(10).plot(kind='bar')\n",
    "plt.title('Airport Arrival')"
   ]
  },
  {
   "cell_type": "markdown",
   "metadata": {},
   "source": [
    "> The airports recording the most travel are in order, ATL, ORD, DFW, DEN, LAX, PHX, IAH, LAS, DTW, MSP"
   ]
  },
  {
   "cell_type": "code",
   "execution_count": 49,
   "metadata": {},
   "outputs": [
    {
     "data": {
      "text/plain": [
       "Text(0.5, 0, 'Distance')"
      ]
     },
     "execution_count": 49,
     "metadata": {},
     "output_type": "execute_result"
    },
    {
     "data": {
      "image/png": "[encoded data removed]",
      "text/plain": [
       "<Figure size 432x288 with 1 Axes>"
      ]
     },
     "metadata": {
      "needs_background": "light"
     },
     "output_type": "display_data"
    }
   ],
   "source": [
    "#Distance\n",
    "df.Distance.plot(kind='hist')\n",
    "plt.title('Distance miles')\n",
    "plt.xlabel('Distance')"
   ]
  },
  {
   "cell_type": "code",
   "execution_count": 50,
   "metadata": {},
   "outputs": [
    {
     "data": {
      "text/html": [
       "<div>\n",
       "<style scoped>\n",
       "    .dataframe tbody tr th:only-of-type {\n",
       "        vertical-align: middle;\n",
       "    }\n",
       "\n",
       "    .dataframe tbody tr th {\n",
       "        vertical-align: top;\n",
       "    }\n",
       "\n",
       "    .dataframe thead th {\n",
       "        text-align: right;\n",
       "    }\n",
       "</style>\n",
       "<table border=\"1\" class=\"dataframe\">\n",
       "  <thead>\n",
       "    <tr style=\"text-align: right;\">\n",
       "      <th></th>\n",
       "      <th>Origin</th>\n",
       "      <th>Dest</th>\n",
       "      <th>Distance</th>\n",
       "    </tr>\n",
       "  </thead>\n",
       "  <tbody>\n",
       "    <tr>\n",
       "      <th>1166010</th>\n",
       "      <td>HNL</td>\n",
       "      <td>EWR</td>\n",
       "      <td>4962</td>\n",
       "    </tr>\n",
       "    <tr>\n",
       "      <th>1154566</th>\n",
       "      <td>EWR</td>\n",
       "      <td>HNL</td>\n",
       "      <td>4962</td>\n",
       "    </tr>\n",
       "    <tr>\n",
       "      <th>1152195</th>\n",
       "      <td>EWR</td>\n",
       "      <td>HNL</td>\n",
       "      <td>4962</td>\n",
       "    </tr>\n",
       "    <tr>\n",
       "      <th>1152030</th>\n",
       "      <td>EWR</td>\n",
       "      <td>HNL</td>\n",
       "      <td>4962</td>\n",
       "    </tr>\n",
       "    <tr>\n",
       "      <th>1151770</th>\n",
       "      <td>EWR</td>\n",
       "      <td>HNL</td>\n",
       "      <td>4962</td>\n",
       "    </tr>\n",
       "    <tr>\n",
       "      <th>...</th>\n",
       "      <td>...</td>\n",
       "      <td>...</td>\n",
       "      <td>...</td>\n",
       "    </tr>\n",
       "    <tr>\n",
       "      <th>2938724</th>\n",
       "      <td>DFW</td>\n",
       "      <td>ANC</td>\n",
       "      <td>3043</td>\n",
       "    </tr>\n",
       "    <tr>\n",
       "      <th>2938725</th>\n",
       "      <td>DFW</td>\n",
       "      <td>ANC</td>\n",
       "      <td>3043</td>\n",
       "    </tr>\n",
       "    <tr>\n",
       "      <th>2938726</th>\n",
       "      <td>DFW</td>\n",
       "      <td>ANC</td>\n",
       "      <td>3043</td>\n",
       "    </tr>\n",
       "    <tr>\n",
       "      <th>2938727</th>\n",
       "      <td>DFW</td>\n",
       "      <td>ANC</td>\n",
       "      <td>3043</td>\n",
       "    </tr>\n",
       "    <tr>\n",
       "      <th>4866132</th>\n",
       "      <td>DFW</td>\n",
       "      <td>ANC</td>\n",
       "      <td>3043</td>\n",
       "    </tr>\n",
       "  </tbody>\n",
       "</table>\n",
       "<p>11229 rows × 3 columns</p>\n",
       "</div>"
      ],
      "text/plain": [
       "        Origin Dest  Distance\n",
       "1166010    HNL  EWR      4962\n",
       "1154566    EWR  HNL      4962\n",
       "1152195    EWR  HNL      4962\n",
       "1152030    EWR  HNL      4962\n",
       "1151770    EWR  HNL      4962\n",
       "...        ...  ...       ...\n",
       "2938724    DFW  ANC      3043\n",
       "2938725    DFW  ANC      3043\n",
       "2938726    DFW  ANC      3043\n",
       "2938727    DFW  ANC      3043\n",
       "4866132    DFW  ANC      3043\n",
       "\n",
       "[11229 rows x 3 columns]"
      ]
     },
     "execution_count": 50,
     "metadata": {},
     "output_type": "execute_result"
    }
   ],
   "source": [
    "df_dist = df.query('Distance>3000')[['Origin','Dest','Distance']].sort_values(by ='Distance',ascending=False)\n",
    "df_dist"
   ]
  },
  {
   "cell_type": "code",
   "execution_count": 51,
   "metadata": {},
   "outputs": [
    {
     "data": {
      "text/plain": [
       "Distance    4502.0\n",
       "Name: 0.85, dtype: float64"
      ]
     },
     "execution_count": 51,
     "metadata": {},
     "output_type": "execute_result"
    }
   ],
   "source": [
    "df_dist.quantile(q=0.85)"
   ]
  },
  {
   "cell_type": "code",
   "execution_count": 52,
   "metadata": {},
   "outputs": [
    {
     "data": {
      "text/html": [
       "<div>\n",
       "<style scoped>\n",
       "    .dataframe tbody tr th:only-of-type {\n",
       "        vertical-align: middle;\n",
       "    }\n",
       "\n",
       "    .dataframe tbody tr th {\n",
       "        vertical-align: top;\n",
       "    }\n",
       "\n",
       "    .dataframe thead th {\n",
       "        text-align: right;\n",
       "    }\n",
       "</style>\n",
       "<table border=\"1\" class=\"dataframe\">\n",
       "  <thead>\n",
       "    <tr style=\"text-align: right;\">\n",
       "      <th></th>\n",
       "      <th>Origin</th>\n",
       "      <th>Dest</th>\n",
       "      <th>Distance</th>\n",
       "    </tr>\n",
       "  </thead>\n",
       "  <tbody>\n",
       "    <tr>\n",
       "      <th>574557</th>\n",
       "      <td>EWR</td>\n",
       "      <td>HNL</td>\n",
       "      <td>4962</td>\n",
       "    </tr>\n",
       "    <tr>\n",
       "      <th>4979003</th>\n",
       "      <td>EWR</td>\n",
       "      <td>HNL</td>\n",
       "      <td>4962</td>\n",
       "    </tr>\n",
       "    <tr>\n",
       "      <th>4979281</th>\n",
       "      <td>HNL</td>\n",
       "      <td>EWR</td>\n",
       "      <td>4962</td>\n",
       "    </tr>\n",
       "    <tr>\n",
       "      <th>4979705</th>\n",
       "      <td>HNL</td>\n",
       "      <td>EWR</td>\n",
       "      <td>4962</td>\n",
       "    </tr>\n",
       "    <tr>\n",
       "      <th>4979775</th>\n",
       "      <td>HNL</td>\n",
       "      <td>EWR</td>\n",
       "      <td>4962</td>\n",
       "    </tr>\n",
       "    <tr>\n",
       "      <th>...</th>\n",
       "      <td>...</td>\n",
       "      <td>...</td>\n",
       "      <td>...</td>\n",
       "    </tr>\n",
       "    <tr>\n",
       "      <th>3025408</th>\n",
       "      <td>HNL</td>\n",
       "      <td>EWR</td>\n",
       "      <td>4962</td>\n",
       "    </tr>\n",
       "    <tr>\n",
       "      <th>3026180</th>\n",
       "      <td>EWR</td>\n",
       "      <td>HNL</td>\n",
       "      <td>4962</td>\n",
       "    </tr>\n",
       "    <tr>\n",
       "      <th>3026456</th>\n",
       "      <td>EWR</td>\n",
       "      <td>HNL</td>\n",
       "      <td>4962</td>\n",
       "    </tr>\n",
       "    <tr>\n",
       "      <th>3026946</th>\n",
       "      <td>EWR</td>\n",
       "      <td>HNL</td>\n",
       "      <td>4962</td>\n",
       "    </tr>\n",
       "    <tr>\n",
       "      <th>7434799</th>\n",
       "      <td>HNL</td>\n",
       "      <td>EWR</td>\n",
       "      <td>4962</td>\n",
       "    </tr>\n",
       "  </tbody>\n",
       "</table>\n",
       "<p>730 rows × 3 columns</p>\n",
       "</div>"
      ],
      "text/plain": [
       "        Origin Dest  Distance\n",
       "574557     EWR  HNL      4962\n",
       "4979003    EWR  HNL      4962\n",
       "4979281    HNL  EWR      4962\n",
       "4979705    HNL  EWR      4962\n",
       "4979775    HNL  EWR      4962\n",
       "...        ...  ...       ...\n",
       "3025408    HNL  EWR      4962\n",
       "3026180    EWR  HNL      4962\n",
       "3026456    EWR  HNL      4962\n",
       "3026946    EWR  HNL      4962\n",
       "7434799    HNL  EWR      4962\n",
       "\n",
       "[730 rows x 3 columns]"
      ]
     },
     "execution_count": 52,
     "metadata": {},
     "output_type": "execute_result"
    }
   ],
   "source": [
    "df_dist = df.query('Distance>4502')[['Origin','Dest','Distance']].sort_values(by ='Distance',ascending=False)\n",
    "df_dist"
   ]
  },
  {
   "cell_type": "code",
   "execution_count": 53,
   "metadata": {},
   "outputs": [
    {
     "data": {
      "text/html": [
       "<div>\n",
       "<style scoped>\n",
       "    .dataframe tbody tr th:only-of-type {\n",
       "        vertical-align: middle;\n",
       "    }\n",
       "\n",
       "    .dataframe tbody tr th {\n",
       "        vertical-align: top;\n",
       "    }\n",
       "\n",
       "    .dataframe thead th {\n",
       "        text-align: right;\n",
       "    }\n",
       "</style>\n",
       "<table border=\"1\" class=\"dataframe\">\n",
       "  <thead>\n",
       "    <tr style=\"text-align: right;\">\n",
       "      <th></th>\n",
       "      <th>Origin</th>\n",
       "      <th>Dest</th>\n",
       "      <th>Distance</th>\n",
       "    </tr>\n",
       "  </thead>\n",
       "  <tbody>\n",
       "    <tr>\n",
       "      <th>574557</th>\n",
       "      <td>EWR</td>\n",
       "      <td>HNL</td>\n",
       "      <td>4962</td>\n",
       "    </tr>\n",
       "    <tr>\n",
       "      <th>582703</th>\n",
       "      <td>EWR</td>\n",
       "      <td>HNL</td>\n",
       "      <td>4962</td>\n",
       "    </tr>\n",
       "    <tr>\n",
       "      <th>578673</th>\n",
       "      <td>EWR</td>\n",
       "      <td>HNL</td>\n",
       "      <td>4962</td>\n",
       "    </tr>\n",
       "    <tr>\n",
       "      <th>578590</th>\n",
       "      <td>EWR</td>\n",
       "      <td>HNL</td>\n",
       "      <td>4962</td>\n",
       "    </tr>\n",
       "    <tr>\n",
       "      <th>578026</th>\n",
       "      <td>EWR</td>\n",
       "      <td>HNL</td>\n",
       "      <td>4962</td>\n",
       "    </tr>\n",
       "    <tr>\n",
       "      <th>...</th>\n",
       "      <td>...</td>\n",
       "      <td>...</td>\n",
       "      <td>...</td>\n",
       "    </tr>\n",
       "    <tr>\n",
       "      <th>7433923</th>\n",
       "      <td>EWR</td>\n",
       "      <td>HNL</td>\n",
       "      <td>4962</td>\n",
       "    </tr>\n",
       "    <tr>\n",
       "      <th>7433807</th>\n",
       "      <td>EWR</td>\n",
       "      <td>HNL</td>\n",
       "      <td>4962</td>\n",
       "    </tr>\n",
       "    <tr>\n",
       "      <th>7433342</th>\n",
       "      <td>EWR</td>\n",
       "      <td>HNL</td>\n",
       "      <td>4962</td>\n",
       "    </tr>\n",
       "    <tr>\n",
       "      <th>7433278</th>\n",
       "      <td>EWR</td>\n",
       "      <td>HNL</td>\n",
       "      <td>4962</td>\n",
       "    </tr>\n",
       "    <tr>\n",
       "      <th>3026946</th>\n",
       "      <td>EWR</td>\n",
       "      <td>HNL</td>\n",
       "      <td>4962</td>\n",
       "    </tr>\n",
       "  </tbody>\n",
       "</table>\n",
       "<p>365 rows × 3 columns</p>\n",
       "</div>"
      ],
      "text/plain": [
       "        Origin Dest  Distance\n",
       "574557     EWR  HNL      4962\n",
       "582703     EWR  HNL      4962\n",
       "578673     EWR  HNL      4962\n",
       "578590     EWR  HNL      4962\n",
       "578026     EWR  HNL      4962\n",
       "...        ...  ...       ...\n",
       "7433923    EWR  HNL      4962\n",
       "7433807    EWR  HNL      4962\n",
       "7433342    EWR  HNL      4962\n",
       "7433278    EWR  HNL      4962\n",
       "3026946    EWR  HNL      4962\n",
       "\n",
       "[365 rows x 3 columns]"
      ]
     },
     "execution_count": 53,
     "metadata": {},
     "output_type": "execute_result"
    }
   ],
   "source": [
    "df_dist.query('Dest == \"HNL\"').sort_values(by ='Distance',ascending=False)"
   ]
  },
  {
   "cell_type": "markdown",
   "metadata": {},
   "source": [
    "> Trips are generally a maximum of 3000 miles. It would seem that the farthest place to reach in general is HNL airport. 85% of the time, when the destination is this one, the trip is longer than the others"
   ]
  },
  {
   "cell_type": "code",
   "execution_count": 54,
   "metadata": {},
   "outputs": [
    {
     "data": {
      "text/plain": [
       "Text(0.5, 0, 'TaxiIn')"
      ]
     },
     "execution_count": 54,
     "metadata": {},
     "output_type": "execute_result"
    },
    {
     "data": {
      "image/png": "[encoded data removed]",
      "text/plain": [
       "<Figure size 432x288 with 1 Axes>"
      ]
     },
     "metadata": {
      "needs_background": "light"
     },
     "output_type": "display_data"
    }
   ],
   "source": [
    "#TaxiIn\n",
    "df.TaxiIn.plot(kind='hist', bins=60)\n",
    "plt.title('TaxiIn min')\n",
    "plt.xlabel('TaxiIn')"
   ]
  },
  {
   "cell_type": "code",
   "execution_count": 55,
   "metadata": {},
   "outputs": [
    {
     "data": {
      "text/plain": [
       "1137098    545\n",
       "1136659    486\n",
       "1136778    459\n",
       "775498     353\n",
       "1136654    353\n",
       "          ... \n",
       "2905448     41\n",
       "5361918     41\n",
       "5363269     41\n",
       "2866917     41\n",
       "4302812     41\n",
       "Name: TaxiIn, Length: 17202, dtype: int64"
      ]
     },
     "execution_count": 55,
     "metadata": {},
     "output_type": "execute_result"
    }
   ],
   "source": [
    "df.query('TaxiIn>40')['TaxiIn'].sort_values(ascending=False)"
   ]
  },
  {
   "cell_type": "code",
   "execution_count": 56,
   "metadata": {},
   "outputs": [
    {
     "data": {
      "text/plain": [
       "Text(0.5, 0, 'TaxiOut')"
      ]
     },
     "execution_count": 56,
     "metadata": {},
     "output_type": "execute_result"
    },
    {
     "data": {
      "image/png": "[encoded data removed]",
      "text/plain": [
       "<Figure size 432x288 with 1 Axes>"
      ]
     },
     "metadata": {
      "needs_background": "light"
     },
     "output_type": "display_data"
    }
   ],
   "source": [
    "#TaxiOut\n",
    "df.TaxiIn.plot(kind='hist', bins=60)\n",
    "plt.title('TaxiOut min')\n",
    "plt.xlabel('TaxiOut')"
   ]
  },
  {
   "cell_type": "code",
   "execution_count": 57,
   "metadata": {},
   "outputs": [
    {
     "data": {
      "text/plain": [
       "7025465    530\n",
       "1136857    435\n",
       "1185812    403\n",
       "7025468    400\n",
       "2553986    392\n",
       "          ... \n",
       "6546684     41\n",
       "5320451     41\n",
       "7155573     41\n",
       "6546810     41\n",
       "5981679     41\n",
       "Name: TaxiOut, Length: 251130, dtype: int64"
      ]
     },
     "execution_count": 57,
     "metadata": {},
     "output_type": "execute_result"
    }
   ],
   "source": [
    "df.query('TaxiOut>40')['TaxiOut'].sort_values(ascending=False)"
   ]
  },
  {
   "cell_type": "code",
   "execution_count": 58,
   "metadata": {},
   "outputs": [
    {
     "data": {
      "text/plain": [
       "Text(0.5, 1.0, 'Cancelled travel %')"
      ]
     },
     "execution_count": 58,
     "metadata": {},
     "output_type": "execute_result"
    },
    {
     "data": {
      "image/png": "[encoded data removed]",
      "text/plain": [
       "<Figure size 432x288 with 1 Axes>"
      ]
     },
     "metadata": {},
     "output_type": "display_data"
    }
   ],
   "source": [
    "#Cancelled\n",
    "df.Cancelled.value_counts().plot(kind='pie',autopct='%1.2f%%')\n",
    "plt.legend()\n",
    "plt.title('Cancelled travel %')"
   ]
  },
  {
   "cell_type": "code",
   "execution_count": 59,
   "metadata": {},
   "outputs": [
    {
     "data": {
      "text/plain": [
       "Text(0.5, 1.0, 'Cancelled motif')"
      ]
     },
     "execution_count": 59,
     "metadata": {},
     "output_type": "execute_result"
    },
    {
     "data": {
      "image/png": "[encoded data removed]",
      "text/plain": [
       "<Figure size 432x288 with 1 Axes>"
      ]
     },
     "metadata": {
      "needs_background": "light"
     },
     "output_type": "display_data"
    }
   ],
   "source": [
    "#CancellationCode\n",
    "df.CancellationCode.value_counts().plot(kind='bar')\n",
    "plt.title('Cancelled motif')"
   ]
  },
  {
   "cell_type": "markdown",
   "metadata": {},
   "source": [
    "> Only 2% of flights are cancelled. The two main reasons are: carrier and weather"
   ]
  },
  {
   "cell_type": "code",
   "execution_count": 60,
   "metadata": {},
   "outputs": [
    {
     "data": {
      "text/plain": [
       "Text(0.5, 1.0, 'Diverted travel %')"
      ]
     },
     "execution_count": 60,
     "metadata": {},
     "output_type": "execute_result"
    },
    {
     "data": {
      "image/png": "[encoded data removed]",
      "text/plain": [
       "<Figure size 432x288 with 1 Axes>"
      ]
     },
     "metadata": {},
     "output_type": "display_data"
    }
   ],
   "source": [
    "#Diverted\n",
    "df.Diverted.value_counts().plot(kind='pie',autopct='%1.2f%%')\n",
    "plt.legend()\n",
    "plt.title('Diverted travel %')"
   ]
  },
  {
   "cell_type": "markdown",
   "metadata": {},
   "source": [
    "> A tiny part of the flights was hijacked, 0.23%"
   ]
  },
  {
   "cell_type": "code",
   "execution_count": 61,
   "metadata": {},
   "outputs": [
    {
     "data": {
      "text/plain": [
       "Text(0.5, 0, 'CarrierDelay')"
      ]
     },
     "execution_count": 61,
     "metadata": {},
     "output_type": "execute_result"
    },
    {
     "data": {
      "image/png": "[encoded data removed]",
      "text/plain": [
       "<Figure size 432x288 with 1 Axes>"
      ]
     },
     "metadata": {
      "needs_background": "light"
     },
     "output_type": "display_data"
    }
   ],
   "source": [
    "#CarrierDelay\n",
    "df.CarrierDelay.plot(kind='hist', bins=60)\n",
    "plt.title('CarrierDelay min')\n",
    "plt.xlabel('CarrierDelay')"
   ]
  },
  {
   "cell_type": "code",
   "execution_count": 62,
   "metadata": {
    "scrolled": true
   },
   "outputs": [
    {
     "data": {
      "text/plain": [
       "6061662    2580\n",
       "7299451    1942\n",
       "6060526    1831\n",
       "6082457    1715\n",
       "5439037    1665\n",
       "           ... \n",
       "1780801     121\n",
       "7077974     121\n",
       "1489458     121\n",
       "4041225     121\n",
       "5933593     121\n",
       "Name: CarrierDelay, Length: 39564, dtype: int64"
      ]
     },
     "execution_count": 62,
     "metadata": {},
     "output_type": "execute_result"
    }
   ],
   "source": [
    "df.query('CarrierDelay>120')['CarrierDelay'].sort_values(ascending=False)"
   ]
  },
  {
   "cell_type": "code",
   "execution_count": 63,
   "metadata": {},
   "outputs": [
    {
     "data": {
      "text/plain": [
       "Text(0.5, 0, 'NASDelay')"
      ]
     },
     "execution_count": 63,
     "metadata": {},
     "output_type": "execute_result"
    },
    {
     "data": {
      "image/png": "[encoded data removed]",
      "text/plain": [
       "<Figure size 432x288 with 1 Axes>"
      ]
     },
     "metadata": {
      "needs_background": "light"
     },
     "output_type": "display_data"
    }
   ],
   "source": [
    "#NASDelay\n",
    "df.WeatherDelay.plot(kind='hist', bins=60)\n",
    "plt.title('NASDelay min')\n",
    "plt.xlabel('NASDelay')"
   ]
  },
  {
   "cell_type": "code",
   "execution_count": 64,
   "metadata": {
    "scrolled": true
   },
   "outputs": [
    {
     "data": {
      "text/plain": [
       "4230378    1386\n",
       "2857190    1352\n",
       "1643023    1324\n",
       "7242415    1321\n",
       "4157828    1270\n",
       "           ... \n",
       "6026605     121\n",
       "3381791     121\n",
       "6039144     121\n",
       "6040612     121\n",
       "7060803     121\n",
       "Name: NASDelay, Length: 29961, dtype: int64"
      ]
     },
     "execution_count": 64,
     "metadata": {},
     "output_type": "execute_result"
    }
   ],
   "source": [
    "df.query('NASDelay>120')['NASDelay'].sort_values(ascending=False)"
   ]
  },
  {
   "cell_type": "code",
   "execution_count": 65,
   "metadata": {},
   "outputs": [
    {
     "data": {
      "text/plain": [
       "Text(0.5, 0, 'SecurityDelay')"
      ]
     },
     "execution_count": 65,
     "metadata": {},
     "output_type": "execute_result"
    },
    {
     "data": {
      "image/png": "[encoded data removed]",
      "text/plain": [
       "<Figure size 432x288 with 1 Axes>"
      ]
     },
     "metadata": {
      "needs_background": "light"
     },
     "output_type": "display_data"
    }
   ],
   "source": [
    "#SecurityDelay\n",
    "df.CarrierDelay.plot(kind='hist', bins=60)\n",
    "plt.title('SecurityDelay min')\n",
    "plt.xlabel('SecurityDelay')"
   ]
  },
  {
   "cell_type": "code",
   "execution_count": 66,
   "metadata": {
    "scrolled": true
   },
   "outputs": [
    {
     "data": {
      "text/plain": [
       "1701614    382\n",
       "5019603    366\n",
       "739315     357\n",
       "6985047    299\n",
       "6336981    297\n",
       "          ... \n",
       "418388     126\n",
       "5624121    124\n",
       "2780709    123\n",
       "789322     121\n",
       "4511620    121\n",
       "Name: SecurityDelay, Length: 113, dtype: int64"
      ]
     },
     "execution_count": 66,
     "metadata": {},
     "output_type": "execute_result"
    }
   ],
   "source": [
    "df.query('SecurityDelay>120')['SecurityDelay'].sort_values(ascending=False)"
   ]
  },
  {
   "cell_type": "code",
   "execution_count": 67,
   "metadata": {},
   "outputs": [
    {
     "data": {
      "text/plain": [
       "Text(0.5, 0, 'LateAircraftDelay')"
      ]
     },
     "execution_count": 67,
     "metadata": {},
     "output_type": "execute_result"
    },
    {
     "data": {
      "image/png": "[encoded data removed]",
      "text/plain": [
       "<Figure size 432x288 with 1 Axes>"
      ]
     },
     "metadata": {
      "needs_background": "light"
     },
     "output_type": "display_data"
    }
   ],
   "source": [
    "#LateAircraftDelay\n",
    "df.CarrierDelay.plot(kind='hist', bins=60)\n",
    "plt.title('LateAircraftDelay min')\n",
    "plt.xlabel('LateAircraftDelay')"
   ]
  },
  {
   "cell_type": "code",
   "execution_count": 68,
   "metadata": {},
   "outputs": [
    {
     "data": {
      "text/plain": [
       "6669348    1031\n",
       "3304430    1014\n",
       "1019198    1011\n",
       "1486680    1003\n",
       "2357337     996\n",
       "           ... \n",
       "824053      121\n",
       "3799974     121\n",
       "3005914     121\n",
       "4272151     121\n",
       "4855003     121\n",
       "Name: LateAircraftDelay, Length: 58705, dtype: int64"
      ]
     },
     "execution_count": 68,
     "metadata": {},
     "output_type": "execute_result"
    }
   ],
   "source": [
    "df.query('LateAircraftDelay>120')['LateAircraftDelay'].sort_values(ascending=False)"
   ]
  },
  {
   "cell_type": "markdown",
   "metadata": {
    "scrolled": true
   },
   "source": [
    "> Regardless of the reasons for a flight delay, the flight generally takes off within 2 hours. But in case of carrier it can take much longer than usual"
   ]
  },
  {
   "cell_type": "markdown",
   "metadata": {},
   "source": [
    "### Discuss the distribution(s) of your variable(s) of interest. Were there any unusual points? Did you need to perform any transformations?\n",
    "\n",
    "> For the CRSElapsedTime variable, an inappropriate value had to be deleted. As for the others, the valuers can be considered good.\n",
    "\n",
    "### Of the features you investigated, were there any unusual distributions? Did you perform any operations on the data to tidy, adjust, or change the form of the data? If so, why did you do this?\n",
    "\n",
    "> In the distance, we noticed that the values related to flights on Hawaii are very far from the others, which is quite normal. So we didn't touch that."
   ]
  },
  {
   "cell_type": "markdown",
   "metadata": {},
   "source": [
    "## Bivariate Exploration"
   ]
  },
  {
   "cell_type": "code",
   "execution_count": 69,
   "metadata": {
    "scrolled": true
   },
   "outputs": [
    {
     "data": {
      "text/plain": [
       "Text(0.5, 1.0, 'Correlation between Distance and Travel time')"
      ]
     },
     "execution_count": 69,
     "metadata": {},
     "output_type": "execute_result"
    },
    {
     "data": {
      "image/png": "[encoded data removed]",
      "text/plain": [
       "<Figure size 432x288 with 1 Axes>"
      ]
     },
     "metadata": {
      "needs_background": "light"
     },
     "output_type": "display_data"
    }
   ],
   "source": [
    "#Distance and ActualElapsedTime\n",
    "plt.scatter(data=df,x='Distance',y='ActualElapsedTime')\n",
    "plt.ylabel('Elapsed time')\n",
    "plt.xlabel('Distance')\n",
    "plt.title('Correlation between Distance and Travel time')"
   ]
  },
  {
   "cell_type": "code",
   "execution_count": 70,
   "metadata": {},
   "outputs": [],
   "source": [
    "df.drop(df.query('ActualElapsedTime>800').index , inplace=True)"
   ]
  },
  {
   "cell_type": "markdown",
   "metadata": {},
   "source": [
    "> It can be seen that there is a correlation between the two variables. Indeed, the greater the distance, the longer the trip takes. However, outliers are observed. We decided to delete them for a better analysis"
   ]
  },
  {
   "cell_type": "code",
   "execution_count": 71,
   "metadata": {},
   "outputs": [
    {
     "data": {
      "text/plain": [
       "Text(0.5, 1.0, 'Correlation between Dep and Arrival delay')"
      ]
     },
     "execution_count": 71,
     "metadata": {},
     "output_type": "execute_result"
    },
    {
     "data": {
      "image/png": "[encoded data removed]",
      "text/plain": [
       "<Figure size 432x288 with 1 Axes>"
      ]
     },
     "metadata": {
      "needs_background": "light"
     },
     "output_type": "display_data"
    }
   ],
   "source": [
    "# ArrDelay and DepDelay\n",
    "plt.scatter(data=df,x='ArrDelay',y='DepDelay')\n",
    "plt.xlabel('Arrival delay')\n",
    "plt.ylabel('Dep delay')\n",
    "plt.title('Correlation between Dep and Arrival delay')"
   ]
  },
  {
   "cell_type": "markdown",
   "metadata": {},
   "source": [
    "> It can be seen that there is a correlation between the two variables. Indeed, the more the departure time is delayed, the more the arrival time is too. Which is completely normal."
   ]
  },
  {
   "cell_type": "code",
   "execution_count": 72,
   "metadata": {},
   "outputs": [
    {
     "data": {
      "text/plain": [
       "Text(0.5, 1.0, 'Carrier with most Dep Delay')"
      ]
     },
     "execution_count": 72,
     "metadata": {},
     "output_type": "execute_result"
    },
    {
     "data": {
      "image/png": "[encoded data removed]",
      "text/plain": [
       "<Figure size 432x288 with 1 Axes>"
      ]
     },
     "metadata": {
      "needs_background": "light"
     },
     "output_type": "display_data"
    }
   ],
   "source": [
    "# UniqueCarrier and DepDelay\n",
    "df_late=df[df.DepDelay > 0]\n",
    "order2 = df_late.groupby(['UniqueCarrier']).DepDelay.mean().sort_values(ascending=False).index\n",
    "sns.barplot(data=df_late, x='UniqueCarrier',y='DepDelay',order=order2)\n",
    "plt.title('Carrier with most Dep Delay')"
   ]
  },
  {
   "cell_type": "markdown",
   "metadata": {},
   "source": [
    "> In the event of inconvenience causing a delay, companies YV, CH and B6 take a long time before taking off. AQ is the most responsive."
   ]
  },
  {
   "cell_type": "code",
   "execution_count": 73,
   "metadata": {},
   "outputs": [
    {
     "data": {
      "text/plain": [
       "Text(0.5, 1.0, 'Airport with most Dep Delay')"
      ]
     },
     "execution_count": 73,
     "metadata": {},
     "output_type": "execute_result"
    },
    {
     "data": {
      "image/png": "[encoded data removed]",
      "text/plain": [
       "<Figure size 432x288 with 1 Axes>"
      ]
     },
     "metadata": {
      "needs_background": "light"
     },
     "output_type": "display_data"
    }
   ],
   "source": [
    "# Origin and DepDelay\n",
    "plt.figure()\n",
    "airport = df.Origin.value_counts().head(10).index.tolist()\n",
    "df_airport = df[df.Origin.isin(airport)]\n",
    "order3 = df_airport.groupby(['Origin']).DepDelay.mean().sort_values(ascending=False).index\n",
    "sns.barplot(data=df_airport, x='Origin',y='DepDelay',order=order3)\n",
    "plt.title('Airport with most Dep Delay')"
   ]
  },
  {
   "cell_type": "markdown",
   "metadata": {},
   "source": [
    "> The airport where the most delays are recorded is ORD airport. It is followed successively by DFW, ATL, DEN and LAS."
   ]
  },
  {
   "cell_type": "code",
   "execution_count": 74,
   "metadata": {
    "scrolled": true
   },
   "outputs": [
    {
     "data": {
      "text/plain": [
       "Text(0.5, 1.0, 'Airport with most booking carrier')"
      ]
     },
     "execution_count": 74,
     "metadata": {},
     "output_type": "execute_result"
    },
    {
     "data": {
      "image/png": "[encoded data removed]",
      "text/plain": [
       "<Figure size 432x288 with 1 Axes>"
      ]
     },
     "metadata": {
      "needs_background": "light"
     },
     "output_type": "display_data"
    }
   ],
   "source": [
    "#Origin and UniqueCarrier\n",
    "plt.figure()\n",
    "airport = df.Origin.value_counts().head(10).index.tolist()\n",
    "aircomp= df.UniqueCarrier.value_counts().head(3).index.tolist()\n",
    "df_airport = df[df.Origin.isin(airport)]\n",
    "df_airport_aircomp = df_airport[df_airport.UniqueCarrier.isin(aircomp)]\n",
    "sns.countplot(data=df_airport_aircomp, x='Origin',hue='UniqueCarrier')\n",
    "plt.title('Airport with most booking carrier')"
   ]
  },
  {
   "cell_type": "markdown",
   "metadata": {},
   "source": [
    "> We note that companies are privileged in certain airports. At DFW, AA manages a large majority of trips"
   ]
  },
  {
   "cell_type": "code",
   "execution_count": 75,
   "metadata": {},
   "outputs": [],
   "source": [
    "cancelled = df.query('Cancelled == 1')"
   ]
  },
  {
   "cell_type": "code",
   "execution_count": 76,
   "metadata": {},
   "outputs": [
    {
     "data": {
      "text/plain": [
       "Text(0.5, 1.0, 'The routes that cause the most cancellations')"
      ]
     },
     "execution_count": 76,
     "metadata": {},
     "output_type": "execute_result"
    },
    {
     "data": {
      "image/png": "[encoded data removed]",
      "text/plain": [
       "<Figure size 432x288 with 1 Axes>"
      ]
     },
     "metadata": {
      "needs_background": "light"
     },
     "output_type": "display_data"
    }
   ],
   "source": [
    "#Origin and Dest\n",
    "plt.figure()\n",
    "can_ori = cancelled.Origin.value_counts().head(10).index.tolist()\n",
    "cancelled_airport = cancelled[cancelled.Origin.isin(can_ori)]\n",
    "can_dest = cancelled_airport.Dest.value_counts().head(5).index.tolist()\n",
    "can_routes = cancelled_airport[cancelled_airport.Dest.isin(can_dest)]\n",
    "sns.countplot(data=can_routes, x='Origin',hue='Dest')\n",
    "plt.title('The routes that cause the most cancellations')"
   ]
  },
  {
   "cell_type": "markdown",
   "metadata": {},
   "source": [
    "> This graph allows us to have an overview of the routes with the most canceled flights"
   ]
  },
  {
   "cell_type": "code",
   "execution_count": 77,
   "metadata": {},
   "outputs": [
    {
     "data": {
      "text/plain": [
       "Text(0.5, 1.0, 'Cancelattion reasons per airport')"
      ]
     },
     "execution_count": 77,
     "metadata": {},
     "output_type": "execute_result"
    },
    {
     "data": {
      "image/png": "[encoded data removed]",
      "text/plain": [
       "<Figure size 432x288 with 1 Axes>"
      ]
     },
     "metadata": {
      "needs_background": "light"
     },
     "output_type": "display_data"
    }
   ],
   "source": [
    "#Origin and CancellationCode\n",
    "sns.countplot(data=cancelled_airport, x='Origin',hue='CancellationCode')\n",
    "plt.title('Cancelattion reasons per airport')"
   ]
  },
  {
   "cell_type": "markdown",
   "metadata": {},
   "source": [
    "> This graph allows us to have an overview of the reasons for cancellation of trips in each city"
   ]
  },
  {
   "cell_type": "markdown",
   "metadata": {},
   "source": [
    "### Talk about some of the relationships you observed in this part of the investigation. How did the feature(s) of interest vary with other features in the dataset?\n",
    "\n",
    "> During the investigation, it was noticed that there is a correlation between the distance and the duration of the flights. In addition, we note that on the whole each company has operated in its own way. each presents unique and unique data\n",
    "\n",
    "### Did you observe any interesting relationships between the other features (not the main feature(s) of interest)?\n",
    "\n",
    "> The other variables have no common characteristics"
   ]
  },
  {
   "cell_type": "markdown",
   "metadata": {},
   "source": [
    "## Multivariate Exploration"
   ]
  },
  {
   "cell_type": "code",
   "execution_count": 78,
   "metadata": {},
   "outputs": [],
   "source": [
    "df2= df.query('Diverted==1')"
   ]
  },
  {
   "cell_type": "code",
   "execution_count": 79,
   "metadata": {},
   "outputs": [
    {
     "data": {
      "text/plain": [
       "Index(['Year', 'Month', 'DayofMonth', 'DayOfWeek', 'DepTime', 'CRSDepTime',\n",
       "       'ArrTime', 'CRSArrTime', 'UniqueCarrier', 'FlightNum', 'TailNum',\n",
       "       'ActualElapsedTime', 'CRSElapsedTime', 'AirTime', 'ArrDelay',\n",
       "       'DepDelay', 'Origin', 'Dest', 'Distance', 'TaxiIn', 'TaxiOut',\n",
       "       'Cancelled', 'CancellationCode', 'Diverted', 'CarrierDelay',\n",
       "       'WeatherDelay', 'NASDelay', 'SecurityDelay', 'LateAircraftDelay'],\n",
       "      dtype='object')"
      ]
     },
     "execution_count": 79,
     "metadata": {},
     "output_type": "execute_result"
    }
   ],
   "source": [
    "df2.columns"
   ]
  },
  {
   "cell_type": "code",
   "execution_count": 80,
   "metadata": {},
   "outputs": [
    {
     "data": {
      "text/html": [
       "<div>\n",
       "<style scoped>\n",
       "    .dataframe tbody tr th:only-of-type {\n",
       "        vertical-align: middle;\n",
       "    }\n",
       "\n",
       "    .dataframe tbody tr th {\n",
       "        vertical-align: top;\n",
       "    }\n",
       "\n",
       "    .dataframe thead th {\n",
       "        text-align: right;\n",
       "    }\n",
       "</style>\n",
       "<table border=\"1\" class=\"dataframe\">\n",
       "  <thead>\n",
       "    <tr style=\"text-align: right;\">\n",
       "      <th></th>\n",
       "      <th>Month</th>\n",
       "      <th>DayofMonth</th>\n",
       "      <th>DayOfWeek</th>\n",
       "      <th>UniqueCarrier</th>\n",
       "      <th>CRSDepTime</th>\n",
       "      <th>DepTime</th>\n",
       "      <th>Origin</th>\n",
       "      <th>Dest</th>\n",
       "      <th>Distance</th>\n",
       "    </tr>\n",
       "  </thead>\n",
       "  <tbody>\n",
       "    <tr>\n",
       "      <th>165355</th>\n",
       "      <td>1</td>\n",
       "      <td>16</td>\n",
       "      <td>2</td>\n",
       "      <td>OH</td>\n",
       "      <td>1150</td>\n",
       "      <td>1310.0</td>\n",
       "      <td>SRQ</td>\n",
       "      <td>CVG</td>\n",
       "      <td>812</td>\n",
       "    </tr>\n",
       "    <tr>\n",
       "      <th>4362379</th>\n",
       "      <td>8</td>\n",
       "      <td>5</td>\n",
       "      <td>7</td>\n",
       "      <td>WN</td>\n",
       "      <td>1255</td>\n",
       "      <td>1248.0</td>\n",
       "      <td>SAN</td>\n",
       "      <td>MDW</td>\n",
       "      <td>1728</td>\n",
       "    </tr>\n",
       "    <tr>\n",
       "      <th>5975760</th>\n",
       "      <td>10</td>\n",
       "      <td>7</td>\n",
       "      <td>7</td>\n",
       "      <td>FL</td>\n",
       "      <td>1221</td>\n",
       "      <td>1221.0</td>\n",
       "      <td>ATL</td>\n",
       "      <td>BUF</td>\n",
       "      <td>712</td>\n",
       "    </tr>\n",
       "  </tbody>\n",
       "</table>\n",
       "</div>"
      ],
      "text/plain": [
       "         Month  DayofMonth  DayOfWeek UniqueCarrier  CRSDepTime  DepTime  \\\n",
       "165355       1          16          2            OH        1150   1310.0   \n",
       "4362379      8           5          7            WN        1255   1248.0   \n",
       "5975760     10           7          7            FL        1221   1221.0   \n",
       "\n",
       "        Origin Dest  Distance  \n",
       "165355     SRQ  CVG       812  \n",
       "4362379    SAN  MDW      1728  \n",
       "5975760    ATL  BUF       712  "
      ]
     },
     "execution_count": 80,
     "metadata": {},
     "output_type": "execute_result"
    }
   ],
   "source": [
    "df2 = df2[['Month', 'DayofMonth', 'DayOfWeek', 'UniqueCarrier', 'CRSDepTime', 'DepTime','Origin','Dest', 'Distance']]\n",
    "df2.sample(3)"
   ]
  },
  {
   "cell_type": "code",
   "execution_count": 81,
   "metadata": {},
   "outputs": [
    {
     "data": {
      "text/plain": [
       "Text(0.5, 1.0, 'Current boarding time')"
      ]
     },
     "execution_count": 81,
     "metadata": {},
     "output_type": "execute_result"
    },
    {
     "data": {
      "image/png": "[encoded data removed]",
      "text/plain": [
       "<Figure size 432x288 with 1 Axes>"
      ]
     },
     "metadata": {
      "needs_background": "light"
     },
     "output_type": "display_data"
    }
   ],
   "source": [
    "vars = [\"CRSDepTime\",\"DepTime\"]\n",
    "sns.boxplot(data = df2[vars].sample(10000))\n",
    "plt.title('Current boarding time')"
   ]
  },
  {
   "cell_type": "code",
   "execution_count": 82,
   "metadata": {},
   "outputs": [
    {
     "data": {
      "text/html": [
       "<div>\n",
       "<style scoped>\n",
       "    .dataframe tbody tr th:only-of-type {\n",
       "        vertical-align: middle;\n",
       "    }\n",
       "\n",
       "    .dataframe tbody tr th {\n",
       "        vertical-align: top;\n",
       "    }\n",
       "\n",
       "    .dataframe thead th {\n",
       "        text-align: right;\n",
       "    }\n",
       "</style>\n",
       "<table border=\"1\" class=\"dataframe\">\n",
       "  <thead>\n",
       "    <tr style=\"text-align: right;\">\n",
       "      <th></th>\n",
       "      <th>Month</th>\n",
       "      <th>DayofMonth</th>\n",
       "      <th>DayOfWeek</th>\n",
       "      <th>UniqueCarrier</th>\n",
       "      <th>CRSDepTime</th>\n",
       "      <th>DepTime</th>\n",
       "      <th>Origin</th>\n",
       "      <th>Dest</th>\n",
       "      <th>Distance</th>\n",
       "    </tr>\n",
       "  </thead>\n",
       "  <tbody>\n",
       "    <tr>\n",
       "      <th>count</th>\n",
       "      <td>17179.00000</td>\n",
       "      <td>17179.000000</td>\n",
       "      <td>17179.000000</td>\n",
       "      <td>17179</td>\n",
       "      <td>17179.000000</td>\n",
       "      <td>17179.000000</td>\n",
       "      <td>17179</td>\n",
       "      <td>17179</td>\n",
       "      <td>17179.000000</td>\n",
       "    </tr>\n",
       "    <tr>\n",
       "      <th>unique</th>\n",
       "      <td>NaN</td>\n",
       "      <td>NaN</td>\n",
       "      <td>NaN</td>\n",
       "      <td>20</td>\n",
       "      <td>NaN</td>\n",
       "      <td>NaN</td>\n",
       "      <td>272</td>\n",
       "      <td>271</td>\n",
       "      <td>NaN</td>\n",
       "    </tr>\n",
       "    <tr>\n",
       "      <th>top</th>\n",
       "      <td>NaN</td>\n",
       "      <td>NaN</td>\n",
       "      <td>NaN</td>\n",
       "      <td>AA</td>\n",
       "      <td>NaN</td>\n",
       "      <td>NaN</td>\n",
       "      <td>ATL</td>\n",
       "      <td>DFW</td>\n",
       "      <td>NaN</td>\n",
       "    </tr>\n",
       "    <tr>\n",
       "      <th>freq</th>\n",
       "      <td>NaN</td>\n",
       "      <td>NaN</td>\n",
       "      <td>NaN</td>\n",
       "      <td>2097</td>\n",
       "      <td>NaN</td>\n",
       "      <td>NaN</td>\n",
       "      <td>920</td>\n",
       "      <td>1948</td>\n",
       "      <td>NaN</td>\n",
       "    </tr>\n",
       "    <tr>\n",
       "      <th>mean</th>\n",
       "      <td>6.46778</td>\n",
       "      <td>16.239304</td>\n",
       "      <td>3.889574</td>\n",
       "      <td>NaN</td>\n",
       "      <td>1319.734327</td>\n",
       "      <td>1347.600035</td>\n",
       "      <td>NaN</td>\n",
       "      <td>NaN</td>\n",
       "      <td>936.076139</td>\n",
       "    </tr>\n",
       "    <tr>\n",
       "      <th>std</th>\n",
       "      <td>3.19982</td>\n",
       "      <td>8.742754</td>\n",
       "      <td>1.942525</td>\n",
       "      <td>NaN</td>\n",
       "      <td>438.986813</td>\n",
       "      <td>466.295527</td>\n",
       "      <td>NaN</td>\n",
       "      <td>NaN</td>\n",
       "      <td>631.116412</td>\n",
       "    </tr>\n",
       "    <tr>\n",
       "      <th>min</th>\n",
       "      <td>1.00000</td>\n",
       "      <td>1.000000</td>\n",
       "      <td>1.000000</td>\n",
       "      <td>NaN</td>\n",
       "      <td>10.000000</td>\n",
       "      <td>3.000000</td>\n",
       "      <td>NaN</td>\n",
       "      <td>NaN</td>\n",
       "      <td>30.000000</td>\n",
       "    </tr>\n",
       "    <tr>\n",
       "      <th>25%</th>\n",
       "      <td>4.00000</td>\n",
       "      <td>9.000000</td>\n",
       "      <td>2.000000</td>\n",
       "      <td>NaN</td>\n",
       "      <td>950.000000</td>\n",
       "      <td>1004.000000</td>\n",
       "      <td>NaN</td>\n",
       "      <td>NaN</td>\n",
       "      <td>483.000000</td>\n",
       "    </tr>\n",
       "    <tr>\n",
       "      <th>50%</th>\n",
       "      <td>7.00000</td>\n",
       "      <td>16.000000</td>\n",
       "      <td>4.000000</td>\n",
       "      <td>NaN</td>\n",
       "      <td>1325.000000</td>\n",
       "      <td>1348.000000</td>\n",
       "      <td>NaN</td>\n",
       "      <td>NaN</td>\n",
       "      <td>802.000000</td>\n",
       "    </tr>\n",
       "    <tr>\n",
       "      <th>75%</th>\n",
       "      <td>9.00000</td>\n",
       "      <td>24.000000</td>\n",
       "      <td>5.000000</td>\n",
       "      <td>NaN</td>\n",
       "      <td>1650.000000</td>\n",
       "      <td>1715.000000</td>\n",
       "      <td>NaN</td>\n",
       "      <td>NaN</td>\n",
       "      <td>1188.500000</td>\n",
       "    </tr>\n",
       "    <tr>\n",
       "      <th>max</th>\n",
       "      <td>12.00000</td>\n",
       "      <td>31.000000</td>\n",
       "      <td>7.000000</td>\n",
       "      <td>NaN</td>\n",
       "      <td>2359.000000</td>\n",
       "      <td>2400.000000</td>\n",
       "      <td>NaN</td>\n",
       "      <td>NaN</td>\n",
       "      <td>4962.000000</td>\n",
       "    </tr>\n",
       "  </tbody>\n",
       "</table>\n",
       "</div>"
      ],
      "text/plain": [
       "              Month    DayofMonth     DayOfWeek UniqueCarrier    CRSDepTime  \\\n",
       "count   17179.00000  17179.000000  17179.000000         17179  17179.000000   \n",
       "unique          NaN           NaN           NaN            20           NaN   \n",
       "top             NaN           NaN           NaN            AA           NaN   \n",
       "freq            NaN           NaN           NaN          2097           NaN   \n",
       "mean        6.46778     16.239304      3.889574           NaN   1319.734327   \n",
       "std         3.19982      8.742754      1.942525           NaN    438.986813   \n",
       "min         1.00000      1.000000      1.000000           NaN     10.000000   \n",
       "25%         4.00000      9.000000      2.000000           NaN    950.000000   \n",
       "50%         7.00000     16.000000      4.000000           NaN   1325.000000   \n",
       "75%         9.00000     24.000000      5.000000           NaN   1650.000000   \n",
       "max        12.00000     31.000000      7.000000           NaN   2359.000000   \n",
       "\n",
       "             DepTime Origin   Dest      Distance  \n",
       "count   17179.000000  17179  17179  17179.000000  \n",
       "unique           NaN    272    271           NaN  \n",
       "top              NaN    ATL    DFW           NaN  \n",
       "freq             NaN    920   1948           NaN  \n",
       "mean     1347.600035    NaN    NaN    936.076139  \n",
       "std       466.295527    NaN    NaN    631.116412  \n",
       "min         3.000000    NaN    NaN     30.000000  \n",
       "25%      1004.000000    NaN    NaN    483.000000  \n",
       "50%      1348.000000    NaN    NaN    802.000000  \n",
       "75%      1715.000000    NaN    NaN   1188.500000  \n",
       "max      2400.000000    NaN    NaN   4962.000000  "
      ]
     },
     "execution_count": 82,
     "metadata": {},
     "output_type": "execute_result"
    }
   ],
   "source": [
    "df2.describe(include='all')"
   ]
  },
  {
   "cell_type": "markdown",
   "metadata": {},
   "source": [
    "> By studying the cases of hijacked planes, we notice that almost no company or city is spared. The kidnappers are probably acting randomly. However, we can say that daytime flights are a relevant selection criterion for them to operate."
   ]
  },
  {
   "cell_type": "markdown",
   "metadata": {},
   "source": [
    "## Conclusions\n",
    "> During this analysis, I came across a lot of information that I personally did not know. here is the strength of data analysis, bringing a surplus of information to decision-makers. however I am a little surprised that the air sector is so diversified from one city to another but also of the many cases of flight delays. For a country like the United States it can be surprising\n"
   ]
  },
  {
   "cell_type": "code",
   "execution_count": null,
   "metadata": {},
   "outputs": [],
   "source": []
  }
 ],
 "metadata": {
  "kernelspec": {
   "display_name": "Python 3 (ipykernel)",
   "language": "python",
   "name": "python3"
  },
  "language_info": {
   "codemirror_mode": {
    "name": "ipython",
    "version": 3
   },
   "file_extension": ".py",
   "mimetype": "text/x-python",
   "name": "python",
   "nbconvert_exporter": "python",
   "pygments_lexer": "ipython3",
   "version": "3.9.7"
  }
 },
 "nbformat": 4,
 "nbformat_minor": 2
}
