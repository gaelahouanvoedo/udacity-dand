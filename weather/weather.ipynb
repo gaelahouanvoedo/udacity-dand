{
 "cells": [
  {
   "cell_type": "markdown",
   "id": "d00ec675",
   "metadata": {},
   "source": [
    "**Created by Gael AHOUANVOEDO**\n",
    "\n",
    "**🚀Exploring Weather Trends 📊 Udacicty Data Analyst NanoDegree 📈**\n",
    "\n",
    "**04 June 2022**"
   ]
  },
  {
   "cell_type": "markdown",
   "id": "5752d771",
   "metadata": {},
   "source": [
    "# **<center><span style=\"color:#fd7b12;\">🚀EXPLORING WEATHER TRENDS 🚀   </span></center>**\n",
    "## <center>For more information you can contact me at +221781203911👍</center>"
   ]
  },
  {
   "cell_type": "markdown",
   "id": "8ca2e992",
   "metadata": {},
   "source": [
    "# **<span style=\"color:#fd7b12;\">Table of Contents  </span>**\n",
    "<a id=\"toc\"></a>\n",
    "- [1. Introduction](#1)\n",
    "- [2. Imports](#2)\n",
    "- [3. Data Wrangling](#3)\n",
    "- [4. Exploratory Data Analysis](#4)\n",
    "- [5. Conclusions](#5)"
   ]
  },
  {
   "cell_type": "markdown",
   "id": "753a6bcf",
   "metadata": {},
   "source": [
    "<a id=\"1\"></a>\n",
    "# **<center><span style=\"color:#fd7b12;\">Introduction  </span></center>**"
   ]
  },
  {
   "cell_type": "markdown",
   "id": "9d0472c7",
   "metadata": {},
   "source": [
    "**In this project, I will analyze local and global temperature data and compare Dakar temperature trends to global global temperature trends.** \n",
    "\n",
    "**The goal will be to create a visualization and prepare an essay describing the similarities and differences between global temperature trends and temperature trends in the major city closest to where I live.**"
   ]
  },
  {
   "cell_type": "markdown",
   "id": "a30d773b",
   "metadata": {},
   "source": [
    "<a href=\"#toc\" role=\"button\" aria-pressed=\"true\" >⬆️Back to Table of Contents ⬆️</a>"
   ]
  },
  {
   "cell_type": "markdown",
   "id": "3bca3df8",
   "metadata": {},
   "source": [
    "<a id=\"2\"></a>\n",
    "# **<center><span style=\"color:#fd7b12;\">Imports  </span></center>**"
   ]
  },
  {
   "cell_type": "markdown",
   "id": "1a5adad8",
   "metadata": {},
   "source": [
    "### <span style=\"color:#e76f51;\"> Useful libraries </span>"
   ]
  },
  {
   "cell_type": "code",
   "execution_count": 1,
   "id": "b6272e53",
   "metadata": {},
   "outputs": [],
   "source": [
    "import numpy as np\n",
    "import pandas as pd\n",
    "import matplotlib.pyplot as plt\n",
    "import warnings\n",
    "warnings.filterwarnings('ignore')"
   ]
  },
  {
   "cell_type": "markdown",
   "id": "1480a4b6",
   "metadata": {},
   "source": [
    "<a href=\"#toc\" role=\"button\" aria-pressed=\"true\" >⬆️Back to Table of Contents ⬆️</a>"
   ]
  },
  {
   "cell_type": "markdown",
   "id": "81772765",
   "metadata": {},
   "source": [
    "<a id=\"3\"></a>\n",
    "# **<center><span style=\"color:#fd7b12;\">Data Wrangling </span></center>**"
   ]
  },
  {
   "cell_type": "markdown",
   "id": "0a0ff572",
   "metadata": {},
   "source": [
    "<a id=\"3.1\"></a>\n",
    "## <span style=\"color:#e76f51;\"> Import given Dataset </span>"
   ]
  },
  {
   "cell_type": "markdown",
   "id": "24e81671",
   "metadata": {},
   "source": [
    "### <span style=\"color:#e76f51;\"> SQL Querry </span>"
   ]
  },
  {
   "cell_type": "markdown",
   "id": "fdfed7f8",
   "metadata": {},
   "source": [
    "**To import the different databases we used the following codes**"
   ]
  },
  {
   "cell_type": "markdown",
   "id": "53356643",
   "metadata": {},
   "source": [
    "`SELECT * FROM city_data`"
   ]
  },
  {
   "cell_type": "markdown",
   "id": "ae6ec77a",
   "metadata": {},
   "source": [
    "`SELECT * FROM global_data`"
   ]
  },
  {
   "cell_type": "markdown",
   "id": "53356643",
   "metadata": {},
   "source": [
    "`SELECT * FROM city_list`"
   ]
  },
  {
   "cell_type": "markdown",
   "id": "24e81671",
   "metadata": {},
   "source": [
    "### <span style=\"color:#e76f51;\"> City Data </span>"
   ]
  },
  {
   "cell_type": "code",
   "execution_count": 2,
   "id": "8537ea37",
   "metadata": {},
   "outputs": [
    {
     "data": {
      "text/html": [
       "<div>\n",
       "<style scoped>\n",
       "    .dataframe tbody tr th:only-of-type {\n",
       "        vertical-align: middle;\n",
       "    }\n",
       "\n",
       "    .dataframe tbody tr th {\n",
       "        vertical-align: top;\n",
       "    }\n",
       "\n",
       "    .dataframe thead th {\n",
       "        text-align: right;\n",
       "    }\n",
       "</style>\n",
       "<table border=\"1\" class=\"dataframe\">\n",
       "  <thead>\n",
       "    <tr style=\"text-align: right;\">\n",
       "      <th></th>\n",
       "      <th>year</th>\n",
       "      <th>city</th>\n",
       "      <th>country</th>\n",
       "      <th>avg_temp</th>\n",
       "    </tr>\n",
       "  </thead>\n",
       "  <tbody>\n",
       "    <tr>\n",
       "      <th>0</th>\n",
       "      <td>1849</td>\n",
       "      <td>Abidjan</td>\n",
       "      <td>Côte D'Ivoire</td>\n",
       "      <td>25.58</td>\n",
       "    </tr>\n",
       "    <tr>\n",
       "      <th>1</th>\n",
       "      <td>1850</td>\n",
       "      <td>Abidjan</td>\n",
       "      <td>Côte D'Ivoire</td>\n",
       "      <td>25.52</td>\n",
       "    </tr>\n",
       "    <tr>\n",
       "      <th>2</th>\n",
       "      <td>1851</td>\n",
       "      <td>Abidjan</td>\n",
       "      <td>Côte D'Ivoire</td>\n",
       "      <td>25.67</td>\n",
       "    </tr>\n",
       "    <tr>\n",
       "      <th>3</th>\n",
       "      <td>1852</td>\n",
       "      <td>Abidjan</td>\n",
       "      <td>Côte D'Ivoire</td>\n",
       "      <td>NaN</td>\n",
       "    </tr>\n",
       "    <tr>\n",
       "      <th>4</th>\n",
       "      <td>1853</td>\n",
       "      <td>Abidjan</td>\n",
       "      <td>Côte D'Ivoire</td>\n",
       "      <td>NaN</td>\n",
       "    </tr>\n",
       "  </tbody>\n",
       "</table>\n",
       "</div>"
      ],
      "text/plain": [
       "   year     city        country  avg_temp\n",
       "0  1849  Abidjan  Côte D'Ivoire     25.58\n",
       "1  1850  Abidjan  Côte D'Ivoire     25.52\n",
       "2  1851  Abidjan  Côte D'Ivoire     25.67\n",
       "3  1852  Abidjan  Côte D'Ivoire       NaN\n",
       "4  1853  Abidjan  Côte D'Ivoire       NaN"
      ]
     },
     "execution_count": 2,
     "metadata": {},
     "output_type": "execute_result"
    }
   ],
   "source": [
    "city_data = pd.read_csv('city_data.csv')\n",
    "city_data.reset_index(drop=True)\n",
    "city_data.head()"
   ]
  },
  {
   "cell_type": "markdown",
   "id": "84c08dad",
   "metadata": {},
   "source": [
    "### <span style=\"color:#e76f51;\"> Global Data </span>"
   ]
  },
  {
   "cell_type": "code",
   "execution_count": 3,
   "id": "e7866ae6",
   "metadata": {},
   "outputs": [
    {
     "data": {
      "text/html": [
       "<div>\n",
       "<style scoped>\n",
       "    .dataframe tbody tr th:only-of-type {\n",
       "        vertical-align: middle;\n",
       "    }\n",
       "\n",
       "    .dataframe tbody tr th {\n",
       "        vertical-align: top;\n",
       "    }\n",
       "\n",
       "    .dataframe thead th {\n",
       "        text-align: right;\n",
       "    }\n",
       "</style>\n",
       "<table border=\"1\" class=\"dataframe\">\n",
       "  <thead>\n",
       "    <tr style=\"text-align: right;\">\n",
       "      <th></th>\n",
       "      <th>year</th>\n",
       "      <th>avg_temp</th>\n",
       "    </tr>\n",
       "  </thead>\n",
       "  <tbody>\n",
       "    <tr>\n",
       "      <th>0</th>\n",
       "      <td>1750</td>\n",
       "      <td>8.72</td>\n",
       "    </tr>\n",
       "    <tr>\n",
       "      <th>1</th>\n",
       "      <td>1751</td>\n",
       "      <td>7.98</td>\n",
       "    </tr>\n",
       "    <tr>\n",
       "      <th>2</th>\n",
       "      <td>1752</td>\n",
       "      <td>5.78</td>\n",
       "    </tr>\n",
       "    <tr>\n",
       "      <th>3</th>\n",
       "      <td>1753</td>\n",
       "      <td>8.39</td>\n",
       "    </tr>\n",
       "    <tr>\n",
       "      <th>4</th>\n",
       "      <td>1754</td>\n",
       "      <td>8.47</td>\n",
       "    </tr>\n",
       "  </tbody>\n",
       "</table>\n",
       "</div>"
      ],
      "text/plain": [
       "   year  avg_temp\n",
       "0  1750      8.72\n",
       "1  1751      7.98\n",
       "2  1752      5.78\n",
       "3  1753      8.39\n",
       "4  1754      8.47"
      ]
     },
     "execution_count": 3,
     "metadata": {},
     "output_type": "execute_result"
    }
   ],
   "source": [
    "global_data = pd.read_csv('global_data.csv')\n",
    "global_data.head()"
   ]
  },
  {
   "cell_type": "markdown",
   "id": "c98e118b",
   "metadata": {},
   "source": [
    "### <span style=\"color:#e76f51;\"> City List </span>"
   ]
  },
  {
   "cell_type": "code",
   "execution_count": 4,
   "id": "b5da470f",
   "metadata": {},
   "outputs": [
    {
     "data": {
      "text/html": [
       "<div>\n",
       "<style scoped>\n",
       "    .dataframe tbody tr th:only-of-type {\n",
       "        vertical-align: middle;\n",
       "    }\n",
       "\n",
       "    .dataframe tbody tr th {\n",
       "        vertical-align: top;\n",
       "    }\n",
       "\n",
       "    .dataframe thead th {\n",
       "        text-align: right;\n",
       "    }\n",
       "</style>\n",
       "<table border=\"1\" class=\"dataframe\">\n",
       "  <thead>\n",
       "    <tr style=\"text-align: right;\">\n",
       "      <th></th>\n",
       "      <th>city</th>\n",
       "      <th>country</th>\n",
       "    </tr>\n",
       "  </thead>\n",
       "  <tbody>\n",
       "    <tr>\n",
       "      <th>0</th>\n",
       "      <td>Abidjan</td>\n",
       "      <td>Côte D'Ivoire</td>\n",
       "    </tr>\n",
       "    <tr>\n",
       "      <th>1</th>\n",
       "      <td>Abu Dhabi</td>\n",
       "      <td>United Arab Emirates</td>\n",
       "    </tr>\n",
       "    <tr>\n",
       "      <th>2</th>\n",
       "      <td>Abuja</td>\n",
       "      <td>Nigeria</td>\n",
       "    </tr>\n",
       "    <tr>\n",
       "      <th>3</th>\n",
       "      <td>Accra</td>\n",
       "      <td>Ghana</td>\n",
       "    </tr>\n",
       "    <tr>\n",
       "      <th>4</th>\n",
       "      <td>Adana</td>\n",
       "      <td>Turkey</td>\n",
       "    </tr>\n",
       "  </tbody>\n",
       "</table>\n",
       "</div>"
      ],
      "text/plain": [
       "        city               country\n",
       "0    Abidjan         Côte D'Ivoire\n",
       "1  Abu Dhabi  United Arab Emirates\n",
       "2      Abuja               Nigeria\n",
       "3      Accra                 Ghana\n",
       "4      Adana                Turkey"
      ]
     },
     "execution_count": 4,
     "metadata": {},
     "output_type": "execute_result"
    }
   ],
   "source": [
    "city_list = pd.read_csv('city_list.csv')\n",
    "city_list.head()"
   ]
  },
  {
   "cell_type": "markdown",
   "id": "1004be29",
   "metadata": {},
   "source": [
    "<a id=\"3.1\"></a>\n",
    "## <span style=\"color:#e76f51;\"> Creation of Dakar Dataset</span>"
   ]
  },
  {
   "cell_type": "markdown",
   "id": "cb8a9ca4",
   "metadata": {},
   "source": [
    "### <span style=\"color:#e76f51;\"> Filter data relating to Dakar only </span>"
   ]
  },
  {
   "cell_type": "code",
   "execution_count": 5,
   "id": "5a249782",
   "metadata": {},
   "outputs": [
    {
     "data": {
      "text/html": [
       "<div>\n",
       "<style scoped>\n",
       "    .dataframe tbody tr th:only-of-type {\n",
       "        vertical-align: middle;\n",
       "    }\n",
       "\n",
       "    .dataframe tbody tr th {\n",
       "        vertical-align: top;\n",
       "    }\n",
       "\n",
       "    .dataframe thead th {\n",
       "        text-align: right;\n",
       "    }\n",
       "</style>\n",
       "<table border=\"1\" class=\"dataframe\">\n",
       "  <thead>\n",
       "    <tr style=\"text-align: right;\">\n",
       "      <th></th>\n",
       "      <th>year</th>\n",
       "      <th>city</th>\n",
       "      <th>country</th>\n",
       "      <th>avg_temp</th>\n",
       "    </tr>\n",
       "  </thead>\n",
       "  <tbody>\n",
       "    <tr>\n",
       "      <th>17336</th>\n",
       "      <td>1849</td>\n",
       "      <td>Dakar</td>\n",
       "      <td>Senegal</td>\n",
       "      <td>24.08</td>\n",
       "    </tr>\n",
       "    <tr>\n",
       "      <th>17337</th>\n",
       "      <td>1850</td>\n",
       "      <td>Dakar</td>\n",
       "      <td>Senegal</td>\n",
       "      <td>24.08</td>\n",
       "    </tr>\n",
       "    <tr>\n",
       "      <th>17338</th>\n",
       "      <td>1851</td>\n",
       "      <td>Dakar</td>\n",
       "      <td>Senegal</td>\n",
       "      <td>24.26</td>\n",
       "    </tr>\n",
       "  </tbody>\n",
       "</table>\n",
       "</div>"
      ],
      "text/plain": [
       "       year   city  country  avg_temp\n",
       "17336  1849  Dakar  Senegal     24.08\n",
       "17337  1850  Dakar  Senegal     24.08\n",
       "17338  1851  Dakar  Senegal     24.26"
      ]
     },
     "execution_count": 5,
     "metadata": {},
     "output_type": "execute_result"
    }
   ],
   "source": [
    "dakar_temp = city_data.query('city==\"Dakar\"')\n",
    "dakar_temp.head(3)"
   ]
  },
  {
   "cell_type": "code",
   "execution_count": 6,
   "id": "7fb522cd",
   "metadata": {},
   "outputs": [
    {
     "name": "stdout",
     "output_type": "stream",
     "text": [
      "<class 'pandas.core.frame.DataFrame'>\n",
      "Int64Index: 165 entries, 17336 to 17500\n",
      "Data columns (total 4 columns):\n",
      " #   Column    Non-Null Count  Dtype  \n",
      "---  ------    --------------  -----  \n",
      " 0   year      165 non-null    int64  \n",
      " 1   city      165 non-null    object \n",
      " 2   country   165 non-null    object \n",
      " 3   avg_temp  158 non-null    float64\n",
      "dtypes: float64(1), int64(1), object(2)\n",
      "memory usage: 6.4+ KB\n"
     ]
    }
   ],
   "source": [
    "dakar_temp.info()"
   ]
  },
  {
   "cell_type": "markdown",
   "id": "5cb0a223",
   "metadata": {},
   "source": [
    "### <span style=\"color:#e76f51;\"> Filter missing data </span>"
   ]
  },
  {
   "cell_type": "code",
   "execution_count": 7,
   "id": "47a12d66",
   "metadata": {},
   "outputs": [
    {
     "data": {
      "text/html": [
       "<div>\n",
       "<style scoped>\n",
       "    .dataframe tbody tr th:only-of-type {\n",
       "        vertical-align: middle;\n",
       "    }\n",
       "\n",
       "    .dataframe tbody tr th {\n",
       "        vertical-align: top;\n",
       "    }\n",
       "\n",
       "    .dataframe thead th {\n",
       "        text-align: right;\n",
       "    }\n",
       "</style>\n",
       "<table border=\"1\" class=\"dataframe\">\n",
       "  <thead>\n",
       "    <tr style=\"text-align: right;\">\n",
       "      <th></th>\n",
       "      <th>year</th>\n",
       "      <th>city</th>\n",
       "      <th>country</th>\n",
       "      <th>avg_temp</th>\n",
       "    </tr>\n",
       "  </thead>\n",
       "  <tbody>\n",
       "    <tr>\n",
       "      <th>17339</th>\n",
       "      <td>1852</td>\n",
       "      <td>Dakar</td>\n",
       "      <td>Senegal</td>\n",
       "      <td>NaN</td>\n",
       "    </tr>\n",
       "    <tr>\n",
       "      <th>17340</th>\n",
       "      <td>1853</td>\n",
       "      <td>Dakar</td>\n",
       "      <td>Senegal</td>\n",
       "      <td>NaN</td>\n",
       "    </tr>\n",
       "    <tr>\n",
       "      <th>17341</th>\n",
       "      <td>1854</td>\n",
       "      <td>Dakar</td>\n",
       "      <td>Senegal</td>\n",
       "      <td>NaN</td>\n",
       "    </tr>\n",
       "    <tr>\n",
       "      <th>17342</th>\n",
       "      <td>1855</td>\n",
       "      <td>Dakar</td>\n",
       "      <td>Senegal</td>\n",
       "      <td>NaN</td>\n",
       "    </tr>\n",
       "    <tr>\n",
       "      <th>17354</th>\n",
       "      <td>1867</td>\n",
       "      <td>Dakar</td>\n",
       "      <td>Senegal</td>\n",
       "      <td>NaN</td>\n",
       "    </tr>\n",
       "    <tr>\n",
       "      <th>17358</th>\n",
       "      <td>1871</td>\n",
       "      <td>Dakar</td>\n",
       "      <td>Senegal</td>\n",
       "      <td>NaN</td>\n",
       "    </tr>\n",
       "    <tr>\n",
       "      <th>17359</th>\n",
       "      <td>1872</td>\n",
       "      <td>Dakar</td>\n",
       "      <td>Senegal</td>\n",
       "      <td>NaN</td>\n",
       "    </tr>\n",
       "  </tbody>\n",
       "</table>\n",
       "</div>"
      ],
      "text/plain": [
       "       year   city  country  avg_temp\n",
       "17339  1852  Dakar  Senegal       NaN\n",
       "17340  1853  Dakar  Senegal       NaN\n",
       "17341  1854  Dakar  Senegal       NaN\n",
       "17342  1855  Dakar  Senegal       NaN\n",
       "17354  1867  Dakar  Senegal       NaN\n",
       "17358  1871  Dakar  Senegal       NaN\n",
       "17359  1872  Dakar  Senegal       NaN"
      ]
     },
     "execution_count": 7,
     "metadata": {},
     "output_type": "execute_result"
    }
   ],
   "source": [
    "dakar_temp_null = dakar_temp.query('avg_temp.isnull()')\n",
    "dakar_temp_null"
   ]
  },
  {
   "cell_type": "markdown",
   "id": "deef70d6",
   "metadata": {},
   "source": [
    "### <span style=\"color:#e76f51;\"> Filter data after 1872 </span>"
   ]
  },
  {
   "cell_type": "code",
   "execution_count": 8,
   "id": "b7e1dc4f",
   "metadata": {},
   "outputs": [
    {
     "data": {
      "text/html": [
       "<div>\n",
       "<style scoped>\n",
       "    .dataframe tbody tr th:only-of-type {\n",
       "        vertical-align: middle;\n",
       "    }\n",
       "\n",
       "    .dataframe tbody tr th {\n",
       "        vertical-align: top;\n",
       "    }\n",
       "\n",
       "    .dataframe thead th {\n",
       "        text-align: right;\n",
       "    }\n",
       "</style>\n",
       "<table border=\"1\" class=\"dataframe\">\n",
       "  <thead>\n",
       "    <tr style=\"text-align: right;\">\n",
       "      <th></th>\n",
       "      <th>year</th>\n",
       "      <th>city</th>\n",
       "      <th>country</th>\n",
       "      <th>avg_temp</th>\n",
       "    </tr>\n",
       "  </thead>\n",
       "  <tbody>\n",
       "    <tr>\n",
       "      <th>17360</th>\n",
       "      <td>1873</td>\n",
       "      <td>Dakar</td>\n",
       "      <td>Senegal</td>\n",
       "      <td>26.27</td>\n",
       "    </tr>\n",
       "    <tr>\n",
       "      <th>17361</th>\n",
       "      <td>1874</td>\n",
       "      <td>Dakar</td>\n",
       "      <td>Senegal</td>\n",
       "      <td>23.83</td>\n",
       "    </tr>\n",
       "    <tr>\n",
       "      <th>17362</th>\n",
       "      <td>1875</td>\n",
       "      <td>Dakar</td>\n",
       "      <td>Senegal</td>\n",
       "      <td>23.75</td>\n",
       "    </tr>\n",
       "  </tbody>\n",
       "</table>\n",
       "</div>"
      ],
      "text/plain": [
       "       year   city  country  avg_temp\n",
       "17360  1873  Dakar  Senegal     26.27\n",
       "17361  1874  Dakar  Senegal     23.83\n",
       "17362  1875  Dakar  Senegal     23.75"
      ]
     },
     "execution_count": 8,
     "metadata": {},
     "output_type": "execute_result"
    }
   ],
   "source": [
    "dakar_temp_val = dakar_temp.query('year > 1872')\n",
    "dakar_temp_val.head(3)"
   ]
  },
  {
   "cell_type": "markdown",
   "id": "612ed1b5",
   "metadata": {},
   "source": [
    "### <span style=\"color:#e76f51;\"> Add global temperature column </span>"
   ]
  },
  {
   "cell_type": "code",
   "execution_count": 9,
   "id": "bcdd70a5",
   "metadata": {
    "scrolled": true
   },
   "outputs": [
    {
     "data": {
      "text/html": [
       "<div>\n",
       "<style scoped>\n",
       "    .dataframe tbody tr th:only-of-type {\n",
       "        vertical-align: middle;\n",
       "    }\n",
       "\n",
       "    .dataframe tbody tr th {\n",
       "        vertical-align: top;\n",
       "    }\n",
       "\n",
       "    .dataframe thead th {\n",
       "        text-align: right;\n",
       "    }\n",
       "</style>\n",
       "<table border=\"1\" class=\"dataframe\">\n",
       "  <thead>\n",
       "    <tr style=\"text-align: right;\">\n",
       "      <th></th>\n",
       "      <th>year</th>\n",
       "      <th>city</th>\n",
       "      <th>country</th>\n",
       "      <th>avg_temp</th>\n",
       "      <th>global_temp</th>\n",
       "    </tr>\n",
       "  </thead>\n",
       "  <tbody>\n",
       "    <tr>\n",
       "      <th>0</th>\n",
       "      <td>1873</td>\n",
       "      <td>Dakar</td>\n",
       "      <td>Senegal</td>\n",
       "      <td>26.27</td>\n",
       "      <td>8.35</td>\n",
       "    </tr>\n",
       "    <tr>\n",
       "      <th>1</th>\n",
       "      <td>1874</td>\n",
       "      <td>Dakar</td>\n",
       "      <td>Senegal</td>\n",
       "      <td>23.83</td>\n",
       "      <td>8.43</td>\n",
       "    </tr>\n",
       "    <tr>\n",
       "      <th>2</th>\n",
       "      <td>1875</td>\n",
       "      <td>Dakar</td>\n",
       "      <td>Senegal</td>\n",
       "      <td>23.75</td>\n",
       "      <td>7.86</td>\n",
       "    </tr>\n",
       "  </tbody>\n",
       "</table>\n",
       "</div>"
      ],
      "text/plain": [
       "   year   city  country  avg_temp  global_temp\n",
       "0  1873  Dakar  Senegal     26.27         8.35\n",
       "1  1874  Dakar  Senegal     23.83         8.43\n",
       "2  1875  Dakar  Senegal     23.75         7.86"
      ]
     },
     "execution_count": 9,
     "metadata": {},
     "output_type": "execute_result"
    }
   ],
   "source": [
    "global_data.rename(columns={'avg_temp' : 'global_temp'},inplace=True)\n",
    "dakar_temp_val = dakar_temp_val.merge(global_data, how='inner', on='year')\n",
    "dakar_temp_val.head(3)"
   ]
  },
  {
   "cell_type": "markdown",
   "id": "e3df37f0",
   "metadata": {},
   "source": [
    "### <span style=\"color:#e76f51;\"> Add rolling columns </span>"
   ]
  },
  {
   "cell_type": "code",
   "execution_count": 10,
   "id": "d26562b1",
   "metadata": {},
   "outputs": [],
   "source": [
    "avg_num = 10\n",
    "dakar_temp_val['rolling_temp'] = dakar_temp_val['avg_temp'].rolling(window = avg_num ).mean()\n",
    "dakar_temp_val['global_rolling_temp'] = dakar_temp_val['global_temp'].rolling(window = avg_num ).mean()"
   ]
  },
  {
   "cell_type": "code",
   "execution_count": 11,
   "id": "ccf4438f",
   "metadata": {},
   "outputs": [
    {
     "data": {
      "text/html": [
       "<div>\n",
       "<style scoped>\n",
       "    .dataframe tbody tr th:only-of-type {\n",
       "        vertical-align: middle;\n",
       "    }\n",
       "\n",
       "    .dataframe tbody tr th {\n",
       "        vertical-align: top;\n",
       "    }\n",
       "\n",
       "    .dataframe thead th {\n",
       "        text-align: right;\n",
       "    }\n",
       "</style>\n",
       "<table border=\"1\" class=\"dataframe\">\n",
       "  <thead>\n",
       "    <tr style=\"text-align: right;\">\n",
       "      <th></th>\n",
       "      <th>year</th>\n",
       "      <th>city</th>\n",
       "      <th>country</th>\n",
       "      <th>avg_temp</th>\n",
       "      <th>global_temp</th>\n",
       "      <th>rolling_temp</th>\n",
       "      <th>global_rolling_temp</th>\n",
       "    </tr>\n",
       "  </thead>\n",
       "  <tbody>\n",
       "    <tr>\n",
       "      <th>0</th>\n",
       "      <td>1873</td>\n",
       "      <td>Dakar</td>\n",
       "      <td>Senegal</td>\n",
       "      <td>26.27</td>\n",
       "      <td>8.35</td>\n",
       "      <td>NaN</td>\n",
       "      <td>NaN</td>\n",
       "    </tr>\n",
       "    <tr>\n",
       "      <th>1</th>\n",
       "      <td>1874</td>\n",
       "      <td>Dakar</td>\n",
       "      <td>Senegal</td>\n",
       "      <td>23.83</td>\n",
       "      <td>8.43</td>\n",
       "      <td>NaN</td>\n",
       "      <td>NaN</td>\n",
       "    </tr>\n",
       "    <tr>\n",
       "      <th>2</th>\n",
       "      <td>1875</td>\n",
       "      <td>Dakar</td>\n",
       "      <td>Senegal</td>\n",
       "      <td>23.75</td>\n",
       "      <td>7.86</td>\n",
       "      <td>NaN</td>\n",
       "      <td>NaN</td>\n",
       "    </tr>\n",
       "    <tr>\n",
       "      <th>3</th>\n",
       "      <td>1876</td>\n",
       "      <td>Dakar</td>\n",
       "      <td>Senegal</td>\n",
       "      <td>24.40</td>\n",
       "      <td>8.08</td>\n",
       "      <td>NaN</td>\n",
       "      <td>NaN</td>\n",
       "    </tr>\n",
       "    <tr>\n",
       "      <th>4</th>\n",
       "      <td>1877</td>\n",
       "      <td>Dakar</td>\n",
       "      <td>Senegal</td>\n",
       "      <td>24.24</td>\n",
       "      <td>8.54</td>\n",
       "      <td>NaN</td>\n",
       "      <td>NaN</td>\n",
       "    </tr>\n",
       "    <tr>\n",
       "      <th>5</th>\n",
       "      <td>1878</td>\n",
       "      <td>Dakar</td>\n",
       "      <td>Senegal</td>\n",
       "      <td>24.50</td>\n",
       "      <td>8.83</td>\n",
       "      <td>NaN</td>\n",
       "      <td>NaN</td>\n",
       "    </tr>\n",
       "    <tr>\n",
       "      <th>6</th>\n",
       "      <td>1879</td>\n",
       "      <td>Dakar</td>\n",
       "      <td>Senegal</td>\n",
       "      <td>24.08</td>\n",
       "      <td>8.17</td>\n",
       "      <td>NaN</td>\n",
       "      <td>NaN</td>\n",
       "    </tr>\n",
       "    <tr>\n",
       "      <th>7</th>\n",
       "      <td>1880</td>\n",
       "      <td>Dakar</td>\n",
       "      <td>Senegal</td>\n",
       "      <td>24.13</td>\n",
       "      <td>8.12</td>\n",
       "      <td>NaN</td>\n",
       "      <td>NaN</td>\n",
       "    </tr>\n",
       "    <tr>\n",
       "      <th>8</th>\n",
       "      <td>1881</td>\n",
       "      <td>Dakar</td>\n",
       "      <td>Senegal</td>\n",
       "      <td>24.28</td>\n",
       "      <td>8.27</td>\n",
       "      <td>NaN</td>\n",
       "      <td>NaN</td>\n",
       "    </tr>\n",
       "    <tr>\n",
       "      <th>9</th>\n",
       "      <td>1882</td>\n",
       "      <td>Dakar</td>\n",
       "      <td>Senegal</td>\n",
       "      <td>24.45</td>\n",
       "      <td>8.13</td>\n",
       "      <td>24.393</td>\n",
       "      <td>8.278</td>\n",
       "    </tr>\n",
       "    <tr>\n",
       "      <th>10</th>\n",
       "      <td>1883</td>\n",
       "      <td>Dakar</td>\n",
       "      <td>Senegal</td>\n",
       "      <td>24.66</td>\n",
       "      <td>7.98</td>\n",
       "      <td>24.232</td>\n",
       "      <td>8.241</td>\n",
       "    </tr>\n",
       "    <tr>\n",
       "      <th>11</th>\n",
       "      <td>1884</td>\n",
       "      <td>Dakar</td>\n",
       "      <td>Senegal</td>\n",
       "      <td>24.11</td>\n",
       "      <td>7.77</td>\n",
       "      <td>24.260</td>\n",
       "      <td>8.175</td>\n",
       "    </tr>\n",
       "    <tr>\n",
       "      <th>12</th>\n",
       "      <td>1885</td>\n",
       "      <td>Dakar</td>\n",
       "      <td>Senegal</td>\n",
       "      <td>23.75</td>\n",
       "      <td>7.92</td>\n",
       "      <td>24.260</td>\n",
       "      <td>8.181</td>\n",
       "    </tr>\n",
       "    <tr>\n",
       "      <th>13</th>\n",
       "      <td>1886</td>\n",
       "      <td>Dakar</td>\n",
       "      <td>Senegal</td>\n",
       "      <td>23.85</td>\n",
       "      <td>7.95</td>\n",
       "      <td>24.205</td>\n",
       "      <td>8.168</td>\n",
       "    </tr>\n",
       "    <tr>\n",
       "      <th>14</th>\n",
       "      <td>1887</td>\n",
       "      <td>Dakar</td>\n",
       "      <td>Senegal</td>\n",
       "      <td>24.05</td>\n",
       "      <td>7.91</td>\n",
       "      <td>24.186</td>\n",
       "      <td>8.105</td>\n",
       "    </tr>\n",
       "    <tr>\n",
       "      <th>15</th>\n",
       "      <td>1888</td>\n",
       "      <td>Dakar</td>\n",
       "      <td>Senegal</td>\n",
       "      <td>24.20</td>\n",
       "      <td>8.09</td>\n",
       "      <td>24.156</td>\n",
       "      <td>8.031</td>\n",
       "    </tr>\n",
       "    <tr>\n",
       "      <th>16</th>\n",
       "      <td>1889</td>\n",
       "      <td>Dakar</td>\n",
       "      <td>Senegal</td>\n",
       "      <td>23.58</td>\n",
       "      <td>8.32</td>\n",
       "      <td>24.106</td>\n",
       "      <td>8.046</td>\n",
       "    </tr>\n",
       "    <tr>\n",
       "      <th>17</th>\n",
       "      <td>1890</td>\n",
       "      <td>Dakar</td>\n",
       "      <td>Senegal</td>\n",
       "      <td>23.88</td>\n",
       "      <td>7.97</td>\n",
       "      <td>24.081</td>\n",
       "      <td>8.031</td>\n",
       "    </tr>\n",
       "    <tr>\n",
       "      <th>18</th>\n",
       "      <td>1891</td>\n",
       "      <td>Dakar</td>\n",
       "      <td>Senegal</td>\n",
       "      <td>24.33</td>\n",
       "      <td>8.02</td>\n",
       "      <td>24.086</td>\n",
       "      <td>8.006</td>\n",
       "    </tr>\n",
       "    <tr>\n",
       "      <th>19</th>\n",
       "      <td>1892</td>\n",
       "      <td>Dakar</td>\n",
       "      <td>Senegal</td>\n",
       "      <td>24.85</td>\n",
       "      <td>8.07</td>\n",
       "      <td>24.126</td>\n",
       "      <td>8.000</td>\n",
       "    </tr>\n",
       "  </tbody>\n",
       "</table>\n",
       "</div>"
      ],
      "text/plain": [
       "    year   city  country  avg_temp  global_temp  rolling_temp  \\\n",
       "0   1873  Dakar  Senegal     26.27         8.35           NaN   \n",
       "1   1874  Dakar  Senegal     23.83         8.43           NaN   \n",
       "2   1875  Dakar  Senegal     23.75         7.86           NaN   \n",
       "3   1876  Dakar  Senegal     24.40         8.08           NaN   \n",
       "4   1877  Dakar  Senegal     24.24         8.54           NaN   \n",
       "5   1878  Dakar  Senegal     24.50         8.83           NaN   \n",
       "6   1879  Dakar  Senegal     24.08         8.17           NaN   \n",
       "7   1880  Dakar  Senegal     24.13         8.12           NaN   \n",
       "8   1881  Dakar  Senegal     24.28         8.27           NaN   \n",
       "9   1882  Dakar  Senegal     24.45         8.13        24.393   \n",
       "10  1883  Dakar  Senegal     24.66         7.98        24.232   \n",
       "11  1884  Dakar  Senegal     24.11         7.77        24.260   \n",
       "12  1885  Dakar  Senegal     23.75         7.92        24.260   \n",
       "13  1886  Dakar  Senegal     23.85         7.95        24.205   \n",
       "14  1887  Dakar  Senegal     24.05         7.91        24.186   \n",
       "15  1888  Dakar  Senegal     24.20         8.09        24.156   \n",
       "16  1889  Dakar  Senegal     23.58         8.32        24.106   \n",
       "17  1890  Dakar  Senegal     23.88         7.97        24.081   \n",
       "18  1891  Dakar  Senegal     24.33         8.02        24.086   \n",
       "19  1892  Dakar  Senegal     24.85         8.07        24.126   \n",
       "\n",
       "    global_rolling_temp  \n",
       "0                   NaN  \n",
       "1                   NaN  \n",
       "2                   NaN  \n",
       "3                   NaN  \n",
       "4                   NaN  \n",
       "5                   NaN  \n",
       "6                   NaN  \n",
       "7                   NaN  \n",
       "8                   NaN  \n",
       "9                 8.278  \n",
       "10                8.241  \n",
       "11                8.175  \n",
       "12                8.181  \n",
       "13                8.168  \n",
       "14                8.105  \n",
       "15                8.031  \n",
       "16                8.046  \n",
       "17                8.031  \n",
       "18                8.006  \n",
       "19                8.000  "
      ]
     },
     "execution_count": 11,
     "metadata": {},
     "output_type": "execute_result"
    }
   ],
   "source": [
    "dakar_temp_val.head(20)"
   ]
  },
  {
   "cell_type": "markdown",
   "id": "6a243fc6",
   "metadata": {},
   "source": [
    "<a id=\"3.1\"></a>\n",
    "## <span style=\"color:#e76f51;\"> Creation of Nouakchott Dataset</span>"
   ]
  },
  {
   "cell_type": "markdown",
   "id": "def4c239",
   "metadata": {},
   "source": [
    "### <span style=\"color:#e76f51;\"> Filter data relating to Nouakchott only </span>"
   ]
  },
  {
   "cell_type": "code",
   "execution_count": 12,
   "id": "9bcd8a5c",
   "metadata": {},
   "outputs": [
    {
     "data": {
      "text/html": [
       "<div>\n",
       "<style scoped>\n",
       "    .dataframe tbody tr th:only-of-type {\n",
       "        vertical-align: middle;\n",
       "    }\n",
       "\n",
       "    .dataframe tbody tr th {\n",
       "        vertical-align: top;\n",
       "    }\n",
       "\n",
       "    .dataframe thead th {\n",
       "        text-align: right;\n",
       "    }\n",
       "</style>\n",
       "<table border=\"1\" class=\"dataframe\">\n",
       "  <thead>\n",
       "    <tr style=\"text-align: right;\">\n",
       "      <th></th>\n",
       "      <th>year</th>\n",
       "      <th>city</th>\n",
       "      <th>country</th>\n",
       "      <th>avg_temp</th>\n",
       "    </tr>\n",
       "  </thead>\n",
       "  <tbody>\n",
       "    <tr>\n",
       "      <th>46604</th>\n",
       "      <td>1849</td>\n",
       "      <td>Nouakchott</td>\n",
       "      <td>Mauritania</td>\n",
       "      <td>26.48</td>\n",
       "    </tr>\n",
       "    <tr>\n",
       "      <th>46605</th>\n",
       "      <td>1850</td>\n",
       "      <td>Nouakchott</td>\n",
       "      <td>Mauritania</td>\n",
       "      <td>26.58</td>\n",
       "    </tr>\n",
       "    <tr>\n",
       "      <th>46606</th>\n",
       "      <td>1851</td>\n",
       "      <td>Nouakchott</td>\n",
       "      <td>Mauritania</td>\n",
       "      <td>26.85</td>\n",
       "    </tr>\n",
       "  </tbody>\n",
       "</table>\n",
       "</div>"
      ],
      "text/plain": [
       "       year        city     country  avg_temp\n",
       "46604  1849  Nouakchott  Mauritania     26.48\n",
       "46605  1850  Nouakchott  Mauritania     26.58\n",
       "46606  1851  Nouakchott  Mauritania     26.85"
      ]
     },
     "execution_count": 12,
     "metadata": {},
     "output_type": "execute_result"
    }
   ],
   "source": [
    "nouakchott_temp = city_data.query('city==\"Nouakchott\"')\n",
    "nouakchott_temp.head(3)"
   ]
  },
  {
   "cell_type": "code",
   "execution_count": 13,
   "id": "92dc36c6",
   "metadata": {},
   "outputs": [
    {
     "name": "stdout",
     "output_type": "stream",
     "text": [
      "<class 'pandas.core.frame.DataFrame'>\n",
      "Int64Index: 165 entries, 46604 to 46768\n",
      "Data columns (total 4 columns):\n",
      " #   Column    Non-Null Count  Dtype  \n",
      "---  ------    --------------  -----  \n",
      " 0   year      165 non-null    int64  \n",
      " 1   city      165 non-null    object \n",
      " 2   country   165 non-null    object \n",
      " 3   avg_temp  161 non-null    float64\n",
      "dtypes: float64(1), int64(1), object(2)\n",
      "memory usage: 6.4+ KB\n"
     ]
    }
   ],
   "source": [
    "nouakchott_temp.info()"
   ]
  },
  {
   "cell_type": "markdown",
   "id": "4ca6023a",
   "metadata": {},
   "source": [
    "### <span style=\"color:#e76f51;\"> Filter missing data </span>"
   ]
  },
  {
   "cell_type": "code",
   "execution_count": 14,
   "id": "da6245b3",
   "metadata": {},
   "outputs": [
    {
     "data": {
      "text/html": [
       "<div>\n",
       "<style scoped>\n",
       "    .dataframe tbody tr th:only-of-type {\n",
       "        vertical-align: middle;\n",
       "    }\n",
       "\n",
       "    .dataframe tbody tr th {\n",
       "        vertical-align: top;\n",
       "    }\n",
       "\n",
       "    .dataframe thead th {\n",
       "        text-align: right;\n",
       "    }\n",
       "</style>\n",
       "<table border=\"1\" class=\"dataframe\">\n",
       "  <thead>\n",
       "    <tr style=\"text-align: right;\">\n",
       "      <th></th>\n",
       "      <th>year</th>\n",
       "      <th>city</th>\n",
       "      <th>country</th>\n",
       "      <th>avg_temp</th>\n",
       "    </tr>\n",
       "  </thead>\n",
       "  <tbody>\n",
       "    <tr>\n",
       "      <th>46607</th>\n",
       "      <td>1852</td>\n",
       "      <td>Nouakchott</td>\n",
       "      <td>Mauritania</td>\n",
       "      <td>NaN</td>\n",
       "    </tr>\n",
       "    <tr>\n",
       "      <th>46608</th>\n",
       "      <td>1853</td>\n",
       "      <td>Nouakchott</td>\n",
       "      <td>Mauritania</td>\n",
       "      <td>NaN</td>\n",
       "    </tr>\n",
       "    <tr>\n",
       "      <th>46609</th>\n",
       "      <td>1854</td>\n",
       "      <td>Nouakchott</td>\n",
       "      <td>Mauritania</td>\n",
       "      <td>NaN</td>\n",
       "    </tr>\n",
       "    <tr>\n",
       "      <th>46610</th>\n",
       "      <td>1855</td>\n",
       "      <td>Nouakchott</td>\n",
       "      <td>Mauritania</td>\n",
       "      <td>NaN</td>\n",
       "    </tr>\n",
       "  </tbody>\n",
       "</table>\n",
       "</div>"
      ],
      "text/plain": [
       "       year        city     country  avg_temp\n",
       "46607  1852  Nouakchott  Mauritania       NaN\n",
       "46608  1853  Nouakchott  Mauritania       NaN\n",
       "46609  1854  Nouakchott  Mauritania       NaN\n",
       "46610  1855  Nouakchott  Mauritania       NaN"
      ]
     },
     "execution_count": 14,
     "metadata": {},
     "output_type": "execute_result"
    }
   ],
   "source": [
    "nouakchott_temp_null = nouakchott_temp.query('avg_temp.isnull()')\n",
    "nouakchott_temp_null"
   ]
  },
  {
   "cell_type": "markdown",
   "id": "dfebd78d",
   "metadata": {},
   "source": [
    "### <span style=\"color:#e76f51;\"> Filter data after 1872 </span>"
   ]
  },
  {
   "cell_type": "code",
   "execution_count": 15,
   "id": "6571ff08",
   "metadata": {},
   "outputs": [
    {
     "data": {
      "text/html": [
       "<div>\n",
       "<style scoped>\n",
       "    .dataframe tbody tr th:only-of-type {\n",
       "        vertical-align: middle;\n",
       "    }\n",
       "\n",
       "    .dataframe tbody tr th {\n",
       "        vertical-align: top;\n",
       "    }\n",
       "\n",
       "    .dataframe thead th {\n",
       "        text-align: right;\n",
       "    }\n",
       "</style>\n",
       "<table border=\"1\" class=\"dataframe\">\n",
       "  <thead>\n",
       "    <tr style=\"text-align: right;\">\n",
       "      <th></th>\n",
       "      <th>index</th>\n",
       "      <th>year</th>\n",
       "      <th>city</th>\n",
       "      <th>country</th>\n",
       "      <th>avg_temp</th>\n",
       "    </tr>\n",
       "  </thead>\n",
       "  <tbody>\n",
       "    <tr>\n",
       "      <th>0</th>\n",
       "      <td>46628</td>\n",
       "      <td>1873</td>\n",
       "      <td>Nouakchott</td>\n",
       "      <td>Mauritania</td>\n",
       "      <td>26.52</td>\n",
       "    </tr>\n",
       "    <tr>\n",
       "      <th>1</th>\n",
       "      <td>46629</td>\n",
       "      <td>1874</td>\n",
       "      <td>Nouakchott</td>\n",
       "      <td>Mauritania</td>\n",
       "      <td>26.26</td>\n",
       "    </tr>\n",
       "    <tr>\n",
       "      <th>2</th>\n",
       "      <td>46630</td>\n",
       "      <td>1875</td>\n",
       "      <td>Nouakchott</td>\n",
       "      <td>Mauritania</td>\n",
       "      <td>26.23</td>\n",
       "    </tr>\n",
       "  </tbody>\n",
       "</table>\n",
       "</div>"
      ],
      "text/plain": [
       "   index  year        city     country  avg_temp\n",
       "0  46628  1873  Nouakchott  Mauritania     26.52\n",
       "1  46629  1874  Nouakchott  Mauritania     26.26\n",
       "2  46630  1875  Nouakchott  Mauritania     26.23"
      ]
     },
     "execution_count": 15,
     "metadata": {},
     "output_type": "execute_result"
    }
   ],
   "source": [
    "nouakchott_temp_val = nouakchott_temp.query('year > 1872').reset_index()\n",
    "nouakchott_temp_val.head(3)"
   ]
  },
  {
   "cell_type": "markdown",
   "id": "36f70998",
   "metadata": {},
   "source": [
    "### <span style=\"color:#e76f51;\"> Add Nouakchott rolling columns </span>"
   ]
  },
  {
   "cell_type": "code",
   "execution_count": 16,
   "id": "d26562b1",
   "metadata": {},
   "outputs": [],
   "source": [
    "avg_num = 10\n",
    "nouakchott_temp_val['rolling_temp'] = nouakchott_temp_val['avg_temp'].rolling(window = avg_num ).mean()"
   ]
  },
  {
   "cell_type": "code",
   "execution_count": 17,
   "id": "49abdf5a",
   "metadata": {},
   "outputs": [
    {
     "data": {
      "text/html": [
       "<div>\n",
       "<style scoped>\n",
       "    .dataframe tbody tr th:only-of-type {\n",
       "        vertical-align: middle;\n",
       "    }\n",
       "\n",
       "    .dataframe tbody tr th {\n",
       "        vertical-align: top;\n",
       "    }\n",
       "\n",
       "    .dataframe thead th {\n",
       "        text-align: right;\n",
       "    }\n",
       "</style>\n",
       "<table border=\"1\" class=\"dataframe\">\n",
       "  <thead>\n",
       "    <tr style=\"text-align: right;\">\n",
       "      <th></th>\n",
       "      <th>index</th>\n",
       "      <th>year</th>\n",
       "      <th>city</th>\n",
       "      <th>country</th>\n",
       "      <th>avg_temp</th>\n",
       "      <th>rolling_temp</th>\n",
       "    </tr>\n",
       "  </thead>\n",
       "  <tbody>\n",
       "    <tr>\n",
       "      <th>0</th>\n",
       "      <td>46628</td>\n",
       "      <td>1873</td>\n",
       "      <td>Nouakchott</td>\n",
       "      <td>Mauritania</td>\n",
       "      <td>26.52</td>\n",
       "      <td>NaN</td>\n",
       "    </tr>\n",
       "    <tr>\n",
       "      <th>1</th>\n",
       "      <td>46629</td>\n",
       "      <td>1874</td>\n",
       "      <td>Nouakchott</td>\n",
       "      <td>Mauritania</td>\n",
       "      <td>26.26</td>\n",
       "      <td>NaN</td>\n",
       "    </tr>\n",
       "    <tr>\n",
       "      <th>2</th>\n",
       "      <td>46630</td>\n",
       "      <td>1875</td>\n",
       "      <td>Nouakchott</td>\n",
       "      <td>Mauritania</td>\n",
       "      <td>26.23</td>\n",
       "      <td>NaN</td>\n",
       "    </tr>\n",
       "    <tr>\n",
       "      <th>3</th>\n",
       "      <td>46631</td>\n",
       "      <td>1876</td>\n",
       "      <td>Nouakchott</td>\n",
       "      <td>Mauritania</td>\n",
       "      <td>26.87</td>\n",
       "      <td>NaN</td>\n",
       "    </tr>\n",
       "    <tr>\n",
       "      <th>4</th>\n",
       "      <td>46632</td>\n",
       "      <td>1877</td>\n",
       "      <td>Nouakchott</td>\n",
       "      <td>Mauritania</td>\n",
       "      <td>26.73</td>\n",
       "      <td>NaN</td>\n",
       "    </tr>\n",
       "    <tr>\n",
       "      <th>5</th>\n",
       "      <td>46633</td>\n",
       "      <td>1878</td>\n",
       "      <td>Nouakchott</td>\n",
       "      <td>Mauritania</td>\n",
       "      <td>27.03</td>\n",
       "      <td>NaN</td>\n",
       "    </tr>\n",
       "    <tr>\n",
       "      <th>6</th>\n",
       "      <td>46634</td>\n",
       "      <td>1879</td>\n",
       "      <td>Nouakchott</td>\n",
       "      <td>Mauritania</td>\n",
       "      <td>26.52</td>\n",
       "      <td>NaN</td>\n",
       "    </tr>\n",
       "    <tr>\n",
       "      <th>7</th>\n",
       "      <td>46635</td>\n",
       "      <td>1880</td>\n",
       "      <td>Nouakchott</td>\n",
       "      <td>Mauritania</td>\n",
       "      <td>26.28</td>\n",
       "      <td>NaN</td>\n",
       "    </tr>\n",
       "    <tr>\n",
       "      <th>8</th>\n",
       "      <td>46636</td>\n",
       "      <td>1881</td>\n",
       "      <td>Nouakchott</td>\n",
       "      <td>Mauritania</td>\n",
       "      <td>27.09</td>\n",
       "      <td>NaN</td>\n",
       "    </tr>\n",
       "    <tr>\n",
       "      <th>9</th>\n",
       "      <td>46637</td>\n",
       "      <td>1882</td>\n",
       "      <td>Nouakchott</td>\n",
       "      <td>Mauritania</td>\n",
       "      <td>26.85</td>\n",
       "      <td>26.638</td>\n",
       "    </tr>\n",
       "    <tr>\n",
       "      <th>10</th>\n",
       "      <td>46638</td>\n",
       "      <td>1883</td>\n",
       "      <td>Nouakchott</td>\n",
       "      <td>Mauritania</td>\n",
       "      <td>26.85</td>\n",
       "      <td>26.671</td>\n",
       "    </tr>\n",
       "    <tr>\n",
       "      <th>11</th>\n",
       "      <td>46639</td>\n",
       "      <td>1884</td>\n",
       "      <td>Nouakchott</td>\n",
       "      <td>Mauritania</td>\n",
       "      <td>26.40</td>\n",
       "      <td>26.685</td>\n",
       "    </tr>\n",
       "    <tr>\n",
       "      <th>12</th>\n",
       "      <td>46640</td>\n",
       "      <td>1885</td>\n",
       "      <td>Nouakchott</td>\n",
       "      <td>Mauritania</td>\n",
       "      <td>26.15</td>\n",
       "      <td>26.677</td>\n",
       "    </tr>\n",
       "    <tr>\n",
       "      <th>13</th>\n",
       "      <td>46641</td>\n",
       "      <td>1886</td>\n",
       "      <td>Nouakchott</td>\n",
       "      <td>Mauritania</td>\n",
       "      <td>26.27</td>\n",
       "      <td>26.617</td>\n",
       "    </tr>\n",
       "    <tr>\n",
       "      <th>14</th>\n",
       "      <td>46642</td>\n",
       "      <td>1887</td>\n",
       "      <td>Nouakchott</td>\n",
       "      <td>Mauritania</td>\n",
       "      <td>26.65</td>\n",
       "      <td>26.609</td>\n",
       "    </tr>\n",
       "    <tr>\n",
       "      <th>15</th>\n",
       "      <td>46643</td>\n",
       "      <td>1888</td>\n",
       "      <td>Nouakchott</td>\n",
       "      <td>Mauritania</td>\n",
       "      <td>26.61</td>\n",
       "      <td>26.567</td>\n",
       "    </tr>\n",
       "    <tr>\n",
       "      <th>16</th>\n",
       "      <td>46644</td>\n",
       "      <td>1889</td>\n",
       "      <td>Nouakchott</td>\n",
       "      <td>Mauritania</td>\n",
       "      <td>26.10</td>\n",
       "      <td>26.525</td>\n",
       "    </tr>\n",
       "    <tr>\n",
       "      <th>17</th>\n",
       "      <td>46645</td>\n",
       "      <td>1890</td>\n",
       "      <td>Nouakchott</td>\n",
       "      <td>Mauritania</td>\n",
       "      <td>26.19</td>\n",
       "      <td>26.516</td>\n",
       "    </tr>\n",
       "    <tr>\n",
       "      <th>18</th>\n",
       "      <td>46646</td>\n",
       "      <td>1891</td>\n",
       "      <td>Nouakchott</td>\n",
       "      <td>Mauritania</td>\n",
       "      <td>26.65</td>\n",
       "      <td>26.472</td>\n",
       "    </tr>\n",
       "    <tr>\n",
       "      <th>19</th>\n",
       "      <td>46647</td>\n",
       "      <td>1892</td>\n",
       "      <td>Nouakchott</td>\n",
       "      <td>Mauritania</td>\n",
       "      <td>27.12</td>\n",
       "      <td>26.499</td>\n",
       "    </tr>\n",
       "  </tbody>\n",
       "</table>\n",
       "</div>"
      ],
      "text/plain": [
       "    index  year        city     country  avg_temp  rolling_temp\n",
       "0   46628  1873  Nouakchott  Mauritania     26.52           NaN\n",
       "1   46629  1874  Nouakchott  Mauritania     26.26           NaN\n",
       "2   46630  1875  Nouakchott  Mauritania     26.23           NaN\n",
       "3   46631  1876  Nouakchott  Mauritania     26.87           NaN\n",
       "4   46632  1877  Nouakchott  Mauritania     26.73           NaN\n",
       "5   46633  1878  Nouakchott  Mauritania     27.03           NaN\n",
       "6   46634  1879  Nouakchott  Mauritania     26.52           NaN\n",
       "7   46635  1880  Nouakchott  Mauritania     26.28           NaN\n",
       "8   46636  1881  Nouakchott  Mauritania     27.09           NaN\n",
       "9   46637  1882  Nouakchott  Mauritania     26.85        26.638\n",
       "10  46638  1883  Nouakchott  Mauritania     26.85        26.671\n",
       "11  46639  1884  Nouakchott  Mauritania     26.40        26.685\n",
       "12  46640  1885  Nouakchott  Mauritania     26.15        26.677\n",
       "13  46641  1886  Nouakchott  Mauritania     26.27        26.617\n",
       "14  46642  1887  Nouakchott  Mauritania     26.65        26.609\n",
       "15  46643  1888  Nouakchott  Mauritania     26.61        26.567\n",
       "16  46644  1889  Nouakchott  Mauritania     26.10        26.525\n",
       "17  46645  1890  Nouakchott  Mauritania     26.19        26.516\n",
       "18  46646  1891  Nouakchott  Mauritania     26.65        26.472\n",
       "19  46647  1892  Nouakchott  Mauritania     27.12        26.499"
      ]
     },
     "execution_count": 17,
     "metadata": {},
     "output_type": "execute_result"
    }
   ],
   "source": [
    "nouakchott_temp_val.head(20)"
   ]
  },
  {
   "cell_type": "markdown",
   "id": "1004be29",
   "metadata": {},
   "source": [
    "<a id=\"3.1\"></a>\n",
    "## <span style=\"color:#e76f51;\"> Creation of Bamako Dataset</span>"
   ]
  },
  {
   "cell_type": "markdown",
   "id": "cb8a9ca4",
   "metadata": {},
   "source": [
    "### <span style=\"color:#e76f51;\"> Filter data relating to Bamako only </span>"
   ]
  },
  {
   "cell_type": "code",
   "execution_count": 18,
   "id": "b26d6f63",
   "metadata": {},
   "outputs": [
    {
     "data": {
      "text/html": [
       "<div>\n",
       "<style scoped>\n",
       "    .dataframe tbody tr th:only-of-type {\n",
       "        vertical-align: middle;\n",
       "    }\n",
       "\n",
       "    .dataframe tbody tr th {\n",
       "        vertical-align: top;\n",
       "    }\n",
       "\n",
       "    .dataframe thead th {\n",
       "        text-align: right;\n",
       "    }\n",
       "</style>\n",
       "<table border=\"1\" class=\"dataframe\">\n",
       "  <thead>\n",
       "    <tr style=\"text-align: right;\">\n",
       "      <th></th>\n",
       "      <th>year</th>\n",
       "      <th>city</th>\n",
       "      <th>country</th>\n",
       "      <th>avg_temp</th>\n",
       "    </tr>\n",
       "  </thead>\n",
       "  <tbody>\n",
       "    <tr>\n",
       "      <th>6013</th>\n",
       "      <td>1849</td>\n",
       "      <td>Bamako</td>\n",
       "      <td>Mali</td>\n",
       "      <td>26.43</td>\n",
       "    </tr>\n",
       "    <tr>\n",
       "      <th>6014</th>\n",
       "      <td>1850</td>\n",
       "      <td>Bamako</td>\n",
       "      <td>Mali</td>\n",
       "      <td>26.43</td>\n",
       "    </tr>\n",
       "    <tr>\n",
       "      <th>6015</th>\n",
       "      <td>1851</td>\n",
       "      <td>Bamako</td>\n",
       "      <td>Mali</td>\n",
       "      <td>26.56</td>\n",
       "    </tr>\n",
       "  </tbody>\n",
       "</table>\n",
       "</div>"
      ],
      "text/plain": [
       "      year    city country  avg_temp\n",
       "6013  1849  Bamako    Mali     26.43\n",
       "6014  1850  Bamako    Mali     26.43\n",
       "6015  1851  Bamako    Mali     26.56"
      ]
     },
     "execution_count": 18,
     "metadata": {},
     "output_type": "execute_result"
    }
   ],
   "source": [
    "bamako_temp = city_data.query('city==\"Bamako\"')\n",
    "bamako_temp.head(3)"
   ]
  },
  {
   "cell_type": "code",
   "execution_count": 19,
   "id": "48521fe5",
   "metadata": {},
   "outputs": [
    {
     "name": "stdout",
     "output_type": "stream",
     "text": [
      "<class 'pandas.core.frame.DataFrame'>\n",
      "Int64Index: 165 entries, 6013 to 6177\n",
      "Data columns (total 4 columns):\n",
      " #   Column    Non-Null Count  Dtype  \n",
      "---  ------    --------------  -----  \n",
      " 0   year      165 non-null    int64  \n",
      " 1   city      165 non-null    object \n",
      " 2   country   165 non-null    object \n",
      " 3   avg_temp  158 non-null    float64\n",
      "dtypes: float64(1), int64(1), object(2)\n",
      "memory usage: 6.4+ KB\n"
     ]
    }
   ],
   "source": [
    "bamako_temp.info()"
   ]
  },
  {
   "cell_type": "markdown",
   "id": "cb8a9ca4",
   "metadata": {},
   "source": [
    "### <span style=\"color:#e76f51;\"> Filter missing data </span>"
   ]
  },
  {
   "cell_type": "code",
   "execution_count": 20,
   "id": "d87c428a",
   "metadata": {},
   "outputs": [
    {
     "data": {
      "text/html": [
       "<div>\n",
       "<style scoped>\n",
       "    .dataframe tbody tr th:only-of-type {\n",
       "        vertical-align: middle;\n",
       "    }\n",
       "\n",
       "    .dataframe tbody tr th {\n",
       "        vertical-align: top;\n",
       "    }\n",
       "\n",
       "    .dataframe thead th {\n",
       "        text-align: right;\n",
       "    }\n",
       "</style>\n",
       "<table border=\"1\" class=\"dataframe\">\n",
       "  <thead>\n",
       "    <tr style=\"text-align: right;\">\n",
       "      <th></th>\n",
       "      <th>year</th>\n",
       "      <th>city</th>\n",
       "      <th>country</th>\n",
       "      <th>avg_temp</th>\n",
       "    </tr>\n",
       "  </thead>\n",
       "  <tbody>\n",
       "    <tr>\n",
       "      <th>6016</th>\n",
       "      <td>1852</td>\n",
       "      <td>Bamako</td>\n",
       "      <td>Mali</td>\n",
       "      <td>NaN</td>\n",
       "    </tr>\n",
       "    <tr>\n",
       "      <th>6017</th>\n",
       "      <td>1853</td>\n",
       "      <td>Bamako</td>\n",
       "      <td>Mali</td>\n",
       "      <td>NaN</td>\n",
       "    </tr>\n",
       "    <tr>\n",
       "      <th>6018</th>\n",
       "      <td>1854</td>\n",
       "      <td>Bamako</td>\n",
       "      <td>Mali</td>\n",
       "      <td>NaN</td>\n",
       "    </tr>\n",
       "    <tr>\n",
       "      <th>6019</th>\n",
       "      <td>1855</td>\n",
       "      <td>Bamako</td>\n",
       "      <td>Mali</td>\n",
       "      <td>NaN</td>\n",
       "    </tr>\n",
       "    <tr>\n",
       "      <th>6031</th>\n",
       "      <td>1867</td>\n",
       "      <td>Bamako</td>\n",
       "      <td>Mali</td>\n",
       "      <td>NaN</td>\n",
       "    </tr>\n",
       "    <tr>\n",
       "      <th>6035</th>\n",
       "      <td>1871</td>\n",
       "      <td>Bamako</td>\n",
       "      <td>Mali</td>\n",
       "      <td>NaN</td>\n",
       "    </tr>\n",
       "    <tr>\n",
       "      <th>6036</th>\n",
       "      <td>1872</td>\n",
       "      <td>Bamako</td>\n",
       "      <td>Mali</td>\n",
       "      <td>NaN</td>\n",
       "    </tr>\n",
       "  </tbody>\n",
       "</table>\n",
       "</div>"
      ],
      "text/plain": [
       "      year    city country  avg_temp\n",
       "6016  1852  Bamako    Mali       NaN\n",
       "6017  1853  Bamako    Mali       NaN\n",
       "6018  1854  Bamako    Mali       NaN\n",
       "6019  1855  Bamako    Mali       NaN\n",
       "6031  1867  Bamako    Mali       NaN\n",
       "6035  1871  Bamako    Mali       NaN\n",
       "6036  1872  Bamako    Mali       NaN"
      ]
     },
     "execution_count": 20,
     "metadata": {},
     "output_type": "execute_result"
    }
   ],
   "source": [
    "bamako_temp_null = bamako_temp.query('avg_temp.isnull()')\n",
    "bamako_temp_null"
   ]
  },
  {
   "cell_type": "markdown",
   "id": "cb8a9ca4",
   "metadata": {},
   "source": [
    "### <span style=\"color:#e76f51;\"> Filter data after 1872 </span>"
   ]
  },
  {
   "cell_type": "code",
   "execution_count": 21,
   "id": "f6ab67cd",
   "metadata": {},
   "outputs": [
    {
     "data": {
      "text/html": [
       "<div>\n",
       "<style scoped>\n",
       "    .dataframe tbody tr th:only-of-type {\n",
       "        vertical-align: middle;\n",
       "    }\n",
       "\n",
       "    .dataframe tbody tr th {\n",
       "        vertical-align: top;\n",
       "    }\n",
       "\n",
       "    .dataframe thead th {\n",
       "        text-align: right;\n",
       "    }\n",
       "</style>\n",
       "<table border=\"1\" class=\"dataframe\">\n",
       "  <thead>\n",
       "    <tr style=\"text-align: right;\">\n",
       "      <th></th>\n",
       "      <th>index</th>\n",
       "      <th>year</th>\n",
       "      <th>city</th>\n",
       "      <th>country</th>\n",
       "      <th>avg_temp</th>\n",
       "    </tr>\n",
       "  </thead>\n",
       "  <tbody>\n",
       "    <tr>\n",
       "      <th>0</th>\n",
       "      <td>6037</td>\n",
       "      <td>1873</td>\n",
       "      <td>Bamako</td>\n",
       "      <td>Mali</td>\n",
       "      <td>26.54</td>\n",
       "    </tr>\n",
       "    <tr>\n",
       "      <th>1</th>\n",
       "      <td>6038</td>\n",
       "      <td>1874</td>\n",
       "      <td>Bamako</td>\n",
       "      <td>Mali</td>\n",
       "      <td>26.34</td>\n",
       "    </tr>\n",
       "    <tr>\n",
       "      <th>2</th>\n",
       "      <td>6039</td>\n",
       "      <td>1875</td>\n",
       "      <td>Bamako</td>\n",
       "      <td>Mali</td>\n",
       "      <td>25.96</td>\n",
       "    </tr>\n",
       "  </tbody>\n",
       "</table>\n",
       "</div>"
      ],
      "text/plain": [
       "   index  year    city country  avg_temp\n",
       "0   6037  1873  Bamako    Mali     26.54\n",
       "1   6038  1874  Bamako    Mali     26.34\n",
       "2   6039  1875  Bamako    Mali     25.96"
      ]
     },
     "execution_count": 21,
     "metadata": {},
     "output_type": "execute_result"
    }
   ],
   "source": [
    "bamako_temp_val = bamako_temp.query('year > 1872').reset_index()\n",
    "bamako_temp_val.head(3)"
   ]
  },
  {
   "cell_type": "markdown",
   "id": "e3df37f0",
   "metadata": {},
   "source": [
    "### <span style=\"color:#e76f51;\"> Add Bamako rolling columns </span>"
   ]
  },
  {
   "cell_type": "code",
   "execution_count": 22,
   "id": "d26562b1",
   "metadata": {},
   "outputs": [],
   "source": [
    "avg_num = 10\n",
    "bamako_temp_val['rolling_temp'] = bamako_temp_val['avg_temp'].rolling(window = avg_num ).mean()"
   ]
  },
  {
   "cell_type": "code",
   "execution_count": 23,
   "id": "132bc563",
   "metadata": {},
   "outputs": [
    {
     "data": {
      "text/html": [
       "<div>\n",
       "<style scoped>\n",
       "    .dataframe tbody tr th:only-of-type {\n",
       "        vertical-align: middle;\n",
       "    }\n",
       "\n",
       "    .dataframe tbody tr th {\n",
       "        vertical-align: top;\n",
       "    }\n",
       "\n",
       "    .dataframe thead th {\n",
       "        text-align: right;\n",
       "    }\n",
       "</style>\n",
       "<table border=\"1\" class=\"dataframe\">\n",
       "  <thead>\n",
       "    <tr style=\"text-align: right;\">\n",
       "      <th></th>\n",
       "      <th>index</th>\n",
       "      <th>year</th>\n",
       "      <th>city</th>\n",
       "      <th>country</th>\n",
       "      <th>avg_temp</th>\n",
       "      <th>rolling_temp</th>\n",
       "    </tr>\n",
       "  </thead>\n",
       "  <tbody>\n",
       "    <tr>\n",
       "      <th>0</th>\n",
       "      <td>6037</td>\n",
       "      <td>1873</td>\n",
       "      <td>Bamako</td>\n",
       "      <td>Mali</td>\n",
       "      <td>26.54</td>\n",
       "      <td>NaN</td>\n",
       "    </tr>\n",
       "    <tr>\n",
       "      <th>1</th>\n",
       "      <td>6038</td>\n",
       "      <td>1874</td>\n",
       "      <td>Bamako</td>\n",
       "      <td>Mali</td>\n",
       "      <td>26.34</td>\n",
       "      <td>NaN</td>\n",
       "    </tr>\n",
       "    <tr>\n",
       "      <th>2</th>\n",
       "      <td>6039</td>\n",
       "      <td>1875</td>\n",
       "      <td>Bamako</td>\n",
       "      <td>Mali</td>\n",
       "      <td>25.96</td>\n",
       "      <td>NaN</td>\n",
       "    </tr>\n",
       "    <tr>\n",
       "      <th>3</th>\n",
       "      <td>6040</td>\n",
       "      <td>1876</td>\n",
       "      <td>Bamako</td>\n",
       "      <td>Mali</td>\n",
       "      <td>26.15</td>\n",
       "      <td>NaN</td>\n",
       "    </tr>\n",
       "    <tr>\n",
       "      <th>4</th>\n",
       "      <td>6041</td>\n",
       "      <td>1877</td>\n",
       "      <td>Bamako</td>\n",
       "      <td>Mali</td>\n",
       "      <td>26.60</td>\n",
       "      <td>NaN</td>\n",
       "    </tr>\n",
       "    <tr>\n",
       "      <th>5</th>\n",
       "      <td>6042</td>\n",
       "      <td>1878</td>\n",
       "      <td>Bamako</td>\n",
       "      <td>Mali</td>\n",
       "      <td>26.81</td>\n",
       "      <td>NaN</td>\n",
       "    </tr>\n",
       "    <tr>\n",
       "      <th>6</th>\n",
       "      <td>6043</td>\n",
       "      <td>1879</td>\n",
       "      <td>Bamako</td>\n",
       "      <td>Mali</td>\n",
       "      <td>26.34</td>\n",
       "      <td>NaN</td>\n",
       "    </tr>\n",
       "    <tr>\n",
       "      <th>7</th>\n",
       "      <td>6044</td>\n",
       "      <td>1880</td>\n",
       "      <td>Bamako</td>\n",
       "      <td>Mali</td>\n",
       "      <td>26.72</td>\n",
       "      <td>NaN</td>\n",
       "    </tr>\n",
       "    <tr>\n",
       "      <th>8</th>\n",
       "      <td>6045</td>\n",
       "      <td>1881</td>\n",
       "      <td>Bamako</td>\n",
       "      <td>Mali</td>\n",
       "      <td>27.05</td>\n",
       "      <td>NaN</td>\n",
       "    </tr>\n",
       "    <tr>\n",
       "      <th>9</th>\n",
       "      <td>6046</td>\n",
       "      <td>1882</td>\n",
       "      <td>Bamako</td>\n",
       "      <td>Mali</td>\n",
       "      <td>26.68</td>\n",
       "      <td>26.519</td>\n",
       "    </tr>\n",
       "    <tr>\n",
       "      <th>10</th>\n",
       "      <td>6047</td>\n",
       "      <td>1883</td>\n",
       "      <td>Bamako</td>\n",
       "      <td>Mali</td>\n",
       "      <td>27.43</td>\n",
       "      <td>26.608</td>\n",
       "    </tr>\n",
       "    <tr>\n",
       "      <th>11</th>\n",
       "      <td>6048</td>\n",
       "      <td>1884</td>\n",
       "      <td>Bamako</td>\n",
       "      <td>Mali</td>\n",
       "      <td>26.82</td>\n",
       "      <td>26.656</td>\n",
       "    </tr>\n",
       "    <tr>\n",
       "      <th>12</th>\n",
       "      <td>6049</td>\n",
       "      <td>1885</td>\n",
       "      <td>Bamako</td>\n",
       "      <td>Mali</td>\n",
       "      <td>26.14</td>\n",
       "      <td>26.674</td>\n",
       "    </tr>\n",
       "    <tr>\n",
       "      <th>13</th>\n",
       "      <td>6050</td>\n",
       "      <td>1886</td>\n",
       "      <td>Bamako</td>\n",
       "      <td>Mali</td>\n",
       "      <td>26.23</td>\n",
       "      <td>26.682</td>\n",
       "    </tr>\n",
       "    <tr>\n",
       "      <th>14</th>\n",
       "      <td>6051</td>\n",
       "      <td>1887</td>\n",
       "      <td>Bamako</td>\n",
       "      <td>Mali</td>\n",
       "      <td>26.15</td>\n",
       "      <td>26.637</td>\n",
       "    </tr>\n",
       "    <tr>\n",
       "      <th>15</th>\n",
       "      <td>6052</td>\n",
       "      <td>1888</td>\n",
       "      <td>Bamako</td>\n",
       "      <td>Mali</td>\n",
       "      <td>26.14</td>\n",
       "      <td>26.570</td>\n",
       "    </tr>\n",
       "    <tr>\n",
       "      <th>16</th>\n",
       "      <td>6053</td>\n",
       "      <td>1889</td>\n",
       "      <td>Bamako</td>\n",
       "      <td>Mali</td>\n",
       "      <td>25.76</td>\n",
       "      <td>26.512</td>\n",
       "    </tr>\n",
       "    <tr>\n",
       "      <th>17</th>\n",
       "      <td>6054</td>\n",
       "      <td>1890</td>\n",
       "      <td>Bamako</td>\n",
       "      <td>Mali</td>\n",
       "      <td>25.92</td>\n",
       "      <td>26.432</td>\n",
       "    </tr>\n",
       "    <tr>\n",
       "      <th>18</th>\n",
       "      <td>6055</td>\n",
       "      <td>1891</td>\n",
       "      <td>Bamako</td>\n",
       "      <td>Mali</td>\n",
       "      <td>26.27</td>\n",
       "      <td>26.354</td>\n",
       "    </tr>\n",
       "    <tr>\n",
       "      <th>19</th>\n",
       "      <td>6056</td>\n",
       "      <td>1892</td>\n",
       "      <td>Bamako</td>\n",
       "      <td>Mali</td>\n",
       "      <td>26.50</td>\n",
       "      <td>26.336</td>\n",
       "    </tr>\n",
       "  </tbody>\n",
       "</table>\n",
       "</div>"
      ],
      "text/plain": [
       "    index  year    city country  avg_temp  rolling_temp\n",
       "0    6037  1873  Bamako    Mali     26.54           NaN\n",
       "1    6038  1874  Bamako    Mali     26.34           NaN\n",
       "2    6039  1875  Bamako    Mali     25.96           NaN\n",
       "3    6040  1876  Bamako    Mali     26.15           NaN\n",
       "4    6041  1877  Bamako    Mali     26.60           NaN\n",
       "5    6042  1878  Bamako    Mali     26.81           NaN\n",
       "6    6043  1879  Bamako    Mali     26.34           NaN\n",
       "7    6044  1880  Bamako    Mali     26.72           NaN\n",
       "8    6045  1881  Bamako    Mali     27.05           NaN\n",
       "9    6046  1882  Bamako    Mali     26.68        26.519\n",
       "10   6047  1883  Bamako    Mali     27.43        26.608\n",
       "11   6048  1884  Bamako    Mali     26.82        26.656\n",
       "12   6049  1885  Bamako    Mali     26.14        26.674\n",
       "13   6050  1886  Bamako    Mali     26.23        26.682\n",
       "14   6051  1887  Bamako    Mali     26.15        26.637\n",
       "15   6052  1888  Bamako    Mali     26.14        26.570\n",
       "16   6053  1889  Bamako    Mali     25.76        26.512\n",
       "17   6054  1890  Bamako    Mali     25.92        26.432\n",
       "18   6055  1891  Bamako    Mali     26.27        26.354\n",
       "19   6056  1892  Bamako    Mali     26.50        26.336"
      ]
     },
     "execution_count": 23,
     "metadata": {},
     "output_type": "execute_result"
    }
   ],
   "source": [
    "bamako_temp_val.head(20)"
   ]
  },
  {
   "cell_type": "markdown",
   "id": "99646e15",
   "metadata": {},
   "source": [
    "<a href=\"#toc\" role=\"button\" aria-pressed=\"true\" >⬆️Back to Table of Contents ⬆️</a>"
   ]
  },
  {
   "cell_type": "markdown",
   "id": "b7dc1b19",
   "metadata": {},
   "source": [
    "<a id=\"4\"></a>\n",
    "# **<center><span style=\"color:#fd7b12;\"> Exploratory Data Analysis </span></center>**"
   ]
  },
  {
   "cell_type": "markdown",
   "id": "07ac3b50",
   "metadata": {},
   "source": [
    "<div class=\"alert alert-block alert-info\" style=\"font-size:14px; font-family:verdana; line-height: 1.7em;\">\n",
    "    📌 &nbsp;<b><u>Observations in Dataset:</u></b><br>\n",
    " \n",
    "* <i> There are total of <b><u>7 columns </u></b>and <b><u>141  rows </u></b>in the dataset.</i><br>\n",
    "* <i> Dataset contains <b><u>969 observation</u></b> with <b><u>18 missing values</u></b>.</i><br>"
   ]
  },
  {
   "cell_type": "markdown",
   "id": "cb8a9ca4",
   "metadata": {},
   "source": [
    "## <span style=\"color:#e76f51;\"> Quick view of the Dataset </span>"
   ]
  },
  {
   "cell_type": "code",
   "execution_count": 24,
   "id": "8d9b7426",
   "metadata": {},
   "outputs": [
    {
     "data": {
      "text/html": [
       "<div>\n",
       "<style scoped>\n",
       "    .dataframe tbody tr th:only-of-type {\n",
       "        vertical-align: middle;\n",
       "    }\n",
       "\n",
       "    .dataframe tbody tr th {\n",
       "        vertical-align: top;\n",
       "    }\n",
       "\n",
       "    .dataframe thead th {\n",
       "        text-align: right;\n",
       "    }\n",
       "</style>\n",
       "<table border=\"1\" class=\"dataframe\">\n",
       "  <thead>\n",
       "    <tr style=\"text-align: right;\">\n",
       "      <th></th>\n",
       "      <th>year</th>\n",
       "      <th>city</th>\n",
       "      <th>country</th>\n",
       "      <th>avg_temp</th>\n",
       "      <th>global_temp</th>\n",
       "      <th>rolling_temp</th>\n",
       "      <th>global_rolling_temp</th>\n",
       "    </tr>\n",
       "  </thead>\n",
       "  <tbody>\n",
       "    <tr>\n",
       "      <th>0</th>\n",
       "      <td>1873</td>\n",
       "      <td>Dakar</td>\n",
       "      <td>Senegal</td>\n",
       "      <td>26.27</td>\n",
       "      <td>8.35</td>\n",
       "      <td>NaN</td>\n",
       "      <td>NaN</td>\n",
       "    </tr>\n",
       "    <tr>\n",
       "      <th>1</th>\n",
       "      <td>1874</td>\n",
       "      <td>Dakar</td>\n",
       "      <td>Senegal</td>\n",
       "      <td>23.83</td>\n",
       "      <td>8.43</td>\n",
       "      <td>NaN</td>\n",
       "      <td>NaN</td>\n",
       "    </tr>\n",
       "    <tr>\n",
       "      <th>2</th>\n",
       "      <td>1875</td>\n",
       "      <td>Dakar</td>\n",
       "      <td>Senegal</td>\n",
       "      <td>23.75</td>\n",
       "      <td>7.86</td>\n",
       "      <td>NaN</td>\n",
       "      <td>NaN</td>\n",
       "    </tr>\n",
       "    <tr>\n",
       "      <th>3</th>\n",
       "      <td>1876</td>\n",
       "      <td>Dakar</td>\n",
       "      <td>Senegal</td>\n",
       "      <td>24.40</td>\n",
       "      <td>8.08</td>\n",
       "      <td>NaN</td>\n",
       "      <td>NaN</td>\n",
       "    </tr>\n",
       "    <tr>\n",
       "      <th>4</th>\n",
       "      <td>1877</td>\n",
       "      <td>Dakar</td>\n",
       "      <td>Senegal</td>\n",
       "      <td>24.24</td>\n",
       "      <td>8.54</td>\n",
       "      <td>NaN</td>\n",
       "      <td>NaN</td>\n",
       "    </tr>\n",
       "  </tbody>\n",
       "</table>\n",
       "</div>"
      ],
      "text/plain": [
       "   year   city  country  avg_temp  global_temp  rolling_temp  \\\n",
       "0  1873  Dakar  Senegal     26.27         8.35           NaN   \n",
       "1  1874  Dakar  Senegal     23.83         8.43           NaN   \n",
       "2  1875  Dakar  Senegal     23.75         7.86           NaN   \n",
       "3  1876  Dakar  Senegal     24.40         8.08           NaN   \n",
       "4  1877  Dakar  Senegal     24.24         8.54           NaN   \n",
       "\n",
       "   global_rolling_temp  \n",
       "0                  NaN  \n",
       "1                  NaN  \n",
       "2                  NaN  \n",
       "3                  NaN  \n",
       "4                  NaN  "
      ]
     },
     "execution_count": 24,
     "metadata": {},
     "output_type": "execute_result"
    }
   ],
   "source": [
    "dakar_temp_val.head(5)"
   ]
  },
  {
   "cell_type": "code",
   "execution_count": 25,
   "id": "f00ec156",
   "metadata": {},
   "outputs": [
    {
     "name": "stdout",
     "output_type": "stream",
     "text": [
      "\u001b[94mNumber of rows in the dataset: 141\n",
      "\u001b[94mNumber of columns in the dataseta: 7\n",
      "\u001b[94mNumber of values in the dataset: 969\n",
      "\u001b[94mNumber missing values in the dataset: 18\n"
     ]
    }
   ],
   "source": [
    "print(f'\\033[94mNumber of rows in the dataset: {dakar_temp_val.shape[0]}')\n",
    "print(f'\\033[94mNumber of columns in the dataseta: {dakar_temp_val.shape[1]}')\n",
    "print(f'\\033[94mNumber of values in the dataset: {dakar_temp_val.count().sum()}')\n",
    "print(f'\\033[94mNumber missing values in the dataset: {sum(dakar_temp_val.isna().sum())}')"
   ]
  },
  {
   "cell_type": "markdown",
   "id": "f560ad9e",
   "metadata": {},
   "source": [
    "## <span style=\"color:#e76f51;\"> Basic statistics of the dataset </span>"
   ]
  },
  {
   "cell_type": "code",
   "execution_count": 26,
   "id": "49026319",
   "metadata": {},
   "outputs": [],
   "source": [
    "TARGET = ''\n",
    "FEATURES = [col for col in dakar_temp_val.columns if col != TARGET]\n",
    "RANDOM_STATE = 12 "
   ]
  },
  {
   "cell_type": "code",
   "execution_count": 27,
   "id": "e4a13cc3",
   "metadata": {
    "scrolled": false
   },
   "outputs": [
    {
     "data": {
      "text/html": [
       "<style type=\"text/css\">\n",
       "#T_c9a6a_row0_col0, #T_c9a6a_row0_col4, #T_c9a6a_row0_col5, #T_c9a6a_row0_col6, #T_c9a6a_row1_col0, #T_c9a6a_row2_col0 {\n",
       "  background-color: #084081;\n",
       "  color: #f1f1f1;\n",
       "}\n",
       "#T_c9a6a_row0_col1, #T_c9a6a_row0_col2 {\n",
       "  background-color: #084081;\n",
       "  color: #f1f1f1;\n",
       "  width: 10em;\n",
       "  background: linear-gradient(90deg, orange 100.0%, transparent 100.0%);\n",
       "}\n",
       "#T_c9a6a_row0_col3 {\n",
       "  background-color: #084081;\n",
       "  color: #f1f1f1;\n",
       "  width: 10em;\n",
       "  background: linear-gradient(90deg, red 100.0%, transparent 100.0%);\n",
       "}\n",
       "#T_c9a6a_row0_col7 {\n",
       "  background-color: #084081;\n",
       "  color: #f1f1f1;\n",
       "  width: 10em;\n",
       "  background: linear-gradient(90deg, green 100.0%, transparent 100.0%);\n",
       "}\n",
       "#T_c9a6a_row1_col1, #T_c9a6a_row3_col1 {\n",
       "  background-color: #f6fbef;\n",
       "  color: #000000;\n",
       "  width: 10em;\n",
       "  background: linear-gradient(90deg, orange 1.3%, transparent 1.3%);\n",
       "}\n",
       "#T_c9a6a_row1_col2 {\n",
       "  background-color: #f6fcef;\n",
       "  color: #000000;\n",
       "  width: 10em;\n",
       "  background: linear-gradient(90deg, orange 1.3%, transparent 1.3%);\n",
       "}\n",
       "#T_c9a6a_row1_col3 {\n",
       "  background-color: #f6fbef;\n",
       "  color: #000000;\n",
       "  width: 10em;\n",
       "  background: linear-gradient(90deg, red 1.2%, transparent 1.2%);\n",
       "}\n",
       "#T_c9a6a_row1_col4, #T_c9a6a_row1_col5, #T_c9a6a_row1_col6, #T_c9a6a_row3_col4, #T_c9a6a_row3_col5, #T_c9a6a_row3_col6 {\n",
       "  background-color: #f6fbef;\n",
       "  color: #000000;\n",
       "}\n",
       "#T_c9a6a_row1_col7, #T_c9a6a_row3_col7 {\n",
       "  background-color: #f6fbef;\n",
       "  color: #000000;\n",
       "  width: 10em;\n",
       "  background: linear-gradient(90deg, green 1.3%, transparent 1.3%);\n",
       "}\n",
       "#T_c9a6a_row2_col1 {\n",
       "  background-color: #f7fcf0;\n",
       "  color: #000000;\n",
       "  width: 10em;\n",
       "  background: linear-gradient(90deg, orange 0.4%, transparent 0.4%);\n",
       "}\n",
       "#T_c9a6a_row2_col2 {\n",
       "  background-color: #f7fcf0;\n",
       "  color: #000000;\n",
       "  width: 10em;\n",
       "  background: linear-gradient(90deg, orange 1.1%, transparent 1.1%);\n",
       "}\n",
       "#T_c9a6a_row2_col3 {\n",
       "  background-color: #f7fcf0;\n",
       "  color: #000000;\n",
       "  width: 10em;\n",
       "  background: linear-gradient(90deg, red 0.4%, transparent 0.4%);\n",
       "}\n",
       "#T_c9a6a_row2_col4, #T_c9a6a_row2_col5, #T_c9a6a_row2_col6, #T_c9a6a_row3_col0 {\n",
       "  background-color: #f7fcf0;\n",
       "  color: #000000;\n",
       "}\n",
       "#T_c9a6a_row2_col7 {\n",
       "  background-color: #f7fcf0;\n",
       "  color: #000000;\n",
       "  width: 10em;\n",
       "  background: linear-gradient(90deg, green 0.5%, transparent 0.5%);\n",
       "}\n",
       "#T_c9a6a_row3_col2 {\n",
       "  background-color: #f7fcf0;\n",
       "  color: #000000;\n",
       "  width: 10em;\n",
       "  background: linear-gradient(90deg, orange 0.9%, transparent 0.9%);\n",
       "}\n",
       "#T_c9a6a_row3_col3 {\n",
       "  background-color: #f6fbef;\n",
       "  color: #000000;\n",
       "  width: 10em;\n",
       "  background: linear-gradient(90deg, red 1.3%, transparent 1.3%);\n",
       "}\n",
       "</style>\n",
       "<table id=\"T_c9a6a\">\n",
       "  <thead>\n",
       "    <tr>\n",
       "      <th class=\"blank level0\" >&nbsp;</th>\n",
       "      <th id=\"T_c9a6a_level0_col0\" class=\"col_heading level0 col0\" >count</th>\n",
       "      <th id=\"T_c9a6a_level0_col1\" class=\"col_heading level0 col1\" >mean</th>\n",
       "      <th id=\"T_c9a6a_level0_col2\" class=\"col_heading level0 col2\" >std</th>\n",
       "      <th id=\"T_c9a6a_level0_col3\" class=\"col_heading level0 col3\" >min</th>\n",
       "      <th id=\"T_c9a6a_level0_col4\" class=\"col_heading level0 col4\" >25%</th>\n",
       "      <th id=\"T_c9a6a_level0_col5\" class=\"col_heading level0 col5\" >50%</th>\n",
       "      <th id=\"T_c9a6a_level0_col6\" class=\"col_heading level0 col6\" >75%</th>\n",
       "      <th id=\"T_c9a6a_level0_col7\" class=\"col_heading level0 col7\" >max</th>\n",
       "    </tr>\n",
       "  </thead>\n",
       "  <tbody>\n",
       "    <tr>\n",
       "      <th id=\"T_c9a6a_level0_row0\" class=\"row_heading level0 row0\" >year</th>\n",
       "      <td id=\"T_c9a6a_row0_col0\" class=\"data row0 col0\" >141.000000</td>\n",
       "      <td id=\"T_c9a6a_row0_col1\" class=\"data row0 col1\" >1943.000000</td>\n",
       "      <td id=\"T_c9a6a_row0_col2\" class=\"data row0 col2\" >40.847277</td>\n",
       "      <td id=\"T_c9a6a_row0_col3\" class=\"data row0 col3\" >1873.000000</td>\n",
       "      <td id=\"T_c9a6a_row0_col4\" class=\"data row0 col4\" >1908.000000</td>\n",
       "      <td id=\"T_c9a6a_row0_col5\" class=\"data row0 col5\" >1943.000000</td>\n",
       "      <td id=\"T_c9a6a_row0_col6\" class=\"data row0 col6\" >1978.000000</td>\n",
       "      <td id=\"T_c9a6a_row0_col7\" class=\"data row0 col7\" >2013.000000</td>\n",
       "    </tr>\n",
       "    <tr>\n",
       "      <th id=\"T_c9a6a_level0_row1\" class=\"row_heading level0 row1\" >avg_temp</th>\n",
       "      <td id=\"T_c9a6a_row1_col0\" class=\"data row1 col0\" >141.000000</td>\n",
       "      <td id=\"T_c9a6a_row1_col1\" class=\"data row1 col1\" >24.688582</td>\n",
       "      <td id=\"T_c9a6a_row1_col2\" class=\"data row1 col2\" >0.546802</td>\n",
       "      <td id=\"T_c9a6a_row1_col3\" class=\"data row1 col3\" >23.150000</td>\n",
       "      <td id=\"T_c9a6a_row1_col4\" class=\"data row1 col4\" >24.330000</td>\n",
       "      <td id=\"T_c9a6a_row1_col5\" class=\"data row1 col5\" >24.610000</td>\n",
       "      <td id=\"T_c9a6a_row1_col6\" class=\"data row1 col6\" >25.040000</td>\n",
       "      <td id=\"T_c9a6a_row1_col7\" class=\"data row1 col7\" >26.270000</td>\n",
       "    </tr>\n",
       "    <tr>\n",
       "      <th id=\"T_c9a6a_level0_row2\" class=\"row_heading level0 row2\" >global_temp</th>\n",
       "      <td id=\"T_c9a6a_row2_col0\" class=\"data row2 col0\" >141.000000</td>\n",
       "      <td id=\"T_c9a6a_row2_col1\" class=\"data row2 col1\" >8.633404</td>\n",
       "      <td id=\"T_c9a6a_row2_col2\" class=\"data row2 col2\" >0.445453</td>\n",
       "      <td id=\"T_c9a6a_row2_col3\" class=\"data row2 col3\" >7.770000</td>\n",
       "      <td id=\"T_c9a6a_row2_col4\" class=\"data row2 col4\" >8.300000</td>\n",
       "      <td id=\"T_c9a6a_row2_col5\" class=\"data row2 col5\" >8.600000</td>\n",
       "      <td id=\"T_c9a6a_row2_col6\" class=\"data row2 col6\" >8.840000</td>\n",
       "      <td id=\"T_c9a6a_row2_col7\" class=\"data row2 col7\" >9.730000</td>\n",
       "    </tr>\n",
       "    <tr>\n",
       "      <th id=\"T_c9a6a_level0_row3\" class=\"row_heading level0 row3\" >rolling_temp</th>\n",
       "      <td id=\"T_c9a6a_row3_col0\" class=\"data row3 col0\" >132.000000</td>\n",
       "      <td id=\"T_c9a6a_row3_col1\" class=\"data row3 col1\" >24.672106</td>\n",
       "      <td id=\"T_c9a6a_row3_col2\" class=\"data row3 col2\" >0.370933</td>\n",
       "      <td id=\"T_c9a6a_row3_col3\" class=\"data row3 col3\" >24.081000</td>\n",
       "      <td id=\"T_c9a6a_row3_col4\" class=\"data row3 col4\" >24.458000</td>\n",
       "      <td id=\"T_c9a6a_row3_col5\" class=\"data row3 col5\" >24.628000</td>\n",
       "      <td id=\"T_c9a6a_row3_col6\" class=\"data row3 col6\" >24.796750</td>\n",
       "      <td id=\"T_c9a6a_row3_col7\" class=\"data row3 col7\" >25.518000</td>\n",
       "    </tr>\n",
       "  </tbody>\n",
       "</table>\n"
      ],
      "text/plain": [
       "<pandas.io.formats.style.Styler at 0x2939df466d0>"
      ]
     },
     "execution_count": 27,
     "metadata": {},
     "output_type": "execute_result"
    }
   ],
   "source": [
    "dakar_temp_val.iloc[:, :-1].describe().T.sort_values(by='count' , ascending = False)\\\n",
    "                     .style.background_gradient(cmap='GnBu')\\\n",
    "                     .bar(subset=[\"max\"], color='green')\\\n",
    "                     .bar(subset=[\"min\"], color='red')\\\n",
    "                     .bar(subset=[\"mean\",\"std\"], color='orange')"
   ]
  },
  {
   "cell_type": "markdown",
   "id": "41e05a9d",
   "metadata": {},
   "source": [
    "<a id=\"4.1\"></a>\n",
    "## <span style=\"color:#e76f51;\"> Boxplot Chart </span>"
   ]
  },
  {
   "cell_type": "code",
   "execution_count": 28,
   "id": "249cc2dc",
   "metadata": {},
   "outputs": [
    {
     "data": {
      "text/plain": [
       "Text(0, 0.5, 'Temp °C')"
      ]
     },
     "execution_count": 28,
     "metadata": {},
     "output_type": "execute_result"
    },
    {
     "data": {
      "image/png": "[encoded data removed]",
      "text/plain": [
       "<Figure size 432x288 with 1 Axes>"
      ]
     },
     "metadata": {
      "needs_background": "light"
     },
     "output_type": "display_data"
    }
   ],
   "source": [
    "plt.boxplot(dakar_temp_val.avg_temp)\n",
    "plt.title('Temperature Boxplot Chart')\n",
    "plt.ylabel('Temp °C')"
   ]
  },
  {
   "cell_type": "markdown",
   "id": "abd0a3f6",
   "metadata": {},
   "source": [
    "<a id=\"4.1\"></a>\n",
    "## <span style=\"color:#e76f51;\"> Distribution Chart </span>"
   ]
  },
  {
   "cell_type": "code",
   "execution_count": 29,
   "id": "77b0b584",
   "metadata": {},
   "outputs": [
    {
     "data": {
      "text/plain": [
       "Text(0, 0.5, 'Number of counts')"
      ]
     },
     "execution_count": 29,
     "metadata": {},
     "output_type": "execute_result"
    },
    {
     "data": {
      "image/png": "[encoded data removed]",
      "text/plain": [
       "<Figure size 432x288 with 1 Axes>"
      ]
     },
     "metadata": {
      "needs_background": "light"
     },
     "output_type": "display_data"
    }
   ],
   "source": [
    "plt.hist(x=dakar_temp_val.avg_temp)\n",
    "plt.title('Temperature Distribution Chart')\n",
    "plt.xlabel('Value Range')\n",
    "\n",
    "plt.ylabel('Number of counts')"
   ]
  },
  {
   "cell_type": "markdown",
   "id": "6b0bb723",
   "metadata": {},
   "source": [
    "<a id=\"4.1\"></a>\n",
    "## <span style=\"color:#e76f51;\"> Dakar Temp MA </span>"
   ]
  },
  {
   "cell_type": "code",
   "execution_count": 30,
   "id": "2636e95d",
   "metadata": {},
   "outputs": [
    {
     "data": {
      "text/plain": [
       "Text(0, 0.5, 'Temp °C')"
      ]
     },
     "execution_count": 30,
     "metadata": {},
     "output_type": "execute_result"
    },
    {
     "data": {
      "image/png": "[encoded data removed]",
      "text/plain": [
       "<Figure size 432x288 with 1 Axes>"
      ]
     },
     "metadata": {
      "needs_background": "light"
     },
     "output_type": "display_data"
    }
   ],
   "source": [
    "plt.plot(dakar_temp_val.rolling_temp, color='green')\n",
    "plt.title('Dakar Evolution of Temperature')\n",
    "plt.xlabel('Timeline')\n",
    "plt.ylabel('Temp °C')"
   ]
  },
  {
   "cell_type": "markdown",
   "id": "29fbd324",
   "metadata": {},
   "source": [
    "<a id=\"4.1\"></a>\n",
    "## <span style=\"color:#e76f51;\"> Global Temp MA </span>"
   ]
  },
  {
   "cell_type": "code",
   "execution_count": 31,
   "id": "7954d665",
   "metadata": {},
   "outputs": [
    {
     "data": {
      "text/plain": [
       "Text(0, 0.5, 'Temp °C')"
      ]
     },
     "execution_count": 31,
     "metadata": {},
     "output_type": "execute_result"
    },
    {
     "data": {
      "image/png": "[encoded data removed]",
      "text/plain": [
       "<Figure size 432x288 with 1 Axes>"
      ]
     },
     "metadata": {
      "needs_background": "light"
     },
     "output_type": "display_data"
    }
   ],
   "source": [
    "plt.plot(dakar_temp_val.global_rolling_temp, color='blue')\n",
    "plt.title('Global Evolution of Temperature')\n",
    "plt.xlabel('Timeline')\n",
    "plt.ylabel('Temp °C')"
   ]
  },
  {
   "cell_type": "markdown",
   "id": "c5daf13a",
   "metadata": {},
   "source": [
    "<a id=\"4.1\"></a>\n",
    "## <span style=\"color:#e76f51;\"> Global and Dakar Temp MA </span>"
   ]
  },
  {
   "cell_type": "code",
   "execution_count": 32,
   "id": "fe26754a",
   "metadata": {},
   "outputs": [
    {
     "data": {
      "text/plain": [
       "<matplotlib.legend.Legend at 0x2939e4517c0>"
      ]
     },
     "execution_count": 32,
     "metadata": {},
     "output_type": "execute_result"
    },
    {
     "data": {
      "image/png": "[encoded data removed]",
      "text/plain": [
       "<Figure size 432x288 with 1 Axes>"
      ]
     },
     "metadata": {
      "needs_background": "light"
     },
     "output_type": "display_data"
    }
   ],
   "source": [
    "plt.plot(dakar_temp_val.rolling_temp, color='green')\n",
    "plt.plot(dakar_temp_val.global_rolling_temp, color='blue')\n",
    "plt.title('Global and Dakar Temp ')\n",
    "plt.xlabel('Timeline')\n",
    "plt.ylabel('Temp °C')\n",
    "plt.legend(['Dakar','Global'])"
   ]
  },
  {
   "cell_type": "markdown",
   "id": "9024478f",
   "metadata": {},
   "source": [
    "<a id=\"4.1\"></a>\n",
    "## <span style=\"color:#e76f51;\"> Global and Dakar Temp sup MA </span>"
   ]
  },
  {
   "cell_type": "code",
   "execution_count": 33,
   "id": "2ba5957e",
   "metadata": {
    "scrolled": true
   },
   "outputs": [
    {
     "data": {
      "text/plain": [
       "2.864474103158143"
      ]
     },
     "execution_count": 33,
     "metadata": {},
     "output_type": "execute_result"
    }
   ],
   "source": [
    "sup = dakar_temp_val.rolling_temp.mean()/dakar_temp_val.global_rolling_temp.mean()\n",
    "sup"
   ]
  },
  {
   "cell_type": "code",
   "execution_count": 34,
   "id": "8dc4ad7e",
   "metadata": {},
   "outputs": [
    {
     "data": {
      "image/png": "[encoded data removed]",
      "text/plain": [
       "<Figure size 432x288 with 1 Axes>"
      ]
     },
     "metadata": {
      "needs_background": "light"
     },
     "output_type": "display_data"
    }
   ],
   "source": [
    "figure = plt.gca()\n",
    "plt.plot(dakar_temp_val.rolling_temp, color='green')\n",
    "plt.plot(dakar_temp_val.global_rolling_temp*sup, color='blue')\n",
    "plt.title('Global and Dakar Temp superposition ')\n",
    "plt.xlabel('Timeline')\n",
    "plt.legend(['Dakar','Global'])\n",
    "y_axis = figure.axes.get_yaxis()\n",
    "y_axis.set_visible(False)"
   ]
  },
  {
   "cell_type": "markdown",
   "id": "83c39cb2",
   "metadata": {},
   "source": [
    "<a id=\"4.1\"></a>\n",
    "## <span style=\"color:#e76f51;\"> Nouakchott Temp MA </span>"
   ]
  },
  {
   "cell_type": "code",
   "execution_count": 35,
   "id": "360d2efd",
   "metadata": {},
   "outputs": [
    {
     "data": {
      "text/plain": [
       "Text(0, 0.5, 'Temp °C')"
      ]
     },
     "execution_count": 35,
     "metadata": {},
     "output_type": "execute_result"
    },
    {
     "data": {
      "image/png": "[encoded data removed]",
      "text/plain": [
       "<Figure size 432x288 with 1 Axes>"
      ]
     },
     "metadata": {
      "needs_background": "light"
     },
     "output_type": "display_data"
    }
   ],
   "source": [
    "plt.plot(nouakchott_temp_val.rolling_temp,color='orange')\n",
    "plt.title('Nouakchott Evolution of Temperature')\n",
    "plt.xlabel('Timeline')\n",
    "plt.ylabel('Temp °C')"
   ]
  },
  {
   "cell_type": "markdown",
   "id": "747944b3",
   "metadata": {},
   "source": [
    "<a id=\"4.1\"></a>\n",
    "## <span style=\"color:#e76f51;\"> Bamako Temp MA </span>"
   ]
  },
  {
   "cell_type": "code",
   "execution_count": 36,
   "id": "cfb9c7a2",
   "metadata": {},
   "outputs": [
    {
     "data": {
      "text/plain": [
       "Text(0, 0.5, 'Temp °C')"
      ]
     },
     "execution_count": 36,
     "metadata": {},
     "output_type": "execute_result"
    },
    {
     "data": {
      "image/png": "[encoded data removed]",
      "text/plain": [
       "<Figure size 432x288 with 1 Axes>"
      ]
     },
     "metadata": {
      "needs_background": "light"
     },
     "output_type": "display_data"
    }
   ],
   "source": [
    "plt.plot(bamako_temp_val.rolling_temp,color='red')\n",
    "plt.title('Bamako Evolution of Temperature')\n",
    "plt.xlabel('Timeline')\n",
    "plt.ylabel('Temp °C')"
   ]
  },
  {
   "cell_type": "markdown",
   "id": "7c68b8fa",
   "metadata": {},
   "source": [
    "<a id=\"4.1\"></a>\n",
    "## <span style=\"color:#e76f51;\"> Bamako, Nouakchott and Dakar Temp MA </span>"
   ]
  },
  {
   "cell_type": "code",
   "execution_count": 37,
   "id": "f6217851",
   "metadata": {},
   "outputs": [
    {
     "data": {
      "text/plain": [
       "<matplotlib.legend.Legend at 0x2939e66d520>"
      ]
     },
     "execution_count": 37,
     "metadata": {},
     "output_type": "execute_result"
    },
    {
     "data": {
      "image/png": "[encoded data removed]",
      "text/plain": [
       "<Figure size 432x288 with 1 Axes>"
      ]
     },
     "metadata": {
      "needs_background": "light"
     },
     "output_type": "display_data"
    }
   ],
   "source": [
    "plt.plot(dakar_temp_val.rolling_temp, color='green')\n",
    "plt.plot(nouakchott_temp_val.rolling_temp,color='orange')\n",
    "plt.plot(bamako_temp_val.rolling_temp,color='red')\n",
    "plt.title('Global and Dakar Temp ')\n",
    "plt.xlabel('Timeline')\n",
    "plt.ylabel('Temp °C')\n",
    "plt.legend(['Dakar','Nouakchott','Bamako'])"
   ]
  },
  {
   "cell_type": "markdown",
   "id": "847c97fb",
   "metadata": {},
   "source": [
    "<a id=\"4.1\"></a>\n",
    "## <span style=\"color:#e76f51;\"> Global, Dakar, Nouakchott and Bamako Temp sup MA </span>"
   ]
  },
  {
   "cell_type": "code",
   "execution_count": 38,
   "id": "af808fc9",
   "metadata": {},
   "outputs": [
    {
     "data": {
      "text/plain": [
       "3.0481452749236113"
      ]
     },
     "execution_count": 38,
     "metadata": {},
     "output_type": "execute_result"
    }
   ],
   "source": [
    "sup = ((dakar_temp_val.rolling_temp.mean()+bamako_temp_val.rolling_temp.mean()+nouakchott_temp_val.rolling_temp.mean())/3)/dakar_temp_val.global_rolling_temp.mean()\n",
    "sup"
   ]
  },
  {
   "cell_type": "code",
   "execution_count": 39,
   "id": "a4ff1694",
   "metadata": {
    "scrolled": true
   },
   "outputs": [
    {
     "data": {
      "image/png": "[encoded data removed]",
      "text/plain": [
       "<Figure size 432x288 with 1 Axes>"
      ]
     },
     "metadata": {
      "needs_background": "light"
     },
     "output_type": "display_data"
    }
   ],
   "source": [
    "figure = plt.gca()\n",
    "plt.plot(dakar_temp_val.rolling_temp, color='green')\n",
    "plt.plot(nouakchott_temp_val.rolling_temp,color='orange')\n",
    "plt.plot(bamako_temp_val.rolling_temp,color='red')\n",
    "plt.plot(dakar_temp_val.global_rolling_temp*sup, color='blue')\n",
    "plt.title('Global, Dakar, Nouakchott and Bamako Temp superposition ')\n",
    "plt.xlabel('Timeline')\n",
    "plt.legend(['Dakar','Nouakchott','Bamako','Global'])\n",
    "y_axis = figure.axes.get_yaxis()\n",
    "y_axis.set_visible(False)"
   ]
  },
  {
   "cell_type": "markdown",
   "id": "b38e57ab",
   "metadata": {},
   "source": [
    "<a id=\"4\"></a>\n",
    "# **<center><span style=\"color:#fd7b12;\"> Conclusion </span></center>**"
   ]
  },
  {
   "cell_type": "markdown",
   "id": "5cfad01d",
   "metadata": {},
   "source": [
    "**Based on the graph illustrating the average evolution of temperatures in Dakar and worldwide, we can answer certain questions**"
   ]
  },
  {
   "cell_type": "code",
   "execution_count": 40,
   "id": "738ee854",
   "metadata": {},
   "outputs": [
    {
     "data": {
      "text/plain": [
       "<matplotlib.legend.Legend at 0x2939e731220>"
      ]
     },
     "execution_count": 40,
     "metadata": {},
     "output_type": "execute_result"
    },
    {
     "data": {
      "image/png": "[encoded data removed]",
      "text/plain": [
       "<Figure size 432x288 with 1 Axes>"
      ]
     },
     "metadata": {
      "needs_background": "light"
     },
     "output_type": "display_data"
    }
   ],
   "source": [
    "plt.plot(dakar_temp_val.rolling_temp, color='green')\n",
    "plt.plot(dakar_temp_val.global_rolling_temp, color='blue')\n",
    "plt.title('Global and Dakar Temp ')\n",
    "plt.xlabel('Timeline')\n",
    "plt.ylabel('Temp °C')\n",
    "plt.legend(['Dakar','Global'])"
   ]
  },
  {
   "cell_type": "markdown",
   "id": "53356643",
   "metadata": {},
   "source": [
    "`Is my city hotter or cooler on average compared to the global average?`"
   ]
  },
  {
   "cell_type": "markdown",
   "id": "ff689518",
   "metadata": {},
   "source": [
    "**It can be seen that the average temperature in dakar is higher than the average temperature in the world. we therefore deduce that in dakar it is much warmer than worldwide.**"
   ]
  },
  {
   "cell_type": "markdown",
   "id": "53356643",
   "metadata": {},
   "source": [
    "`Has the difference been consistent over time?`"
   ]
  },
  {
   "cell_type": "markdown",
   "id": "79f1cddb",
   "metadata": {},
   "source": [
    "**Yes, over time we see that the difference is constant.**"
   ]
  },
  {
   "cell_type": "code",
   "execution_count": null,
   "id": "a18244af",
   "metadata": {},
   "outputs": [],
   "source": []
  },
  {
   "cell_type": "code",
   "execution_count": null,
   "id": "8357fa4f",
   "metadata": {},
   "outputs": [],
   "source": []
  },
  {
   "cell_type": "markdown",
   "id": "0136d686",
   "metadata": {},
   "source": [
    "**Based on the superimposed graph, illustrating the curve of temperatures in dakar and on the world level, we can answer certain questions**"
   ]
  },
  {
   "cell_type": "code",
   "execution_count": 41,
   "id": "0eecdf7b",
   "metadata": {},
   "outputs": [
    {
     "data": {
      "image/png": "[encoded data removed]",
      "text/plain": [
       "<Figure size 432x288 with 1 Axes>"
      ]
     },
     "metadata": {
      "needs_background": "light"
     },
     "output_type": "display_data"
    }
   ],
   "source": [
    "figure = plt.gca()\n",
    "plt.plot(dakar_temp_val.rolling_temp, color='green')\n",
    "plt.plot(dakar_temp_val.global_rolling_temp*sup, color='blue')\n",
    "plt.title('Global and Dakar Temp superposition ')\n",
    "plt.xlabel('Timeline')\n",
    "plt.legend(['Dakar','Global'])\n",
    "y_axis = figure.axes.get_yaxis()\n",
    "y_axis.set_visible(False)"
   ]
  },
  {
   "cell_type": "markdown",
   "id": "53356643",
   "metadata": {},
   "source": [
    "`How do the changes in your city’s temperatures over time compare to the changes in the global average?`"
   ]
  },
  {
   "cell_type": "markdown",
   "id": "3fd9c589",
   "metadata": {},
   "source": [
    "**The tendency of the evolution of the climate on the modial plan is also observed on my city. on a curve which peaks more and more upwards. however global climate changes are much more accelerated than those of my cities which take off very little.**"
   ]
  },
  {
   "cell_type": "code",
   "execution_count": null,
   "id": "9eb532f4",
   "metadata": {},
   "outputs": [],
   "source": []
  },
  {
   "cell_type": "code",
   "execution_count": null,
   "id": "2c71fe26",
   "metadata": {},
   "outputs": [],
   "source": []
  },
  {
   "cell_type": "markdown",
   "id": "08b9658c",
   "metadata": {},
   "source": [
    "**Based on the graph illustrating the average evolution of temperatures in Dakar, the city arround and worldwide, we can answer certain questions**"
   ]
  },
  {
   "cell_type": "code",
   "execution_count": 42,
   "id": "5ca99beb",
   "metadata": {},
   "outputs": [
    {
     "data": {
      "image/png": "[encoded data removed]",
      "text/plain": [
       "<Figure size 432x288 with 1 Axes>"
      ]
     },
     "metadata": {
      "needs_background": "light"
     },
     "output_type": "display_data"
    }
   ],
   "source": [
    "figure = plt.gca()\n",
    "plt.plot(dakar_temp_val.rolling_temp, color='green')\n",
    "plt.plot(nouakchott_temp_val.rolling_temp,color='orange')\n",
    "plt.plot(bamako_temp_val.rolling_temp,color='red')\n",
    "plt.plot(dakar_temp_val.global_rolling_temp*sup, color='blue')\n",
    "plt.title('Global, Dakar, Nouakchott and Bamako Temp superposition ')\n",
    "plt.xlabel('Timeline')\n",
    "plt.legend(['Dakar','Nouakchott','Bamako','Global'])\n",
    "y_axis = figure.axes.get_yaxis()\n",
    "y_axis.set_visible(False)"
   ]
  },
  {
   "cell_type": "markdown",
   "id": "53356643",
   "metadata": {},
   "source": [
    "`What does the overall trend look like?`"
   ]
  },
  {
   "cell_type": "markdown",
   "id": "26109a82",
   "metadata": {},
   "source": [
    "**In the cities around and in the world, we see that the temperatures are increasing. it is getting hotter and hotter.**"
   ]
  },
  {
   "cell_type": "markdown",
   "id": "53356643",
   "metadata": {},
   "source": [
    "`Has the trend been consistent over the last few hundred years?`"
   ]
  },
  {
   "cell_type": "markdown",
   "id": "5d71ddc5",
   "metadata": {},
   "source": [
    "**Over the last few centuries, the temperature has continued to grow, to be on the rise**"
   ]
  },
  {
   "cell_type": "markdown",
   "id": "a30d773b",
   "metadata": {},
   "source": [
    "<a href=\"#toc\" role=\"button\" aria-pressed=\"true\" >⬆️Back to Table of Contents ⬆️</a>"
   ]
  }
 ],
 "metadata": {
  "kernelspec": {
   "display_name": "Python 3 (ipykernel)",
   "language": "python",
   "name": "python3"
  },
  "language_info": {
   "codemirror_mode": {
    "name": "ipython",
    "version": 3
   },
   "file_extension": ".py",
   "mimetype": "text/x-python",
   "name": "python",
   "nbconvert_exporter": "python",
   "pygments_lexer": "ipython3",
   "version": "3.9.7"
  }
 },
 "nbformat": 4,
 "nbformat_minor": 5
}
